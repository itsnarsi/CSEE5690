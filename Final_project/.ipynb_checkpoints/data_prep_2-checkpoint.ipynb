{
 "cells": [
  {
   "cell_type": "code",
   "execution_count": 1,
   "metadata": {
    "collapsed": true
   },
   "outputs": [],
   "source": [
    "%matplotlib inline\n",
    "import pandas as pd\n",
    "import numpy as np\n",
    "import pickle\n",
    "import time\n",
    "import scipy\n",
    "import datetime\n",
    "import decimal\n",
    "from multiprocessing import pool\n",
    "\n",
    "F = '/home/narsi/Documents/CSEE5690_data/PaloAlto/UMKC-Palo-5Nov-to-9Nov.csv'\n",
    "T = pd.read_csv(F)\n",
    "log_size = len(T)"
   ]
  },
  {
   "cell_type": "code",
   "execution_count": 13,
   "metadata": {
    "collapsed": false
   },
   "outputs": [],
   "source": [
    "ALL_IPS = np.unique(np.concatenate((T['Source address'].unique(), T['Destination address'].unique()),axis=0))"
   ]
  },
  {
   "cell_type": "code",
   "execution_count": null,
   "metadata": {
    "collapsed": false
   },
   "outputs": [],
   "source": [
    "MAP_CSV = pd.DataFrame({'has':[],'prefers':[],'count':[]})\n",
    "for i in ALL_IPS:\n",
    "    for j in ALL_IPS:\n",
    "        c = pd.Series.value_counts(T['Destination address'][(T['Source address'] == i) & (T['Destination address'] == j)])\n",
    "        MAP_CSV = MAP_CSV.append(pd.DataFrame({'has':i,'prefers':j,'count':c}),ignore_index=True)"
   ]
  },
  {
   "cell_type": "code",
   "execution_count": null,
   "metadata": {
    "collapsed": true
   },
   "outputs": [],
   "source": [
    "MAP_CSV"
   ]
  }
 ],
 "metadata": {
  "anaconda-cloud": {},
  "kernelspec": {
   "display_name": "Python [default]",
   "language": "python",
   "name": "python3"
  },
  "language_info": {
   "codemirror_mode": {
    "name": "ipython",
    "version": 3
   },
   "file_extension": ".py",
   "mimetype": "text/x-python",
   "name": "python",
   "nbconvert_exporter": "python",
   "pygments_lexer": "ipython3",
   "version": "3.5.2"
  }
 },
 "nbformat": 4,
 "nbformat_minor": 1
}
