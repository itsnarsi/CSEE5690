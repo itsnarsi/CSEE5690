{
 "cells": [
  {
   "cell_type": "markdown",
   "metadata": {},
   "source": [
    "In this project we will be applying different types of forecasting techniques on the given cpu data and analyise which one of them provides better accuracy and why.\n",
    "\n",
    "We will be using folowing forecasting techniques:\n",
    "\n",
    "1) Simple Moving Average\n",
    "\n",
    "2) Weighted Moving average\n",
    "\n",
    "3) Exponential Smoothning\n",
    "\n",
    "4) Exponential Smoothning w/ trend\n",
    "\n",
    "5) Linear Regression\n",
    "\n",
    "6) Non-linear Regression\n",
    "\n",
    "7) Neural Network"
   ]
  },
  {
   "cell_type": "markdown",
   "metadata": {},
   "source": [
    "Importing all the required libraries"
   ]
  },
  {
   "cell_type": "code",
   "execution_count": 1,
   "metadata": {
    "collapsed": false
   },
   "outputs": [],
   "source": [
    "import pandas as pd\n",
    "import numpy as np\n",
    "import cPickle\n",
    "import time\n",
    "import pyprind\n",
    "import plotly.plotly as py\n",
    "import plotly.graph_objs as go\n",
    "from IPython.display import Image\n",
    "#from scipy import polyval, polyfit\n",
    "import scipy"
   ]
  },
  {
   "cell_type": "markdown",
   "metadata": {},
   "source": [
    "Linux src files"
   ]
  },
  {
   "cell_type": "code",
   "execution_count": 2,
   "metadata": {
    "collapsed": false
   },
   "outputs": [],
   "source": [
    "src_file = \"/home/narsi/Documents/CSEE5690_data/VM-CPU-Stats-1-Day.csv\"\n",
    "store_file = file('/home/narsi/Documents/CSEE5690_data/cpu_analysis/cpu_analytics_'+time.strftime(\"%Y%m%d-%H%M%S\")+'.pkl', 'wb')"
   ]
  },
  {
   "cell_type": "markdown",
   "metadata": {},
   "source": [
    "Windows src files"
   ]
  },
  {
   "cell_type": "code",
   "execution_count": 2,
   "metadata": {
    "collapsed": true
   },
   "outputs": [],
   "source": [
    "src_file = \"D:\\\\course_related_data\\\\CSEE5690\\\\VM-CPU-Stats-1-Day.csv\"\n",
    "store_file = file('D:\\\\course_related_data\\\\CSEE5690\\\\cpu_analytics_'+time.strftime(\"%Y%m%d-%H%M%S\")+'.pkl', 'wb')"
   ]
  },
  {
   "cell_type": "markdown",
   "metadata": {},
   "source": [
    "Read Data from csv file"
   ]
  },
  {
   "cell_type": "code",
   "execution_count": 3,
   "metadata": {
    "collapsed": false
   },
   "outputs": [],
   "source": [
    "cpu_data = pd.read_csv(src_file).iloc[::-1]"
   ]
  },
  {
   "cell_type": "code",
   "execution_count": 19,
   "metadata": {
    "collapsed": false
   },
   "outputs": [],
   "source": [
    "cpu_freq = np.array(cpu_data['Value'],dtype = np.float32)\n",
    "E_id_list = cpu_data.Entity.unique()\n",
    "E_select = [25,60,110,225,350]"
   ]
  },
  {
   "cell_type": "code",
   "execution_count": 5,
   "metadata": {
    "collapsed": false
   },
   "outputs": [
    {
     "name": "stderr",
     "output_type": "stream",
     "text": [
      "/usr/local/lib/python2.7/dist-packages/numpy/lib/function_base.py:3834: RuntimeWarning:\n",
      "\n",
      "Invalid value encountered in percentile\n",
      "\n"
     ]
    },
    {
     "data": {
      "text/html": [
       "<div>\n",
       "<table border=\"1\" class=\"dataframe\">\n",
       "  <thead>\n",
       "    <tr style=\"text-align: right;\">\n",
       "      <th></th>\n",
       "      <th>Value</th>\n",
       "      <th>IntervalSecs</th>\n",
       "      <th>Instance</th>\n",
       "    </tr>\n",
       "  </thead>\n",
       "  <tbody>\n",
       "    <tr>\n",
       "      <th>count</th>\n",
       "      <td>146004.000000</td>\n",
       "      <td>146004.0</td>\n",
       "      <td>0.0</td>\n",
       "    </tr>\n",
       "    <tr>\n",
       "      <th>mean</th>\n",
       "      <td>298.213316</td>\n",
       "      <td>300.0</td>\n",
       "      <td>NaN</td>\n",
       "    </tr>\n",
       "    <tr>\n",
       "      <th>std</th>\n",
       "      <td>628.430860</td>\n",
       "      <td>0.0</td>\n",
       "      <td>NaN</td>\n",
       "    </tr>\n",
       "    <tr>\n",
       "      <th>min</th>\n",
       "      <td>3.000000</td>\n",
       "      <td>300.0</td>\n",
       "      <td>NaN</td>\n",
       "    </tr>\n",
       "    <tr>\n",
       "      <th>25%</th>\n",
       "      <td>48.000000</td>\n",
       "      <td>300.0</td>\n",
       "      <td>NaN</td>\n",
       "    </tr>\n",
       "    <tr>\n",
       "      <th>50%</th>\n",
       "      <td>106.000000</td>\n",
       "      <td>300.0</td>\n",
       "      <td>NaN</td>\n",
       "    </tr>\n",
       "    <tr>\n",
       "      <th>75%</th>\n",
       "      <td>296.000000</td>\n",
       "      <td>300.0</td>\n",
       "      <td>NaN</td>\n",
       "    </tr>\n",
       "    <tr>\n",
       "      <th>max</th>\n",
       "      <td>12986.000000</td>\n",
       "      <td>300.0</td>\n",
       "      <td>NaN</td>\n",
       "    </tr>\n",
       "  </tbody>\n",
       "</table>\n",
       "</div>"
      ],
      "text/plain": [
       "               Value  IntervalSecs  Instance\n",
       "count  146004.000000      146004.0       0.0\n",
       "mean      298.213316         300.0       NaN\n",
       "std       628.430860           0.0       NaN\n",
       "min         3.000000         300.0       NaN\n",
       "25%        48.000000         300.0       NaN\n",
       "50%       106.000000         300.0       NaN\n",
       "75%       296.000000         300.0       NaN\n",
       "max     12986.000000         300.0       NaN"
      ]
     },
     "execution_count": 5,
     "metadata": {},
     "output_type": "execute_result"
    }
   ],
   "source": [
    "cpu_data.describe()"
   ]
  },
  {
   "cell_type": "code",
   "execution_count": 6,
   "metadata": {
    "collapsed": false
   },
   "outputs": [
    {
     "name": "stdout",
     "output_type": "stream",
     "text": [
      "<class 'pandas.core.frame.DataFrame'>\n",
      "RangeIndex: 146004 entries, 146003 to 0\n",
      "Data columns (total 9 columns):\n",
      "Value           146004 non-null int64\n",
      "Timestamp       146004 non-null object\n",
      "MetricId        146004 non-null object\n",
      "Unit            146004 non-null object\n",
      "Description     146004 non-null object\n",
      "Entity          146004 non-null object\n",
      "EntityId        146004 non-null object\n",
      "IntervalSecs    146004 non-null int64\n",
      "Instance        0 non-null float64\n",
      "dtypes: float64(1), int64(2), object(6)\n",
      "memory usage: 10.0+ MB\n"
     ]
    }
   ],
   "source": [
    "cpu_data.info()"
   ]
  },
  {
   "cell_type": "markdown",
   "metadata": {},
   "source": [
    "# 1) Moving Average"
   ]
  },
  {
   "cell_type": "code",
   "execution_count": 85,
   "metadata": {
    "collapsed": false
   },
   "outputs": [
    {
     "name": "stdout",
     "output_type": "stream",
     "text": [
      "0%                     100%\n",
      "[#########################] | ETA: 00:00:00\n",
      "Total time elapsed: 00:00:00\n"
     ]
    }
   ],
   "source": [
    "MA = pd.DataFrame(columns=['Subject','Window','TS_Score','A','F'])\n",
    "bar = pyprind.ProgBar(len(E_select)*5, stream=1)\n",
    "dataframe_counter = 0\n",
    "for E_id in E_id_list[E_select]:\n",
    "    id_list = (len(cpu_data) - np.array(cpu_data[cpu_data['Entity'] == E_id].index.tolist(), dtype=np.int32))-1\n",
    "    for window in [3, 5, 9, 11, 20]:\n",
    "        x = np.empty(len(id_list) - window)\n",
    "        counter = 0\n",
    "        for i in id_list[window:]:\n",
    "            X = cpu_freq[i - window:i]\n",
    "            x[counter] = np.sum(X) * 1.0 / window\n",
    "            counter += 1\n",
    "\n",
    "        TS = np.sum(cpu_freq[id_list[window:]]-x)/(np.sum(np.absolute(cpu_freq[id_list[window:]]-x))/len(x))\n",
    "        #MA.append({'Window': window, 'Actual_Data': cpu_freq[id_list[window:]], 'Predicted': x, 'TS_Score': TS}, ignore_index=True)\n",
    "        MA.loc[dataframe_counter] = [E_id,window,TS,cpu_freq[id_list[window:]],x]\n",
    "        dataframe_counter += 1\n",
    "        bar.update()\n"
   ]
  },
  {
   "cell_type": "code",
   "execution_count": 91,
   "metadata": {
    "collapsed": false
   },
   "outputs": [
    {
     "data": {
      "text/html": [
       "<div>\n",
       "<table border=\"1\" class=\"dataframe\">\n",
       "  <thead>\n",
       "    <tr style=\"text-align: right;\">\n",
       "      <th></th>\n",
       "      <th>Subject</th>\n",
       "      <th>Window</th>\n",
       "      <th>TS_Score</th>\n",
       "      <th>A</th>\n",
       "      <th>F</th>\n",
       "    </tr>\n",
       "  </thead>\n",
       "  <tbody>\n",
       "    <tr>\n",
       "      <th>0</th>\n",
       "      <td>kc-itsm-pweb01</td>\n",
       "      <td>3.0</td>\n",
       "      <td>-6.599634e+00</td>\n",
       "      <td>[1624.0, 1278.0, 1604.0, 2008.0, 4020.0, 1523....</td>\n",
       "      <td>[2571.33333333, 2269.33333333, 1937.33333333, ...</td>\n",
       "    </tr>\n",
       "    <tr>\n",
       "      <th>1</th>\n",
       "      <td>kc-itsm-pweb01</td>\n",
       "      <td>5.0</td>\n",
       "      <td>-3.891634e+00</td>\n",
       "      <td>[1604.0, 2008.0, 4020.0, 1523.0, 3019.0, 1874....</td>\n",
       "      <td>[2123.2, 1938.0, 1884.8, 2106.8, 2086.6, 2434....</td>\n",
       "    </tr>\n",
       "    <tr>\n",
       "      <th>2</th>\n",
       "      <td>kc-itsm-pweb01</td>\n",
       "      <td>9.0</td>\n",
       "      <td>-1.169446e+01</td>\n",
       "      <td>[3019.0, 1874.0, 1796.0, 3194.0, 2483.0, 2360....</td>\n",
       "      <td>[2196.77777778, 2251.11111111, 2206.66666667, ...</td>\n",
       "    </tr>\n",
       "    <tr>\n",
       "      <th>3</th>\n",
       "      <td>kc-itsm-pweb01</td>\n",
       "      <td>11.0</td>\n",
       "      <td>-1.602014e+01</td>\n",
       "      <td>[1796.0, 3194.0, 2483.0, 2360.0, 1044.0, 1730....</td>\n",
       "      <td>[2242.18181818, 2175.45454545, 2259.09090909, ...</td>\n",
       "    </tr>\n",
       "    <tr>\n",
       "      <th>4</th>\n",
       "      <td>kc-itsm-pweb01</td>\n",
       "      <td>20.0</td>\n",
       "      <td>-1.928555e+01</td>\n",
       "      <td>[1388.0, 1624.0, 1579.0, 1883.0, 2093.0, 1971....</td>\n",
       "      <td>[2085.25, 2028.15, 1995.65, 1929.1, 1942.05, 1...</td>\n",
       "    </tr>\n",
       "    <tr>\n",
       "      <th>5</th>\n",
       "      <td>Wulfy-Compute03</td>\n",
       "      <td>3.0</td>\n",
       "      <td>-2.240310e+00</td>\n",
       "      <td>[6.0, 7.0, 7.0, 6.0, 6.0, 6.0, 6.0, 6.0, 6.0, ...</td>\n",
       "      <td>[6.33333333333, 6.0, 6.33333333333, 6.66666666...</td>\n",
       "    </tr>\n",
       "    <tr>\n",
       "      <th>6</th>\n",
       "      <td>Wulfy-Compute03</td>\n",
       "      <td>5.0</td>\n",
       "      <td>-7.756757e+00</td>\n",
       "      <td>[7.0, 6.0, 6.0, 6.0, 6.0, 6.0, 6.0, 6.0, 6.0, ...</td>\n",
       "      <td>[6.4, 6.4, 6.4, 6.4, 6.4, 6.2, 6.0, 6.0, 6.0, ...</td>\n",
       "    </tr>\n",
       "    <tr>\n",
       "      <th>7</th>\n",
       "      <td>Wulfy-Compute03</td>\n",
       "      <td>9.0</td>\n",
       "      <td>-8.124402e+00</td>\n",
       "      <td>[6.0, 6.0, 6.0, 6.0, 6.0, 6.0, 6.0, 6.0, 6.0, ...</td>\n",
       "      <td>[6.33333333333, 6.22222222222, 6.22222222222, ...</td>\n",
       "    </tr>\n",
       "    <tr>\n",
       "      <th>8</th>\n",
       "      <td>Wulfy-Compute03</td>\n",
       "      <td>11.0</td>\n",
       "      <td>-6.386364e+00</td>\n",
       "      <td>[6.0, 6.0, 6.0, 6.0, 6.0, 6.0, 6.0, 6.0, 6.0, ...</td>\n",
       "      <td>[6.27272727273, 6.18181818182, 6.18181818182, ...</td>\n",
       "    </tr>\n",
       "    <tr>\n",
       "      <th>9</th>\n",
       "      <td>Wulfy-Compute03</td>\n",
       "      <td>20.0</td>\n",
       "      <td>-1.578337e+00</td>\n",
       "      <td>[6.0, 6.0, 7.0, 6.0, 6.0, 6.0, 6.0, 6.0, 6.0, ...</td>\n",
       "      <td>[6.15, 6.1, 6.1, 6.15, 6.15, 6.1, 6.05, 6.05, ...</td>\n",
       "    </tr>\n",
       "    <tr>\n",
       "      <th>10</th>\n",
       "      <td>kc-pd-sql01</td>\n",
       "      <td>3.0</td>\n",
       "      <td>-4.175808e+01</td>\n",
       "      <td>[2382.0, 2391.0, 2368.0, 551.0, 121.0, 118.0, ...</td>\n",
       "      <td>[2021.66666667, 2378.0, 2385.33333333, 2380.33...</td>\n",
       "    </tr>\n",
       "    <tr>\n",
       "      <th>11</th>\n",
       "      <td>kc-pd-sql01</td>\n",
       "      <td>5.0</td>\n",
       "      <td>-4.851806e+01</td>\n",
       "      <td>[2368.0, 551.0, 121.0, 118.0, 125.0, 123.0, 12...</td>\n",
       "      <td>[2167.6, 2378.6, 2015.0, 1562.6, 1109.8, 656.6...</td>\n",
       "    </tr>\n",
       "    <tr>\n",
       "      <th>12</th>\n",
       "      <td>kc-pd-sql01</td>\n",
       "      <td>9.0</td>\n",
       "      <td>-3.082025e+01</td>\n",
       "      <td>[125.0, 123.0, 120.0, 146.0, 142.0, 119.0, 125...</td>\n",
       "      <td>[1555.11111111, 1423.11111111, 1173.55555556, ...</td>\n",
       "    </tr>\n",
       "    <tr>\n",
       "      <th>13</th>\n",
       "      <td>kc-pd-sql01</td>\n",
       "      <td>11.0</td>\n",
       "      <td>-2.360807e+01</td>\n",
       "      <td>[120.0, 146.0, 142.0, 119.0, 125.0, 182.0, 120...</td>\n",
       "      <td>[1294.90909091, 1186.45454545, 984.363636364, ...</td>\n",
       "    </tr>\n",
       "    <tr>\n",
       "      <th>14</th>\n",
       "      <td>kc-pd-sql01</td>\n",
       "      <td>20.0</td>\n",
       "      <td>-1.114321e+01</td>\n",
       "      <td>[118.0, 162.0, 123.0, 124.0, 120.0, 129.0, 158...</td>\n",
       "      <td>[772.5, 712.75, 602.4, 489.4, 376.5, 262.95, 1...</td>\n",
       "    </tr>\n",
       "    <tr>\n",
       "      <th>15</th>\n",
       "      <td>kc-issr-nmap1</td>\n",
       "      <td>3.0</td>\n",
       "      <td>-6.405694e-02</td>\n",
       "      <td>[21.0, 23.0, 21.0, 23.0, 22.0, 25.0, 73.0, 23....</td>\n",
       "      <td>[23.6666666667, 23.0, 23.0, 21.6666666667, 22....</td>\n",
       "    </tr>\n",
       "    <tr>\n",
       "      <th>16</th>\n",
       "      <td>kc-issr-nmap1</td>\n",
       "      <td>5.0</td>\n",
       "      <td>2.534213e-01</td>\n",
       "      <td>[21.0, 23.0, 22.0, 25.0, 73.0, 23.0, 24.0, 24....</td>\n",
       "      <td>[23.0, 22.6, 22.6, 22.0, 22.8, 32.8, 33.2, 33....</td>\n",
       "    </tr>\n",
       "    <tr>\n",
       "      <th>17</th>\n",
       "      <td>kc-issr-nmap1</td>\n",
       "      <td>9.0</td>\n",
       "      <td>6.982887e-01</td>\n",
       "      <td>[73.0, 23.0, 24.0, 24.0, 22.0, 23.0, 37.0, 23....</td>\n",
       "      <td>[22.8888888889, 28.4444444444, 28.4444444444, ...</td>\n",
       "    </tr>\n",
       "    <tr>\n",
       "      <th>18</th>\n",
       "      <td>kc-issr-nmap1</td>\n",
       "      <td>11.0</td>\n",
       "      <td>-9.572417e-01</td>\n",
       "      <td>[24.0, 24.0, 22.0, 23.0, 37.0, 23.0, 23.0, 25....</td>\n",
       "      <td>[27.4545454545, 27.5454545455, 27.6363636364, ...</td>\n",
       "    </tr>\n",
       "    <tr>\n",
       "      <th>19</th>\n",
       "      <td>kc-issr-nmap1</td>\n",
       "      <td>20.0</td>\n",
       "      <td>1.061892e+00</td>\n",
       "      <td>[123.0, 102.0, 31.0, 22.0, 333.0, 76.0, 25.0, ...</td>\n",
       "      <td>[26.3, 31.3, 35.25, 35.55, 35.6, 51.1, 53.85, ...</td>\n",
       "    </tr>\n",
       "    <tr>\n",
       "      <th>20</th>\n",
       "      <td>KC-ISFS-DCIM01</td>\n",
       "      <td>3.0</td>\n",
       "      <td>1.529653e-14</td>\n",
       "      <td>[11.0, 9.0, 10.0, 10.0, 10.0, 11.0, 10.0, 10.0...</td>\n",
       "      <td>[10.3333333333, 10.6666666667, 10.3333333333, ...</td>\n",
       "    </tr>\n",
       "    <tr>\n",
       "      <th>21</th>\n",
       "      <td>KC-ISFS-DCIM01</td>\n",
       "      <td>5.0</td>\n",
       "      <td>7.805546e-02</td>\n",
       "      <td>[10.0, 10.0, 10.0, 11.0, 10.0, 10.0, 10.0, 10....</td>\n",
       "      <td>[10.2, 10.2, 10.2, 10.0, 10.0, 10.2, 10.2, 10....</td>\n",
       "    </tr>\n",
       "    <tr>\n",
       "      <th>22</th>\n",
       "      <td>KC-ISFS-DCIM01</td>\n",
       "      <td>9.0</td>\n",
       "      <td>8.079967e-02</td>\n",
       "      <td>[10.0, 10.0, 10.0, 10.0, 10.0, 10.0, 10.0, 10....</td>\n",
       "      <td>[10.2222222222, 10.2222222222, 10.2222222222, ...</td>\n",
       "    </tr>\n",
       "    <tr>\n",
       "      <th>23</th>\n",
       "      <td>KC-ISFS-DCIM01</td>\n",
       "      <td>11.0</td>\n",
       "      <td>9.507750e-02</td>\n",
       "      <td>[10.0, 10.0, 10.0, 10.0, 10.0, 10.0, 10.0, 11....</td>\n",
       "      <td>[10.1818181818, 10.1818181818, 10.1818181818, ...</td>\n",
       "    </tr>\n",
       "    <tr>\n",
       "      <th>24</th>\n",
       "      <td>KC-ISFS-DCIM01</td>\n",
       "      <td>20.0</td>\n",
       "      <td>1.029030e-01</td>\n",
       "      <td>[11.0, 10.0, 11.0, 10.0, 10.0, 11.0, 11.0, 10....</td>\n",
       "      <td>[10.15, 10.2, 10.2, 10.2, 10.15, 10.2, 10.25, ...</td>\n",
       "    </tr>\n",
       "  </tbody>\n",
       "</table>\n",
       "</div>"
      ],
      "text/plain": [
       "            Subject  Window      TS_Score  \\\n",
       "0    kc-itsm-pweb01     3.0 -6.599634e+00   \n",
       "1    kc-itsm-pweb01     5.0 -3.891634e+00   \n",
       "2    kc-itsm-pweb01     9.0 -1.169446e+01   \n",
       "3    kc-itsm-pweb01    11.0 -1.602014e+01   \n",
       "4    kc-itsm-pweb01    20.0 -1.928555e+01   \n",
       "5   Wulfy-Compute03     3.0 -2.240310e+00   \n",
       "6   Wulfy-Compute03     5.0 -7.756757e+00   \n",
       "7   Wulfy-Compute03     9.0 -8.124402e+00   \n",
       "8   Wulfy-Compute03    11.0 -6.386364e+00   \n",
       "9   Wulfy-Compute03    20.0 -1.578337e+00   \n",
       "10      kc-pd-sql01     3.0 -4.175808e+01   \n",
       "11      kc-pd-sql01     5.0 -4.851806e+01   \n",
       "12      kc-pd-sql01     9.0 -3.082025e+01   \n",
       "13      kc-pd-sql01    11.0 -2.360807e+01   \n",
       "14      kc-pd-sql01    20.0 -1.114321e+01   \n",
       "15    kc-issr-nmap1     3.0 -6.405694e-02   \n",
       "16    kc-issr-nmap1     5.0  2.534213e-01   \n",
       "17    kc-issr-nmap1     9.0  6.982887e-01   \n",
       "18    kc-issr-nmap1    11.0 -9.572417e-01   \n",
       "19    kc-issr-nmap1    20.0  1.061892e+00   \n",
       "20   KC-ISFS-DCIM01     3.0  1.529653e-14   \n",
       "21   KC-ISFS-DCIM01     5.0  7.805546e-02   \n",
       "22   KC-ISFS-DCIM01     9.0  8.079967e-02   \n",
       "23   KC-ISFS-DCIM01    11.0  9.507750e-02   \n",
       "24   KC-ISFS-DCIM01    20.0  1.029030e-01   \n",
       "\n",
       "                                                    A  \\\n",
       "0   [1624.0, 1278.0, 1604.0, 2008.0, 4020.0, 1523....   \n",
       "1   [1604.0, 2008.0, 4020.0, 1523.0, 3019.0, 1874....   \n",
       "2   [3019.0, 1874.0, 1796.0, 3194.0, 2483.0, 2360....   \n",
       "3   [1796.0, 3194.0, 2483.0, 2360.0, 1044.0, 1730....   \n",
       "4   [1388.0, 1624.0, 1579.0, 1883.0, 2093.0, 1971....   \n",
       "5   [6.0, 7.0, 7.0, 6.0, 6.0, 6.0, 6.0, 6.0, 6.0, ...   \n",
       "6   [7.0, 6.0, 6.0, 6.0, 6.0, 6.0, 6.0, 6.0, 6.0, ...   \n",
       "7   [6.0, 6.0, 6.0, 6.0, 6.0, 6.0, 6.0, 6.0, 6.0, ...   \n",
       "8   [6.0, 6.0, 6.0, 6.0, 6.0, 6.0, 6.0, 6.0, 6.0, ...   \n",
       "9   [6.0, 6.0, 7.0, 6.0, 6.0, 6.0, 6.0, 6.0, 6.0, ...   \n",
       "10  [2382.0, 2391.0, 2368.0, 551.0, 121.0, 118.0, ...   \n",
       "11  [2368.0, 551.0, 121.0, 118.0, 125.0, 123.0, 12...   \n",
       "12  [125.0, 123.0, 120.0, 146.0, 142.0, 119.0, 125...   \n",
       "13  [120.0, 146.0, 142.0, 119.0, 125.0, 182.0, 120...   \n",
       "14  [118.0, 162.0, 123.0, 124.0, 120.0, 129.0, 158...   \n",
       "15  [21.0, 23.0, 21.0, 23.0, 22.0, 25.0, 73.0, 23....   \n",
       "16  [21.0, 23.0, 22.0, 25.0, 73.0, 23.0, 24.0, 24....   \n",
       "17  [73.0, 23.0, 24.0, 24.0, 22.0, 23.0, 37.0, 23....   \n",
       "18  [24.0, 24.0, 22.0, 23.0, 37.0, 23.0, 23.0, 25....   \n",
       "19  [123.0, 102.0, 31.0, 22.0, 333.0, 76.0, 25.0, ...   \n",
       "20  [11.0, 9.0, 10.0, 10.0, 10.0, 11.0, 10.0, 10.0...   \n",
       "21  [10.0, 10.0, 10.0, 11.0, 10.0, 10.0, 10.0, 10....   \n",
       "22  [10.0, 10.0, 10.0, 10.0, 10.0, 10.0, 10.0, 10....   \n",
       "23  [10.0, 10.0, 10.0, 10.0, 10.0, 10.0, 10.0, 11....   \n",
       "24  [11.0, 10.0, 11.0, 10.0, 10.0, 11.0, 11.0, 10....   \n",
       "\n",
       "                                                    F  \n",
       "0   [2571.33333333, 2269.33333333, 1937.33333333, ...  \n",
       "1   [2123.2, 1938.0, 1884.8, 2106.8, 2086.6, 2434....  \n",
       "2   [2196.77777778, 2251.11111111, 2206.66666667, ...  \n",
       "3   [2242.18181818, 2175.45454545, 2259.09090909, ...  \n",
       "4   [2085.25, 2028.15, 1995.65, 1929.1, 1942.05, 1...  \n",
       "5   [6.33333333333, 6.0, 6.33333333333, 6.66666666...  \n",
       "6   [6.4, 6.4, 6.4, 6.4, 6.4, 6.2, 6.0, 6.0, 6.0, ...  \n",
       "7   [6.33333333333, 6.22222222222, 6.22222222222, ...  \n",
       "8   [6.27272727273, 6.18181818182, 6.18181818182, ...  \n",
       "9   [6.15, 6.1, 6.1, 6.15, 6.15, 6.1, 6.05, 6.05, ...  \n",
       "10  [2021.66666667, 2378.0, 2385.33333333, 2380.33...  \n",
       "11  [2167.6, 2378.6, 2015.0, 1562.6, 1109.8, 656.6...  \n",
       "12  [1555.11111111, 1423.11111111, 1173.55555556, ...  \n",
       "13  [1294.90909091, 1186.45454545, 984.363636364, ...  \n",
       "14  [772.5, 712.75, 602.4, 489.4, 376.5, 262.95, 1...  \n",
       "15  [23.6666666667, 23.0, 23.0, 21.6666666667, 22....  \n",
       "16  [23.0, 22.6, 22.6, 22.0, 22.8, 32.8, 33.2, 33....  \n",
       "17  [22.8888888889, 28.4444444444, 28.4444444444, ...  \n",
       "18  [27.4545454545, 27.5454545455, 27.6363636364, ...  \n",
       "19  [26.3, 31.3, 35.25, 35.55, 35.6, 51.1, 53.85, ...  \n",
       "20  [10.3333333333, 10.6666666667, 10.3333333333, ...  \n",
       "21  [10.2, 10.2, 10.2, 10.0, 10.0, 10.2, 10.2, 10....  \n",
       "22  [10.2222222222, 10.2222222222, 10.2222222222, ...  \n",
       "23  [10.1818181818, 10.1818181818, 10.1818181818, ...  \n",
       "24  [10.15, 10.2, 10.2, 10.2, 10.15, 10.2, 10.25, ...  "
      ]
     },
     "execution_count": 91,
     "metadata": {},
     "output_type": "execute_result"
    }
   ],
   "source": [
    "MA\n"
   ]
  },
  {
   "cell_type": "code",
   "execution_count": 40,
   "metadata": {
    "collapsed": false
   },
   "outputs": [
    {
     "data": {
      "text/html": [
       "<iframe id=\"igraph\" scrolling=\"no\" style=\"border:none;\" seamless=\"seamless\" src=\"https://plot.ly/~narsi/133.embed\" height=\"525px\" width=\"100%\"></iframe>"
      ],
      "text/plain": [
       "<plotly.tools.PlotlyDisplay object>"
      ]
     },
     "execution_count": 40,
     "metadata": {},
     "output_type": "execute_result"
    }
   ],
   "source": [
    "trace1 = go.Scatter( y=MA[113], marker={'color': 'red', 'symbol': 104, 'size': \"10\"}, \n",
    "                    mode=\"markers+lines\", name='Weight 9 array')\n",
    "trace2 = go.Scatter( y=MA[114], marker={'color': 'green', 'symbol': 104, 'size': \"10\"}, \n",
    "                    mode=\"markers+lines\", name='Weight 9 array')\n",
    "\n",
    "data=go.Data([trace1,trace2])\n",
    "layout=go.Layout(title=\"Three Different weight distribution for Weighted averaging\")\n",
    "figure=go.Figure(data=data,layout=layout)\n",
    "py.iplot(figure)"
   ]
  },
  {
   "cell_type": "code",
   "execution_count": 111,
   "metadata": {
    "collapsed": false
   },
   "outputs": [
    {
     "data": {
      "text/html": [
       "<iframe id=\"igraph\" scrolling=\"no\" style=\"border:none;\" seamless=\"seamless\" src=\"https://plot.ly/~narsi/153.embed\" height=\"525px\" width=\"100%\"></iframe>"
      ],
      "text/plain": [
       "<plotly.tools.PlotlyDisplay object>"
      ]
     },
     "execution_count": 111,
     "metadata": {},
     "output_type": "execute_result"
    }
   ],
   "source": [
    "# [3, 5, 9, 11, 20]\n",
    "trace_w3 = go.Scatter( x = E_id_list[E_select],y=MA[MA['Window'] == 3].TS_Score.tolist(), marker={'size': \"10\"}, \n",
    "                    mode=\"markers\", name='Weight 3 array')\n",
    "trace_w5 = go.Scatter( x = E_id_list[E_select],y=MA[MA['Window'] == 5].TS_Score.tolist(), marker={'size': \"10\"}, \n",
    "                    mode=\"markers\", name='Weight 5 array')\n",
    "trace_w9 = go.Scatter( x = E_id_list[E_select],y=MA[MA['Window'] == 9].TS_Score.tolist(), marker={'size': \"10\"}, \n",
    "                    mode=\"markers\", name='Weight 9 array')\n",
    "trace_w11 = go.Scatter( x = E_id_list[E_select],y=MA[MA['Window'] == 11].TS_Score.tolist(), marker={'size': \"10\"}, \n",
    "                    mode=\"markers\", name='Weight 11 array')\n",
    "trace_w20 = go.Scatter( x = E_id_list[E_select],y=MA[MA['Window'] == 20].TS_Score.tolist(), marker={'size': \"10\"}, \n",
    "                    mode=\"markers\", name='Weight 20 array')\n",
    "trace_max4 = go.Scatter( x = E_id_list[E_select],y=[4] * len(E_select), marker={'size': \"5\"}, \n",
    "                    mode=\"lines\", name='Max Limit')\n",
    "trace_min4 = go.Scatter( x = E_id_list[E_select],y=[-4] * len(E_select), marker={'size': \"5\"}, \n",
    "                    mode=\"lines\", name='Min Limit')\n",
    "\n",
    "data=go.Data([trace_w3,trace_w5,trace_w9,trace_w11,trace_w20,trace_max4,trace_min4])\n",
    "layout=go.Layout(title=\"Moving Average\")\n",
    "figure=go.Figure(data=data,layout=layout)\n",
    "py.iplot(figure)"
   ]
  },
  {
   "cell_type": "markdown",
   "metadata": {},
   "source": [
    "# 2) Weighted Moving Average"
   ]
  },
  {
   "cell_type": "code",
   "execution_count": 102,
   "metadata": {
    "collapsed": false
   },
   "outputs": [
    {
     "name": "stdout",
     "output_type": "stream",
     "text": [
      "0%                     100%\n",
      "[#########################] | ETA: 00:00:00\n",
      "Total time elapsed: 00:00:00\n"
     ]
    }
   ],
   "source": [
    "WMA = pd.DataFrame(columns=['Subject','Window','TS_Score','A','F'])\n",
    "bar = pyprind.ProgBar(len(E_select)*5, stream=1)\n",
    "dataframe_counter = 0\n",
    "for E_id in E_id_list[E_select]:\n",
    "    id_list = (len(cpu_data) - np.array(cpu_data[cpu_data['Entity'] == E_id].index.tolist(), dtype=np.int32))-1\n",
    "    for window in [3, 5, 9, 11, 20]:\n",
    "        x = np.empty(len(id_list)-window)\n",
    "        counter = 0\n",
    "        weight_ = np.arange(window,dtype = np.float32)+1\n",
    "        weight_ = weight_/np.sum(weight_)\n",
    "        \n",
    "        for i in id_list[window:]:\n",
    "            x[counter] = np.sum(cpu_freq[i-window:i] * weight_)\n",
    "            counter += 1\n",
    "        \n",
    "        TS = np.sum(cpu_freq[id_list[window:]]-x)/(np.sum(np.absolute(cpu_freq[id_list[window:]]-x))/len(x))\n",
    "        WMA.loc[dataframe_counter] = [E_id,window,TS,cpu_freq[id_list[window:]],x]\n",
    "        dataframe_counter += 1\n",
    "        bar.update()\n"
   ]
  },
  {
   "cell_type": "code",
   "execution_count": 110,
   "metadata": {
    "collapsed": false
   },
   "outputs": [
    {
     "data": {
      "text/html": [
       "<iframe id=\"igraph\" scrolling=\"no\" style=\"border:none;\" seamless=\"seamless\" src=\"https://plot.ly/~narsi/151.embed\" height=\"525px\" width=\"100%\"></iframe>"
      ],
      "text/plain": [
       "<plotly.tools.PlotlyDisplay object>"
      ]
     },
     "execution_count": 110,
     "metadata": {},
     "output_type": "execute_result"
    }
   ],
   "source": [
    "# [3, 5, 9, 11, 20]\n",
    "trace_wma3 = go.Scatter( x = E_id_list[E_select],y=WMA[WMA['Window'] == 3].TS_Score.tolist(), marker={'size': \"10\"}, \n",
    "                    mode=\"markers\", name='Weight 3 array')\n",
    "trace_wma5 = go.Scatter( x = E_id_list[E_select],y=WMA[WMA['Window'] == 5].TS_Score.tolist(), marker={'size': \"10\"}, \n",
    "                    mode=\"markers\", name='Weight 5 array')\n",
    "trace_wma9 = go.Scatter( x = E_id_list[E_select],y=WMA[WMA['Window'] == 9].TS_Score.tolist(), marker={'size': \"10\"}, \n",
    "                    mode=\"markers\", name='Weight 9 array')\n",
    "trace_wma11 = go.Scatter( x = E_id_list[E_select],y=WMA[WMA['Window'] == 11].TS_Score.tolist(), marker={'size': \"10\"}, \n",
    "                    mode=\"markers\", name='Weight 11 array')\n",
    "trace_wma20 = go.Scatter( x = E_id_list[E_select],y=WMA[WMA['Window'] == 20].TS_Score.tolist(), marker={'size': \"10\"}, \n",
    "                    mode=\"markers\", name='Weight 20 array')\n",
    "\n",
    "data=go.Data([trace_wma3,trace_wma5,trace_wma9,trace_wma11,trace_wma20,trace_max4,trace_min4])\n",
    "layout=go.Layout(title=\"Weighted Moving Average\")\n",
    "figure=go.Figure(data=data,layout=layout)\n",
    "py.iplot(figure)"
   ]
  },
  {
   "cell_type": "markdown",
   "metadata": {},
   "source": [
    "# 3) Exponential Smoothing"
   ]
  },
  {
   "cell_type": "code",
   "execution_count": 107,
   "metadata": {
    "collapsed": false
   },
   "outputs": [
    {
     "name": "stdout",
     "output_type": "stream",
     "text": [
      "0%                100%\n",
      "[####################] | ETA: 00:00:00\n",
      "Total time elapsed: 00:00:00\n"
     ]
    }
   ],
   "source": [
    "ES = pd.DataFrame(columns=['Subject','Alpha','TS_Score','A','F'])\n",
    "\n",
    "alpha = [0.2,0.4,0.6,0.8]\n",
    "dataframe_counter = 0\n",
    "bar = pyprind.ProgBar(len(alpha)*len(E_select), stream=1)\n",
    "for a in alpha:\n",
    "    for E_id in E_id_list[E_select]:\n",
    "        id_list = (len(cpu_data) - np.array(cpu_data[cpu_data['Entity'] == E_id].index.tolist(), dtype = np.int32))-1\n",
    "        x = np.empty(len(id_list))\n",
    "        x[0] = cpu_freq[id_list[0]]\n",
    "        counter = 1\n",
    "        for i in id_list[1:]:\n",
    "            x[counter] = x[counter-1] + (a) * (cpu_freq[i-1] - x[counter-1])\n",
    "            counter += 1\n",
    "        \n",
    "        TS = np.sum(cpu_freq[id_list]-x)/(np.sum(np.absolute(cpu_freq[id_list]-x))/len(x))\n",
    "        ES.loc[dataframe_counter] = [E_id,a,TS,cpu_freq[id_list[window:]],x]\n",
    "        dataframe_counter +=1\n",
    "        bar.update()"
   ]
  },
  {
   "cell_type": "code",
   "execution_count": 109,
   "metadata": {
    "collapsed": false
   },
   "outputs": [
    {
     "data": {
      "text/html": [
       "<iframe id=\"igraph\" scrolling=\"no\" style=\"border:none;\" seamless=\"seamless\" src=\"https://plot.ly/~narsi/149.embed\" height=\"525px\" width=\"100%\"></iframe>"
      ],
      "text/plain": [
       "<plotly.tools.PlotlyDisplay object>"
      ]
     },
     "execution_count": 109,
     "metadata": {},
     "output_type": "execute_result"
    }
   ],
   "source": [
    "trace_a2 = go.Scatter( x = E_id_list[E_select],y=ES[ES['Alpha'] == 0.2].TS_Score.tolist(), marker={'size': \"10\"}, \n",
    "                    mode=\"markers\", name='Alpha 0.2')\n",
    "trace_a4 = go.Scatter( x = E_id_list[E_select],y=ES[ES['Alpha'] == 0.4].TS_Score.tolist(), marker={'size': \"10\"}, \n",
    "                    mode=\"markers\", name='Alpha 0.4')\n",
    "trace_a6 = go.Scatter( x = E_id_list[E_select],y=ES[ES['Alpha'] == 0.6].TS_Score.tolist(), marker={'size': \"10\"}, \n",
    "                    mode=\"markers\", name='Alpha 0.6')\n",
    "trace_a8 = go.Scatter( x = E_id_list[E_select],y=ES[ES['Alpha'] == 0.8].TS_Score.tolist(), marker={'size': \"10\"}, \n",
    "                    mode=\"markers\", name='Alpha 0.8')\n",
    "\n",
    "data=go.Data([trace_a2,trace_a4,trace_a6,trace_a8,trace_max4,trace_min4])\n",
    "layout=go.Layout(title=\"Exponential Smoothing\")\n",
    "figure=go.Figure(data=data,layout=layout)\n",
    "py.iplot(figure)"
   ]
  },
  {
   "cell_type": "markdown",
   "metadata": {},
   "source": [
    "# 4) Exponential Smoothing with trend"
   ]
  },
  {
   "cell_type": "code",
   "execution_count": 115,
   "metadata": {
    "collapsed": false
   },
   "outputs": [
    {
     "name": "stdout",
     "output_type": "stream",
     "text": [
      "0%                100%\n",
      "[####################] | ETA: 00:00:00\n",
      "Total time elapsed: 00:00:00\n"
     ]
    }
   ],
   "source": [
    "EST = pd.DataFrame(columns=['Subject','Alpha','TS_Score','A','F'])\n",
    "d = 0.5\n",
    "alpha = [0.2,0.4,0.6,0.8]\n",
    "dataframe_counter = 0\n",
    "bar = pyprind.ProgBar(len(alpha)*len(E_select), stream=1)\n",
    "for a in alpha:\n",
    "    for E_id in E_id_list[E_select]:\n",
    "        id_list = (len(cpu_data) - np.array(cpu_data[cpu_data['Entity'] == E_id].index.tolist(), dtype = np.int32))-1\n",
    "        x = np.empty(len(id_list))\n",
    "        x[0] = cpu_freq[id_list[0]]\n",
    "        T = 0.0\n",
    "        F = x[0]\n",
    "        counter = 1\n",
    "        for i in id_list[1:]:\n",
    "            F = x[counter - 1] + a * (cpu_freq[i-1] - x[counter-1])\n",
    "            T = T + d * (F - x[counter-1])\n",
    "            x[counter] = F + T\n",
    "            counter += 1\n",
    "\n",
    "        TS = np.sum(cpu_freq[id_list]-x)/(np.sum(np.absolute(cpu_freq[id_list]-x))/len(x))\n",
    "        EST.loc[dataframe_counter] = [E_id,a,TS,cpu_freq[id_list[window:]],x]\n",
    "        dataframe_counter += 1\n",
    "        bar.update()\n"
   ]
  },
  {
   "cell_type": "code",
   "execution_count": 117,
   "metadata": {
    "collapsed": false
   },
   "outputs": [
    {
     "data": {
      "text/html": [
       "<iframe id=\"igraph\" scrolling=\"no\" style=\"border:none;\" seamless=\"seamless\" src=\"https://plot.ly/~narsi/157.embed\" height=\"525px\" width=\"100%\"></iframe>"
      ],
      "text/plain": [
       "<plotly.tools.PlotlyDisplay object>"
      ]
     },
     "execution_count": 117,
     "metadata": {},
     "output_type": "execute_result"
    }
   ],
   "source": [
    "trace_ad2 = go.Scatter( x = E_id_list[E_select],y=EST[EST['Alpha'] == 0.2].TS_Score.tolist(), marker={'size': \"10\"}, \n",
    "                    mode=\"markers\", name='Alpha 0.2')\n",
    "trace_ad4 = go.Scatter( x = E_id_list[E_select],y=EST[EST['Alpha'] == 0.4].TS_Score.tolist(), marker={'size': \"10\"}, \n",
    "                    mode=\"markers\", name='Alpha 0.4')\n",
    "trace_ad6 = go.Scatter( x = E_id_list[E_select],y=EST[EST['Alpha'] == 0.6].TS_Score.tolist(), marker={'size': \"10\"}, \n",
    "                    mode=\"markers\", name='Alpha 0.6')\n",
    "trace_ad8 = go.Scatter( x = E_id_list[E_select],y=EST[EST['Alpha'] == 0.8].TS_Score.tolist(), marker={'size': \"10\"}, \n",
    "                    mode=\"markers\", name='Alpha 0.8')\n",
    "\n",
    "data=go.Data([trace_ad2,trace_ad4,trace_ad6,trace_ad8,trace_max4,trace_min4])\n",
    "layout=go.Layout(title=\"Exponential Smoothing with trend\")\n",
    "figure=go.Figure(data=data,layout=layout)\n",
    "py.iplot(figure)"
   ]
  },
  {
   "cell_type": "markdown",
   "metadata": {},
   "source": [
    "# 5) Windowed Exponential Smoothing with trend"
   ]
  },
  {
   "cell_type": "code",
   "execution_count": null,
   "metadata": {
    "collapsed": true
   },
   "outputs": [],
   "source": [
    "WEST = pd.DataFrame(columns=['Subject','Alpha','window','TS_Score','A','F'])\n",
    "d = 0.5\n",
    "alpha = [0.2,0.4,0.6,0.8]\n",
    "bar = pyprind.ProgBar(5*len(E_select), stream=1)\n",
    "for a in alpha:\n",
    "    for E_id in E_id_list[E_select]:\n",
    "        id_list = (len(cpu_data) - np.array(cpu_data[cpu_data['Entity'] == E_id].index.tolist(), dtype = np.int32))-1\n",
    "        for window in [3, 5, 9, 11, 20]:\n",
    "            x = np.empty(len(id_list))\n",
    "            weight_ = np.arange(window,dtype = np.float32)+1\n",
    "            weight_ = weight_/np.sum(weight_)\n",
    "            x[0] = np.sum(cpu_freq[id_list[0:window]] * weight_)\n",
    "            T = 0.0\n",
    "            F = x[0]\n",
    "            counter = 1\n",
    "            for i in id_list[1:]:\n",
    "                F = x[counter - 1] + a * (cpu_freq[i-1] - x[counter-1])\n",
    "                T = T + d * (F - x[counter-1])\n",
    "                x[counter] = F + T\n",
    "                counter += 1\n",
    "\n",
    "            TS = np.sum(cpu_freq[id_list[window:]]-x)/(np.sum(np.absolute(cpu_freq[id_list[window:]]-x))/len(x))\n",
    "            EST.loc[dataframe_counter] = [E_id,a,TS,cpu_freq[id_list[window:]],x]\n",
    "            bar.update()\n",
    "\n",
    "cPickle.dump(win_EST_pred, store_file, protocol=cPickle.HIGHEST_PROTOCOL)"
   ]
  },
  {
   "cell_type": "markdown",
   "metadata": {},
   "source": [
    "# Piecewise Linear"
   ]
  },
  {
   "cell_type": "code",
   "execution_count": 62,
   "metadata": {
    "collapsed": false
   },
   "outputs": [
    {
     "name": "stdout",
     "output_type": "stream",
     "text": [
      "0%                          100%\n",
      "[##############################] | ETA: 00:00:00\n",
      "Total time elapsed: 00:01:13\n"
     ]
    }
   ],
   "source": [
    "Piece_lin = []\n",
    "bar = pyprind.ProgBar(len(E_id_list), stream=1)\n",
    "for E_id in E_id_list:\n",
    "    id_list = (len(cpu_data) - np.array(cpu_data[cpu_data['Entity'] == E_id].index.tolist(), dtype = np.int32))\n",
    "    for window in [5]:\n",
    "        x = np.empty(len(id_list)-window)\n",
    "        t = np.arange(window)\n",
    "        counter = 0\n",
    "        for i in id_list[window:]:\n",
    "            (ar,br) = scipy.polyfit(t,cpu_freq[i-window:i],1)\n",
    "            x[counter] = scipy.polyval([ar,br],window) + 0.5 * (np.mean(cpu_freq[i-window:i]) - scipy.polyval([ar,br],window))\n",
    "            #if x[counter] <= 0:\n",
    "                #x[counter] = np.mean(cpu_freq[i-window:i])\n",
    "            counter += 1\n",
    "            \n",
    "        TS = (np.sum(cpu_freq[id_list[window:]]-x)/(np.sum(np.absolute(cpu_freq[id_list[window:]]-x))/len(x))\n",
    "        Piece_lin.append(window)\n",
    "        Piece_lin.append(cpu_freq[id_list[window:]])\n",
    "        Piece_lin.append(x)\n",
    "        Piece_lin.append(TS)\n",
    "    \n",
    "    bar.update()\n",
    "\n",
    "cPickle.dump(Piece_lin, store_file, protocol=cPickle.HIGHEST_PROTOCOL)"
   ]
  },
  {
   "cell_type": "markdown",
   "metadata": {},
   "source": [
    "# Piecewise Polynomial"
   ]
  },
  {
   "cell_type": "code",
   "execution_count": 44,
   "metadata": {
    "collapsed": false
   },
   "outputs": [
    {
     "name": "stdout",
     "output_type": "stream",
     "text": [
      "0%                          100%\n",
      "[##############################] | ETA: 00:00:00\n",
      "Total time elapsed: 00:01:15\n"
     ]
    }
   ],
   "source": [
    "Piece_poly = []\n",
    "bar = pyprind.ProgBar(len(E_id_list), stream=1)\n",
    "for E_id in E_id_list:\n",
    "    id_list = (len(cpu_data) - np.array(cpu_data[cpu_data['Entity'] == E_id].index.tolist(), dtype = np.int32))\n",
    "    for window in [20]:\n",
    "        x = np.empty(len(id_list)-window)\n",
    "        t = np.arange(window)\n",
    "        counter = 0\n",
    "        for i in id_list[window:]:\n",
    "            z = np.polyfit(t,cpu_freq[i-window:i],2)\n",
    "            p = np.poly1d(z)\n",
    "            x[counter] = cpu_freq[i-1] + 0.5 * (np.mean(cpu_freq[i-window:i]) - p(window))\n",
    "            counter += 1\n",
    "            \n",
    "        TS = np.sum(cpu_freq[id_list[window:]]-x)/(np.sum(np.absolute(cpu_freq[id_list[window:]]-x))/len(x))\n",
    "        Piece_poly.append(window)\n",
    "        Piece_poly.append(cpu_freq[id_list[window:]])\n",
    "        Piece_poly.append(x)\n",
    "        Piece_poly.append(TS)\n",
    "    \n",
    "    bar.update()\n",
    "\n",
    "cPickle.dump(Piece_poly, store_file, protocol=cPickle.HIGHEST_PROTOCOL)"
   ]
  },
  {
   "cell_type": "code",
   "execution_count": 13,
   "metadata": {
    "collapsed": false
   },
   "outputs": [],
   "source": [
    "store_file.close()"
   ]
  },
  {
   "cell_type": "code",
   "execution_count": 12,
   "metadata": {
    "collapsed": false
   },
   "outputs": [],
   "source": [
    "f = file('D:\\\\course_related_data\\\\CSEE5690\\\\cpu_analytics_20160831-143731.pkl', 'rb')\n",
    "value1 = cPickle.load(f)\n",
    "value2 = cPickle.load(f)\n",
    "f.close()"
   ]
  },
  {
   "cell_type": "code",
   "execution_count": 60,
   "metadata": {
    "collapsed": false
   },
   "outputs": [
    {
     "data": {
      "text/html": [
       "<iframe id=\"igraph\" scrolling=\"no\" style=\"border:none;\" seamless=\"seamless\" src=\"https://plot.ly/~narsi/111.embed\" height=\"525px\" width=\"100%\"></iframe>"
      ],
      "text/plain": [
       "<plotly.tools.PlotlyDisplay object>"
      ]
     },
     "execution_count": 60,
     "metadata": {},
     "output_type": "execute_result"
    }
   ],
   "source": [
    "trace1 = go.Scatter( y=Piece_lin[5], marker={'color': 'red', 'symbol': 104, 'size': \"10\"}, \n",
    "                    mode=\"markers+lines\", name='Weight 9 array')\n",
    "trace2 = go.Scatter( y=Piece_lin[6], marker={'color': 'green', 'symbol': 104, 'size': \"10\"}, \n",
    "                    mode=\"markers+lines\", name='Weight 9 array')\n",
    "\n",
    "data=go.Data([trace1,trace2])\n",
    "layout=go.Layout(title=\"Three Different weight distribution for Weighted averaging\")\n",
    "figure=go.Figure(data=data,layout=layout)\n",
    "py.iplot(figure)"
   ]
  },
  {
   "cell_type": "code",
   "execution_count": 61,
   "metadata": {
    "collapsed": false
   },
   "outputs": [
    {
     "data": {
      "text/plain": [
       "-3.3191919661538396"
      ]
     },
     "execution_count": 61,
     "metadata": {},
     "output_type": "execute_result"
    }
   ],
   "source": [
    "Piece_lin[7]"
   ]
  }
 ],
 "metadata": {
  "kernelspec": {
   "display_name": "Python 2",
   "language": "python",
   "name": "python2"
  },
  "language_info": {
   "codemirror_mode": {
    "name": "ipython",
    "version": 2
   },
   "file_extension": ".py",
   "mimetype": "text/x-python",
   "name": "python",
   "nbconvert_exporter": "python",
   "pygments_lexer": "ipython2",
   "version": "2.7.12"
  }
 },
 "nbformat": 4,
 "nbformat_minor": 0
}
