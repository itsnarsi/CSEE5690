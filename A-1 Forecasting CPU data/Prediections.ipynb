{
 "cells": [
  {
   "cell_type": "markdown",
   "metadata": {},
   "source": [
    "In this project we will be applying different types of forecasting techniques on the given cpu data and analyise which one of them provides better accuracy and why.\n",
    "\n",
    "We will be using folowing forecasting techniques:\n",
    "\n",
    "1) Simple Moving Average\n",
    "\n",
    "2) Weighted Moving average\n",
    "\n",
    "3) Exponential Smoothning\n",
    "\n",
    "4) Exponential Smoothning w/ trend\n",
    "\n",
    "5) Moving weighted average EST\n",
    "\n",
    "6) Linear Regression\n",
    "\n",
    "7) Non-linear Regression (2nd order)"
   ]
  },
  {
   "cell_type": "markdown",
   "metadata": {},
   "source": [
    "# Pre-Processing"
   ]
  },
  {
   "cell_type": "markdown",
   "metadata": {},
   "source": [
    "Importing all the required libraries"
   ]
  },
  {
   "cell_type": "code",
   "execution_count": 1,
   "metadata": {
    "collapsed": false
   },
   "outputs": [],
   "source": [
    "import pandas as pd\n",
    "import numpy as np\n",
    "import cPickle\n",
    "import time\n",
    "import pyprind\n",
    "import plotly.plotly as py\n",
    "import plotly.graph_objs as go\n",
    "import scipy"
   ]
  },
  {
   "cell_type": "markdown",
   "metadata": {},
   "source": [
    "Linux src files"
   ]
  },
  {
   "cell_type": "code",
   "execution_count": 2,
   "metadata": {
    "collapsed": false
   },
   "outputs": [],
   "source": [
    "src_file = \"/home/narsi/Documents/CSEE5690_data/VM-CPU-Stats-1-Day.csv\"\n",
    "store_file = file('/home/narsi/Documents/CSEE5690_data/cpu_analysis/cpu_analytics_'+time.strftime(\"%Y%m%d-%H%M%S\")+'.pkl', 'wb')"
   ]
  },
  {
   "cell_type": "markdown",
   "metadata": {},
   "source": [
    "Windows src files"
   ]
  },
  {
   "cell_type": "code",
   "execution_count": 2,
   "metadata": {
    "collapsed": true
   },
   "outputs": [],
   "source": [
    "src_file = \"D:\\\\course_related_data\\\\CSEE5690\\\\VM-CPU-Stats-1-Day.csv\"\n",
    "store_file = file('D:\\\\course_related_data\\\\CSEE5690\\\\cpu_analytics_'+time.strftime(\"%Y%m%d-%H%M%S\")+'.pkl', 'wb')"
   ]
  },
  {
   "cell_type": "markdown",
   "metadata": {},
   "source": [
    "Read Data from csv file"
   ]
  },
  {
   "cell_type": "code",
   "execution_count": 3,
   "metadata": {
    "collapsed": false
   },
   "outputs": [],
   "source": [
    "cpu_data = pd.read_csv(src_file).iloc[::-1]"
   ]
  },
  {
   "cell_type": "code",
   "execution_count": 4,
   "metadata": {
    "collapsed": false
   },
   "outputs": [],
   "source": [
    "cpu_freq = np.array(cpu_data['Value'],dtype = np.float32)\n",
    "E_id_list = cpu_data.Entity.unique()\n",
    "E_select = [25,60,110,225,350]"
   ]
  },
  {
   "cell_type": "code",
   "execution_count": 14,
   "metadata": {
    "collapsed": false
   },
   "outputs": [
    {
     "name": "stdout",
     "output_type": "stream",
     "text": [
      "('kc-itsm-pweb01', ' Mean', 884.72318339100343, ' Var', 824479.56)\n",
      "('Wulfy-Compute03', ' Mean', 6.1130136986301373, ' Var', 0.10024159)\n",
      "('kc-pd-sql01', ' Mean', 281.01027397260276, ' Var', 447125.25)\n",
      "('kc-issr-nmap1', ' Mean', 34.553264604810998, ' Var', 1414.6252)\n",
      "('KC-ISFS-DCIM01', ' Mean', 28.455172413793104, ' Var', 14476.157)\n"
     ]
    }
   ],
   "source": [
    "for i in E_select:\n",
    "    id_list = (len(cpu_data) - np.array(cpu_data[cpu_data['Entity'] == E_id_list[i]].index.tolist(), dtype=np.int32))-1\n",
    "    x = len(id_list)\n",
    "    print(E_id_list[i] , ' Mean' , np.sum(cpu_freq[id_list])/x , ' Var' , np.var(cpu_freq[id_list]))"
   ]
  },
  {
   "cell_type": "code",
   "execution_count": 17,
   "metadata": {
    "collapsed": false
   },
   "outputs": [
    {
     "data": {
      "text/html": [
       "<iframe id=\"igraph\" scrolling=\"no\" style=\"border:none;\" seamless=\"seamless\" src=\"https://plot.ly/~narsi/265.embed\" height=\"525px\" width=\"100%\"></iframe>"
      ],
      "text/plain": [
       "<plotly.tools.PlotlyDisplay object>"
      ]
     },
     "execution_count": 17,
     "metadata": {},
     "output_type": "execute_result"
    }
   ],
   "source": [
    "# [3, 5, 9, 11, 20]\n",
    "trace_w3 = go.Scatter(y=cpu_freq[(len(cpu_data) - np.array(cpu_data[cpu_data['Entity'] == E_id_list[0]].index.tolist(), dtype=np.int32))-1], marker={'size': \"2\"}, \n",
    "                    mode=\"lines\", name='kc-itsm-pweb01 Mean:884.72 Var:824479.56')\n",
    "trace_w5 = go.Scatter(y=cpu_freq[(len(cpu_data) - np.array(cpu_data[cpu_data['Entity'] == E_id_list[1]].index.tolist(), dtype=np.int32))-1], marker={'size': \"5\"}, \n",
    "                    mode=\"lines\", name='Wulfy-Compute03 Mean:6.11 Var:0.10')\n",
    "trace_w9 = go.Scatter(y=cpu_freq[(len(cpu_data) - np.array(cpu_data[cpu_data['Entity'] == E_id_list[2]].index.tolist(), dtype=np.int32))-1], marker={'size': \"9\"}, \n",
    "                    mode=\"lines\", name='kc-pd-sql01 Mean:281.01 Var:447125.25')\n",
    "trace_w11 = go.Scatter(y=cpu_freq[(len(cpu_data) - np.array(cpu_data[cpu_data['Entity'] == E_id_list[3]].index.tolist(), dtype=np.int32))-1], marker={'size': \"12\"}, \n",
    "                    mode=\"lines\", name='kc-issr-nmap1 Mean:34.55 Var:1414.6252')\n",
    "trace_w20 = go.Scatter(y=cpu_freq[(len(cpu_data) - np.array(cpu_data[cpu_data['Entity'] == E_id_list[4]].index.tolist(), dtype=np.int32))-1], marker={'size': \"15\"}, \n",
    "                    mode=\"lines\", name='KC-ISFS-DCIM01 Mean:28.46 Var:14476.157')\n",
    "\n",
    "\n",
    "data=go.Data([trace_w3,trace_w5,trace_w9,trace_w11,trace_w20])\n",
    "layout=go.Layout(title=\"Randomly Select Virtual Machines\")\n",
    "figure=go.Figure(data=data,layout=layout)\n",
    "py.iplot(figure)"
   ]
  },
  {
   "cell_type": "code",
   "execution_count": 11,
   "metadata": {
    "collapsed": false
   },
   "outputs": [
    {
     "data": {
      "text/plain": [
       "array([], dtype=float32)"
      ]
     },
     "execution_count": 11,
     "metadata": {},
     "output_type": "execute_result"
    }
   ],
   "source": [
    "cpu_freq[id_list]"
   ]
  },
  {
   "cell_type": "code",
   "execution_count": 5,
   "metadata": {
    "collapsed": false
   },
   "outputs": [
    {
     "name": "stdout",
     "output_type": "stream",
     "text": [
      "<class 'pandas.core.frame.DataFrame'>\n",
      "RangeIndex: 146004 entries, 146003 to 0\n",
      "Data columns (total 9 columns):\n",
      "Value           146004 non-null int64\n",
      "Timestamp       146004 non-null object\n",
      "MetricId        146004 non-null object\n",
      "Unit            146004 non-null object\n",
      "Description     146004 non-null object\n",
      "Entity          146004 non-null object\n",
      "EntityId        146004 non-null object\n",
      "IntervalSecs    146004 non-null int64\n",
      "Instance        0 non-null float64\n",
      "dtypes: float64(1), int64(2), object(6)\n",
      "memory usage: 10.0+ MB\n"
     ]
    }
   ],
   "source": [
    "cpu_data.info()"
   ]
  },
  {
   "cell_type": "markdown",
   "metadata": {},
   "source": [
    "# 1) Moving Average"
   ]
  },
  {
   "cell_type": "code",
   "execution_count": 18,
   "metadata": {
    "collapsed": false
   },
   "outputs": [
    {
     "name": "stdout",
     "output_type": "stream",
     "text": [
      "0%                     100%\n",
      "[#########################] | ETA: 00:00:00\n",
      "Total time elapsed: 00:00:00\n"
     ]
    }
   ],
   "source": [
    "MA = pd.DataFrame(columns=['Subject','Window','TS_Score','MAD','A','F'])\n",
    "bar = pyprind.ProgBar(len(E_select)*5, stream=1)\n",
    "dataframe_counter = 0\n",
    "for E_id in E_id_list[E_select]:\n",
    "    id_list = (len(cpu_data) - np.array(cpu_data[cpu_data['Entity'] == E_id].index.tolist(), dtype=np.int32))-1\n",
    "    for window in [3, 5, 9, 11, 20]:\n",
    "        x = np.empty(len(id_list) - window)\n",
    "        counter = 0\n",
    "        for i in id_list[window:]:\n",
    "            X = cpu_freq[i - window:i]\n",
    "            x[counter] = np.sum(X) * 1.0 / window\n",
    "            counter += 1\n",
    "\n",
    "        TS = np.sum(cpu_freq[id_list[window:]]-x)/(np.sum(np.absolute(cpu_freq[id_list[window:]]-x))/len(x))\n",
    "        #MA.append({'Window': window, 'Actual_Data': cpu_freq[id_list[window:]], 'Predicted': x, 'TS_Score': TS}, ignore_index=True)\n",
    "        MA.loc[dataframe_counter] = [E_id,window,TS,(np.sum(np.absolute(cpu_freq[id_list[window:]]-x))/len(x)),cpu_freq[id_list[window:]],x]\n",
    "        dataframe_counter += 1\n",
    "        bar.update()\n"
   ]
  },
  {
   "cell_type": "code",
   "execution_count": 20,
   "metadata": {
    "collapsed": false
   },
   "outputs": [],
   "source": [
    "MA.to_csv('D:\\\\course_related_data\\\\CSEE5690\\\\ma.csv')"
   ]
  },
  {
   "cell_type": "code",
   "execution_count": 8,
   "metadata": {
    "collapsed": true
   },
   "outputs": [],
   "source": [
    "trace_max4 = go.Scatter( x = E_id_list[E_select],y=[4] * len(E_select), marker={'size': \"5\"}, \n",
    "                    mode=\"lines\", name='Max Limit')\n",
    "trace_min4 = go.Scatter( x = E_id_list[E_select],y=[-4] * len(E_select), marker={'size': \"5\"}, \n",
    "                    mode=\"lines\", name='Min Limit')"
   ]
  },
  {
   "cell_type": "code",
   "execution_count": 111,
   "metadata": {
    "collapsed": false
   },
   "outputs": [
    {
     "data": {
      "text/html": [
       "<iframe id=\"igraph\" scrolling=\"no\" style=\"border:none;\" seamless=\"seamless\" src=\"https://plot.ly/~narsi/153.embed\" height=\"525px\" width=\"100%\"></iframe>"
      ],
      "text/plain": [
       "<plotly.tools.PlotlyDisplay object>"
      ]
     },
     "execution_count": 111,
     "metadata": {},
     "output_type": "execute_result"
    }
   ],
   "source": [
    "# [3, 5, 9, 11, 20]\n",
    "trace_w3 = go.Scatter( x = E_id_list[E_select],y=MA[MA['Window'] == 3].TS_Score.tolist(), marker={'size': \"10\"}, \n",
    "                    mode=\"markers\", name='Weight 3 array')\n",
    "trace_w5 = go.Scatter( x = E_id_list[E_select],y=MA[MA['Window'] == 5].TS_Score.tolist(), marker={'size': \"10\"}, \n",
    "                    mode=\"markers\", name='Weight 5 array')\n",
    "trace_w9 = go.Scatter( x = E_id_list[E_select],y=MA[MA['Window'] == 9].TS_Score.tolist(), marker={'size': \"10\"}, \n",
    "                    mode=\"markers\", name='Weight 9 array')\n",
    "trace_w11 = go.Scatter( x = E_id_list[E_select],y=MA[MA['Window'] == 11].TS_Score.tolist(), marker={'size': \"10\"}, \n",
    "                    mode=\"markers\", name='Weight 11 array')\n",
    "trace_w20 = go.Scatter( x = E_id_list[E_select],y=MA[MA['Window'] == 20].TS_Score.tolist(), marker={'size': \"10\"}, \n",
    "                    mode=\"markers\", name='Weight 20 array')\n",
    "\n",
    "\n",
    "data=go.Data([trace_w3,trace_w5,trace_w9,trace_w11,trace_w20,trace_max4,trace_min4])\n",
    "layout=go.Layout(title=\"Moving Average\")\n",
    "figure=go.Figure(data=data,layout=layout)\n",
    "py.iplot(figure)"
   ]
  },
  {
   "cell_type": "markdown",
   "metadata": {},
   "source": [
    "# 2) Weighted Moving Average"
   ]
  },
  {
   "cell_type": "code",
   "execution_count": 23,
   "metadata": {
    "collapsed": false
   },
   "outputs": [
    {
     "name": "stdout",
     "output_type": "stream",
     "text": [
      "0%                     100%\n",
      "[#########################] | ETA: 00:00:00\n",
      "Total time elapsed: 00:00:00\n"
     ]
    }
   ],
   "source": [
    "WMA = pd.DataFrame(columns=['Subject','Window','TS_Score','MAD','A','F'])\n",
    "bar = pyprind.ProgBar(len(E_select)*5, stream=1)\n",
    "dataframe_counter = 0\n",
    "for E_id in E_id_list[E_select]:\n",
    "    id_list = (len(cpu_data) - np.array(cpu_data[cpu_data['Entity'] == E_id].index.tolist(), dtype=np.int32))-1\n",
    "    for window in [3, 5, 9, 11, 20]:\n",
    "        x = np.empty(len(id_list)-window)\n",
    "        counter = 0\n",
    "        weight_ = np.arange(window,dtype = np.float32)+1\n",
    "        weight_ = weight_/np.sum(weight_)\n",
    "        \n",
    "        for i in id_list[window:]:\n",
    "            x[counter] = np.sum(cpu_freq[i-window:i] * weight_)\n",
    "            counter += 1\n",
    "        \n",
    "        TS = np.sum(cpu_freq[id_list[window:]]-x)/(np.sum(np.absolute(cpu_freq[id_list[window:]]-x))/len(x))\n",
    "        WMA.loc[dataframe_counter] = [E_id,window,TS,(np.sum(np.absolute(cpu_freq[id_list[window:]]-x))/len(x)),cpu_freq[id_list[window:]],x]\n",
    "        dataframe_counter += 1\n",
    "        bar.update()\n"
   ]
  },
  {
   "cell_type": "code",
   "execution_count": 25,
   "metadata": {
    "collapsed": false
   },
   "outputs": [],
   "source": [
    "WMA.to_csv('D:\\\\course_related_data\\\\CSEE5690\\\\ma.csv')"
   ]
  },
  {
   "cell_type": "code",
   "execution_count": 110,
   "metadata": {
    "collapsed": false
   },
   "outputs": [
    {
     "data": {
      "text/html": [
       "<iframe id=\"igraph\" scrolling=\"no\" style=\"border:none;\" seamless=\"seamless\" src=\"https://plot.ly/~narsi/151.embed\" height=\"525px\" width=\"100%\"></iframe>"
      ],
      "text/plain": [
       "<plotly.tools.PlotlyDisplay object>"
      ]
     },
     "execution_count": 110,
     "metadata": {},
     "output_type": "execute_result"
    }
   ],
   "source": [
    "# [3, 5, 9, 11, 20]\n",
    "trace_wma3 = go.Scatter( x = E_id_list[E_select],y=WMA[WMA['Window'] == 3].TS_Score.tolist(), marker={'size': \"10\"}, \n",
    "                    mode=\"markers\", name='Weight 3 array')\n",
    "trace_wma5 = go.Scatter( x = E_id_list[E_select],y=WMA[WMA['Window'] == 5].TS_Score.tolist(), marker={'size': \"10\"}, \n",
    "                    mode=\"markers\", name='Weight 5 array')\n",
    "trace_wma9 = go.Scatter( x = E_id_list[E_select],y=WMA[WMA['Window'] == 9].TS_Score.tolist(), marker={'size': \"10\"}, \n",
    "                    mode=\"markers\", name='Weight 9 array')\n",
    "trace_wma11 = go.Scatter( x = E_id_list[E_select],y=WMA[WMA['Window'] == 11].TS_Score.tolist(), marker={'size': \"10\"}, \n",
    "                    mode=\"markers\", name='Weight 11 array')\n",
    "trace_wma20 = go.Scatter( x = E_id_list[E_select],y=WMA[WMA['Window'] == 20].TS_Score.tolist(), marker={'size': \"10\"}, \n",
    "                    mode=\"markers\", name='Weight 20 array')\n",
    "\n",
    "data=go.Data([trace_wma3,trace_wma5,trace_wma9,trace_wma11,trace_wma20,trace_max4,trace_min4])\n",
    "layout=go.Layout(title=\"Weighted Moving Average\")\n",
    "figure=go.Figure(data=data,layout=layout)\n",
    "py.iplot(figure)"
   ]
  },
  {
   "cell_type": "markdown",
   "metadata": {},
   "source": [
    "# 3) Exponential Smoothing"
   ]
  },
  {
   "cell_type": "code",
   "execution_count": 29,
   "metadata": {
    "collapsed": false
   },
   "outputs": [
    {
     "name": "stdout",
     "output_type": "stream",
     "text": [
      "0%                100%\n",
      "[####################] | ETA: 00:00:00\n",
      "Total time elapsed: 00:00:00\n"
     ]
    }
   ],
   "source": [
    "ES = pd.DataFrame(columns=['Subject','Alpha','TS_Score','MAD','A','F'])\n",
    "\n",
    "alpha = [0.2,0.4,0.6,0.8]\n",
    "dataframe_counter = 0\n",
    "bar = pyprind.ProgBar(len(alpha)*len(E_select), stream=1)\n",
    "for a in alpha:\n",
    "    for E_id in E_id_list[E_select]:\n",
    "        id_list = (len(cpu_data) - np.array(cpu_data[cpu_data['Entity'] == E_id].index.tolist(), dtype = np.int32))-1\n",
    "        x = np.empty(len(id_list))\n",
    "        x[0] = cpu_freq[id_list[0]]\n",
    "        counter = 1\n",
    "        for i in id_list[1:]:\n",
    "            x[counter] = x[counter-1] + (a) * (cpu_freq[i-1] - x[counter-1])\n",
    "            counter += 1\n",
    "        \n",
    "        TS = np.sum(cpu_freq[id_list]-x)/(np.sum(np.absolute(cpu_freq[id_list]-x))/len(x))\n",
    "        ES.loc[dataframe_counter] = [E_id,a,TS,(np.sum(np.absolute(cpu_freq[id_list]-x))/len(x)),cpu_freq[id_list],x]\n",
    "        dataframe_counter +=1\n",
    "        bar.update()"
   ]
  },
  {
   "cell_type": "code",
   "execution_count": 30,
   "metadata": {
    "collapsed": true
   },
   "outputs": [],
   "source": [
    "ES.to_csv('D:\\\\course_related_data\\\\CSEE5690\\\\ma.csv')"
   ]
  },
  {
   "cell_type": "code",
   "execution_count": 109,
   "metadata": {
    "collapsed": false
   },
   "outputs": [
    {
     "data": {
      "text/html": [
       "<iframe id=\"igraph\" scrolling=\"no\" style=\"border:none;\" seamless=\"seamless\" src=\"https://plot.ly/~narsi/149.embed\" height=\"525px\" width=\"100%\"></iframe>"
      ],
      "text/plain": [
       "<plotly.tools.PlotlyDisplay object>"
      ]
     },
     "execution_count": 109,
     "metadata": {},
     "output_type": "execute_result"
    }
   ],
   "source": [
    "trace_a2 = go.Scatter( x = E_id_list[E_select],y=ES[ES['Alpha'] == 0.2].TS_Score.tolist(), marker={'size': \"10\"}, \n",
    "                    mode=\"markers\", name='Alpha 0.2')\n",
    "trace_a4 = go.Scatter( x = E_id_list[E_select],y=ES[ES['Alpha'] == 0.4].TS_Score.tolist(), marker={'size': \"10\"}, \n",
    "                    mode=\"markers\", name='Alpha 0.4')\n",
    "trace_a6 = go.Scatter( x = E_id_list[E_select],y=ES[ES['Alpha'] == 0.6].TS_Score.tolist(), marker={'size': \"10\"}, \n",
    "                    mode=\"markers\", name='Alpha 0.6')\n",
    "trace_a8 = go.Scatter( x = E_id_list[E_select],y=ES[ES['Alpha'] == 0.8].TS_Score.tolist(), marker={'size': \"10\"}, \n",
    "                    mode=\"markers\", name='Alpha 0.8')\n",
    "\n",
    "data=go.Data([trace_a2,trace_a4,trace_a6,trace_a8,trace_max4,trace_min4])\n",
    "layout=go.Layout(title=\"Exponential Smoothing\")\n",
    "figure=go.Figure(data=data,layout=layout)\n",
    "py.iplot(figure)"
   ]
  },
  {
   "cell_type": "markdown",
   "metadata": {},
   "source": [
    "# 4) Exponential Smoothing with trend"
   ]
  },
  {
   "cell_type": "code",
   "execution_count": 31,
   "metadata": {
    "collapsed": false
   },
   "outputs": [
    {
     "name": "stdout",
     "output_type": "stream",
     "text": [
      "0%                100%\n",
      "[####################] | ETA: 00:00:00\n",
      "Total time elapsed: 00:00:00\n"
     ]
    }
   ],
   "source": [
    "EST = pd.DataFrame(columns=['Subject','Alpha','TS_Score','MAD','A','F'])\n",
    "d = 0.5\n",
    "alpha = [0.2,0.4,0.6,0.8]\n",
    "dataframe_counter = 0\n",
    "bar = pyprind.ProgBar(len(alpha)*len(E_select), stream=1)\n",
    "for a in alpha:\n",
    "    for E_id in E_id_list[E_select]:\n",
    "        id_list = (len(cpu_data) - np.array(cpu_data[cpu_data['Entity'] == E_id].index.tolist(), dtype = np.int32))-1\n",
    "        x = np.empty(len(id_list))\n",
    "        x[0] = cpu_freq[id_list[0]]\n",
    "        T = 0.0\n",
    "        F = x[0]\n",
    "        counter = 1\n",
    "        for i in id_list[1:]:\n",
    "            F = x[counter - 1] + a * (cpu_freq[i-1] - x[counter-1])\n",
    "            T = T + d * (F - x[counter-1])\n",
    "            x[counter] = F + T\n",
    "            counter += 1\n",
    "\n",
    "        TS = np.sum(cpu_freq[id_list]-x)/(np.sum(np.absolute(cpu_freq[id_list]-x))/len(x))\n",
    "        EST.loc[dataframe_counter] = [E_id,a,TS,(np.sum(np.absolute(cpu_freq[id_list]-x))/len(x)),cpu_freq[id_list[window:]],x]\n",
    "        dataframe_counter += 1\n",
    "        bar.update()\n"
   ]
  },
  {
   "cell_type": "code",
   "execution_count": 32,
   "metadata": {
    "collapsed": true
   },
   "outputs": [],
   "source": [
    "EST.to_csv('D:\\\\course_related_data\\\\CSEE5690\\\\ma.csv')"
   ]
  },
  {
   "cell_type": "code",
   "execution_count": 117,
   "metadata": {
    "collapsed": false
   },
   "outputs": [
    {
     "data": {
      "text/html": [
       "<iframe id=\"igraph\" scrolling=\"no\" style=\"border:none;\" seamless=\"seamless\" src=\"https://plot.ly/~narsi/157.embed\" height=\"525px\" width=\"100%\"></iframe>"
      ],
      "text/plain": [
       "<plotly.tools.PlotlyDisplay object>"
      ]
     },
     "execution_count": 117,
     "metadata": {},
     "output_type": "execute_result"
    }
   ],
   "source": [
    "trace_ad2 = go.Scatter( x = E_id_list[E_select],y=EST[EST['Alpha'] == 0.2].TS_Score.tolist(), marker={'size': \"10\"}, \n",
    "                    mode=\"markers\", name='Alpha 0.2')\n",
    "trace_ad4 = go.Scatter( x = E_id_list[E_select],y=EST[EST['Alpha'] == 0.4].TS_Score.tolist(), marker={'size': \"10\"}, \n",
    "                    mode=\"markers\", name='Alpha 0.4')\n",
    "trace_ad6 = go.Scatter( x = E_id_list[E_select],y=EST[EST['Alpha'] == 0.6].TS_Score.tolist(), marker={'size': \"10\"}, \n",
    "                    mode=\"markers\", name='Alpha 0.6')\n",
    "trace_ad8 = go.Scatter( x = E_id_list[E_select],y=EST[EST['Alpha'] == 0.8].TS_Score.tolist(), marker={'size': \"10\"}, \n",
    "                    mode=\"markers\", name='Alpha 0.8')\n",
    "\n",
    "data=go.Data([trace_ad2,trace_ad4,trace_ad6,trace_ad8,trace_max4,trace_min4])\n",
    "layout=go.Layout(title=\"Exponential Smoothing with trend\")\n",
    "figure=go.Figure(data=data,layout=layout)\n",
    "py.iplot(figure)"
   ]
  },
  {
   "cell_type": "markdown",
   "metadata": {},
   "source": [
    "# 5) Windowed Exponential Smoothing with trend V1"
   ]
  },
  {
   "cell_type": "code",
   "execution_count": 64,
   "metadata": {
    "collapsed": false
   },
   "outputs": [
    {
     "name": "stdout",
     "output_type": "stream",
     "text": [
      "0%                          100%\n",
      "[##############################] | ETA: 00:00:00\n",
      "Total time elapsed: 00:00:00\n"
     ]
    }
   ],
   "source": [
    "WEST = pd.DataFrame(columns=['Subject','Alpha','Window','TS_Score','A','F'])\n",
    "d = 0.5\n",
    "alpha = [0.2,0.4,0.6,0.8]\n",
    "bar = pyprind.ProgBar(5*4*len(E_select), stream=1)\n",
    "dataframe_counter = 0\n",
    "for a in alpha:\n",
    "    for E_id in E_id_list[E_select]:\n",
    "        id_list = (len(cpu_data) - np.array(cpu_data[cpu_data['Entity'] == E_id].index.tolist(), dtype = np.int32))-1\n",
    "        for window in [3, 5, 9, 11, 20]:\n",
    "            x = np.empty(len(id_list))\n",
    "            weight_ = np.arange(window,dtype = np.float32)+1\n",
    "            weight_ = weight_/np.sum(weight_)\n",
    "            x[0:window] = cpu_freq[id_list[0:window]]\n",
    "            T = 0.0\n",
    "            F = x[window-1]\n",
    "            counter = window\n",
    "            for i in id_list[window:]:\n",
    "                F = x[counter - 1] + a * (np.sum((cpu_freq[i-window:i] - x[counter-window:counter])*weight_))\n",
    "                T = T + d * (F - x[counter-1])\n",
    "                x[counter] = F + T\n",
    "                if x[counter] <= 0:\n",
    "                    x[counter] = np.sum(cpu_freq[i-window:i]*weight_)\n",
    "                counter += 1\n",
    "\n",
    "            TS = np.sum(cpu_freq[id_list[window:]]-x[window:])/(np.sum(np.absolute(cpu_freq[id_list[window:]]-x[window:]))/len(x))\n",
    "            WEST.loc[dataframe_counter] = [E_id,a,window,TS,cpu_freq[id_list[window:]],x[window:]]\n",
    "            dataframe_counter += 1\n",
    "            bar.update()\n"
   ]
  },
  {
   "cell_type": "code",
   "execution_count": 65,
   "metadata": {
    "collapsed": false
   },
   "outputs": [
    {
     "ename": "PlotlyError",
     "evalue": "Request throttled. You've created/updated more charts than your allowed limit of 30/hour. You may either wait one hour or upgrade your account. Visit https://plot.ly/settings/subscription/ to upgrade.",
     "output_type": "error",
     "traceback": [
      "\u001b[0;31m---------------------------------------------------------------------------\u001b[0m",
      "\u001b[0;31mPlotlyError\u001b[0m                               Traceback (most recent call last)",
      "\u001b[0;32m<ipython-input-65-288af8f53fab>\u001b[0m in \u001b[0;36m<module>\u001b[0;34m()\u001b[0m\n\u001b[1;32m     11\u001b[0m \u001b[0mlayout\u001b[0m\u001b[0;34m=\u001b[0m\u001b[0mgo\u001b[0m\u001b[0;34m.\u001b[0m\u001b[0mLayout\u001b[0m\u001b[0;34m(\u001b[0m\u001b[0mtitle\u001b[0m\u001b[0;34m=\u001b[0m\u001b[0;34m\"weighted window Exponential Smoothing with trend w/ window size of 3 and delat of 0.5\"\u001b[0m\u001b[0;34m)\u001b[0m\u001b[0;34m\u001b[0m\u001b[0m\n\u001b[1;32m     12\u001b[0m \u001b[0mfigure\u001b[0m\u001b[0;34m=\u001b[0m\u001b[0mgo\u001b[0m\u001b[0;34m.\u001b[0m\u001b[0mFigure\u001b[0m\u001b[0;34m(\u001b[0m\u001b[0mdata\u001b[0m\u001b[0;34m=\u001b[0m\u001b[0mdata\u001b[0m\u001b[0;34m,\u001b[0m\u001b[0mlayout\u001b[0m\u001b[0;34m=\u001b[0m\u001b[0mlayout\u001b[0m\u001b[0;34m)\u001b[0m\u001b[0;34m\u001b[0m\u001b[0m\n\u001b[0;32m---> 13\u001b[0;31m \u001b[0mpy\u001b[0m\u001b[0;34m.\u001b[0m\u001b[0miplot\u001b[0m\u001b[0;34m(\u001b[0m\u001b[0mfigure\u001b[0m\u001b[0;34m)\u001b[0m\u001b[0;34m\u001b[0m\u001b[0m\n\u001b[0m",
      "\u001b[0;32m/usr/local/lib/python2.7/dist-packages/plotly/plotly/plotly.pyc\u001b[0m in \u001b[0;36miplot\u001b[0;34m(figure_or_data, **plot_options)\u001b[0m\n\u001b[1;32m    149\u001b[0m     \u001b[0;32mif\u001b[0m \u001b[0;34m'auto_open'\u001b[0m \u001b[0;32mnot\u001b[0m \u001b[0;32min\u001b[0m \u001b[0mplot_options\u001b[0m\u001b[0;34m:\u001b[0m\u001b[0;34m\u001b[0m\u001b[0m\n\u001b[1;32m    150\u001b[0m         \u001b[0mplot_options\u001b[0m\u001b[0;34m[\u001b[0m\u001b[0;34m'auto_open'\u001b[0m\u001b[0;34m]\u001b[0m \u001b[0;34m=\u001b[0m \u001b[0mFalse\u001b[0m\u001b[0;34m\u001b[0m\u001b[0m\n\u001b[0;32m--> 151\u001b[0;31m     \u001b[0murl\u001b[0m \u001b[0;34m=\u001b[0m \u001b[0mplot\u001b[0m\u001b[0;34m(\u001b[0m\u001b[0mfigure_or_data\u001b[0m\u001b[0;34m,\u001b[0m \u001b[0;34m**\u001b[0m\u001b[0mplot_options\u001b[0m\u001b[0;34m)\u001b[0m\u001b[0;34m\u001b[0m\u001b[0m\n\u001b[0m\u001b[1;32m    152\u001b[0m \u001b[0;34m\u001b[0m\u001b[0m\n\u001b[1;32m    153\u001b[0m     \u001b[0;32mif\u001b[0m \u001b[0misinstance\u001b[0m\u001b[0;34m(\u001b[0m\u001b[0mfigure_or_data\u001b[0m\u001b[0;34m,\u001b[0m \u001b[0mdict\u001b[0m\u001b[0;34m)\u001b[0m\u001b[0;34m:\u001b[0m\u001b[0;34m\u001b[0m\u001b[0m\n",
      "\u001b[0;32m/usr/local/lib/python2.7/dist-packages/plotly/plotly/plotly.pyc\u001b[0m in \u001b[0;36mplot\u001b[0;34m(figure_or_data, validate, **plot_options)\u001b[0m\n\u001b[1;32m    239\u001b[0m \u001b[0;34m\u001b[0m\u001b[0m\n\u001b[1;32m    240\u001b[0m     \u001b[0mplot_options\u001b[0m \u001b[0;34m=\u001b[0m \u001b[0m_plot_option_logic\u001b[0m\u001b[0;34m(\u001b[0m\u001b[0mplot_options\u001b[0m\u001b[0;34m)\u001b[0m\u001b[0;34m\u001b[0m\u001b[0m\n\u001b[0;32m--> 241\u001b[0;31m     \u001b[0mres\u001b[0m \u001b[0;34m=\u001b[0m \u001b[0m_send_to_plotly\u001b[0m\u001b[0;34m(\u001b[0m\u001b[0mfigure\u001b[0m\u001b[0;34m,\u001b[0m \u001b[0;34m**\u001b[0m\u001b[0mplot_options\u001b[0m\u001b[0;34m)\u001b[0m\u001b[0;34m\u001b[0m\u001b[0m\n\u001b[0m\u001b[1;32m    242\u001b[0m     \u001b[0;32mif\u001b[0m \u001b[0mres\u001b[0m\u001b[0;34m[\u001b[0m\u001b[0;34m'error'\u001b[0m\u001b[0;34m]\u001b[0m \u001b[0;34m==\u001b[0m \u001b[0;34m''\u001b[0m\u001b[0;34m:\u001b[0m\u001b[0;34m\u001b[0m\u001b[0m\n\u001b[1;32m    243\u001b[0m         \u001b[0;32mif\u001b[0m \u001b[0mplot_options\u001b[0m\u001b[0;34m[\u001b[0m\u001b[0;34m'auto_open'\u001b[0m\u001b[0;34m]\u001b[0m\u001b[0;34m:\u001b[0m\u001b[0;34m\u001b[0m\u001b[0m\n",
      "\u001b[0;32m/usr/local/lib/python2.7/dist-packages/plotly/plotly/plotly.pyc\u001b[0m in \u001b[0;36m_send_to_plotly\u001b[0;34m(figure, **plot_options)\u001b[0m\n\u001b[1;32m   1429\u001b[0m \u001b[0;34m\u001b[0m\u001b[0m\n\u001b[1;32m   1430\u001b[0m     \u001b[0;32mif\u001b[0m \u001b[0;34m'error'\u001b[0m \u001b[0;32min\u001b[0m \u001b[0mr\u001b[0m \u001b[0;32mand\u001b[0m \u001b[0mr\u001b[0m\u001b[0;34m[\u001b[0m\u001b[0;34m'error'\u001b[0m\u001b[0;34m]\u001b[0m \u001b[0;34m!=\u001b[0m \u001b[0;34m''\u001b[0m\u001b[0;34m:\u001b[0m\u001b[0;34m\u001b[0m\u001b[0m\n\u001b[0;32m-> 1431\u001b[0;31m         \u001b[0;32mraise\u001b[0m \u001b[0mexceptions\u001b[0m\u001b[0;34m.\u001b[0m\u001b[0mPlotlyError\u001b[0m\u001b[0;34m(\u001b[0m\u001b[0mr\u001b[0m\u001b[0;34m[\u001b[0m\u001b[0;34m'error'\u001b[0m\u001b[0;34m]\u001b[0m\u001b[0;34m)\u001b[0m\u001b[0;34m\u001b[0m\u001b[0m\n\u001b[0m\u001b[1;32m   1432\u001b[0m \u001b[0;34m\u001b[0m\u001b[0m\n\u001b[1;32m   1433\u001b[0m     \u001b[0;31m# Check if the url needs a secret key\u001b[0m\u001b[0;34m\u001b[0m\u001b[0;34m\u001b[0m\u001b[0m\n",
      "\u001b[0;31mPlotlyError\u001b[0m: Request throttled. You've created/updated more charts than your allowed limit of 30/hour. You may either wait one hour or upgrade your account. Visit https://plot.ly/settings/subscription/ to upgrade."
     ]
    }
   ],
   "source": [
    "trace_wad2 = go.Scatter( x = E_id_list[E_select],y=WEST[(WEST['Alpha'] == 0.2) & (WEST['Window'] == 3)].TS_Score.tolist(), marker={'size': \"10\"}, \n",
    "                    mode=\"markers\", name='Alpha 0.2')\n",
    "trace_wad4 = go.Scatter( x = E_id_list[E_select],y=WEST[(WEST['Alpha'] == 0.4) & (WEST['Window'] == 3)].TS_Score.tolist(), marker={'size': \"10\"}, \n",
    "                    mode=\"markers\", name='Alpha 0.4')\n",
    "trace_wad6 = go.Scatter( x = E_id_list[E_select],y=WEST[(WEST['Alpha'] == 0.6) & (WEST['Window'] == 3)].TS_Score.tolist(), marker={'size': \"10\"}, \n",
    "                    mode=\"markers\", name='Alpha 0.6')\n",
    "trace_wad8 = go.Scatter( x = E_id_list[E_select],y=WEST[(WEST['Alpha'] == 0.8) & (WEST['Window'] == 3)].TS_Score.tolist(), marker={'size': \"10\"}, \n",
    "                    mode=\"markers\", name='Alpha 0.8')\n",
    "\n",
    "data=go.Data([trace_wad2,trace_wad4,trace_wad6,trace_wad8,trace_max4,trace_min4])\n",
    "layout=go.Layout(title=\"weighted window Exponential Smoothing with trend w/ window size of 3 and delat of 0.5\")\n",
    "figure=go.Figure(data=data,layout=layout)\n",
    "py.iplot(figure)"
   ]
  },
  {
   "cell_type": "code",
   "execution_count": 59,
   "metadata": {
    "collapsed": false
   },
   "outputs": [
    {
     "data": {
      "text/html": [
       "<iframe id=\"igraph\" scrolling=\"no\" style=\"border:none;\" seamless=\"seamless\" src=\"https://plot.ly/~narsi/259.embed\" height=\"525px\" width=\"100%\"></iframe>"
      ],
      "text/plain": [
       "<plotly.tools.PlotlyDisplay object>"
      ]
     },
     "execution_count": 59,
     "metadata": {},
     "output_type": "execute_result"
    }
   ],
   "source": [
    "trace_wad2 = go.Scatter( x = E_id_list[E_select],y=WEST[(WEST['Alpha'] == 0.2) & (WEST['Window'] == 5)].TS_Score.tolist(), marker={'size': \"10\"}, \n",
    "                    mode=\"markers\", name='Alpha 0.2')\n",
    "trace_wad4 = go.Scatter( x = E_id_list[E_select],y=WEST[(WEST['Alpha'] == 0.4) & (WEST['Window'] == 5)].TS_Score.tolist(), marker={'size': \"10\"}, \n",
    "                    mode=\"markers\", name='Alpha 0.4')\n",
    "trace_wad6 = go.Scatter( x = E_id_list[E_select],y=WEST[(WEST['Alpha'] == 0.6) & (WEST['Window'] == 5)].TS_Score.tolist(), marker={'size': \"10\"}, \n",
    "                    mode=\"markers\", name='Alpha 0.6')\n",
    "trace_wad8 = go.Scatter( x = E_id_list[E_select],y=WEST[(WEST['Alpha'] == 0.8) & (WEST['Window'] == 5)].TS_Score.tolist(), marker={'size': \"10\"}, \n",
    "                    mode=\"markers\", name='Alpha 0.8')\n",
    "\n",
    "data=go.Data([trace_wad2,trace_wad4,trace_wad6,trace_wad8,trace_max4,trace_min4])\n",
    "layout=go.Layout(title=\"weighted window Exponential Smoothing with trend w/ window size of 3 and delat of 0.5\")\n",
    "figure=go.Figure(data=data,layout=layout)\n",
    "py.iplot(figure)"
   ]
  },
  {
   "cell_type": "markdown",
   "metadata": {},
   "source": [
    "# 6) Piecewise Linear"
   ]
  },
  {
   "cell_type": "code",
   "execution_count": 38,
   "metadata": {
    "collapsed": false,
    "scrolled": true
   },
   "outputs": [
    {
     "name": "stdout",
     "output_type": "stream",
     "text": [
      "0%                     100%\n",
      "[#########################] | ETA: 00:00:00\n",
      "Total time elapsed: 00:00:00\n"
     ]
    }
   ],
   "source": [
    "PL = pd.DataFrame(columns=['Subject','Window','TS_Score','MAD','A','F'])\n",
    "bar = pyprind.ProgBar(5*len(E_select), stream=1)\n",
    "dataframe_counter = 0\n",
    "for E_id in E_id_list[E_select]:\n",
    "    id_list = (len(cpu_data) - np.array(cpu_data[cpu_data['Entity'] == E_id].index.tolist(), dtype=np.int32))-1\n",
    "    for window in [3, 5, 9, 11, 20]:\n",
    "        x = np.empty(len(id_list)-window)\n",
    "        t = np.arange(window)\n",
    "        weight_ = np.arange(window,dtype = np.float32)+1\n",
    "        weight_ = weight_/np.sum(weight_)\n",
    "        counter = 0\n",
    "        for i in id_list[window:]:\n",
    "            (ar,br) = scipy.polyfit(t,cpu_freq[i-window:i],1)\n",
    "            x[counter] = scipy.polyval([ar,br],window)\n",
    "            counter += 1\n",
    "            \n",
    "        TS = np.sum(cpu_freq[id_list[window:]]-x)/(np.sum(np.absolute(cpu_freq[id_list[window:]]-x))/len(x))\n",
    "        PL.loc[dataframe_counter] = [E_id,window,TS,(np.sum(np.absolute(cpu_freq[id_list[window:]]-x))/len(x)),cpu_freq[id_list[window:]],x]\n",
    "        dataframe_counter += 1\n",
    "        bar.update()\n"
   ]
  },
  {
   "cell_type": "code",
   "execution_count": 39,
   "metadata": {
    "collapsed": false
   },
   "outputs": [],
   "source": [
    "PL.to_csv('D:\\\\course_related_data\\\\CSEE5690\\\\ma.csv')"
   ]
  },
  {
   "cell_type": "code",
   "execution_count": 9,
   "metadata": {
    "collapsed": false
   },
   "outputs": [
    {
     "data": {
      "text/html": [
       "<iframe id=\"igraph\" scrolling=\"no\" style=\"border:none;\" seamless=\"seamless\" src=\"https://plot.ly/~narsi/201.embed\" height=\"525px\" width=\"100%\"></iframe>"
      ],
      "text/plain": [
       "<plotly.tools.PlotlyDisplay object>"
      ]
     },
     "execution_count": 9,
     "metadata": {},
     "output_type": "execute_result"
    }
   ],
   "source": [
    "# [3, 5, 9, 11, 20]\n",
    "trace_lw3 = go.Scatter( x = E_id_list[E_select],y=PL[PL['Window'] == 3].TS_Score.tolist(), marker={'size': \"10\"}, \n",
    "                    mode=\"markers\", name='Weight 3 array')\n",
    "trace_lw5 = go.Scatter( x = E_id_list[E_select],y=PL[PL['Window'] == 5].TS_Score.tolist(), marker={'size': \"10\"}, \n",
    "                    mode=\"markers\", name='Weight 5 array')\n",
    "trace_lw9 = go.Scatter( x = E_id_list[E_select],y=PL[PL['Window'] == 9].TS_Score.tolist(), marker={'size': \"10\"}, \n",
    "                    mode=\"markers\", name='Weight 9 array')\n",
    "trace_lw11 = go.Scatter( x = E_id_list[E_select],y=PL[PL['Window'] == 11].TS_Score.tolist(), marker={'size': \"10\"}, \n",
    "                    mode=\"markers\", name='Weight 11 array')\n",
    "trace_lw20 = go.Scatter( x = E_id_list[E_select],y=PL[PL['Window'] == 20].TS_Score.tolist(), marker={'size': \"10\"}, \n",
    "                    mode=\"markers\", name='Weight 20 array')\n",
    "\n",
    "data=go.Data([trace_lw3,trace_lw5,trace_lw9,trace_lw11,trace_lw20,trace_max4,trace_min4])\n",
    "layout=go.Layout(title=\"Piecewise Linear\")\n",
    "figure=go.Figure(data=data,layout=layout)\n",
    "py.iplot(figure)"
   ]
  },
  {
   "cell_type": "markdown",
   "metadata": {},
   "source": [
    "# 7) Piecewise Polynomial"
   ]
  },
  {
   "cell_type": "code",
   "execution_count": 40,
   "metadata": {
    "collapsed": false
   },
   "outputs": [
    {
     "name": "stdout",
     "output_type": "stream",
     "text": [
      "0%                     100%\n",
      "[#########################] | ETA: 00:00:00\n",
      "Total time elapsed: 00:00:00\n"
     ]
    }
   ],
   "source": [
    "PL2 = pd.DataFrame(columns=['Subject','Window','TS_Score','MAD','A','F'])\n",
    "bar = pyprind.ProgBar(5*len(E_select), stream=1)\n",
    "dataframe_counter = 0\n",
    "for E_id in E_id_list[E_select]:\n",
    "    id_list = (len(cpu_data) - np.array(cpu_data[cpu_data['Entity'] == E_id].index.tolist(), dtype=np.int32))-1\n",
    "    for window in [3, 5, 9, 11, 20]:\n",
    "        x = np.empty(len(id_list)-window)\n",
    "        t = np.arange(window)\n",
    "        weight_ = np.arange(window,dtype = np.float32)+1\n",
    "        weight_ = weight_/np.sum(weight_)\n",
    "        counter = 0\n",
    "        for i in id_list[window:]:\n",
    "            z = np.polyfit(t,cpu_freq[i-window:i],2)\n",
    "            p = np.poly1d(z)\n",
    "            x[counter] = p(window)\n",
    "            counter += 1\n",
    "            \n",
    "        TS = np.sum(cpu_freq[id_list[window:]]-x)/(np.sum(np.absolute(cpu_freq[id_list[window:]]-x))/len(x))\n",
    "        PL2.loc[dataframe_counter] = [E_id,window,TS,(np.sum(np.absolute(cpu_freq[id_list[window:]]-x))/len(x)),cpu_freq[id_list[window:]],x]\n",
    "        dataframe_counter += 1\n",
    "        bar.update()\n"
   ]
  },
  {
   "cell_type": "code",
   "execution_count": 41,
   "metadata": {
    "collapsed": true
   },
   "outputs": [],
   "source": [
    "PL2.to_csv('D:\\\\course_related_data\\\\CSEE5690\\\\ma.csv')"
   ]
  },
  {
   "cell_type": "code",
   "execution_count": 37,
   "metadata": {
    "collapsed": false
   },
   "outputs": [
    {
     "data": {
      "text/html": [
       "<iframe id=\"igraph\" scrolling=\"no\" style=\"border:none;\" seamless=\"seamless\" src=\"https://plot.ly/~narsi/237.embed\" height=\"525px\" width=\"100%\"></iframe>"
      ],
      "text/plain": [
       "<plotly.tools.PlotlyDisplay object>"
      ]
     },
     "execution_count": 37,
     "metadata": {},
     "output_type": "execute_result"
    }
   ],
   "source": [
    "# [3, 5, 9, 11, 20]\n",
    "trace_pw3 = go.Scatter( x = E_id_list[E_select],y=PL2[PL2['Window'] == 3].TS_Score.tolist(), marker={'size': \"10\"}, \n",
    "                    mode=\"markers\", name='Weight 3 array')\n",
    "trace_pw5 = go.Scatter( x = E_id_list[E_select],y=PL2[PL2['Window'] == 5].TS_Score.tolist(), marker={'size': \"10\"}, \n",
    "                    mode=\"markers\", name='Weight 5 array')\n",
    "trace_pw9 = go.Scatter( x = E_id_list[E_select],y=PL2[PL2['Window'] == 9].TS_Score.tolist(), marker={'size': \"10\"}, \n",
    "                    mode=\"markers\", name='Weight 9 array')\n",
    "trace_pw11 = go.Scatter( x = E_id_list[E_select],y=PL2[PL2['Window'] == 11].TS_Score.tolist(), marker={'size': \"10\"}, \n",
    "                    mode=\"markers\", name='Weight 11 array')\n",
    "trace_pw20 = go.Scatter( x = E_id_list[E_select],y=PL2[PL2['Window'] == 20].TS_Score.tolist(), marker={'size': \"10\"}, \n",
    "                    mode=\"markers\", name='Weight 20 array')\n",
    "\n",
    "data=go.Data([trace_pw3,trace_pw5,trace_pw9,trace_pw11,trace_pw20,trace_max4,trace_min4])\n",
    "layout=go.Layout(title=\"Piecewise Polynomial (2nd order)\")\n",
    "figure=go.Figure(data=data,layout=layout)\n",
    "py.iplot(figure)"
   ]
  },
  {
   "cell_type": "markdown",
   "metadata": {},
   "source": [
    "# Plotting different methods results for \"kc-pd-sql01\" VM"
   ]
  },
  {
   "cell_type": "code",
   "execution_count": 49,
   "metadata": {
    "collapsed": false
   },
   "outputs": [],
   "source": [
    "[original_signal] = PL[(PL['Subject'] == 'kc-pd-sql01') & (PL['Window'] ==  20)].A.tolist()\n",
    "x_axis = np.arange(1,len(original_signal)+1)\n",
    "[MA_20W_signal] = MA[(MA['Subject'] == 'kc-pd-sql01') & (MA['Window'] ==  20)].F.tolist()\n",
    "[WMA_20W_signal] = WMA[(WMA['Subject'] == 'kc-pd-sql01') & (WMA['Window'] ==  20)].F.tolist()\n",
    "[ES_A8_signal] = ES[(ES['Subject'] == 'kc-pd-sql01') & (ES['Alpha'] ==  0.8)].F.tolist()\n",
    "ES_A8_signal = ES_A8_signal[20:]\n",
    "[EST_A8_signal] = EST[(EST['Subject'] == 'kc-pd-sql01') & (EST['Alpha'] ==  0.8)].F.tolist()\n",
    "EST_A8_signal = EST_A8_signal[20:]\n",
    "[WEST_3W_A8_signal] = WEST[(WEST['Subject'] == 'kc-pd-sql01') & (WEST['Alpha'] ==  0.8) & (WEST['Window'] ==  3)].F.tolist()\n",
    "WEST_3W_A8_signal = WEST_3W_A8_signal[17:]\n",
    "[PL_20W_signal] = PL[(PL['Subject'] == 'kc-pd-sql01') & (PL['Window'] ==  3)].F.tolist()\n",
    "PL_20W_signal = PL_20W_signal[17:]\n",
    "[PL2_20W_signal] = PL2[(PL2['Subject'] == 'kc-pd-sql01') & (PL2['Window'] ==  11)].F.tolist()\n",
    "PL2_20W_signal = PL2_20W_signal[9:]\n",
    "#trace_orignal = go.Scatter(x = range(1,len()))"
   ]
  },
  {
   "cell_type": "code",
   "execution_count": 50,
   "metadata": {
    "collapsed": false
   },
   "outputs": [
    {
     "data": {
      "text/plain": [
       "272"
      ]
     },
     "execution_count": 50,
     "metadata": {},
     "output_type": "execute_result"
    }
   ],
   "source": [
    "len(PL2_20W_signal)"
   ]
  },
  {
   "cell_type": "code",
   "execution_count": 51,
   "metadata": {
    "collapsed": false
   },
   "outputs": [],
   "source": [
    "# [3, 5, 9, 11, 20]\n",
    "trace_o = go.Scatter( x = x_axis,y=original_signal, marker={'size': \"15\"}, \n",
    "                    mode=\"lines\", name='Original Signal')\n",
    "trace_ma = go.Scatter( x = x_axis,y=MA_20W_signal, marker={'size': \"5\"}, \n",
    "                    mode=\"lines+markers\", name='Moving Average')\n",
    "trace_wma = go.Scatter( x = x_axis,y=WMA_20W_signal, marker={'size': \"10\"}, \n",
    "                    mode=\"markers\", name='Weighted Moving Average')\n",
    "trace_es = go.Scatter( x = x_axis,y=ES_A8_signal, marker={'size': \"10\"}, \n",
    "                    mode=\"lines+markers\", name='Exponential Smoothening')\n",
    "trace_est = go.Scatter( x = x_axis,y=EST_A8_signal, marker={'size': \"15\"}, \n",
    "                    mode=\"lines+markers\", name='Exponential Smoothening w/ Trend')\n",
    "trace_west = go.Scatter( x = x_axis,y=WEST_3W_A8_signal, marker={'size': \"5\"}, \n",
    "                    mode=\"markers\", name='Moving Window Exponential Smoothening w/ Trend')\n",
    "trace_pl = go.Scatter( x = x_axis,y=PL_20W_signal, marker={'size': \"10\"}, \n",
    "                    mode=\"lines+markers\", name='Piecewise Linear')\n",
    "trace_pl2 = go.Scatter( x = x_axis,y=PL2_20W_signal, marker={'size': \"5\"}, \n",
    "                    mode=\"markers\", name='Piecewise 2nd order polynomial')\n"
   ]
  },
  {
   "cell_type": "code",
   "execution_count": 43,
   "metadata": {
    "collapsed": false
   },
   "outputs": [
    {
     "data": {
      "text/html": [
       "<iframe id=\"igraph\" scrolling=\"no\" style=\"border:none;\" seamless=\"seamless\" src=\"https://plot.ly/~narsi/243.embed\" height=\"525px\" width=\"100%\"></iframe>"
      ],
      "text/plain": [
       "<plotly.tools.PlotlyDisplay object>"
      ]
     },
     "execution_count": 43,
     "metadata": {},
     "output_type": "execute_result"
    }
   ],
   "source": [
    "\n",
    "data=go.Data([trace_o,trace_ma,trace_wma])\n",
    "layout=go.Layout(title=\"Original vs MA vs WMA\")\n",
    "figure=go.Figure(data=data,layout=layout)\n",
    "py.iplot(figure)"
   ]
  },
  {
   "cell_type": "code",
   "execution_count": 44,
   "metadata": {
    "collapsed": false
   },
   "outputs": [
    {
     "data": {
      "text/html": [
       "<iframe id=\"igraph\" scrolling=\"no\" style=\"border:none;\" seamless=\"seamless\" src=\"https://plot.ly/~narsi/245.embed\" height=\"525px\" width=\"100%\"></iframe>"
      ],
      "text/plain": [
       "<plotly.tools.PlotlyDisplay object>"
      ]
     },
     "execution_count": 44,
     "metadata": {},
     "output_type": "execute_result"
    }
   ],
   "source": [
    "data=go.Data([trace_o,trace_es,trace_est,trace_west])\n",
    "layout=go.Layout(title=\"Original vs ES vs EST vs WEST\")\n",
    "figure=go.Figure(data=data,layout=layout)\n",
    "py.iplot(figure)"
   ]
  },
  {
   "cell_type": "code",
   "execution_count": 52,
   "metadata": {
    "collapsed": false
   },
   "outputs": [
    {
     "data": {
      "text/html": [
       "<iframe id=\"igraph\" scrolling=\"no\" style=\"border:none;\" seamless=\"seamless\" src=\"https://plot.ly/~narsi/251.embed\" height=\"525px\" width=\"100%\"></iframe>"
      ],
      "text/plain": [
       "<plotly.tools.PlotlyDisplay object>"
      ]
     },
     "execution_count": 52,
     "metadata": {},
     "output_type": "execute_result"
    }
   ],
   "source": [
    "data=go.Data([trace_o,trace_pl,trace_pl2])\n",
    "layout=go.Layout(title=\"Original vs Piecewise Linear vs Piecewise 2nd order polynomial\")\n",
    "figure=go.Figure(data=data,layout=layout)\n",
    "py.iplot(figure)"
   ]
  }
 ],
 "metadata": {
  "kernelspec": {
   "display_name": "Python 2",
   "language": "python",
   "name": "python2"
  },
  "language_info": {
   "codemirror_mode": {
    "name": "ipython",
    "version": 2
   },
   "file_extension": ".py",
   "mimetype": "text/x-python",
   "name": "python",
   "nbconvert_exporter": "python",
   "pygments_lexer": "ipython2",
   "version": "2.7.11"
  }
 },
 "nbformat": 4,
 "nbformat_minor": 0
}
