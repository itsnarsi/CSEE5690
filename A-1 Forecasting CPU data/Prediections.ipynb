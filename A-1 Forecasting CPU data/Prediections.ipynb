{
 "cells": [
  {
   "cell_type": "markdown",
   "metadata": {},
   "source": [
    "In this project we will be applying different types of forecasting techniques on the given cpu data and analyise which one of them provides better accuracy and why.\n",
    "\n",
    "We will be using folowing forecasting techniques:\n",
    "\n",
    "1) Simple Moving Average\n",
    "\n",
    "2) Weighted Moving average\n",
    "\n",
    "3) Exponential Smoothning\n",
    "\n",
    "4) Exponential Smoothning w/ trend\n",
    "\n",
    "5) Moving weighted average EST\n",
    "\n",
    "6) Linear Regression\n",
    "\n",
    "7) Non-linear Regression (2nd order)"
   ]
  },
  {
   "cell_type": "markdown",
   "metadata": {},
   "source": [
    "# Pre-Processing"
   ]
  },
  {
   "cell_type": "markdown",
   "metadata": {},
   "source": [
    "Importing all the required libraries"
   ]
  },
  {
   "cell_type": "code",
   "execution_count": 1,
   "metadata": {
    "collapsed": false
   },
   "outputs": [],
   "source": [
    "import pandas as pd\n",
    "import numpy as np\n",
    "import cPickle\n",
    "import time\n",
    "import pyprind\n",
    "import plotly.plotly as py\n",
    "import plotly.graph_objs as go\n",
    "import scipy"
   ]
  },
  {
   "cell_type": "markdown",
   "metadata": {},
   "source": [
    "Linux src files"
   ]
  },
  {
   "cell_type": "code",
   "execution_count": 2,
   "metadata": {
    "collapsed": false
   },
   "outputs": [],
   "source": [
    "src_file = \"/home/narsi/Documents/CSEE5690_data/VM-CPU-Stats-1-Day.csv\"\n",
    "store_file = file('/home/narsi/Documents/CSEE5690_data/cpu_analysis/cpu_analytics_'+time.strftime(\"%Y%m%d-%H%M%S\")+'.pkl', 'wb')"
   ]
  },
  {
   "cell_type": "markdown",
   "metadata": {},
   "source": [
    "Windows src files"
   ]
  },
  {
   "cell_type": "code",
   "execution_count": 2,
   "metadata": {
    "collapsed": true
   },
   "outputs": [],
   "source": [
    "src_file = \"D:\\\\course_related_data\\\\CSEE5690\\\\VM-CPU-Stats-1-Day.csv\"\n",
    "store_file = file('D:\\\\course_related_data\\\\CSEE5690\\\\cpu_analytics_'+time.strftime(\"%Y%m%d-%H%M%S\")+'.pkl', 'wb')"
   ]
  },
  {
   "cell_type": "markdown",
   "metadata": {},
   "source": [
    "Read Data from csv file"
   ]
  },
  {
   "cell_type": "code",
   "execution_count": 3,
   "metadata": {
    "collapsed": false
   },
   "outputs": [],
   "source": [
    "cpu_data = pd.read_csv(src_file).iloc[::-1]"
   ]
  },
  {
   "cell_type": "code",
   "execution_count": 4,
   "metadata": {
    "collapsed": false
   },
   "outputs": [],
   "source": [
    "cpu_freq = np.array(cpu_data['Value'],dtype = np.float32)\n",
    "E_id_list = cpu_data.Entity.unique()\n",
    "E_select = [25,60,110,225,350]"
   ]
  },
  {
   "cell_type": "code",
   "execution_count": 5,
   "metadata": {
    "collapsed": false
   },
   "outputs": [
    {
     "name": "stdout",
     "output_type": "stream",
     "text": [
      "<class 'pandas.core.frame.DataFrame'>\n",
      "RangeIndex: 146004 entries, 146003 to 0\n",
      "Data columns (total 9 columns):\n",
      "Value           146004 non-null int64\n",
      "Timestamp       146004 non-null object\n",
      "MetricId        146004 non-null object\n",
      "Unit            146004 non-null object\n",
      "Description     146004 non-null object\n",
      "Entity          146004 non-null object\n",
      "EntityId        146004 non-null object\n",
      "IntervalSecs    146004 non-null int64\n",
      "Instance        0 non-null float64\n",
      "dtypes: float64(1), int64(2), object(6)\n",
      "memory usage: 10.0+ MB\n"
     ]
    }
   ],
   "source": [
    "cpu_data.info()"
   ]
  },
  {
   "cell_type": "markdown",
   "metadata": {},
   "source": [
    "# 1) Moving Average"
   ]
  },
  {
   "cell_type": "code",
   "execution_count": 12,
   "metadata": {
    "collapsed": false
   },
   "outputs": [
    {
     "name": "stdout",
     "output_type": "stream",
     "text": [
      "0%                     100%\n",
      "[#########################] | ETA: 00:00:00\n",
      "Total time elapsed: 00:00:00\n"
     ]
    }
   ],
   "source": [
    "MA = pd.DataFrame(columns=['Subject','Window','TS_Score','A','F'])\n",
    "bar = pyprind.ProgBar(len(E_select)*5, stream=1)\n",
    "dataframe_counter = 0\n",
    "for E_id in E_id_list[E_select]:\n",
    "    id_list = (len(cpu_data) - np.array(cpu_data[cpu_data['Entity'] == E_id].index.tolist(), dtype=np.int32))-1\n",
    "    for window in [3, 5, 9, 11, 20]:\n",
    "        x = np.empty(len(id_list) - window)\n",
    "        counter = 0\n",
    "        for i in id_list[window:]:\n",
    "            X = cpu_freq[i - window:i]\n",
    "            x[counter] = np.sum(X) * 1.0 / window\n",
    "            counter += 1\n",
    "\n",
    "        TS = np.sum(cpu_freq[id_list[window:]]-x)/(np.sum(np.absolute(cpu_freq[id_list[window:]]-x))/len(x))\n",
    "        #MA.append({'Window': window, 'Actual_Data': cpu_freq[id_list[window:]], 'Predicted': x, 'TS_Score': TS}, ignore_index=True)\n",
    "        MA.loc[dataframe_counter] = [E_id,window,TS,cpu_freq[id_list[window:]],x]\n",
    "        dataframe_counter += 1\n",
    "        bar.update()\n"
   ]
  },
  {
   "cell_type": "code",
   "execution_count": 8,
   "metadata": {
    "collapsed": true
   },
   "outputs": [],
   "source": [
    "trace_max4 = go.Scatter( x = E_id_list[E_select],y=[4] * len(E_select), marker={'size': \"5\"}, \n",
    "                    mode=\"lines\", name='Max Limit')\n",
    "trace_min4 = go.Scatter( x = E_id_list[E_select],y=[-4] * len(E_select), marker={'size': \"5\"}, \n",
    "                    mode=\"lines\", name='Min Limit')"
   ]
  },
  {
   "cell_type": "code",
   "execution_count": 111,
   "metadata": {
    "collapsed": false
   },
   "outputs": [
    {
     "data": {
      "text/html": [
       "<iframe id=\"igraph\" scrolling=\"no\" style=\"border:none;\" seamless=\"seamless\" src=\"https://plot.ly/~narsi/153.embed\" height=\"525px\" width=\"100%\"></iframe>"
      ],
      "text/plain": [
       "<plotly.tools.PlotlyDisplay object>"
      ]
     },
     "execution_count": 111,
     "metadata": {},
     "output_type": "execute_result"
    }
   ],
   "source": [
    "# [3, 5, 9, 11, 20]\n",
    "trace_w3 = go.Scatter( x = E_id_list[E_select],y=MA[MA['Window'] == 3].TS_Score.tolist(), marker={'size': \"10\"}, \n",
    "                    mode=\"markers\", name='Weight 3 array')\n",
    "trace_w5 = go.Scatter( x = E_id_list[E_select],y=MA[MA['Window'] == 5].TS_Score.tolist(), marker={'size': \"10\"}, \n",
    "                    mode=\"markers\", name='Weight 5 array')\n",
    "trace_w9 = go.Scatter( x = E_id_list[E_select],y=MA[MA['Window'] == 9].TS_Score.tolist(), marker={'size': \"10\"}, \n",
    "                    mode=\"markers\", name='Weight 9 array')\n",
    "trace_w11 = go.Scatter( x = E_id_list[E_select],y=MA[MA['Window'] == 11].TS_Score.tolist(), marker={'size': \"10\"}, \n",
    "                    mode=\"markers\", name='Weight 11 array')\n",
    "trace_w20 = go.Scatter( x = E_id_list[E_select],y=MA[MA['Window'] == 20].TS_Score.tolist(), marker={'size': \"10\"}, \n",
    "                    mode=\"markers\", name='Weight 20 array')\n",
    "\n",
    "\n",
    "data=go.Data([trace_w3,trace_w5,trace_w9,trace_w11,trace_w20,trace_max4,trace_min4])\n",
    "layout=go.Layout(title=\"Moving Average\")\n",
    "figure=go.Figure(data=data,layout=layout)\n",
    "py.iplot(figure)"
   ]
  },
  {
   "cell_type": "markdown",
   "metadata": {},
   "source": [
    "# 2) Weighted Moving Average"
   ]
  },
  {
   "cell_type": "code",
   "execution_count": 13,
   "metadata": {
    "collapsed": false
   },
   "outputs": [
    {
     "name": "stdout",
     "output_type": "stream",
     "text": [
      "0%                     100%\n",
      "[#########################] | ETA: 00:00:00\n",
      "Total time elapsed: 00:00:00\n"
     ]
    }
   ],
   "source": [
    "WMA = pd.DataFrame(columns=['Subject','Window','TS_Score','A','F'])\n",
    "bar = pyprind.ProgBar(len(E_select)*5, stream=1)\n",
    "dataframe_counter = 0\n",
    "for E_id in E_id_list[E_select]:\n",
    "    id_list = (len(cpu_data) - np.array(cpu_data[cpu_data['Entity'] == E_id].index.tolist(), dtype=np.int32))-1\n",
    "    for window in [3, 5, 9, 11, 20]:\n",
    "        x = np.empty(len(id_list)-window)\n",
    "        counter = 0\n",
    "        weight_ = np.arange(window,dtype = np.float32)+1\n",
    "        weight_ = weight_/np.sum(weight_)\n",
    "        \n",
    "        for i in id_list[window:]:\n",
    "            x[counter] = np.sum(cpu_freq[i-window:i] * weight_)\n",
    "            counter += 1\n",
    "        \n",
    "        TS = np.sum(cpu_freq[id_list[window:]]-x)/(np.sum(np.absolute(cpu_freq[id_list[window:]]-x))/len(x))\n",
    "        WMA.loc[dataframe_counter] = [E_id,window,TS,cpu_freq[id_list[window:]],x]\n",
    "        dataframe_counter += 1\n",
    "        bar.update()\n"
   ]
  },
  {
   "cell_type": "code",
   "execution_count": 110,
   "metadata": {
    "collapsed": false
   },
   "outputs": [
    {
     "data": {
      "text/html": [
       "<iframe id=\"igraph\" scrolling=\"no\" style=\"border:none;\" seamless=\"seamless\" src=\"https://plot.ly/~narsi/151.embed\" height=\"525px\" width=\"100%\"></iframe>"
      ],
      "text/plain": [
       "<plotly.tools.PlotlyDisplay object>"
      ]
     },
     "execution_count": 110,
     "metadata": {},
     "output_type": "execute_result"
    }
   ],
   "source": [
    "# [3, 5, 9, 11, 20]\n",
    "trace_wma3 = go.Scatter( x = E_id_list[E_select],y=WMA[WMA['Window'] == 3].TS_Score.tolist(), marker={'size': \"10\"}, \n",
    "                    mode=\"markers\", name='Weight 3 array')\n",
    "trace_wma5 = go.Scatter( x = E_id_list[E_select],y=WMA[WMA['Window'] == 5].TS_Score.tolist(), marker={'size': \"10\"}, \n",
    "                    mode=\"markers\", name='Weight 5 array')\n",
    "trace_wma9 = go.Scatter( x = E_id_list[E_select],y=WMA[WMA['Window'] == 9].TS_Score.tolist(), marker={'size': \"10\"}, \n",
    "                    mode=\"markers\", name='Weight 9 array')\n",
    "trace_wma11 = go.Scatter( x = E_id_list[E_select],y=WMA[WMA['Window'] == 11].TS_Score.tolist(), marker={'size': \"10\"}, \n",
    "                    mode=\"markers\", name='Weight 11 array')\n",
    "trace_wma20 = go.Scatter( x = E_id_list[E_select],y=WMA[WMA['Window'] == 20].TS_Score.tolist(), marker={'size': \"10\"}, \n",
    "                    mode=\"markers\", name='Weight 20 array')\n",
    "\n",
    "data=go.Data([trace_wma3,trace_wma5,trace_wma9,trace_wma11,trace_wma20,trace_max4,trace_min4])\n",
    "layout=go.Layout(title=\"Weighted Moving Average\")\n",
    "figure=go.Figure(data=data,layout=layout)\n",
    "py.iplot(figure)"
   ]
  },
  {
   "cell_type": "markdown",
   "metadata": {},
   "source": [
    "# 3) Exponential Smoothing"
   ]
  },
  {
   "cell_type": "code",
   "execution_count": 14,
   "metadata": {
    "collapsed": false
   },
   "outputs": [
    {
     "name": "stdout",
     "output_type": "stream",
     "text": [
      "0%                100%\n",
      "[####################] | ETA: 00:00:00\n",
      "Total time elapsed: 00:00:00\n"
     ]
    }
   ],
   "source": [
    "ES = pd.DataFrame(columns=['Subject','Alpha','TS_Score','A','F'])\n",
    "\n",
    "alpha = [0.2,0.4,0.6,0.8]\n",
    "dataframe_counter = 0\n",
    "bar = pyprind.ProgBar(len(alpha)*len(E_select), stream=1)\n",
    "for a in alpha:\n",
    "    for E_id in E_id_list[E_select]:\n",
    "        id_list = (len(cpu_data) - np.array(cpu_data[cpu_data['Entity'] == E_id].index.tolist(), dtype = np.int32))-1\n",
    "        x = np.empty(len(id_list))\n",
    "        x[0] = cpu_freq[id_list[0]]\n",
    "        counter = 1\n",
    "        for i in id_list[1:]:\n",
    "            x[counter] = x[counter-1] + (a) * (cpu_freq[i-1] - x[counter-1])\n",
    "            counter += 1\n",
    "        \n",
    "        TS = np.sum(cpu_freq[id_list]-x)/(np.sum(np.absolute(cpu_freq[id_list]-x))/len(x))\n",
    "        ES.loc[dataframe_counter] = [E_id,a,TS,cpu_freq[id_list[window:]],x]\n",
    "        dataframe_counter +=1\n",
    "        bar.update()"
   ]
  },
  {
   "cell_type": "code",
   "execution_count": 109,
   "metadata": {
    "collapsed": false
   },
   "outputs": [
    {
     "data": {
      "text/html": [
       "<iframe id=\"igraph\" scrolling=\"no\" style=\"border:none;\" seamless=\"seamless\" src=\"https://plot.ly/~narsi/149.embed\" height=\"525px\" width=\"100%\"></iframe>"
      ],
      "text/plain": [
       "<plotly.tools.PlotlyDisplay object>"
      ]
     },
     "execution_count": 109,
     "metadata": {},
     "output_type": "execute_result"
    }
   ],
   "source": [
    "trace_a2 = go.Scatter( x = E_id_list[E_select],y=ES[ES['Alpha'] == 0.2].TS_Score.tolist(), marker={'size': \"10\"}, \n",
    "                    mode=\"markers\", name='Alpha 0.2')\n",
    "trace_a4 = go.Scatter( x = E_id_list[E_select],y=ES[ES['Alpha'] == 0.4].TS_Score.tolist(), marker={'size': \"10\"}, \n",
    "                    mode=\"markers\", name='Alpha 0.4')\n",
    "trace_a6 = go.Scatter( x = E_id_list[E_select],y=ES[ES['Alpha'] == 0.6].TS_Score.tolist(), marker={'size': \"10\"}, \n",
    "                    mode=\"markers\", name='Alpha 0.6')\n",
    "trace_a8 = go.Scatter( x = E_id_list[E_select],y=ES[ES['Alpha'] == 0.8].TS_Score.tolist(), marker={'size': \"10\"}, \n",
    "                    mode=\"markers\", name='Alpha 0.8')\n",
    "\n",
    "data=go.Data([trace_a2,trace_a4,trace_a6,trace_a8,trace_max4,trace_min4])\n",
    "layout=go.Layout(title=\"Exponential Smoothing\")\n",
    "figure=go.Figure(data=data,layout=layout)\n",
    "py.iplot(figure)"
   ]
  },
  {
   "cell_type": "markdown",
   "metadata": {},
   "source": [
    "# 4) Exponential Smoothing with trend"
   ]
  },
  {
   "cell_type": "code",
   "execution_count": 15,
   "metadata": {
    "collapsed": false
   },
   "outputs": [
    {
     "name": "stdout",
     "output_type": "stream",
     "text": [
      "0%                100%\n",
      "[####################] | ETA: 00:00:00\n",
      "Total time elapsed: 00:00:00\n"
     ]
    }
   ],
   "source": [
    "EST = pd.DataFrame(columns=['Subject','Alpha','TS_Score','A','F'])\n",
    "d = 0.5\n",
    "alpha = [0.2,0.4,0.6,0.8]\n",
    "dataframe_counter = 0\n",
    "bar = pyprind.ProgBar(len(alpha)*len(E_select), stream=1)\n",
    "for a in alpha:\n",
    "    for E_id in E_id_list[E_select]:\n",
    "        id_list = (len(cpu_data) - np.array(cpu_data[cpu_data['Entity'] == E_id].index.tolist(), dtype = np.int32))-1\n",
    "        x = np.empty(len(id_list))\n",
    "        x[0] = cpu_freq[id_list[0]]\n",
    "        T = 0.0\n",
    "        F = x[0]\n",
    "        counter = 1\n",
    "        for i in id_list[1:]:\n",
    "            F = x[counter - 1] + a * (cpu_freq[i-1] - x[counter-1])\n",
    "            T = T + d * (F - x[counter-1])\n",
    "            x[counter] = F + T\n",
    "            counter += 1\n",
    "\n",
    "        TS = np.sum(cpu_freq[id_list]-x)/(np.sum(np.absolute(cpu_freq[id_list]-x))/len(x))\n",
    "        EST.loc[dataframe_counter] = [E_id,a,TS,cpu_freq[id_list[window:]],x]\n",
    "        dataframe_counter += 1\n",
    "        bar.update()\n"
   ]
  },
  {
   "cell_type": "code",
   "execution_count": 117,
   "metadata": {
    "collapsed": false
   },
   "outputs": [
    {
     "data": {
      "text/html": [
       "<iframe id=\"igraph\" scrolling=\"no\" style=\"border:none;\" seamless=\"seamless\" src=\"https://plot.ly/~narsi/157.embed\" height=\"525px\" width=\"100%\"></iframe>"
      ],
      "text/plain": [
       "<plotly.tools.PlotlyDisplay object>"
      ]
     },
     "execution_count": 117,
     "metadata": {},
     "output_type": "execute_result"
    }
   ],
   "source": [
    "trace_ad2 = go.Scatter( x = E_id_list[E_select],y=EST[EST['Alpha'] == 0.2].TS_Score.tolist(), marker={'size': \"10\"}, \n",
    "                    mode=\"markers\", name='Alpha 0.2')\n",
    "trace_ad4 = go.Scatter( x = E_id_list[E_select],y=EST[EST['Alpha'] == 0.4].TS_Score.tolist(), marker={'size': \"10\"}, \n",
    "                    mode=\"markers\", name='Alpha 0.4')\n",
    "trace_ad6 = go.Scatter( x = E_id_list[E_select],y=EST[EST['Alpha'] == 0.6].TS_Score.tolist(), marker={'size': \"10\"}, \n",
    "                    mode=\"markers\", name='Alpha 0.6')\n",
    "trace_ad8 = go.Scatter( x = E_id_list[E_select],y=EST[EST['Alpha'] == 0.8].TS_Score.tolist(), marker={'size': \"10\"}, \n",
    "                    mode=\"markers\", name='Alpha 0.8')\n",
    "\n",
    "data=go.Data([trace_ad2,trace_ad4,trace_ad6,trace_ad8,trace_max4,trace_min4])\n",
    "layout=go.Layout(title=\"Exponential Smoothing with trend\")\n",
    "figure=go.Figure(data=data,layout=layout)\n",
    "py.iplot(figure)"
   ]
  },
  {
   "cell_type": "markdown",
   "metadata": {},
   "source": [
    "# 5) Windowed Exponential Smoothing with trend V1"
   ]
  },
  {
   "cell_type": "code",
   "execution_count": 64,
   "metadata": {
    "collapsed": false
   },
   "outputs": [
    {
     "name": "stdout",
     "output_type": "stream",
     "text": [
      "0%                          100%\n",
      "[##############################] | ETA: 00:00:00\n",
      "Total time elapsed: 00:00:00\n"
     ]
    }
   ],
   "source": [
    "WEST = pd.DataFrame(columns=['Subject','Alpha','Window','TS_Score','A','F'])\n",
    "d = 0.5\n",
    "alpha = [0.2,0.4,0.6,0.8]\n",
    "bar = pyprind.ProgBar(5*4*len(E_select), stream=1)\n",
    "dataframe_counter = 0\n",
    "for a in alpha:\n",
    "    for E_id in E_id_list[E_select]:\n",
    "        id_list = (len(cpu_data) - np.array(cpu_data[cpu_data['Entity'] == E_id].index.tolist(), dtype = np.int32))-1\n",
    "        for window in [3, 5, 9, 11, 20]:\n",
    "            x = np.empty(len(id_list))\n",
    "            weight_ = np.arange(window,dtype = np.float32)+1\n",
    "            weight_ = weight_/np.sum(weight_)\n",
    "            x[0:window] = cpu_freq[id_list[0:window]]\n",
    "            T = 0.0\n",
    "            F = x[window-1]\n",
    "            counter = window\n",
    "            for i in id_list[window:]:\n",
    "                F = x[counter - 1] + a * (np.sum((cpu_freq[i-window:i] - x[counter-window:counter])*weight_))\n",
    "                T = T + d * (F - x[counter-1])\n",
    "                x[counter] = F + T\n",
    "                if x[counter] <= 0:\n",
    "                    x[counter] = np.sum(cpu_freq[i-window:i]*weight_)\n",
    "                counter += 1\n",
    "\n",
    "            TS = np.sum(cpu_freq[id_list[window:]]-x[window:])/(np.sum(np.absolute(cpu_freq[id_list[window:]]-x[window:]))/len(x))\n",
    "            WEST.loc[dataframe_counter] = [E_id,a,window,TS,cpu_freq[id_list[window:]],x[window:]]\n",
    "            dataframe_counter += 1\n",
    "            bar.update()\n"
   ]
  },
  {
   "cell_type": "code",
   "execution_count": 65,
   "metadata": {
    "collapsed": false
   },
   "outputs": [
    {
     "ename": "PlotlyError",
     "evalue": "Request throttled. You've created/updated more charts than your allowed limit of 30/hour. You may either wait one hour or upgrade your account. Visit https://plot.ly/settings/subscription/ to upgrade.",
     "output_type": "error",
     "traceback": [
      "\u001b[0;31m---------------------------------------------------------------------------\u001b[0m",
      "\u001b[0;31mPlotlyError\u001b[0m                               Traceback (most recent call last)",
      "\u001b[0;32m<ipython-input-65-288af8f53fab>\u001b[0m in \u001b[0;36m<module>\u001b[0;34m()\u001b[0m\n\u001b[1;32m     11\u001b[0m \u001b[0mlayout\u001b[0m\u001b[0;34m=\u001b[0m\u001b[0mgo\u001b[0m\u001b[0;34m.\u001b[0m\u001b[0mLayout\u001b[0m\u001b[0;34m(\u001b[0m\u001b[0mtitle\u001b[0m\u001b[0;34m=\u001b[0m\u001b[0;34m\"weighted window Exponential Smoothing with trend w/ window size of 3 and delat of 0.5\"\u001b[0m\u001b[0;34m)\u001b[0m\u001b[0;34m\u001b[0m\u001b[0m\n\u001b[1;32m     12\u001b[0m \u001b[0mfigure\u001b[0m\u001b[0;34m=\u001b[0m\u001b[0mgo\u001b[0m\u001b[0;34m.\u001b[0m\u001b[0mFigure\u001b[0m\u001b[0;34m(\u001b[0m\u001b[0mdata\u001b[0m\u001b[0;34m=\u001b[0m\u001b[0mdata\u001b[0m\u001b[0;34m,\u001b[0m\u001b[0mlayout\u001b[0m\u001b[0;34m=\u001b[0m\u001b[0mlayout\u001b[0m\u001b[0;34m)\u001b[0m\u001b[0;34m\u001b[0m\u001b[0m\n\u001b[0;32m---> 13\u001b[0;31m \u001b[0mpy\u001b[0m\u001b[0;34m.\u001b[0m\u001b[0miplot\u001b[0m\u001b[0;34m(\u001b[0m\u001b[0mfigure\u001b[0m\u001b[0;34m)\u001b[0m\u001b[0;34m\u001b[0m\u001b[0m\n\u001b[0m",
      "\u001b[0;32m/usr/local/lib/python2.7/dist-packages/plotly/plotly/plotly.pyc\u001b[0m in \u001b[0;36miplot\u001b[0;34m(figure_or_data, **plot_options)\u001b[0m\n\u001b[1;32m    149\u001b[0m     \u001b[0;32mif\u001b[0m \u001b[0;34m'auto_open'\u001b[0m \u001b[0;32mnot\u001b[0m \u001b[0;32min\u001b[0m \u001b[0mplot_options\u001b[0m\u001b[0;34m:\u001b[0m\u001b[0;34m\u001b[0m\u001b[0m\n\u001b[1;32m    150\u001b[0m         \u001b[0mplot_options\u001b[0m\u001b[0;34m[\u001b[0m\u001b[0;34m'auto_open'\u001b[0m\u001b[0;34m]\u001b[0m \u001b[0;34m=\u001b[0m \u001b[0mFalse\u001b[0m\u001b[0;34m\u001b[0m\u001b[0m\n\u001b[0;32m--> 151\u001b[0;31m     \u001b[0murl\u001b[0m \u001b[0;34m=\u001b[0m \u001b[0mplot\u001b[0m\u001b[0;34m(\u001b[0m\u001b[0mfigure_or_data\u001b[0m\u001b[0;34m,\u001b[0m \u001b[0;34m**\u001b[0m\u001b[0mplot_options\u001b[0m\u001b[0;34m)\u001b[0m\u001b[0;34m\u001b[0m\u001b[0m\n\u001b[0m\u001b[1;32m    152\u001b[0m \u001b[0;34m\u001b[0m\u001b[0m\n\u001b[1;32m    153\u001b[0m     \u001b[0;32mif\u001b[0m \u001b[0misinstance\u001b[0m\u001b[0;34m(\u001b[0m\u001b[0mfigure_or_data\u001b[0m\u001b[0;34m,\u001b[0m \u001b[0mdict\u001b[0m\u001b[0;34m)\u001b[0m\u001b[0;34m:\u001b[0m\u001b[0;34m\u001b[0m\u001b[0m\n",
      "\u001b[0;32m/usr/local/lib/python2.7/dist-packages/plotly/plotly/plotly.pyc\u001b[0m in \u001b[0;36mplot\u001b[0;34m(figure_or_data, validate, **plot_options)\u001b[0m\n\u001b[1;32m    239\u001b[0m \u001b[0;34m\u001b[0m\u001b[0m\n\u001b[1;32m    240\u001b[0m     \u001b[0mplot_options\u001b[0m \u001b[0;34m=\u001b[0m \u001b[0m_plot_option_logic\u001b[0m\u001b[0;34m(\u001b[0m\u001b[0mplot_options\u001b[0m\u001b[0;34m)\u001b[0m\u001b[0;34m\u001b[0m\u001b[0m\n\u001b[0;32m--> 241\u001b[0;31m     \u001b[0mres\u001b[0m \u001b[0;34m=\u001b[0m \u001b[0m_send_to_plotly\u001b[0m\u001b[0;34m(\u001b[0m\u001b[0mfigure\u001b[0m\u001b[0;34m,\u001b[0m \u001b[0;34m**\u001b[0m\u001b[0mplot_options\u001b[0m\u001b[0;34m)\u001b[0m\u001b[0;34m\u001b[0m\u001b[0m\n\u001b[0m\u001b[1;32m    242\u001b[0m     \u001b[0;32mif\u001b[0m \u001b[0mres\u001b[0m\u001b[0;34m[\u001b[0m\u001b[0;34m'error'\u001b[0m\u001b[0;34m]\u001b[0m \u001b[0;34m==\u001b[0m \u001b[0;34m''\u001b[0m\u001b[0;34m:\u001b[0m\u001b[0;34m\u001b[0m\u001b[0m\n\u001b[1;32m    243\u001b[0m         \u001b[0;32mif\u001b[0m \u001b[0mplot_options\u001b[0m\u001b[0;34m[\u001b[0m\u001b[0;34m'auto_open'\u001b[0m\u001b[0;34m]\u001b[0m\u001b[0;34m:\u001b[0m\u001b[0;34m\u001b[0m\u001b[0m\n",
      "\u001b[0;32m/usr/local/lib/python2.7/dist-packages/plotly/plotly/plotly.pyc\u001b[0m in \u001b[0;36m_send_to_plotly\u001b[0;34m(figure, **plot_options)\u001b[0m\n\u001b[1;32m   1429\u001b[0m \u001b[0;34m\u001b[0m\u001b[0m\n\u001b[1;32m   1430\u001b[0m     \u001b[0;32mif\u001b[0m \u001b[0;34m'error'\u001b[0m \u001b[0;32min\u001b[0m \u001b[0mr\u001b[0m \u001b[0;32mand\u001b[0m \u001b[0mr\u001b[0m\u001b[0;34m[\u001b[0m\u001b[0;34m'error'\u001b[0m\u001b[0;34m]\u001b[0m \u001b[0;34m!=\u001b[0m \u001b[0;34m''\u001b[0m\u001b[0;34m:\u001b[0m\u001b[0;34m\u001b[0m\u001b[0m\n\u001b[0;32m-> 1431\u001b[0;31m         \u001b[0;32mraise\u001b[0m \u001b[0mexceptions\u001b[0m\u001b[0;34m.\u001b[0m\u001b[0mPlotlyError\u001b[0m\u001b[0;34m(\u001b[0m\u001b[0mr\u001b[0m\u001b[0;34m[\u001b[0m\u001b[0;34m'error'\u001b[0m\u001b[0;34m]\u001b[0m\u001b[0;34m)\u001b[0m\u001b[0;34m\u001b[0m\u001b[0m\n\u001b[0m\u001b[1;32m   1432\u001b[0m \u001b[0;34m\u001b[0m\u001b[0m\n\u001b[1;32m   1433\u001b[0m     \u001b[0;31m# Check if the url needs a secret key\u001b[0m\u001b[0;34m\u001b[0m\u001b[0;34m\u001b[0m\u001b[0m\n",
      "\u001b[0;31mPlotlyError\u001b[0m: Request throttled. You've created/updated more charts than your allowed limit of 30/hour. You may either wait one hour or upgrade your account. Visit https://plot.ly/settings/subscription/ to upgrade."
     ]
    }
   ],
   "source": [
    "trace_wad2 = go.Scatter( x = E_id_list[E_select],y=WEST[(WEST['Alpha'] == 0.2) & (WEST['Window'] == 3)].TS_Score.tolist(), marker={'size': \"10\"}, \n",
    "                    mode=\"markers\", name='Alpha 0.2')\n",
    "trace_wad4 = go.Scatter( x = E_id_list[E_select],y=WEST[(WEST['Alpha'] == 0.4) & (WEST['Window'] == 3)].TS_Score.tolist(), marker={'size': \"10\"}, \n",
    "                    mode=\"markers\", name='Alpha 0.4')\n",
    "trace_wad6 = go.Scatter( x = E_id_list[E_select],y=WEST[(WEST['Alpha'] == 0.6) & (WEST['Window'] == 3)].TS_Score.tolist(), marker={'size': \"10\"}, \n",
    "                    mode=\"markers\", name='Alpha 0.6')\n",
    "trace_wad8 = go.Scatter( x = E_id_list[E_select],y=WEST[(WEST['Alpha'] == 0.8) & (WEST['Window'] == 3)].TS_Score.tolist(), marker={'size': \"10\"}, \n",
    "                    mode=\"markers\", name='Alpha 0.8')\n",
    "\n",
    "data=go.Data([trace_wad2,trace_wad4,trace_wad6,trace_wad8,trace_max4,trace_min4])\n",
    "layout=go.Layout(title=\"weighted window Exponential Smoothing with trend w/ window size of 3 and delat of 0.5\")\n",
    "figure=go.Figure(data=data,layout=layout)\n",
    "py.iplot(figure)"
   ]
  },
  {
   "cell_type": "code",
   "execution_count": 59,
   "metadata": {
    "collapsed": false
   },
   "outputs": [
    {
     "data": {
      "text/html": [
       "<iframe id=\"igraph\" scrolling=\"no\" style=\"border:none;\" seamless=\"seamless\" src=\"https://plot.ly/~narsi/259.embed\" height=\"525px\" width=\"100%\"></iframe>"
      ],
      "text/plain": [
       "<plotly.tools.PlotlyDisplay object>"
      ]
     },
     "execution_count": 59,
     "metadata": {},
     "output_type": "execute_result"
    }
   ],
   "source": [
    "trace_wad2 = go.Scatter( x = E_id_list[E_select],y=WEST[(WEST['Alpha'] == 0.2) & (WEST['Window'] == 5)].TS_Score.tolist(), marker={'size': \"10\"}, \n",
    "                    mode=\"markers\", name='Alpha 0.2')\n",
    "trace_wad4 = go.Scatter( x = E_id_list[E_select],y=WEST[(WEST['Alpha'] == 0.4) & (WEST['Window'] == 5)].TS_Score.tolist(), marker={'size': \"10\"}, \n",
    "                    mode=\"markers\", name='Alpha 0.4')\n",
    "trace_wad6 = go.Scatter( x = E_id_list[E_select],y=WEST[(WEST['Alpha'] == 0.6) & (WEST['Window'] == 5)].TS_Score.tolist(), marker={'size': \"10\"}, \n",
    "                    mode=\"markers\", name='Alpha 0.6')\n",
    "trace_wad8 = go.Scatter( x = E_id_list[E_select],y=WEST[(WEST['Alpha'] == 0.8) & (WEST['Window'] == 5)].TS_Score.tolist(), marker={'size': \"10\"}, \n",
    "                    mode=\"markers\", name='Alpha 0.8')\n",
    "\n",
    "data=go.Data([trace_wad2,trace_wad4,trace_wad6,trace_wad8,trace_max4,trace_min4])\n",
    "layout=go.Layout(title=\"weighted window Exponential Smoothing with trend w/ window size of 3 and delat of 0.5\")\n",
    "figure=go.Figure(data=data,layout=layout)\n",
    "py.iplot(figure)"
   ]
  },
  {
   "cell_type": "markdown",
   "metadata": {},
   "source": [
    "# 6) Piecewise Linear"
   ]
  },
  {
   "cell_type": "code",
   "execution_count": 66,
   "metadata": {
    "collapsed": false
   },
   "outputs": [
    {
     "name": "stdout",
     "output_type": "stream",
     "text": [
      "0%                     100%\n",
      "[#########################] | ETA: 00:00:00\n",
      "Total time elapsed: 00:00:01\n"
     ]
    }
   ],
   "source": [
    "PL = pd.DataFrame(columns=['Subject','Window','TS_Score','A','F'])\n",
    "bar = pyprind.ProgBar(5*len(E_select), stream=1)\n",
    "dataframe_counter = 0\n",
    "for E_id in E_id_list[E_select]:\n",
    "    id_list = (len(cpu_data) - np.array(cpu_data[cpu_data['Entity'] == E_id].index.tolist(), dtype=np.int32))-1\n",
    "    for window in [3, 5, 9, 11, 20]:\n",
    "        x = np.empty(len(id_list)-window)\n",
    "        t = np.arange(window)\n",
    "        weight_ = np.arange(window,dtype = np.float32)+1\n",
    "        weight_ = weight_/np.sum(weight_)\n",
    "        counter = 0\n",
    "        for i in id_list[window:]:\n",
    "            (ar,br) = scipy.polyfit(t,cpu_freq[i-window:i],1)\n",
    "            x[counter] = scipy.polyval([ar,br],window)\n",
    "            if x[counter] <= 0:\n",
    "                x[counter] = np.sum(cpu_freq[i-window:i]*weight_)\n",
    "            counter += 1\n",
    "            \n",
    "        TS = np.sum(cpu_freq[id_list[window:]]-x)/(np.sum(np.absolute(cpu_freq[id_list[window:]]-x))/len(x))\n",
    "        PL.loc[dataframe_counter] = [E_id,window,TS,cpu_freq[id_list[window:]],x]\n",
    "        dataframe_counter += 1\n",
    "        bar.update()\n"
   ]
  },
  {
   "cell_type": "code",
   "execution_count": 67,
   "metadata": {
    "collapsed": false
   },
   "outputs": [
    {
     "data": {
      "text/html": [
       "<div>\n",
       "<table border=\"1\" class=\"dataframe\">\n",
       "  <thead>\n",
       "    <tr style=\"text-align: right;\">\n",
       "      <th></th>\n",
       "      <th>Subject</th>\n",
       "      <th>Window</th>\n",
       "      <th>TS_Score</th>\n",
       "      <th>A</th>\n",
       "      <th>F</th>\n",
       "    </tr>\n",
       "  </thead>\n",
       "  <tbody>\n",
       "    <tr>\n",
       "      <th>0</th>\n",
       "      <td>kc-itsm-pweb01</td>\n",
       "      <td>3.0</td>\n",
       "      <td>-24.649115</td>\n",
       "      <td>[1624.0, 1278.0, 1604.0, 2008.0, 4020.0, 1523....</td>\n",
       "      <td>[2951.33333333, 1619.33333333, 305.333333333, ...</td>\n",
       "    </tr>\n",
       "    <tr>\n",
       "      <th>1</th>\n",
       "      <td>kc-itsm-pweb01</td>\n",
       "      <td>5.0</td>\n",
       "      <td>2.167177</td>\n",
       "      <td>[1604.0, 2008.0, 4020.0, 1523.0, 3019.0, 1874....</td>\n",
       "      <td>[1177.0, 1046.4, 1337.6, 3763.4, 2958.4, 3138....</td>\n",
       "    </tr>\n",
       "    <tr>\n",
       "      <th>2</th>\n",
       "      <td>kc-itsm-pweb01</td>\n",
       "      <td>9.0</td>\n",
       "      <td>-7.987714</td>\n",
       "      <td>[3019.0, 1874.0, 1796.0, 3194.0, 2483.0, 2360....</td>\n",
       "      <td>[2145.61111111, 2612.86111111, 2452.25, 2484.6...</td>\n",
       "    </tr>\n",
       "    <tr>\n",
       "      <th>3</th>\n",
       "      <td>kc-itsm-pweb01</td>\n",
       "      <td>11.0</td>\n",
       "      <td>-9.395856</td>\n",
       "      <td>[1796.0, 3194.0, 2483.0, 2360.0, 1044.0, 1730....</td>\n",
       "      <td>[2300.05454545, 2205.83636364, 2599.50909091, ...</td>\n",
       "    </tr>\n",
       "    <tr>\n",
       "      <th>4</th>\n",
       "      <td>kc-itsm-pweb01</td>\n",
       "      <td>20.0</td>\n",
       "      <td>-3.365269</td>\n",
       "      <td>[1388.0, 1624.0, 1579.0, 1883.0, 2093.0, 1971....</td>\n",
       "      <td>[1688.42105263, 1600.46842105, 1548.10526316, ...</td>\n",
       "    </tr>\n",
       "    <tr>\n",
       "      <th>5</th>\n",
       "      <td>Wulfy-Compute03</td>\n",
       "      <td>3.0</td>\n",
       "      <td>3.107527</td>\n",
       "      <td>[6.0, 7.0, 7.0, 6.0, 6.0, 6.0, 6.0, 6.0, 6.0, ...</td>\n",
       "      <td>[5.33333333333, 6.0, 7.33333333333, 7.66666666...</td>\n",
       "    </tr>\n",
       "    <tr>\n",
       "      <th>6</th>\n",
       "      <td>Wulfy-Compute03</td>\n",
       "      <td>5.0</td>\n",
       "      <td>-3.236842</td>\n",
       "      <td>[7.0, 6.0, 6.0, 6.0, 6.0, 6.0, 6.0, 6.0, 6.0, ...</td>\n",
       "      <td>[6.4, 7.3, 6.7, 6.1, 5.5, 5.6, 6.0, 6.0, 6.0, ...</td>\n",
       "    </tr>\n",
       "    <tr>\n",
       "      <th>7</th>\n",
       "      <td>Wulfy-Compute03</td>\n",
       "      <td>9.0</td>\n",
       "      <td>3.260011</td>\n",
       "      <td>[6.0, 6.0, 6.0, 6.0, 6.0, 6.0, 6.0, 6.0, 6.0, ...</td>\n",
       "      <td>[6.08333333333, 6.13888888889, 5.97222222222, ...</td>\n",
       "    </tr>\n",
       "    <tr>\n",
       "      <th>8</th>\n",
       "      <td>Wulfy-Compute03</td>\n",
       "      <td>11.0</td>\n",
       "      <td>4.616648</td>\n",
       "      <td>[6.0, 6.0, 6.0, 6.0, 6.0, 6.0, 6.0, 6.0, 6.0, ...</td>\n",
       "      <td>[5.94545454545, 6.01818181818, 5.90909090909, ...</td>\n",
       "    </tr>\n",
       "    <tr>\n",
       "      <th>9</th>\n",
       "      <td>Wulfy-Compute03</td>\n",
       "      <td>20.0</td>\n",
       "      <td>2.230814</td>\n",
       "      <td>[6.0, 6.0, 7.0, 6.0, 6.0, 6.0, 6.0, 6.0, 6.0, ...</td>\n",
       "      <td>[5.84210526316, 5.91052631579, 5.87894736842, ...</td>\n",
       "    </tr>\n",
       "    <tr>\n",
       "      <th>10</th>\n",
       "      <td>kc-pd-sql01</td>\n",
       "      <td>3.0</td>\n",
       "      <td>-102.565831</td>\n",
       "      <td>[2382.0, 2391.0, 2368.0, 551.0, 121.0, 118.0, ...</td>\n",
       "      <td>[3091.66666667, 2391.0, 2393.33333333, 2366.33...</td>\n",
       "    </tr>\n",
       "    <tr>\n",
       "      <th>11</th>\n",
       "      <td>kc-pd-sql01</td>\n",
       "      <td>5.0</td>\n",
       "      <td>-127.923675</td>\n",
       "      <td>[2368.0, 551.0, 121.0, 118.0, 125.0, 123.0, 12...</td>\n",
       "      <td>[2818.3, 2380.4, 911.6, 1138.46679688, 656.933...</td>\n",
       "    </tr>\n",
       "    <tr>\n",
       "      <th>12</th>\n",
       "      <td>kc-pd-sql01</td>\n",
       "      <td>9.0</td>\n",
       "      <td>-101.890474</td>\n",
       "      <td>[125.0, 123.0, 120.0, 146.0, 142.0, 119.0, 125...</td>\n",
       "      <td>[288.277777778, 931.266723633, 671.244445801, ...</td>\n",
       "    </tr>\n",
       "    <tr>\n",
       "      <th>13</th>\n",
       "      <td>kc-pd-sql01</td>\n",
       "      <td>11.0</td>\n",
       "      <td>-108.666252</td>\n",
       "      <td>[120.0, 146.0, 142.0, 119.0, 125.0, 182.0, 120...</td>\n",
       "      <td>[869.409118652, 673.590942383, 500.181854248, ...</td>\n",
       "    </tr>\n",
       "    <tr>\n",
       "      <th>14</th>\n",
       "      <td>kc-pd-sql01</td>\n",
       "      <td>20.0</td>\n",
       "      <td>-74.839634</td>\n",
       "      <td>[118.0, 162.0, 123.0, 124.0, 120.0, 129.0, 158...</td>\n",
       "      <td>[365.057189941, 302.723815918, 250.271453857, ...</td>\n",
       "    </tr>\n",
       "    <tr>\n",
       "      <th>15</th>\n",
       "      <td>kc-issr-nmap1</td>\n",
       "      <td>3.0</td>\n",
       "      <td>-79.597873</td>\n",
       "      <td>[21.0, 23.0, 21.0, 23.0, 22.0, 25.0, 73.0, 23....</td>\n",
       "      <td>[25.6666666667, 21.0, 21.0, 21.6666666667, 22....</td>\n",
       "    </tr>\n",
       "    <tr>\n",
       "      <th>16</th>\n",
       "      <td>kc-issr-nmap1</td>\n",
       "      <td>5.0</td>\n",
       "      <td>-40.444421</td>\n",
       "      <td>[21.0, 23.0, 22.0, 25.0, 73.0, 23.0, 24.0, 24....</td>\n",
       "      <td>[22.4, 20.8, 21.4, 22.6, 24.3, 64.6, 48.5, 34....</td>\n",
       "    </tr>\n",
       "    <tr>\n",
       "      <th>17</th>\n",
       "      <td>kc-issr-nmap1</td>\n",
       "      <td>9.0</td>\n",
       "      <td>-30.372396</td>\n",
       "      <td>[73.0, 23.0, 24.0, 24.0, 22.0, 23.0, 37.0, 23....</td>\n",
       "      <td>[22.9722222222, 45.2777777778, 41.1944444444, ...</td>\n",
       "    </tr>\n",
       "    <tr>\n",
       "      <th>18</th>\n",
       "      <td>kc-issr-nmap1</td>\n",
       "      <td>11.0</td>\n",
       "      <td>-21.935255</td>\n",
       "      <td>[24.0, 24.0, 22.0, 23.0, 37.0, 23.0, 23.0, 25....</td>\n",
       "      <td>[38.4727272727, 36.1636363636, 33.8, 31.127272...</td>\n",
       "    </tr>\n",
       "    <tr>\n",
       "      <th>19</th>\n",
       "      <td>kc-issr-nmap1</td>\n",
       "      <td>20.0</td>\n",
       "      <td>-9.021051</td>\n",
       "      <td>[123.0, 102.0, 31.0, 22.0, 333.0, 76.0, 25.0, ...</td>\n",
       "      <td>[27.5, 46.4578947368, 59.6368421053, 57.6, 53....</td>\n",
       "    </tr>\n",
       "    <tr>\n",
       "      <th>20</th>\n",
       "      <td>KC-ISFS-DCIM01</td>\n",
       "      <td>3.0</td>\n",
       "      <td>-117.156089</td>\n",
       "      <td>[11.0, 9.0, 10.0, 10.0, 10.0, 11.0, 10.0, 10.0...</td>\n",
       "      <td>[11.3333333333, 11.6666666667, 8.33333333333, ...</td>\n",
       "    </tr>\n",
       "    <tr>\n",
       "      <th>21</th>\n",
       "      <td>KC-ISFS-DCIM01</td>\n",
       "      <td>5.0</td>\n",
       "      <td>-125.392494</td>\n",
       "      <td>[10.0, 10.0, 10.0, 11.0, 10.0, 10.0, 10.0, 10....</td>\n",
       "      <td>[9.9, 9.6, 9.3, 9.7, 11.2, 10.5, 10.2, 9.9, 9....</td>\n",
       "    </tr>\n",
       "    <tr>\n",
       "      <th>22</th>\n",
       "      <td>KC-ISFS-DCIM01</td>\n",
       "      <td>9.0</td>\n",
       "      <td>-88.899130</td>\n",
       "      <td>[10.0, 10.0, 10.0, 10.0, 10.0, 10.0, 10.0, 10....</td>\n",
       "      <td>[10.3055555556, 10.1388888889, 9.97222222222, ...</td>\n",
       "    </tr>\n",
       "    <tr>\n",
       "      <th>23</th>\n",
       "      <td>KC-ISFS-DCIM01</td>\n",
       "      <td>11.0</td>\n",
       "      <td>-87.611029</td>\n",
       "      <td>[10.0, 10.0, 10.0, 10.0, 10.0, 10.0, 10.0, 11....</td>\n",
       "      <td>[10.1272727273, 10.0181818182, 9.90909090909, ...</td>\n",
       "    </tr>\n",
       "    <tr>\n",
       "      <th>24</th>\n",
       "      <td>KC-ISFS-DCIM01</td>\n",
       "      <td>20.0</td>\n",
       "      <td>-74.734571</td>\n",
       "      <td>[11.0, 10.0, 11.0, 10.0, 10.0, 11.0, 11.0, 10....</td>\n",
       "      <td>[10.1263157895, 10.2789473684, 10.2157894737, ...</td>\n",
       "    </tr>\n",
       "  </tbody>\n",
       "</table>\n",
       "</div>"
      ],
      "text/plain": [
       "            Subject  Window    TS_Score  \\\n",
       "0    kc-itsm-pweb01     3.0  -24.649115   \n",
       "1    kc-itsm-pweb01     5.0    2.167177   \n",
       "2    kc-itsm-pweb01     9.0   -7.987714   \n",
       "3    kc-itsm-pweb01    11.0   -9.395856   \n",
       "4    kc-itsm-pweb01    20.0   -3.365269   \n",
       "5   Wulfy-Compute03     3.0    3.107527   \n",
       "6   Wulfy-Compute03     5.0   -3.236842   \n",
       "7   Wulfy-Compute03     9.0    3.260011   \n",
       "8   Wulfy-Compute03    11.0    4.616648   \n",
       "9   Wulfy-Compute03    20.0    2.230814   \n",
       "10      kc-pd-sql01     3.0 -102.565831   \n",
       "11      kc-pd-sql01     5.0 -127.923675   \n",
       "12      kc-pd-sql01     9.0 -101.890474   \n",
       "13      kc-pd-sql01    11.0 -108.666252   \n",
       "14      kc-pd-sql01    20.0  -74.839634   \n",
       "15    kc-issr-nmap1     3.0  -79.597873   \n",
       "16    kc-issr-nmap1     5.0  -40.444421   \n",
       "17    kc-issr-nmap1     9.0  -30.372396   \n",
       "18    kc-issr-nmap1    11.0  -21.935255   \n",
       "19    kc-issr-nmap1    20.0   -9.021051   \n",
       "20   KC-ISFS-DCIM01     3.0 -117.156089   \n",
       "21   KC-ISFS-DCIM01     5.0 -125.392494   \n",
       "22   KC-ISFS-DCIM01     9.0  -88.899130   \n",
       "23   KC-ISFS-DCIM01    11.0  -87.611029   \n",
       "24   KC-ISFS-DCIM01    20.0  -74.734571   \n",
       "\n",
       "                                                    A  \\\n",
       "0   [1624.0, 1278.0, 1604.0, 2008.0, 4020.0, 1523....   \n",
       "1   [1604.0, 2008.0, 4020.0, 1523.0, 3019.0, 1874....   \n",
       "2   [3019.0, 1874.0, 1796.0, 3194.0, 2483.0, 2360....   \n",
       "3   [1796.0, 3194.0, 2483.0, 2360.0, 1044.0, 1730....   \n",
       "4   [1388.0, 1624.0, 1579.0, 1883.0, 2093.0, 1971....   \n",
       "5   [6.0, 7.0, 7.0, 6.0, 6.0, 6.0, 6.0, 6.0, 6.0, ...   \n",
       "6   [7.0, 6.0, 6.0, 6.0, 6.0, 6.0, 6.0, 6.0, 6.0, ...   \n",
       "7   [6.0, 6.0, 6.0, 6.0, 6.0, 6.0, 6.0, 6.0, 6.0, ...   \n",
       "8   [6.0, 6.0, 6.0, 6.0, 6.0, 6.0, 6.0, 6.0, 6.0, ...   \n",
       "9   [6.0, 6.0, 7.0, 6.0, 6.0, 6.0, 6.0, 6.0, 6.0, ...   \n",
       "10  [2382.0, 2391.0, 2368.0, 551.0, 121.0, 118.0, ...   \n",
       "11  [2368.0, 551.0, 121.0, 118.0, 125.0, 123.0, 12...   \n",
       "12  [125.0, 123.0, 120.0, 146.0, 142.0, 119.0, 125...   \n",
       "13  [120.0, 146.0, 142.0, 119.0, 125.0, 182.0, 120...   \n",
       "14  [118.0, 162.0, 123.0, 124.0, 120.0, 129.0, 158...   \n",
       "15  [21.0, 23.0, 21.0, 23.0, 22.0, 25.0, 73.0, 23....   \n",
       "16  [21.0, 23.0, 22.0, 25.0, 73.0, 23.0, 24.0, 24....   \n",
       "17  [73.0, 23.0, 24.0, 24.0, 22.0, 23.0, 37.0, 23....   \n",
       "18  [24.0, 24.0, 22.0, 23.0, 37.0, 23.0, 23.0, 25....   \n",
       "19  [123.0, 102.0, 31.0, 22.0, 333.0, 76.0, 25.0, ...   \n",
       "20  [11.0, 9.0, 10.0, 10.0, 10.0, 11.0, 10.0, 10.0...   \n",
       "21  [10.0, 10.0, 10.0, 11.0, 10.0, 10.0, 10.0, 10....   \n",
       "22  [10.0, 10.0, 10.0, 10.0, 10.0, 10.0, 10.0, 10....   \n",
       "23  [10.0, 10.0, 10.0, 10.0, 10.0, 10.0, 10.0, 11....   \n",
       "24  [11.0, 10.0, 11.0, 10.0, 10.0, 11.0, 11.0, 10....   \n",
       "\n",
       "                                                    F  \n",
       "0   [2951.33333333, 1619.33333333, 305.333333333, ...  \n",
       "1   [1177.0, 1046.4, 1337.6, 3763.4, 2958.4, 3138....  \n",
       "2   [2145.61111111, 2612.86111111, 2452.25, 2484.6...  \n",
       "3   [2300.05454545, 2205.83636364, 2599.50909091, ...  \n",
       "4   [1688.42105263, 1600.46842105, 1548.10526316, ...  \n",
       "5   [5.33333333333, 6.0, 7.33333333333, 7.66666666...  \n",
       "6   [6.4, 7.3, 6.7, 6.1, 5.5, 5.6, 6.0, 6.0, 6.0, ...  \n",
       "7   [6.08333333333, 6.13888888889, 5.97222222222, ...  \n",
       "8   [5.94545454545, 6.01818181818, 5.90909090909, ...  \n",
       "9   [5.84210526316, 5.91052631579, 5.87894736842, ...  \n",
       "10  [3091.66666667, 2391.0, 2393.33333333, 2366.33...  \n",
       "11  [2818.3, 2380.4, 911.6, 1138.46679688, 656.933...  \n",
       "12  [288.277777778, 931.266723633, 671.244445801, ...  \n",
       "13  [869.409118652, 673.590942383, 500.181854248, ...  \n",
       "14  [365.057189941, 302.723815918, 250.271453857, ...  \n",
       "15  [25.6666666667, 21.0, 21.0, 21.6666666667, 22....  \n",
       "16  [22.4, 20.8, 21.4, 22.6, 24.3, 64.6, 48.5, 34....  \n",
       "17  [22.9722222222, 45.2777777778, 41.1944444444, ...  \n",
       "18  [38.4727272727, 36.1636363636, 33.8, 31.127272...  \n",
       "19  [27.5, 46.4578947368, 59.6368421053, 57.6, 53....  \n",
       "20  [11.3333333333, 11.6666666667, 8.33333333333, ...  \n",
       "21  [9.9, 9.6, 9.3, 9.7, 11.2, 10.5, 10.2, 9.9, 9....  \n",
       "22  [10.3055555556, 10.1388888889, 9.97222222222, ...  \n",
       "23  [10.1272727273, 10.0181818182, 9.90909090909, ...  \n",
       "24  [10.1263157895, 10.2789473684, 10.2157894737, ...  "
      ]
     },
     "execution_count": 67,
     "metadata": {},
     "output_type": "execute_result"
    }
   ],
   "source": [
    "PL"
   ]
  },
  {
   "cell_type": "code",
   "execution_count": 9,
   "metadata": {
    "collapsed": false
   },
   "outputs": [
    {
     "data": {
      "text/html": [
       "<iframe id=\"igraph\" scrolling=\"no\" style=\"border:none;\" seamless=\"seamless\" src=\"https://plot.ly/~narsi/201.embed\" height=\"525px\" width=\"100%\"></iframe>"
      ],
      "text/plain": [
       "<plotly.tools.PlotlyDisplay object>"
      ]
     },
     "execution_count": 9,
     "metadata": {},
     "output_type": "execute_result"
    }
   ],
   "source": [
    "# [3, 5, 9, 11, 20]\n",
    "trace_lw3 = go.Scatter( x = E_id_list[E_select],y=PL[PL['Window'] == 3].TS_Score.tolist(), marker={'size': \"10\"}, \n",
    "                    mode=\"markers\", name='Weight 3 array')\n",
    "trace_lw5 = go.Scatter( x = E_id_list[E_select],y=PL[PL['Window'] == 5].TS_Score.tolist(), marker={'size': \"10\"}, \n",
    "                    mode=\"markers\", name='Weight 5 array')\n",
    "trace_lw9 = go.Scatter( x = E_id_list[E_select],y=PL[PL['Window'] == 9].TS_Score.tolist(), marker={'size': \"10\"}, \n",
    "                    mode=\"markers\", name='Weight 9 array')\n",
    "trace_lw11 = go.Scatter( x = E_id_list[E_select],y=PL[PL['Window'] == 11].TS_Score.tolist(), marker={'size': \"10\"}, \n",
    "                    mode=\"markers\", name='Weight 11 array')\n",
    "trace_lw20 = go.Scatter( x = E_id_list[E_select],y=PL[PL['Window'] == 20].TS_Score.tolist(), marker={'size': \"10\"}, \n",
    "                    mode=\"markers\", name='Weight 20 array')\n",
    "\n",
    "data=go.Data([trace_lw3,trace_lw5,trace_lw9,trace_lw11,trace_lw20,trace_max4,trace_min4])\n",
    "layout=go.Layout(title=\"Piecewise Linear\")\n",
    "figure=go.Figure(data=data,layout=layout)\n",
    "py.iplot(figure)"
   ]
  },
  {
   "cell_type": "markdown",
   "metadata": {},
   "source": [
    "# 7) Piecewise Polynomial"
   ]
  },
  {
   "cell_type": "code",
   "execution_count": 36,
   "metadata": {
    "collapsed": false
   },
   "outputs": [
    {
     "name": "stdout",
     "output_type": "stream",
     "text": [
      "0%                     100%\n",
      "[#########################] | ETA: 00:00:00\n",
      "Total time elapsed: 00:00:01\n"
     ]
    }
   ],
   "source": [
    "PL2 = pd.DataFrame(columns=['Subject','Window','TS_Score','A','F'])\n",
    "bar = pyprind.ProgBar(5*len(E_select), stream=1)\n",
    "dataframe_counter = 0\n",
    "for E_id in E_id_list[E_select]:\n",
    "    id_list = (len(cpu_data) - np.array(cpu_data[cpu_data['Entity'] == E_id].index.tolist(), dtype=np.int32))-1\n",
    "    for window in [3, 5, 9, 11, 20]:\n",
    "        x = np.empty(len(id_list)-window)\n",
    "        t = np.arange(window)\n",
    "        weight_ = np.arange(window,dtype = np.float32)+1\n",
    "        weight_ = weight_/np.sum(weight_)\n",
    "        counter = 0\n",
    "        for i in id_list[window:]:\n",
    "            z = np.polyfit(t,cpu_freq[i-window:i],2)\n",
    "            p = np.poly1d(z)\n",
    "            x[counter] = p(window)\n",
    "            if x[counter] <= 0:\n",
    "                x[counter] = np.sum(cpu_freq[i-window:i]*weight_)\n",
    "            counter += 1\n",
    "            \n",
    "        TS = np.sum(cpu_freq[id_list[window:]]-x)/(np.sum(np.absolute(cpu_freq[id_list[window:]]-x))/len(x))\n",
    "        PL2.loc[dataframe_counter] = [E_id,window,TS,cpu_freq[id_list[window:]],x]\n",
    "        dataframe_counter += 1\n",
    "        bar.update()\n"
   ]
  },
  {
   "cell_type": "code",
   "execution_count": 37,
   "metadata": {
    "collapsed": false
   },
   "outputs": [
    {
     "data": {
      "text/html": [
       "<iframe id=\"igraph\" scrolling=\"no\" style=\"border:none;\" seamless=\"seamless\" src=\"https://plot.ly/~narsi/237.embed\" height=\"525px\" width=\"100%\"></iframe>"
      ],
      "text/plain": [
       "<plotly.tools.PlotlyDisplay object>"
      ]
     },
     "execution_count": 37,
     "metadata": {},
     "output_type": "execute_result"
    }
   ],
   "source": [
    "# [3, 5, 9, 11, 20]\n",
    "trace_pw3 = go.Scatter( x = E_id_list[E_select],y=PL2[PL2['Window'] == 3].TS_Score.tolist(), marker={'size': \"10\"}, \n",
    "                    mode=\"markers\", name='Weight 3 array')\n",
    "trace_pw5 = go.Scatter( x = E_id_list[E_select],y=PL2[PL2['Window'] == 5].TS_Score.tolist(), marker={'size': \"10\"}, \n",
    "                    mode=\"markers\", name='Weight 5 array')\n",
    "trace_pw9 = go.Scatter( x = E_id_list[E_select],y=PL2[PL2['Window'] == 9].TS_Score.tolist(), marker={'size': \"10\"}, \n",
    "                    mode=\"markers\", name='Weight 9 array')\n",
    "trace_pw11 = go.Scatter( x = E_id_list[E_select],y=PL2[PL2['Window'] == 11].TS_Score.tolist(), marker={'size': \"10\"}, \n",
    "                    mode=\"markers\", name='Weight 11 array')\n",
    "trace_pw20 = go.Scatter( x = E_id_list[E_select],y=PL2[PL2['Window'] == 20].TS_Score.tolist(), marker={'size': \"10\"}, \n",
    "                    mode=\"markers\", name='Weight 20 array')\n",
    "\n",
    "data=go.Data([trace_pw3,trace_pw5,trace_pw9,trace_pw11,trace_pw20,trace_max4,trace_min4])\n",
    "layout=go.Layout(title=\"Piecewise Polynomial (2nd order)\")\n",
    "figure=go.Figure(data=data,layout=layout)\n",
    "py.iplot(figure)"
   ]
  },
  {
   "cell_type": "markdown",
   "metadata": {},
   "source": [
    "# Plotting different methods results for \"kc-pd-sql01\" VM"
   ]
  },
  {
   "cell_type": "code",
   "execution_count": 49,
   "metadata": {
    "collapsed": false
   },
   "outputs": [],
   "source": [
    "[original_signal] = PL[(PL['Subject'] == 'kc-pd-sql01') & (PL['Window'] ==  20)].A.tolist()\n",
    "x_axis = np.arange(1,len(original_signal)+1)\n",
    "[MA_20W_signal] = MA[(MA['Subject'] == 'kc-pd-sql01') & (MA['Window'] ==  20)].F.tolist()\n",
    "[WMA_20W_signal] = WMA[(WMA['Subject'] == 'kc-pd-sql01') & (WMA['Window'] ==  20)].F.tolist()\n",
    "[ES_A8_signal] = ES[(ES['Subject'] == 'kc-pd-sql01') & (ES['Alpha'] ==  0.8)].F.tolist()\n",
    "ES_A8_signal = ES_A8_signal[20:]\n",
    "[EST_A8_signal] = EST[(EST['Subject'] == 'kc-pd-sql01') & (EST['Alpha'] ==  0.8)].F.tolist()\n",
    "EST_A8_signal = EST_A8_signal[20:]\n",
    "[WEST_3W_A8_signal] = WEST[(WEST['Subject'] == 'kc-pd-sql01') & (WEST['Alpha'] ==  0.8) & (WEST['Window'] ==  3)].F.tolist()\n",
    "WEST_3W_A8_signal = WEST_3W_A8_signal[17:]\n",
    "[PL_20W_signal] = PL[(PL['Subject'] == 'kc-pd-sql01') & (PL['Window'] ==  3)].F.tolist()\n",
    "PL_20W_signal = PL_20W_signal[17:]\n",
    "[PL2_20W_signal] = PL2[(PL2['Subject'] == 'kc-pd-sql01') & (PL2['Window'] ==  11)].F.tolist()\n",
    "PL2_20W_signal = PL2_20W_signal[9:]\n",
    "#trace_orignal = go.Scatter(x = range(1,len()))"
   ]
  },
  {
   "cell_type": "code",
   "execution_count": 50,
   "metadata": {
    "collapsed": false
   },
   "outputs": [
    {
     "data": {
      "text/plain": [
       "272"
      ]
     },
     "execution_count": 50,
     "metadata": {},
     "output_type": "execute_result"
    }
   ],
   "source": [
    "len(PL2_20W_signal)"
   ]
  },
  {
   "cell_type": "code",
   "execution_count": 51,
   "metadata": {
    "collapsed": false
   },
   "outputs": [],
   "source": [
    "# [3, 5, 9, 11, 20]\n",
    "trace_o = go.Scatter( x = x_axis,y=original_signal, marker={'size': \"15\"}, \n",
    "                    mode=\"lines\", name='Original Signal')\n",
    "trace_ma = go.Scatter( x = x_axis,y=MA_20W_signal, marker={'size': \"5\"}, \n",
    "                    mode=\"lines+markers\", name='Moving Average')\n",
    "trace_wma = go.Scatter( x = x_axis,y=WMA_20W_signal, marker={'size': \"10\"}, \n",
    "                    mode=\"markers\", name='Weighted Moving Average')\n",
    "trace_es = go.Scatter( x = x_axis,y=ES_A8_signal, marker={'size': \"10\"}, \n",
    "                    mode=\"lines+markers\", name='Exponential Smoothening')\n",
    "trace_est = go.Scatter( x = x_axis,y=EST_A8_signal, marker={'size': \"15\"}, \n",
    "                    mode=\"lines+markers\", name='Exponential Smoothening w/ Trend')\n",
    "trace_west = go.Scatter( x = x_axis,y=WEST_3W_A8_signal, marker={'size': \"5\"}, \n",
    "                    mode=\"markers\", name='Moving Window Exponential Smoothening w/ Trend')\n",
    "trace_pl = go.Scatter( x = x_axis,y=PL_20W_signal, marker={'size': \"10\"}, \n",
    "                    mode=\"lines+markers\", name='Piecewise Linear')\n",
    "trace_pl2 = go.Scatter( x = x_axis,y=PL2_20W_signal, marker={'size': \"5\"}, \n",
    "                    mode=\"markers\", name='Piecewise 2nd order polynomial')\n"
   ]
  },
  {
   "cell_type": "code",
   "execution_count": 43,
   "metadata": {
    "collapsed": false
   },
   "outputs": [
    {
     "data": {
      "text/html": [
       "<iframe id=\"igraph\" scrolling=\"no\" style=\"border:none;\" seamless=\"seamless\" src=\"https://plot.ly/~narsi/243.embed\" height=\"525px\" width=\"100%\"></iframe>"
      ],
      "text/plain": [
       "<plotly.tools.PlotlyDisplay object>"
      ]
     },
     "execution_count": 43,
     "metadata": {},
     "output_type": "execute_result"
    }
   ],
   "source": [
    "\n",
    "data=go.Data([trace_o,trace_ma,trace_wma])\n",
    "layout=go.Layout(title=\"Original vs MA vs WMA\")\n",
    "figure=go.Figure(data=data,layout=layout)\n",
    "py.iplot(figure)"
   ]
  },
  {
   "cell_type": "code",
   "execution_count": 44,
   "metadata": {
    "collapsed": false
   },
   "outputs": [
    {
     "data": {
      "text/html": [
       "<iframe id=\"igraph\" scrolling=\"no\" style=\"border:none;\" seamless=\"seamless\" src=\"https://plot.ly/~narsi/245.embed\" height=\"525px\" width=\"100%\"></iframe>"
      ],
      "text/plain": [
       "<plotly.tools.PlotlyDisplay object>"
      ]
     },
     "execution_count": 44,
     "metadata": {},
     "output_type": "execute_result"
    }
   ],
   "source": [
    "data=go.Data([trace_o,trace_es,trace_est,trace_west])\n",
    "layout=go.Layout(title=\"Original vs ES vs EST vs WEST\")\n",
    "figure=go.Figure(data=data,layout=layout)\n",
    "py.iplot(figure)"
   ]
  },
  {
   "cell_type": "code",
   "execution_count": 52,
   "metadata": {
    "collapsed": false
   },
   "outputs": [
    {
     "data": {
      "text/html": [
       "<iframe id=\"igraph\" scrolling=\"no\" style=\"border:none;\" seamless=\"seamless\" src=\"https://plot.ly/~narsi/251.embed\" height=\"525px\" width=\"100%\"></iframe>"
      ],
      "text/plain": [
       "<plotly.tools.PlotlyDisplay object>"
      ]
     },
     "execution_count": 52,
     "metadata": {},
     "output_type": "execute_result"
    }
   ],
   "source": [
    "data=go.Data([trace_o,trace_pl,trace_pl2])\n",
    "layout=go.Layout(title=\"Original vs Piecewise Linear vs Piecewise 2nd order polynomial\")\n",
    "figure=go.Figure(data=data,layout=layout)\n",
    "py.iplot(figure)"
   ]
  }
 ],
 "metadata": {
  "kernelspec": {
   "display_name": "Python 2",
   "language": "python",
   "name": "python2"
  },
  "language_info": {
   "codemirror_mode": {
    "name": "ipython",
    "version": 2
   },
   "file_extension": ".py",
   "mimetype": "text/x-python",
   "name": "python",
   "nbconvert_exporter": "python",
   "pygments_lexer": "ipython2",
   "version": "2.7.12"
  }
 },
 "nbformat": 4,
 "nbformat_minor": 0
}
