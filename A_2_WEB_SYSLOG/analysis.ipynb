{
 "cells": [
  {
   "cell_type": "code",
   "execution_count": 1,
   "metadata": {
    "collapsed": false
   },
   "outputs": [
    {
     "data": {
      "text/html": [
       "\n",
       "    <div class=\"bk-root\">\n",
       "        <a href=\"http://bokeh.pydata.org\" target=\"_blank\" class=\"bk-logo bk-logo-small bk-logo-notebook\"></a>\n",
       "        <span id=\"960610cd-e401-4cd8-a933-54dfcd579f0a\">Loading BokehJS ...</span>\n",
       "    </div>"
      ]
     },
     "metadata": {},
     "output_type": "display_data"
    },
    {
     "data": {
      "application/javascript": [
       "\n",
       "(function(global) {\n",
       "  function now() {\n",
       "    return new Date();\n",
       "  }\n",
       "\n",
       "  var force = \"1\";\n",
       "\n",
       "  if (typeof (window._bokeh_onload_callbacks) === \"undefined\" || force !== \"\") {\n",
       "    window._bokeh_onload_callbacks = [];\n",
       "    window._bokeh_is_loading = undefined;\n",
       "  }\n",
       "\n",
       "  function run_callbacks() {\n",
       "    window._bokeh_onload_callbacks.forEach(function(callback) { callback() });\n",
       "    delete window._bokeh_onload_callbacks\n",
       "    console.info(\"Bokeh: all callbacks have finished\");\n",
       "  }\n",
       "\n",
       "  function load_libs(js_urls, callback) {\n",
       "    window._bokeh_onload_callbacks.push(callback);\n",
       "    if (window._bokeh_is_loading > 0) {\n",
       "      console.log(\"Bokeh: BokehJS is being loaded, scheduling callback at\", now());\n",
       "      return null;\n",
       "    }\n",
       "    if (js_urls == null || js_urls.length === 0) {\n",
       "      run_callbacks();\n",
       "      return null;\n",
       "    }\n",
       "    console.log(\"Bokeh: BokehJS not loaded, scheduling load and callback at\", now());\n",
       "    window._bokeh_is_loading = js_urls.length;\n",
       "    for (var i = 0; i < js_urls.length; i++) {\n",
       "      var url = js_urls[i];\n",
       "      var s = document.createElement('script');\n",
       "      s.src = url;\n",
       "      s.async = false;\n",
       "      s.onreadystatechange = s.onload = function() {\n",
       "        window._bokeh_is_loading--;\n",
       "        if (window._bokeh_is_loading === 0) {\n",
       "          console.log(\"Bokeh: all BokehJS libraries loaded\");\n",
       "          run_callbacks()\n",
       "        }\n",
       "      };\n",
       "      s.onerror = function() {\n",
       "        console.warn(\"failed to load library \" + url);\n",
       "      };\n",
       "      console.log(\"Bokeh: injecting script tag for BokehJS library: \", url);\n",
       "      document.getElementsByTagName(\"head\")[0].appendChild(s);\n",
       "    }\n",
       "  };\n",
       "\n",
       "  var js_urls = ['https://cdn.pydata.org/bokeh/release/bokeh-0.12.1.min.js', 'https://cdn.pydata.org/bokeh/release/bokeh-widgets-0.12.1.min.js', 'https://cdn.pydata.org/bokeh/release/bokeh-compiler-0.12.1.min.js'];\n",
       "\n",
       "  var inline_js = [\n",
       "    function(Bokeh) {\n",
       "      Bokeh.set_log_level(\"info\");\n",
       "    },\n",
       "    \n",
       "    function(Bokeh) {\n",
       "      \n",
       "      Bokeh.$(\"#960610cd-e401-4cd8-a933-54dfcd579f0a\").text(\"BokehJS successfully loaded\");\n",
       "      var kernel = Jupyter.notebook.kernel\n",
       "      if (kernel.execute !== undefined) {\n",
       "          kernel.execute(\"import bokeh.io; bokeh.io._nb_loaded = True\");\n",
       "      }\n",
       "    },\n",
       "    function(Bokeh) {\n",
       "      console.log(\"Bokeh: injecting CSS: https://cdn.pydata.org/bokeh/release/bokeh-0.12.1.min.css\");\n",
       "      Bokeh.embed.inject_css(\"https://cdn.pydata.org/bokeh/release/bokeh-0.12.1.min.css\");\n",
       "      console.log(\"Bokeh: injecting CSS: https://cdn.pydata.org/bokeh/release/bokeh-widgets-0.12.1.min.css\");\n",
       "      Bokeh.embed.inject_css(\"https://cdn.pydata.org/bokeh/release/bokeh-widgets-0.12.1.min.css\");\n",
       "    }\n",
       "  ];\n",
       "\n",
       "  function run_inline_js() {\n",
       "    for (var i = 0; i < inline_js.length; i++) {\n",
       "      inline_js[i](window.Bokeh);\n",
       "    }\n",
       "  }\n",
       "\n",
       "  if (window._bokeh_is_loading === 0) {\n",
       "    console.log(\"Bokeh: BokehJS loaded, going straight to plotting\");\n",
       "    run_inline_js();\n",
       "  } else {\n",
       "    load_libs(js_urls, function() {\n",
       "      console.log(\"Bokeh: BokehJS plotting callback run at\", now());\n",
       "      run_inline_js();\n",
       "    });\n",
       "  }\n",
       "}(this));"
      ]
     },
     "metadata": {},
     "output_type": "display_data"
    }
   ],
   "source": [
    "import pandas as pd\n",
    "\n",
    "import time\n",
    "\n",
    "import os\n",
    "\n",
    "from datetime import datetime\n",
    "\n",
    "import numpy as np\n",
    "\n",
    "from bokeh.layouts import gridplot\n",
    "from bokeh.plotting import figure, show, output_file\n",
    "from bokeh.io import output_notebook\n",
    "from bokeh.palettes import Set1_5\n",
    "output_notebook()"
   ]
  },
  {
   "cell_type": "code",
   "execution_count": 2,
   "metadata": {
    "collapsed": true
   },
   "outputs": [],
   "source": [
    "src_folder = '/home/narsi/Documents/CSEE5690_data/A2_WEB_SYS_LOG/curated_logs'"
   ]
  },
  {
   "cell_type": "code",
   "execution_count": 3,
   "metadata": {
    "collapsed": true
   },
   "outputs": [],
   "source": [
    "def get_filepaths(directory):\n",
    "    \"\"\"\n",
    "    This function will generate the file names in a directory \n",
    "    tree by walking the tree either top-down or bottom-up. For each \n",
    "    directory in the tree rooted at directory top (including top itself), \n",
    "    it yields a 3-tuple (dirpath, dirnames, filenames).\n",
    "    \"\"\"\n",
    "    file_paths = []  # List which will store all of the full filepaths.\n",
    "\n",
    "    # Walk the tree.\n",
    "    for root, directories, files in os.walk(directory):\n",
    "        for filename in files:\n",
    "            # Join the two strings in order to form the full filepath.\n",
    "            filepath = os.path.join(root, filename)\n",
    "            file_paths.append(filepath)  # Add it to the list.\n",
    "\n",
    "    return file_paths  # Self-explanatory."
   ]
  },
  {
   "cell_type": "code",
   "execution_count": 4,
   "metadata": {
    "collapsed": true
   },
   "outputs": [],
   "source": [
    "file_path = get_filepaths(src_folder)"
   ]
  },
  {
   "cell_type": "code",
   "execution_count": 5,
   "metadata": {
    "collapsed": false
   },
   "outputs": [],
   "source": [
    "final_log = pd.DataFrame({'url' : [],'count' : [],'date' : []})\n",
    "unique_days = []\n",
    "for F in file_path:\n",
    "    log_data = pd.read_csv(F,',',header=None, error_bad_lines=False)\n",
    "    x = pd.Series.value_counts(log_data[4])\n",
    "    urls = []\n",
    "    count = np.asarray(x)\n",
    "    date = []\n",
    "    \n",
    "    unique_days.append(log_data[1][0])\n",
    "    \n",
    "    for i in range(len(x)):\n",
    "        date.append(log_data[1][0])\n",
    "        urls.append(x.axes[0][i])\n",
    "    dummy = pd.DataFrame({'url' : urls,'count' : count,'date' : date})\n",
    "    final_log = final_log.append(dummy)"
   ]
  },
  {
   "cell_type": "code",
   "execution_count": 6,
   "metadata": {
    "collapsed": false
   },
   "outputs": [],
   "source": [
    "unique_urls = np.asarray(pd.Series.value_counts(final_log['url']).axes[0])\n",
    "unique_date = pd.DataFrame({'date':pd.to_datetime(unique_days)}).sort_values(by='date')\n",
    "final_log['date'] = pd.to_datetime(final_log['date'])\n",
    "url_by_date_count = np.zeros((len(unique_urls),len(unique_date)))\n",
    "for i in range(len(unique_urls)):\n",
    "    for j in range(len(unique_date)):\n",
    "        x = np.asarray(final_log['count'][(final_log['date'] == unique_date['date'][j]) & (final_log['url'] == unique_urls[i])])\n",
    "        if len(x) == 0:\n",
    "            url_by_date_count[i][j] = 0\n",
    "        else:\n",
    "            url_by_date_count[i][j] = x\n"
   ]
  },
  {
   "cell_type": "code",
   "execution_count": 7,
   "metadata": {
    "collapsed": false
   },
   "outputs": [],
   "source": [
    "mean_count = np.mean(url_by_date_count,axis=1)\n",
    "top_5_urls = np.argsort(mean_count) # Sort in ascending order\n",
    "top_5_urls = top_5_urls[-5:]"
   ]
  },
  {
   "cell_type": "code",
   "execution_count": 8,
   "metadata": {
    "collapsed": false
   },
   "outputs": [
    {
     "data": {
      "text/html": [
       "\n",
       "\n",
       "    <div class=\"bk-root\">\n",
       "        <div class=\"plotdiv\" id=\"6b266ae5-89d4-4fdb-ba1f-42aa1658e1f3\"></div>\n",
       "    </div>\n",
       "<script type=\"text/javascript\">\n",
       "  \n",
       "  (function(global) {\n",
       "    function now() {\n",
       "      return new Date();\n",
       "    }\n",
       "  \n",
       "    var force = \"\";\n",
       "  \n",
       "    if (typeof (window._bokeh_onload_callbacks) === \"undefined\" || force !== \"\") {\n",
       "      window._bokeh_onload_callbacks = [];\n",
       "      window._bokeh_is_loading = undefined;\n",
       "    }\n",
       "  \n",
       "    function run_callbacks() {\n",
       "      window._bokeh_onload_callbacks.forEach(function(callback) { callback() });\n",
       "      delete window._bokeh_onload_callbacks\n",
       "      console.info(\"Bokeh: all callbacks have finished\");\n",
       "    }\n",
       "  \n",
       "    function load_libs(js_urls, callback) {\n",
       "      window._bokeh_onload_callbacks.push(callback);\n",
       "      if (window._bokeh_is_loading > 0) {\n",
       "        console.log(\"Bokeh: BokehJS is being loaded, scheduling callback at\", now());\n",
       "        return null;\n",
       "      }\n",
       "      if (js_urls == null || js_urls.length === 0) {\n",
       "        run_callbacks();\n",
       "        return null;\n",
       "      }\n",
       "      console.log(\"Bokeh: BokehJS not loaded, scheduling load and callback at\", now());\n",
       "      window._bokeh_is_loading = js_urls.length;\n",
       "      for (var i = 0; i < js_urls.length; i++) {\n",
       "        var url = js_urls[i];\n",
       "        var s = document.createElement('script');\n",
       "        s.src = url;\n",
       "        s.async = false;\n",
       "        s.onreadystatechange = s.onload = function() {\n",
       "          window._bokeh_is_loading--;\n",
       "          if (window._bokeh_is_loading === 0) {\n",
       "            console.log(\"Bokeh: all BokehJS libraries loaded\");\n",
       "            run_callbacks()\n",
       "          }\n",
       "        };\n",
       "        s.onerror = function() {\n",
       "          console.warn(\"failed to load library \" + url);\n",
       "        };\n",
       "        console.log(\"Bokeh: injecting script tag for BokehJS library: \", url);\n",
       "        document.getElementsByTagName(\"head\")[0].appendChild(s);\n",
       "      }\n",
       "    };var element = document.getElementById(\"6b266ae5-89d4-4fdb-ba1f-42aa1658e1f3\");\n",
       "    if (element == null) {\n",
       "      console.log(\"Bokeh: ERROR: autoload.js configured with elementid '6b266ae5-89d4-4fdb-ba1f-42aa1658e1f3' but no matching script tag was found. \")\n",
       "      return false;\n",
       "    }\n",
       "  \n",
       "    var js_urls = [];\n",
       "  \n",
       "    var inline_js = [\n",
       "      function(Bokeh) {\n",
       "        Bokeh.$(function() {\n",
       "            var docs_json = {\"bce5d26f-a485-43d6-9191-6fe66e4f9b69\":{\"roots\":{\"references\":[{\"attributes\":{},\"id\":\"0b487875-f992-49c8-8ac0-58cb02124042\",\"type\":\"DatetimeTickFormatter\"},{\"attributes\":{\"callback\":null},\"id\":\"128cde12-1b76-4109-99b0-5948c774141d\",\"type\":\"DataRange1d\"},{\"attributes\":{\"max_interval\":500.0,\"num_minor_ticks\":0},\"id\":\"c89d2cf3-85bc-47da-8e0a-c22d074905dc\",\"type\":\"AdaptiveTicker\"},{\"attributes\":{},\"id\":\"97538585-3196-4b7b-bbae-ebe24fd644a8\",\"type\":\"ToolEvents\"},{\"attributes\":{\"overlay\":{\"id\":\"f74bbff7-7f58-423e-974f-0cde568dc313\",\"type\":\"BoxAnnotation\"},\"plot\":{\"id\":\"d9a58eee-b84a-40ff-8113-5b91e133a1a7\",\"subtype\":\"Figure\",\"type\":\"Plot\"}},\"id\":\"c34e10a3-8a54-4254-9a04-c9466d3359ac\",\"type\":\"BoxZoomTool\"},{\"attributes\":{\"months\":[0,4,8]},\"id\":\"47649f9a-e10c-4c4b-a27a-90c286dd8879\",\"type\":\"MonthsTicker\"},{\"attributes\":{\"data_source\":{\"id\":\"4236904b-6a02-4ac2-978b-94c4f02cf6fe\",\"type\":\"ColumnDataSource\"},\"glyph\":{\"id\":\"8943134b-94f0-449d-b395-3d7c2e61637c\",\"type\":\"Line\"},\"hover_glyph\":null,\"nonselection_glyph\":{\"id\":\"48c456c7-0db6-45cd-84d5-9fe199fbd213\",\"type\":\"Line\"},\"selection_glyph\":null},\"id\":\"204eb240-7f02-4806-a3ac-957d51ecba3c\",\"type\":\"GlyphRenderer\"},{\"attributes\":{\"axis_label\":\"Date\",\"formatter\":{\"id\":\"0b487875-f992-49c8-8ac0-58cb02124042\",\"type\":\"DatetimeTickFormatter\"},\"plot\":{\"id\":\"d9a58eee-b84a-40ff-8113-5b91e133a1a7\",\"subtype\":\"Figure\",\"type\":\"Plot\"},\"ticker\":{\"id\":\"0d1d0b1a-598c-4ab9-b5ff-bf01b15eedbb\",\"type\":\"DatetimeTicker\"}},\"id\":\"0ce74005-99e2-4aba-bdf8-4b7e09d4bfbb\",\"type\":\"DatetimeAxis\"},{\"attributes\":{},\"id\":\"b3c51f41-cad7-4d48-89f0-bd6a147963b4\",\"type\":\"YearsTicker\"},{\"attributes\":{\"months\":[0,6]},\"id\":\"b98e4589-84ea-470d-b55d-d8d5239ffba7\",\"type\":\"MonthsTicker\"},{\"attributes\":{\"days\":[1,2,3,4,5,6,7,8,9,10,11,12,13,14,15,16,17,18,19,20,21,22,23,24,25,26,27,28,29,30,31]},\"id\":\"8a758fb6-20a8-45e6-bf2b-45767d55763d\",\"type\":\"DaysTicker\"},{\"attributes\":{\"callback\":null,\"column_names\":[\"y\",\"x\"],\"data\":{\"x\":[1468627200000.0,1468713600000.0,1468800000000.0,1468886400000.0,1468972800000.0,1469059200000.0,1469145600000.0,1469232000000.0,1469318400000.0,1469404800000.0,1469491200000.0,1469577600000.0,1469664000000.0,1469750400000.0,1469836800000.0,1469923200000.0,1470009600000.0,1470096000000.0,1470182400000.0,1470268800000.0,1470355200000.0,1470441600000.0,1470528000000.0,1470614400000.0,1470700800000.0,1470787200000.0,1470873600000.0,1470960000000.0,1471046400000.0,1471132800000.0,1471219200000.0,1471305600000.0,1471392000000.0,1471478400000.0,1471564800000.0],\"y\":[7.0,4.0,5.0,9.0,8.0,4.0,9.0,12.0,12.0,2.0,9.0,65.0,6.0,20.0,22.0,4.0,10.0,10.0,9.0,6.0,11.0,20.0,6.0,12.0,48.0,12.0,7.0,96.0,29.0,6.0,5.0,37.0,2.0,5.0,16.0]}},\"id\":\"67731a3e-e7e6-442b-9936-1f2bfa5661d4\",\"type\":\"ColumnDataSource\"},{\"attributes\":{\"plot\":{\"id\":\"d9a58eee-b84a-40ff-8113-5b91e133a1a7\",\"subtype\":\"Figure\",\"type\":\"Plot\"}},\"id\":\"f856f68e-71f1-494d-a2a7-55f191734c24\",\"type\":\"HelpTool\"},{\"attributes\":{\"plot\":{\"id\":\"d9a58eee-b84a-40ff-8113-5b91e133a1a7\",\"subtype\":\"Figure\",\"type\":\"Plot\"},\"ticker\":{\"id\":\"0d1d0b1a-598c-4ab9-b5ff-bf01b15eedbb\",\"type\":\"DatetimeTicker\"}},\"id\":\"cee1fae4-14a3-469f-bd3a-20097d466022\",\"type\":\"Grid\"},{\"attributes\":{\"below\":[{\"id\":\"0ce74005-99e2-4aba-bdf8-4b7e09d4bfbb\",\"type\":\"DatetimeAxis\"}],\"left\":[{\"id\":\"3b50ca73-71fb-4e1c-86f8-3f0ca0620f11\",\"type\":\"LinearAxis\"}],\"renderers\":[{\"id\":\"0ce74005-99e2-4aba-bdf8-4b7e09d4bfbb\",\"type\":\"DatetimeAxis\"},{\"id\":\"cee1fae4-14a3-469f-bd3a-20097d466022\",\"type\":\"Grid\"},{\"id\":\"3b50ca73-71fb-4e1c-86f8-3f0ca0620f11\",\"type\":\"LinearAxis\"},{\"id\":\"1e75dd70-83c5-4d07-b991-1d4706f646d2\",\"type\":\"Grid\"},{\"id\":\"f74bbff7-7f58-423e-974f-0cde568dc313\",\"type\":\"BoxAnnotation\"},{\"id\":\"c1dcec91-663c-423a-8226-f275761126b5\",\"type\":\"Legend\"},{\"id\":\"204eb240-7f02-4806-a3ac-957d51ecba3c\",\"type\":\"GlyphRenderer\"},{\"id\":\"bd9c1ffd-faae-4a79-8571-9a61fd56978f\",\"type\":\"GlyphRenderer\"},{\"id\":\"08a86718-45e5-4563-a2a3-acb4b6eed6b1\",\"type\":\"GlyphRenderer\"}],\"title\":{\"id\":\"6bacfc71-c144-458f-8cb7-48e854001989\",\"type\":\"Title\"},\"tool_events\":{\"id\":\"97538585-3196-4b7b-bbae-ebe24fd644a8\",\"type\":\"ToolEvents\"},\"toolbar\":{\"id\":\"2033d0b1-e45d-475f-b086-279f6d80efdc\",\"type\":\"Toolbar\"},\"x_range\":{\"id\":\"128cde12-1b76-4109-99b0-5948c774141d\",\"type\":\"DataRange1d\"},\"y_range\":{\"id\":\"2009c88b-ce8e-477b-a581-5757f4e744ba\",\"type\":\"DataRange1d\"}},\"id\":\"d9a58eee-b84a-40ff-8113-5b91e133a1a7\",\"subtype\":\"Figure\",\"type\":\"Plot\"},{\"attributes\":{\"legends\":[[\"networkrouting.net/index.html\",[{\"id\":\"204eb240-7f02-4806-a3ac-957d51ecba3c\",\"type\":\"GlyphRenderer\"}]],[\"networkrouting.net/robots.txt\",[{\"id\":\"bd9c1ffd-faae-4a79-8571-9a61fd56978f\",\"type\":\"GlyphRenderer\"}]],[\"networkrouting.net/docs/mr-chapter_1.pdf\",[{\"id\":\"08a86718-45e5-4563-a2a3-acb4b6eed6b1\",\"type\":\"GlyphRenderer\"}]]],\"location\":\"top_left\",\"plot\":{\"id\":\"d9a58eee-b84a-40ff-8113-5b91e133a1a7\",\"subtype\":\"Figure\",\"type\":\"Plot\"}},\"id\":\"c1dcec91-663c-423a-8226-f275761126b5\",\"type\":\"Legend\"},{\"attributes\":{\"data_source\":{\"id\":\"67731a3e-e7e6-442b-9936-1f2bfa5661d4\",\"type\":\"ColumnDataSource\"},\"glyph\":{\"id\":\"7c81c6ad-c957-45e4-8619-fd2f7ed8c0ac\",\"type\":\"Line\"},\"hover_glyph\":null,\"nonselection_glyph\":{\"id\":\"42417a1c-7c2e-4b70-ad69-64b3d5757c9e\",\"type\":\"Line\"},\"selection_glyph\":null},\"id\":\"08a86718-45e5-4563-a2a3-acb4b6eed6b1\",\"type\":\"GlyphRenderer\"},{\"attributes\":{\"callback\":null},\"id\":\"2009c88b-ce8e-477b-a581-5757f4e744ba\",\"type\":\"DataRange1d\"},{\"attributes\":{\"line_color\":{\"value\":\"#4daf4a\"},\"line_dash\":[6],\"line_width\":{\"value\":3},\"x\":{\"field\":\"x\"},\"y\":{\"field\":\"y\"}},\"id\":\"953dfdac-9ff5-457a-b22c-53decf9e7c49\",\"type\":\"Line\"},{\"attributes\":{\"plot\":{\"id\":\"d9a58eee-b84a-40ff-8113-5b91e133a1a7\",\"subtype\":\"Figure\",\"type\":\"Plot\"}},\"id\":\"e909c91b-357f-453c-b502-b31229c15e7a\",\"type\":\"WheelZoomTool\"},{\"attributes\":{\"line_alpha\":{\"value\":0.1},\"line_color\":{\"value\":\"#1f77b4\"},\"line_dash\":[6],\"line_width\":{\"value\":3},\"x\":{\"field\":\"x\"},\"y\":{\"field\":\"y\"}},\"id\":\"ed394d64-0b0c-43f3-830b-22f0756360a3\",\"type\":\"Line\"},{\"attributes\":{\"callback\":null,\"column_names\":[\"y\",\"x\"],\"data\":{\"x\":[1468627200000.0,1468713600000.0,1468800000000.0,1468886400000.0,1468972800000.0,1469059200000.0,1469145600000.0,1469232000000.0,1469318400000.0,1469404800000.0,1469491200000.0,1469577600000.0,1469664000000.0,1469750400000.0,1469836800000.0,1469923200000.0,1470009600000.0,1470096000000.0,1470182400000.0,1470268800000.0,1470355200000.0,1470441600000.0,1470528000000.0,1470614400000.0,1470700800000.0,1470787200000.0,1470873600000.0,1470960000000.0,1471046400000.0,1471132800000.0,1471219200000.0,1471305600000.0,1471392000000.0,1471478400000.0,1471564800000.0],\"y\":[49.0,29.0,33.0,20.0,17.0,29.0,25.0,30.0,25.0,15.0,46.0,31.0,27.0,23.0,37.0,19.0,31.0,41.0,29.0,24.0,30.0,64.0,26.0,24.0,28.0,35.0,23.0,31.0,15.0,30.0,65.0,38.0,46.0,30.0,27.0]}},\"id\":\"4236904b-6a02-4ac2-978b-94c4f02cf6fe\",\"type\":\"ColumnDataSource\"},{\"attributes\":{\"line_alpha\":{\"value\":0.1},\"line_color\":{\"value\":\"#1f77b4\"},\"line_width\":{\"value\":2},\"x\":{\"field\":\"x\"},\"y\":{\"field\":\"y\"}},\"id\":\"48c456c7-0db6-45cd-84d5-9fe199fbd213\",\"type\":\"Line\"},{\"attributes\":{\"plot\":{\"id\":\"d9a58eee-b84a-40ff-8113-5b91e133a1a7\",\"subtype\":\"Figure\",\"type\":\"Plot\"}},\"id\":\"4ffe033e-a4f2-4b4c-bf3d-a7547c52517a\",\"type\":\"PanTool\"},{\"attributes\":{\"days\":[1,8,15,22]},\"id\":\"5e86ee23-13aa-4564-b214-4c132adff356\",\"type\":\"DaysTicker\"},{\"attributes\":{\"axis_label\":\"Count\",\"formatter\":{\"id\":\"c69772ec-ca01-492a-850f-bdf7ce501382\",\"type\":\"BasicTickFormatter\"},\"plot\":{\"id\":\"d9a58eee-b84a-40ff-8113-5b91e133a1a7\",\"subtype\":\"Figure\",\"type\":\"Plot\"},\"ticker\":{\"id\":\"59e610b3-1af7-4449-983e-86581d13d72d\",\"type\":\"BasicTicker\"}},\"id\":\"3b50ca73-71fb-4e1c-86f8-3f0ca0620f11\",\"type\":\"LinearAxis\"},{\"attributes\":{},\"id\":\"59e610b3-1af7-4449-983e-86581d13d72d\",\"type\":\"BasicTicker\"},{\"attributes\":{\"days\":[1,4,7,10,13,16,19,22,25,28]},\"id\":\"7007311d-13ac-406a-b3cd-eeca313fe466\",\"type\":\"DaysTicker\"},{\"attributes\":{\"base\":24,\"mantissas\":[1,2,4,6,8,12],\"max_interval\":43200000.0,\"min_interval\":3600000.0,\"num_minor_ticks\":0},\"id\":\"442d087e-9158-4794-a2cd-287cce88b529\",\"type\":\"AdaptiveTicker\"},{\"attributes\":{\"plot\":{\"id\":\"d9a58eee-b84a-40ff-8113-5b91e133a1a7\",\"subtype\":\"Figure\",\"type\":\"Plot\"}},\"id\":\"d9aa617c-ee4d-4e3c-90e4-11000957f5c4\",\"type\":\"ResetTool\"},{\"attributes\":{\"dimension\":1,\"plot\":{\"id\":\"d9a58eee-b84a-40ff-8113-5b91e133a1a7\",\"subtype\":\"Figure\",\"type\":\"Plot\"},\"ticker\":{\"id\":\"59e610b3-1af7-4449-983e-86581d13d72d\",\"type\":\"BasicTicker\"}},\"id\":\"1e75dd70-83c5-4d07-b991-1d4706f646d2\",\"type\":\"Grid\"},{\"attributes\":{\"line_alpha\":{\"value\":0.1},\"line_color\":{\"value\":\"#1f77b4\"},\"line_dash\":[2,4],\"line_width\":{\"value\":4},\"x\":{\"field\":\"x\"},\"y\":{\"field\":\"y\"}},\"id\":\"42417a1c-7c2e-4b70-ad69-64b3d5757c9e\",\"type\":\"Line\"},{\"attributes\":{\"months\":[0,2,4,6,8,10]},\"id\":\"1fecc92a-c3a1-4067-87d8-1197de0c078c\",\"type\":\"MonthsTicker\"},{\"attributes\":{\"days\":[1,15]},\"id\":\"92dc11db-ffc2-475e-89b2-b4bd9f573c5d\",\"type\":\"DaysTicker\"},{\"attributes\":{\"bottom_units\":\"screen\",\"fill_alpha\":{\"value\":0.5},\"fill_color\":{\"value\":\"lightgrey\"},\"left_units\":\"screen\",\"level\":\"overlay\",\"line_alpha\":{\"value\":1.0},\"line_color\":{\"value\":\"black\"},\"line_dash\":[4,4],\"line_width\":{\"value\":2},\"plot\":null,\"render_mode\":\"css\",\"right_units\":\"screen\",\"top_units\":\"screen\"},\"id\":\"f74bbff7-7f58-423e-974f-0cde568dc313\",\"type\":\"BoxAnnotation\"},{\"attributes\":{\"plot\":{\"id\":\"d9a58eee-b84a-40ff-8113-5b91e133a1a7\",\"subtype\":\"Figure\",\"type\":\"Plot\"}},\"id\":\"68b8936a-27ed-4430-97df-f78a383e5436\",\"type\":\"SaveTool\"},{\"attributes\":{\"base\":60,\"mantissas\":[1,2,5,10,15,20,30],\"max_interval\":1800000.0,\"min_interval\":1000.0,\"num_minor_ticks\":0},\"id\":\"3734bca7-bd16-448e-a841-245da1d1167d\",\"type\":\"AdaptiveTicker\"},{\"attributes\":{\"num_minor_ticks\":5},\"id\":\"0d1d0b1a-598c-4ab9-b5ff-bf01b15eedbb\",\"type\":\"DatetimeTicker\"},{\"attributes\":{\"line_color\":{\"value\":\"#377eb8\"},\"line_width\":{\"value\":2},\"x\":{\"field\":\"x\"},\"y\":{\"field\":\"y\"}},\"id\":\"8943134b-94f0-449d-b395-3d7c2e61637c\",\"type\":\"Line\"},{\"attributes\":{},\"id\":\"c69772ec-ca01-492a-850f-bdf7ce501382\",\"type\":\"BasicTickFormatter\"},{\"attributes\":{\"active_drag\":\"auto\",\"active_scroll\":\"auto\",\"active_tap\":\"auto\",\"tools\":[{\"id\":\"4ffe033e-a4f2-4b4c-bf3d-a7547c52517a\",\"type\":\"PanTool\"},{\"id\":\"e909c91b-357f-453c-b502-b31229c15e7a\",\"type\":\"WheelZoomTool\"},{\"id\":\"c34e10a3-8a54-4254-9a04-c9466d3359ac\",\"type\":\"BoxZoomTool\"},{\"id\":\"68b8936a-27ed-4430-97df-f78a383e5436\",\"type\":\"SaveTool\"},{\"id\":\"d9aa617c-ee4d-4e3c-90e4-11000957f5c4\",\"type\":\"ResetTool\"},{\"id\":\"f856f68e-71f1-494d-a2a7-55f191734c24\",\"type\":\"HelpTool\"}]},\"id\":\"2033d0b1-e45d-475f-b086-279f6d80efdc\",\"type\":\"Toolbar\"},{\"attributes\":{\"data_source\":{\"id\":\"23bad155-a1e9-4f16-842d-f5692bd3e7bc\",\"type\":\"ColumnDataSource\"},\"glyph\":{\"id\":\"953dfdac-9ff5-457a-b22c-53decf9e7c49\",\"type\":\"Line\"},\"hover_glyph\":null,\"nonselection_glyph\":{\"id\":\"ed394d64-0b0c-43f3-830b-22f0756360a3\",\"type\":\"Line\"},\"selection_glyph\":null},\"id\":\"bd9c1ffd-faae-4a79-8571-9a61fd56978f\",\"type\":\"GlyphRenderer\"},{\"attributes\":{\"months\":[0,1,2,3,4,5,6,7,8,9,10,11]},\"id\":\"be4dc1d0-e5a6-4c51-ae4d-802bc8dd7676\",\"type\":\"MonthsTicker\"},{\"attributes\":{\"line_color\":{\"value\":\"#984ea3\"},\"line_dash\":[2,4],\"line_width\":{\"value\":4},\"x\":{\"field\":\"x\"},\"y\":{\"field\":\"y\"}},\"id\":\"7c81c6ad-c957-45e4-8619-fd2f7ed8c0ac\",\"type\":\"Line\"},{\"attributes\":{\"plot\":null,\"text\":\"Top-5 URL'S\"},\"id\":\"6bacfc71-c144-458f-8cb7-48e854001989\",\"type\":\"Title\"},{\"attributes\":{\"callback\":null,\"column_names\":[\"y\",\"x\"],\"data\":{\"x\":[1468627200000.0,1468713600000.0,1468800000000.0,1468886400000.0,1468972800000.0,1469059200000.0,1469145600000.0,1469232000000.0,1469318400000.0,1469404800000.0,1469491200000.0,1469577600000.0,1469664000000.0,1469750400000.0,1469836800000.0,1469923200000.0,1470009600000.0,1470096000000.0,1470182400000.0,1470268800000.0,1470355200000.0,1470441600000.0,1470528000000.0,1470614400000.0,1470700800000.0,1470787200000.0,1470873600000.0,1470960000000.0,1471046400000.0,1471132800000.0,1471219200000.0,1471305600000.0,1471392000000.0,1471478400000.0,1471564800000.0],\"y\":[30.0,28.0,24.0,17.0,21.0,22.0,16.0,19.0,9.0,15.0,30.0,19.0,27.0,12.0,12.0,13.0,17.0,18.0,43.0,26.0,17.0,28.0,44.0,21.0,25.0,26.0,29.0,21.0,11.0,29.0,26.0,17.0,19.0,17.0,20.0]}},\"id\":\"23bad155-a1e9-4f16-842d-f5692bd3e7bc\",\"type\":\"ColumnDataSource\"}],\"root_ids\":[\"d9a58eee-b84a-40ff-8113-5b91e133a1a7\"]},\"title\":\"Bokeh Application\",\"version\":\"0.12.1\"}};\n",
       "            var render_items = [{\"docid\":\"bce5d26f-a485-43d6-9191-6fe66e4f9b69\",\"elementid\":\"6b266ae5-89d4-4fdb-ba1f-42aa1658e1f3\",\"modelid\":\"d9a58eee-b84a-40ff-8113-5b91e133a1a7\",\"notebook_comms_target\":\"ad542095-aa1a-4508-b8f6-2630eb9fdb61\"}];\n",
       "            \n",
       "            Bokeh.embed.embed_items(docs_json, render_items);\n",
       "        });\n",
       "      },\n",
       "      function(Bokeh) {\n",
       "      }\n",
       "    ];\n",
       "  \n",
       "    function run_inline_js() {\n",
       "      for (var i = 0; i < inline_js.length; i++) {\n",
       "        inline_js[i](window.Bokeh);\n",
       "      }\n",
       "    }\n",
       "  \n",
       "    if (window._bokeh_is_loading === 0) {\n",
       "      console.log(\"Bokeh: BokehJS loaded, going straight to plotting\");\n",
       "      run_inline_js();\n",
       "    } else {\n",
       "      load_libs(js_urls, function() {\n",
       "        console.log(\"Bokeh: BokehJS plotting callback run at\", now());\n",
       "        run_inline_js();\n",
       "      });\n",
       "    }\n",
       "  }(this));\n",
       "</script>"
      ]
     },
     "metadata": {},
     "output_type": "display_data"
    },
    {
     "data": {
      "text/html": [
       "<p><code>&lt;Bokeh Notebook handle for <strong>In[8]</strong>&gt;</code></p>"
      ],
      "text/plain": [
       "<bokeh.io._CommsHandle at 0x7f60cc708dd0>"
      ]
     },
     "execution_count": 8,
     "metadata": {},
     "output_type": "execute_result"
    }
   ],
   "source": [
    "def datetime(x):\n",
    "    return np.array(x['date'], dtype=np.datetime64)\n",
    "\n",
    "line_type = ['solid', 'dashed', 'dotted']\n",
    "\n",
    "p1 = figure(x_axis_type=\"datetime\", title=\"Top-5 URL'S\")\n",
    "p1.xaxis.axis_label = 'Date'\n",
    "p1.yaxis.axis_label = 'Count'\n",
    "\n",
    "for i in range(1,4):\n",
    "    p1.line(datetime(unique_date),url_by_date_count[top_5_urls[-1 * i]], legend=unique_urls[top_5_urls[-1 * i]],color = Set1_5[i], line_width=i+1,line_dash = line_type[i-1])\n",
    "p1.legend.location = \"top_left\"\n",
    "show(p1)"
   ]
  },
  {
   "cell_type": "code",
   "execution_count": 31,
   "metadata": {
    "collapsed": false
   },
   "outputs": [],
   "source": [
    "File_name_list = []\n",
    "date_list = []\n",
    "for F in file_path:\n",
    "    X =  F.split('/') # Spliting the src file path to get only the file name at the end\n",
    "    file_name = X[-1].split('.')\n",
    "    date_name = file_name[0].split('_')\n",
    "    date_time = datetime.strptime(date_name[1]+date_name[2], ' %b %d %Y').strftime('%Y-%m-%d')\n",
    "    File_name_list.append(X[-1])\n",
    "    date_list.append(date_time)"
   ]
  },
  {
   "cell_type": "code",
   "execution_count": 35,
   "metadata": {
    "collapsed": false
   },
   "outputs": [],
   "source": [
    "pd.DataFrame({'File Name':File_name_list,'Date':date_list}).sort_values(by='Date').to_csv('dates_order.csv', header=False, index=False)"
   ]
  }
 ],
 "metadata": {
  "kernelspec": {
   "display_name": "Python 2",
   "language": "python",
   "name": "python2"
  },
  "language_info": {
   "codemirror_mode": {
    "name": "ipython",
    "version": 2
   },
   "file_extension": ".py",
   "mimetype": "text/x-python",
   "name": "python",
   "nbconvert_exporter": "python",
   "pygments_lexer": "ipython2",
   "version": "2.7.12"
  }
 },
 "nbformat": 4,
 "nbformat_minor": 0
}
