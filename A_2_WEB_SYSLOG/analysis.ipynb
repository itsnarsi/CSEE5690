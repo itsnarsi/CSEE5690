{
 "cells": [
  {
   "cell_type": "code",
   "execution_count": 1,
   "metadata": {
    "collapsed": true
   },
   "outputs": [],
   "source": [
    "%matplotlib inline\n",
    "\n",
    "import matplotlib\n",
    "import numpy as np\n",
    "import matplotlib.pyplot as plt\n",
    "import scipy\n",
    "\n",
    "import pandas as pd\n",
    "\n",
    "import cPickle\n",
    "\n",
    "import time\n",
    "\n",
    "import pyprind"
   ]
  },
  {
   "cell_type": "markdown",
   "metadata": {},
   "source": [
    "Linux src folder"
   ]
  },
  {
   "cell_type": "code",
   "execution_count": 2,
   "metadata": {
    "collapsed": true
   },
   "outputs": [],
   "source": [
    "src_folder = '/home/narsi/Documents/CSEE5690_data/A2_WEB_SYS_LOG/NetworkRouting-website/NetworkRouting-website'"
   ]
  },
  {
   "cell_type": "code",
   "execution_count": 23,
   "metadata": {
    "collapsed": false
   },
   "outputs": [
    {
     "data": {
      "text/html": [
       "<div>\n",
       "<table border=\"1\" class=\"dataframe\">\n",
       "  <thead>\n",
       "    <tr style=\"text-align: right;\">\n",
       "      <th></th>\n",
       "      <th>dmedhi 61.134.50.169 - - [05/Aug/2016:00:18:46 -0700]</th>\n",
       "      <th>GET www.networkrouting.net/index.html HTTP/1.1</th>\n",
       "      <th>200 13323</th>\n",
       "      <th>-</th>\n",
       "      <th></th>\n",
       "      <th>Mozilla/5.0 (Windows; U; MSIE 6.0; Windows NT 5.1; SV1; .NET CLR 2.0.50727; BIDUBrowser 7.6)</th>\n",
       "      <th>Unnamed: 6</th>\n",
       "    </tr>\n",
       "  </thead>\n",
       "  <tbody>\n",
       "    <tr>\n",
       "      <th>0</th>\n",
       "      <td>dmedhi 61.134.50.169 - - [05/Aug/2016:00:19:59...</td>\n",
       "      <td>GET www.networkrouting.net/favicon.ico HTTP/1.1</td>\n",
       "      <td>200 0</td>\n",
       "      <td>-</td>\n",
       "      <td></td>\n",
       "      <td>Mozilla/5.0 (Windows; U; MSIE 6.0; Windows NT ...</td>\n",
       "      <td>NaN</td>\n",
       "    </tr>\n",
       "    <tr>\n",
       "      <th>1</th>\n",
       "      <td>dmedhi 61.134.50.169 - - [05/Aug/2016:00:19:59...</td>\n",
       "      <td>GET www.networkrouting.net/index.html HTTP/1.1</td>\n",
       "      <td>200 13323</td>\n",
       "      <td>-</td>\n",
       "      <td></td>\n",
       "      <td>Mozilla/5.0 (Windows; U; MSIE 6.0; Windows NT ...</td>\n",
       "      <td>NaN</td>\n",
       "    </tr>\n",
       "    <tr>\n",
       "      <th>2</th>\n",
       "      <td>dmedhi 61.134.50.169 - - [05/Aug/2016:00:21:04...</td>\n",
       "      <td>GET www.networkrouting.net/favicon.ico HTTP/1.1</td>\n",
       "      <td>200 0</td>\n",
       "      <td>-</td>\n",
       "      <td></td>\n",
       "      <td>Mozilla/5.0 (Windows; U; MSIE 6.0; Windows NT ...</td>\n",
       "      <td>NaN</td>\n",
       "    </tr>\n",
       "    <tr>\n",
       "      <th>3</th>\n",
       "      <td>dmedhi 61.134.50.169 - - [05/Aug/2016:00:21:04...</td>\n",
       "      <td>GET www.networkrouting.net/index.html HTTP/1.1</td>\n",
       "      <td>200 13323</td>\n",
       "      <td>-</td>\n",
       "      <td></td>\n",
       "      <td>Mozilla/5.0 (Windows; U; MSIE 6.0; Windows NT ...</td>\n",
       "      <td>NaN</td>\n",
       "    </tr>\n",
       "    <tr>\n",
       "      <th>4</th>\n",
       "      <td>dmedhi 61.134.50.169 - - [05/Aug/2016:00:22:24...</td>\n",
       "      <td>GET www.networkrouting.net/favicon.ico HTTP/1.1</td>\n",
       "      <td>200 0</td>\n",
       "      <td>-</td>\n",
       "      <td></td>\n",
       "      <td>Mozilla/5.0 (Windows; U; MSIE 6.0; Windows NT ...</td>\n",
       "      <td>NaN</td>\n",
       "    </tr>\n",
       "  </tbody>\n",
       "</table>\n",
       "</div>"
      ],
      "text/plain": [
       "  dmedhi 61.134.50.169 - - [05/Aug/2016:00:18:46 -0700]   \\\n",
       "0  dmedhi 61.134.50.169 - - [05/Aug/2016:00:19:59...       \n",
       "1  dmedhi 61.134.50.169 - - [05/Aug/2016:00:19:59...       \n",
       "2  dmedhi 61.134.50.169 - - [05/Aug/2016:00:21:04...       \n",
       "3  dmedhi 61.134.50.169 - - [05/Aug/2016:00:21:04...       \n",
       "4  dmedhi 61.134.50.169 - - [05/Aug/2016:00:22:24...       \n",
       "\n",
       "    GET www.networkrouting.net/index.html HTTP/1.1   200 13323   -     \\\n",
       "0  GET www.networkrouting.net/favicon.ico HTTP/1.1       200 0   -      \n",
       "1   GET www.networkrouting.net/index.html HTTP/1.1   200 13323   -      \n",
       "2  GET www.networkrouting.net/favicon.ico HTTP/1.1       200 0   -      \n",
       "3   GET www.networkrouting.net/index.html HTTP/1.1   200 13323   -      \n",
       "4  GET www.networkrouting.net/favicon.ico HTTP/1.1       200 0   -      \n",
       "\n",
       "  Mozilla/5.0 (Windows; U; MSIE 6.0; Windows NT 5.1; SV1; .NET CLR 2.0.50727; BIDUBrowser 7.6)  \\\n",
       "0  Mozilla/5.0 (Windows; U; MSIE 6.0; Windows NT ...                                             \n",
       "1  Mozilla/5.0 (Windows; U; MSIE 6.0; Windows NT ...                                             \n",
       "2  Mozilla/5.0 (Windows; U; MSIE 6.0; Windows NT ...                                             \n",
       "3  Mozilla/5.0 (Windows; U; MSIE 6.0; Windows NT ...                                             \n",
       "4  Mozilla/5.0 (Windows; U; MSIE 6.0; Windows NT ...                                             \n",
       "\n",
       "   Unnamed: 6  \n",
       "0         NaN  \n",
       "1         NaN  \n",
       "2         NaN  \n",
       "3         NaN  \n",
       "4         NaN  "
      ]
     },
     "execution_count": 23,
     "metadata": {},
     "output_type": "execute_result"
    }
   ],
   "source": [
    "log_data = pd.read_csv(src_folder+'/Fri, Aug 5, 2016.log','\"')\n",
    "\n",
    "log_data.head() "
   ]
  }
 ],
 "metadata": {
  "kernelspec": {
   "display_name": "Python 2",
   "language": "python",
   "name": "python2"
  },
  "language_info": {
   "codemirror_mode": {
    "name": "ipython",
    "version": 2
   },
   "file_extension": ".py",
   "mimetype": "text/x-python",
   "name": "python",
   "nbconvert_exporter": "python",
   "pygments_lexer": "ipython2",
   "version": "2.7.12"
  }
 },
 "nbformat": 4,
 "nbformat_minor": 0
}
