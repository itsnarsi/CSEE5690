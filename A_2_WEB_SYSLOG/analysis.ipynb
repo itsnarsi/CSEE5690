{
 "cells": [
  {
   "cell_type": "code",
   "execution_count": 1,
   "metadata": {
    "collapsed": false
   },
   "outputs": [
    {
     "data": {
      "text/html": [
       "\n",
       "    <div class=\"bk-root\">\n",
       "        <a href=\"http://bokeh.pydata.org\" target=\"_blank\" class=\"bk-logo bk-logo-small bk-logo-notebook\"></a>\n",
       "        <span id=\"0814da58-4dea-4afa-b7db-b09019910bdb\">Loading BokehJS ...</span>\n",
       "    </div>"
      ]
     },
     "metadata": {},
     "output_type": "display_data"
    },
    {
     "data": {
      "application/javascript": [
       "\n",
       "(function(global) {\n",
       "  function now() {\n",
       "    return new Date();\n",
       "  }\n",
       "\n",
       "  var force = \"1\";\n",
       "\n",
       "  if (typeof (window._bokeh_onload_callbacks) === \"undefined\" || force !== \"\") {\n",
       "    window._bokeh_onload_callbacks = [];\n",
       "    window._bokeh_is_loading = undefined;\n",
       "  }\n",
       "\n",
       "  function run_callbacks() {\n",
       "    window._bokeh_onload_callbacks.forEach(function(callback) { callback() });\n",
       "    delete window._bokeh_onload_callbacks\n",
       "    console.info(\"Bokeh: all callbacks have finished\");\n",
       "  }\n",
       "\n",
       "  function load_libs(js_urls, callback) {\n",
       "    window._bokeh_onload_callbacks.push(callback);\n",
       "    if (window._bokeh_is_loading > 0) {\n",
       "      console.log(\"Bokeh: BokehJS is being loaded, scheduling callback at\", now());\n",
       "      return null;\n",
       "    }\n",
       "    if (js_urls == null || js_urls.length === 0) {\n",
       "      run_callbacks();\n",
       "      return null;\n",
       "    }\n",
       "    console.log(\"Bokeh: BokehJS not loaded, scheduling load and callback at\", now());\n",
       "    window._bokeh_is_loading = js_urls.length;\n",
       "    for (var i = 0; i < js_urls.length; i++) {\n",
       "      var url = js_urls[i];\n",
       "      var s = document.createElement('script');\n",
       "      s.src = url;\n",
       "      s.async = false;\n",
       "      s.onreadystatechange = s.onload = function() {\n",
       "        window._bokeh_is_loading--;\n",
       "        if (window._bokeh_is_loading === 0) {\n",
       "          console.log(\"Bokeh: all BokehJS libraries loaded\");\n",
       "          run_callbacks()\n",
       "        }\n",
       "      };\n",
       "      s.onerror = function() {\n",
       "        console.warn(\"failed to load library \" + url);\n",
       "      };\n",
       "      console.log(\"Bokeh: injecting script tag for BokehJS library: \", url);\n",
       "      document.getElementsByTagName(\"head\")[0].appendChild(s);\n",
       "    }\n",
       "  };\n",
       "\n",
       "  var js_urls = ['https://cdn.pydata.org/bokeh/release/bokeh-0.12.1.min.js', 'https://cdn.pydata.org/bokeh/release/bokeh-widgets-0.12.1.min.js', 'https://cdn.pydata.org/bokeh/release/bokeh-compiler-0.12.1.min.js'];\n",
       "\n",
       "  var inline_js = [\n",
       "    function(Bokeh) {\n",
       "      Bokeh.set_log_level(\"info\");\n",
       "    },\n",
       "    \n",
       "    function(Bokeh) {\n",
       "      \n",
       "      Bokeh.$(\"#0814da58-4dea-4afa-b7db-b09019910bdb\").text(\"BokehJS successfully loaded\");\n",
       "      var kernel = Jupyter.notebook.kernel\n",
       "      if (kernel.execute !== undefined) {\n",
       "          kernel.execute(\"import bokeh.io; bokeh.io._nb_loaded = True\");\n",
       "      }\n",
       "    },\n",
       "    function(Bokeh) {\n",
       "      console.log(\"Bokeh: injecting CSS: https://cdn.pydata.org/bokeh/release/bokeh-0.12.1.min.css\");\n",
       "      Bokeh.embed.inject_css(\"https://cdn.pydata.org/bokeh/release/bokeh-0.12.1.min.css\");\n",
       "      console.log(\"Bokeh: injecting CSS: https://cdn.pydata.org/bokeh/release/bokeh-widgets-0.12.1.min.css\");\n",
       "      Bokeh.embed.inject_css(\"https://cdn.pydata.org/bokeh/release/bokeh-widgets-0.12.1.min.css\");\n",
       "    }\n",
       "  ];\n",
       "\n",
       "  function run_inline_js() {\n",
       "    for (var i = 0; i < inline_js.length; i++) {\n",
       "      inline_js[i](window.Bokeh);\n",
       "    }\n",
       "  }\n",
       "\n",
       "  if (window._bokeh_is_loading === 0) {\n",
       "    console.log(\"Bokeh: BokehJS loaded, going straight to plotting\");\n",
       "    run_inline_js();\n",
       "  } else {\n",
       "    load_libs(js_urls, function() {\n",
       "      console.log(\"Bokeh: BokehJS plotting callback run at\", now());\n",
       "      run_inline_js();\n",
       "    });\n",
       "  }\n",
       "}(this));"
      ]
     },
     "metadata": {},
     "output_type": "display_data"
    }
   ],
   "source": [
    "import pandas as pd\n",
    "\n",
    "import time\n",
    "\n",
    "import os\n",
    "\n",
    "from datetime import datetime\n",
    "\n",
    "import numpy as np\n",
    "\n",
    "from bokeh.layouts import gridplot\n",
    "from bokeh.plotting import figure, show, output_file\n",
    "from bokeh.io import output_notebook\n",
    "from bokeh.palettes import Set1_5\n",
    "output_notebook()"
   ]
  },
  {
   "cell_type": "code",
   "execution_count": 2,
   "metadata": {
    "collapsed": true
   },
   "outputs": [],
   "source": [
    "src_folder = '/home/narsi/Documents/CSEE5690_data/A2_WEB_SYS_LOG/curated_logs'"
   ]
  },
  {
   "cell_type": "code",
   "execution_count": 3,
   "metadata": {
    "collapsed": true
   },
   "outputs": [],
   "source": [
    "def get_filepaths(directory):\n",
    "    \"\"\"\n",
    "    This function will generate the file names in a directory \n",
    "    tree by walking the tree either top-down or bottom-up. For each \n",
    "    directory in the tree rooted at directory top (including top itself), \n",
    "    it yields a 3-tuple (dirpath, dirnames, filenames).\n",
    "    \"\"\"\n",
    "    file_paths = []  # List which will store all of the full filepaths.\n",
    "\n",
    "    # Walk the tree.\n",
    "    for root, directories, files in os.walk(directory):\n",
    "        for filename in files:\n",
    "            # Join the two strings in order to form the full filepath.\n",
    "            filepath = os.path.join(root, filename)\n",
    "            file_paths.append(filepath)  # Add it to the list.\n",
    "\n",
    "    return file_paths  # Self-explanatory."
   ]
  },
  {
   "cell_type": "code",
   "execution_count": 4,
   "metadata": {
    "collapsed": true
   },
   "outputs": [],
   "source": [
    "file_path = get_filepaths(src_folder)"
   ]
  },
  {
   "cell_type": "code",
   "execution_count": 5,
   "metadata": {
    "collapsed": false
   },
   "outputs": [],
   "source": [
    "final_log = pd.DataFrame({'url' : [],'count' : [],'date' : []})\n",
    "unique_days = []\n",
    "for F in file_path:\n",
    "    log_data = pd.read_csv(F,',',header=None, error_bad_lines=False)\n",
    "    x = pd.Series.value_counts(log_data[4])\n",
    "    urls = []\n",
    "    count = np.asarray(x)\n",
    "    date = []\n",
    "    \n",
    "    unique_days.append(log_data[1][0])\n",
    "    \n",
    "    for i in range(len(x)):\n",
    "        date.append(log_data[1][0])\n",
    "        urls.append(x.axes[0][i])\n",
    "    dummy = pd.DataFrame({'url' : urls,'count' : count,'date' : date})\n",
    "    final_log = final_log.append(dummy)"
   ]
  },
  {
   "cell_type": "code",
   "execution_count": 6,
   "metadata": {
    "collapsed": false
   },
   "outputs": [],
   "source": [
    "unique_urls = np.asarray(pd.Series.value_counts(final_log['url']).axes[0])\n",
    "unique_date = pd.DataFrame({'date':pd.to_datetime(unique_days)}).sort_values(by='date',ascending=1)\n",
    "final_log['date'] = pd.to_datetime(final_log['date'])\n",
    "url_by_date_count = np.zeros((len(unique_urls),len(unique_date)))\n",
    "for i in range(len(unique_urls)):\n",
    "    for j in range(len(unique_date)):\n",
    "        x = np.asarray(final_log['count'][(final_log['date'] == unique_date['date'][j]) & (final_log['url'] == unique_urls[i])])\n",
    "        if len(x) == 0:\n",
    "            url_by_date_count[i][j] = 0\n",
    "        else:\n",
    "            url_by_date_count[i][j] = x\n"
   ]
  },
  {
   "cell_type": "code",
   "execution_count": 13,
   "metadata": {
    "collapsed": false
   },
   "outputs": [],
   "source": [
    "unique_count = []\n",
    "unique_data = []\n",
    "for F in file_path:\n",
    "    log_data = pd.read_csv(F,',',header=None, error_bad_lines=False)\n",
    "    unique_count.append(len(log_data[0].unique()))\n",
    "    unique_data.append(log_data[1][0])                    \n",
    "\n",
    "unique_visitors_log = pd.DataFrame({'count' : unique_count,'date' : unique_data})\n",
    "unique_visitors_log['date'] = pd.to_datetime(unique_visitors_log['date'])\n",
    "unique_visitors_log = unique_visitors_log.sort_values(by='date',ascending=1)\n",
    "avg_count = np.mean(unique_visitors_log['count'])"
   ]
  },
  {
   "cell_type": "code",
   "execution_count": 15,
   "metadata": {
    "collapsed": false
   },
   "outputs": [
    {
     "data": {
      "text/html": [
       "\n",
       "\n",
       "    <div class=\"bk-root\">\n",
       "        <div class=\"plotdiv\" id=\"b2270e7e-05a3-4f20-82b0-6b697a75c03e\"></div>\n",
       "    </div>\n",
       "<script type=\"text/javascript\">\n",
       "  \n",
       "  (function(global) {\n",
       "    function now() {\n",
       "      return new Date();\n",
       "    }\n",
       "  \n",
       "    var force = \"\";\n",
       "  \n",
       "    if (typeof (window._bokeh_onload_callbacks) === \"undefined\" || force !== \"\") {\n",
       "      window._bokeh_onload_callbacks = [];\n",
       "      window._bokeh_is_loading = undefined;\n",
       "    }\n",
       "  \n",
       "    function run_callbacks() {\n",
       "      window._bokeh_onload_callbacks.forEach(function(callback) { callback() });\n",
       "      delete window._bokeh_onload_callbacks\n",
       "      console.info(\"Bokeh: all callbacks have finished\");\n",
       "    }\n",
       "  \n",
       "    function load_libs(js_urls, callback) {\n",
       "      window._bokeh_onload_callbacks.push(callback);\n",
       "      if (window._bokeh_is_loading > 0) {\n",
       "        console.log(\"Bokeh: BokehJS is being loaded, scheduling callback at\", now());\n",
       "        return null;\n",
       "      }\n",
       "      if (js_urls == null || js_urls.length === 0) {\n",
       "        run_callbacks();\n",
       "        return null;\n",
       "      }\n",
       "      console.log(\"Bokeh: BokehJS not loaded, scheduling load and callback at\", now());\n",
       "      window._bokeh_is_loading = js_urls.length;\n",
       "      for (var i = 0; i < js_urls.length; i++) {\n",
       "        var url = js_urls[i];\n",
       "        var s = document.createElement('script');\n",
       "        s.src = url;\n",
       "        s.async = false;\n",
       "        s.onreadystatechange = s.onload = function() {\n",
       "          window._bokeh_is_loading--;\n",
       "          if (window._bokeh_is_loading === 0) {\n",
       "            console.log(\"Bokeh: all BokehJS libraries loaded\");\n",
       "            run_callbacks()\n",
       "          }\n",
       "        };\n",
       "        s.onerror = function() {\n",
       "          console.warn(\"failed to load library \" + url);\n",
       "        };\n",
       "        console.log(\"Bokeh: injecting script tag for BokehJS library: \", url);\n",
       "        document.getElementsByTagName(\"head\")[0].appendChild(s);\n",
       "      }\n",
       "    };var element = document.getElementById(\"b2270e7e-05a3-4f20-82b0-6b697a75c03e\");\n",
       "    if (element == null) {\n",
       "      console.log(\"Bokeh: ERROR: autoload.js configured with elementid 'b2270e7e-05a3-4f20-82b0-6b697a75c03e' but no matching script tag was found. \")\n",
       "      return false;\n",
       "    }\n",
       "  \n",
       "    var js_urls = [];\n",
       "  \n",
       "    var inline_js = [\n",
       "      function(Bokeh) {\n",
       "        Bokeh.$(function() {\n",
       "            var docs_json = {\"ead60a34-28bf-42de-951f-e18ea831b74a\":{\"roots\":{\"references\":[{\"attributes\":{\"data_source\":{\"id\":\"0f3c62e8-fb8a-4a3b-8fea-c474898873ec\",\"type\":\"ColumnDataSource\"},\"glyph\":{\"id\":\"501539fd-2d30-4214-885b-d6fb5561387d\",\"type\":\"Line\"},\"hover_glyph\":null,\"nonselection_glyph\":{\"id\":\"a959dd57-7cd3-4403-aeb7-e01ab960b0c0\",\"type\":\"Line\"},\"selection_glyph\":null},\"id\":\"afc9be9e-1812-4163-a17c-baae5b6d3eaf\",\"type\":\"GlyphRenderer\"},{\"attributes\":{\"plot\":{\"id\":\"f070e745-545f-4493-9bcb-ee2ce2087d42\",\"subtype\":\"Figure\",\"type\":\"Plot\"}},\"id\":\"92d8013f-7705-458a-a18d-2261715c2546\",\"type\":\"ResetTool\"},{\"attributes\":{\"callback\":null},\"id\":\"e659a50f-65ff-40a7-a77d-dc556ad619b4\",\"type\":\"DataRange1d\"},{\"attributes\":{\"callback\":null,\"column_names\":[\"y\",\"x\"],\"data\":{\"x\":[1468627200000.0,1468713600000.0,1468800000000.0,1468886400000.0,1468972800000.0,1469059200000.0,1469145600000.0,1469232000000.0,1469318400000.0,1469404800000.0,1469491200000.0,1469577600000.0,1469664000000.0,1469750400000.0,1469836800000.0,1469923200000.0,1470009600000.0,1470096000000.0,1470182400000.0,1470268800000.0,1470355200000.0,1470441600000.0,1470528000000.0,1470614400000.0,1470700800000.0,1470787200000.0,1470873600000.0,1470960000000.0,1471046400000.0,1471132800000.0,1471219200000.0,1471305600000.0,1471392000000.0,1471478400000.0,1471564800000.0],\"y\":[55,37,51,39,73,51,53,58,57,76,53,50,65,54,46,40,55,53,66,76,65,42,39,55,70,59,59,61,63,46,42,62,63,69,51]}},\"id\":\"0f3c62e8-fb8a-4a3b-8fea-c474898873ec\",\"type\":\"ColumnDataSource\"},{\"attributes\":{\"plot\":{\"id\":\"f070e745-545f-4493-9bcb-ee2ce2087d42\",\"subtype\":\"Figure\",\"type\":\"Plot\"}},\"id\":\"345743b6-dd9a-4099-96c1-911006d10132\",\"type\":\"SaveTool\"},{\"attributes\":{\"callback\":null,\"column_names\":[\"y\",\"x\"],\"data\":{\"x\":[1468627200000.0,1468713600000.0,1468800000000.0,1468886400000.0,1468972800000.0,1469059200000.0,1469145600000.0,1469232000000.0,1469318400000.0,1469404800000.0,1469491200000.0,1469577600000.0,1469664000000.0,1469750400000.0,1469836800000.0,1469923200000.0,1470009600000.0,1470096000000.0,1470182400000.0,1470268800000.0,1470355200000.0,1470441600000.0,1470528000000.0,1470614400000.0,1470700800000.0,1470787200000.0,1470873600000.0,1470960000000.0,1471046400000.0,1471132800000.0,1471219200000.0,1471305600000.0,1471392000000.0,1471478400000.0,1471564800000.0],\"y\":[55.82857142857143,55.82857142857143,55.82857142857143,55.82857142857143,55.82857142857143,55.82857142857143,55.82857142857143,55.82857142857143,55.82857142857143,55.82857142857143,55.82857142857143,55.82857142857143,55.82857142857143,55.82857142857143,55.82857142857143,55.82857142857143,55.82857142857143,55.82857142857143,55.82857142857143,55.82857142857143,55.82857142857143,55.82857142857143,55.82857142857143,55.82857142857143,55.82857142857143,55.82857142857143,55.82857142857143,55.82857142857143,55.82857142857143,55.82857142857143,55.82857142857143,55.82857142857143,55.82857142857143,55.82857142857143,55.82857142857143]}},\"id\":\"b8327350-c2f2-4205-bda1-f4d098ee1f05\",\"type\":\"ColumnDataSource\"},{\"attributes\":{\"months\":[0,1,2,3,4,5,6,7,8,9,10,11]},\"id\":\"bd401927-6e1d-4e17-b702-eaf1c7bba85c\",\"type\":\"MonthsTicker\"},{\"attributes\":{\"months\":[0,4,8]},\"id\":\"3829836f-7c24-4771-a611-20720a326f60\",\"type\":\"MonthsTicker\"},{\"attributes\":{\"base\":60,\"mantissas\":[1,2,5,10,15,20,30],\"max_interval\":1800000.0,\"min_interval\":1000.0,\"num_minor_ticks\":0},\"id\":\"947de9d5-7c83-40df-8d27-544f8f24f1a7\",\"type\":\"AdaptiveTicker\"},{\"attributes\":{\"below\":[{\"id\":\"007fef28-fda1-43ef-b227-be31fb7a3565\",\"type\":\"DatetimeAxis\"}],\"left\":[{\"id\":\"e0a14963-b817-4558-a525-f9e5d491ae47\",\"type\":\"LinearAxis\"}],\"plot_height\":700,\"plot_width\":1000,\"renderers\":[{\"id\":\"007fef28-fda1-43ef-b227-be31fb7a3565\",\"type\":\"DatetimeAxis\"},{\"id\":\"a2897de8-99a3-4d1c-813b-1f06b26965a0\",\"type\":\"Grid\"},{\"id\":\"e0a14963-b817-4558-a525-f9e5d491ae47\",\"type\":\"LinearAxis\"},{\"id\":\"b634dd9c-a725-4ada-8b59-fa6960d09903\",\"type\":\"Grid\"},{\"id\":\"2f172aff-f1de-4959-9cc6-eda08f2ae3eb\",\"type\":\"BoxAnnotation\"},{\"id\":\"3a951c8d-3f1f-4739-b4bc-9fd1f7d7b96d\",\"type\":\"Legend\"},{\"id\":\"afc9be9e-1812-4163-a17c-baae5b6d3eaf\",\"type\":\"GlyphRenderer\"},{\"id\":\"a9730e81-05f4-4f1b-baed-a895d0316f12\",\"type\":\"GlyphRenderer\"}],\"title\":{\"id\":\"a2277639-79b7-4402-92cc-0e38309e11d9\",\"type\":\"Title\"},\"tool_events\":{\"id\":\"302727ad-c1fa-4ff9-940a-4e68ea003fee\",\"type\":\"ToolEvents\"},\"toolbar\":{\"id\":\"eb0f2c8d-d96f-446b-82d3-cc5fce8513e5\",\"type\":\"Toolbar\"},\"x_range\":{\"id\":\"0ec61c15-d48b-46ee-96ed-f0ca9887cd27\",\"type\":\"DataRange1d\"},\"y_range\":{\"id\":\"e659a50f-65ff-40a7-a77d-dc556ad619b4\",\"type\":\"DataRange1d\"}},\"id\":\"f070e745-545f-4493-9bcb-ee2ce2087d42\",\"subtype\":\"Figure\",\"type\":\"Plot\"},{\"attributes\":{},\"id\":\"403ff331-6702-46cc-81f0-a2dff8b968a8\",\"type\":\"BasicTicker\"},{\"attributes\":{\"max_interval\":500.0,\"num_minor_ticks\":0},\"id\":\"8e41edfd-2c1a-4367-bb3f-cb706fc8144f\",\"type\":\"AdaptiveTicker\"},{\"attributes\":{\"overlay\":{\"id\":\"2f172aff-f1de-4959-9cc6-eda08f2ae3eb\",\"type\":\"BoxAnnotation\"},\"plot\":{\"id\":\"f070e745-545f-4493-9bcb-ee2ce2087d42\",\"subtype\":\"Figure\",\"type\":\"Plot\"}},\"id\":\"aa3f0252-7f02-4575-9eab-8297fe8159bb\",\"type\":\"BoxZoomTool\"},{\"attributes\":{},\"id\":\"eda3b8ea-c252-46f0-b584-bb3ce8069289\",\"type\":\"BasicTickFormatter\"},{\"attributes\":{\"plot\":{\"id\":\"f070e745-545f-4493-9bcb-ee2ce2087d42\",\"subtype\":\"Figure\",\"type\":\"Plot\"}},\"id\":\"e255b179-c572-4eeb-bbe6-10732e5998c5\",\"type\":\"HelpTool\"},{\"attributes\":{\"days\":[1,4,7,10,13,16,19,22,25,28]},\"id\":\"06914a67-d679-4707-bcd8-0ccfb994a12f\",\"type\":\"DaysTicker\"},{\"attributes\":{\"days\":[1,8,15,22]},\"id\":\"c95da6b6-3e44-4228-aa24-957bf09665bc\",\"type\":\"DaysTicker\"},{\"attributes\":{\"days\":[1,2,3,4,5,6,7,8,9,10,11,12,13,14,15,16,17,18,19,20,21,22,23,24,25,26,27,28,29,30,31]},\"id\":\"ac1b4e9b-2885-4d89-9c51-d54529e5ecea\",\"type\":\"DaysTicker\"},{\"attributes\":{\"dimension\":1,\"plot\":{\"id\":\"f070e745-545f-4493-9bcb-ee2ce2087d42\",\"subtype\":\"Figure\",\"type\":\"Plot\"},\"ticker\":{\"id\":\"403ff331-6702-46cc-81f0-a2dff8b968a8\",\"type\":\"BasicTicker\"}},\"id\":\"b634dd9c-a725-4ada-8b59-fa6960d09903\",\"type\":\"Grid\"},{\"attributes\":{\"axis_label\":\"Date\",\"formatter\":{\"id\":\"43f73150-2f8a-46bc-8188-2277f90d1b17\",\"type\":\"DatetimeTickFormatter\"},\"plot\":{\"id\":\"f070e745-545f-4493-9bcb-ee2ce2087d42\",\"subtype\":\"Figure\",\"type\":\"Plot\"},\"ticker\":{\"id\":\"0b64ed60-2ba9-4c74-9913-b1d4af4886d4\",\"type\":\"DatetimeTicker\"}},\"id\":\"007fef28-fda1-43ef-b227-be31fb7a3565\",\"type\":\"DatetimeAxis\"},{\"attributes\":{\"months\":[0,6]},\"id\":\"ea2471ec-933b-45f0-9f78-ab2fe37d3cef\",\"type\":\"MonthsTicker\"},{\"attributes\":{\"data_source\":{\"id\":\"b8327350-c2f2-4205-bda1-f4d098ee1f05\",\"type\":\"ColumnDataSource\"},\"glyph\":{\"id\":\"1d03c86b-da57-4b0b-95f8-446aca087f4d\",\"type\":\"Line\"},\"hover_glyph\":null,\"nonselection_glyph\":{\"id\":\"50c16e30-93de-4077-add1-40ca0251e793\",\"type\":\"Line\"},\"selection_glyph\":null},\"id\":\"a9730e81-05f4-4f1b-baed-a895d0316f12\",\"type\":\"GlyphRenderer\"},{\"attributes\":{\"active_drag\":\"auto\",\"active_scroll\":\"auto\",\"active_tap\":\"auto\",\"tools\":[{\"id\":\"dab7310a-9c9b-4b8a-9942-355626792ade\",\"type\":\"PanTool\"},{\"id\":\"3d2fce89-e9a0-494f-b59e-ba687f3bee1c\",\"type\":\"WheelZoomTool\"},{\"id\":\"aa3f0252-7f02-4575-9eab-8297fe8159bb\",\"type\":\"BoxZoomTool\"},{\"id\":\"345743b6-dd9a-4099-96c1-911006d10132\",\"type\":\"SaveTool\"},{\"id\":\"92d8013f-7705-458a-a18d-2261715c2546\",\"type\":\"ResetTool\"},{\"id\":\"e255b179-c572-4eeb-bbe6-10732e5998c5\",\"type\":\"HelpTool\"}]},\"id\":\"eb0f2c8d-d96f-446b-82d3-cc5fce8513e5\",\"type\":\"Toolbar\"},{\"attributes\":{\"axis_label\":\"Unique Visitors\",\"formatter\":{\"id\":\"eda3b8ea-c252-46f0-b584-bb3ce8069289\",\"type\":\"BasicTickFormatter\"},\"plot\":{\"id\":\"f070e745-545f-4493-9bcb-ee2ce2087d42\",\"subtype\":\"Figure\",\"type\":\"Plot\"},\"ticker\":{\"id\":\"403ff331-6702-46cc-81f0-a2dff8b968a8\",\"type\":\"BasicTicker\"}},\"id\":\"e0a14963-b817-4558-a525-f9e5d491ae47\",\"type\":\"LinearAxis\"},{\"attributes\":{},\"id\":\"302727ad-c1fa-4ff9-940a-4e68ea003fee\",\"type\":\"ToolEvents\"},{\"attributes\":{\"line_alpha\":{\"value\":0.1},\"line_color\":{\"value\":\"#1f77b4\"},\"line_width\":{\"value\":3},\"x\":{\"field\":\"x\"},\"y\":{\"field\":\"y\"}},\"id\":\"a959dd57-7cd3-4403-aeb7-e01ab960b0c0\",\"type\":\"Line\"},{\"attributes\":{\"line_color\":{\"value\":\"#377eb8\"},\"line_width\":{\"value\":3},\"x\":{\"field\":\"x\"},\"y\":{\"field\":\"y\"}},\"id\":\"501539fd-2d30-4214-885b-d6fb5561387d\",\"type\":\"Line\"},{\"attributes\":{\"months\":[0,2,4,6,8,10]},\"id\":\"74f5c509-6c40-4987-8a5e-17e92bb39c31\",\"type\":\"MonthsTicker\"},{\"attributes\":{},\"id\":\"43f73150-2f8a-46bc-8188-2277f90d1b17\",\"type\":\"DatetimeTickFormatter\"},{\"attributes\":{\"plot\":{\"id\":\"f070e745-545f-4493-9bcb-ee2ce2087d42\",\"subtype\":\"Figure\",\"type\":\"Plot\"},\"ticker\":{\"id\":\"0b64ed60-2ba9-4c74-9913-b1d4af4886d4\",\"type\":\"DatetimeTicker\"}},\"id\":\"a2897de8-99a3-4d1c-813b-1f06b26965a0\",\"type\":\"Grid\"},{\"attributes\":{\"plot\":null,\"text\":\"Unique visitors\"},\"id\":\"a2277639-79b7-4402-92cc-0e38309e11d9\",\"type\":\"Title\"},{\"attributes\":{\"bottom_units\":\"screen\",\"fill_alpha\":{\"value\":0.5},\"fill_color\":{\"value\":\"lightgrey\"},\"left_units\":\"screen\",\"level\":\"overlay\",\"line_alpha\":{\"value\":1.0},\"line_color\":{\"value\":\"black\"},\"line_dash\":[4,4],\"line_width\":{\"value\":2},\"plot\":null,\"render_mode\":\"css\",\"right_units\":\"screen\",\"top_units\":\"screen\"},\"id\":\"2f172aff-f1de-4959-9cc6-eda08f2ae3eb\",\"type\":\"BoxAnnotation\"},{\"attributes\":{\"line_alpha\":{\"value\":0.1},\"line_color\":{\"value\":\"#1f77b4\"},\"line_dash\":[6],\"line_width\":{\"value\":3},\"x\":{\"field\":\"x\"},\"y\":{\"field\":\"y\"}},\"id\":\"50c16e30-93de-4077-add1-40ca0251e793\",\"type\":\"Line\"},{\"attributes\":{\"num_minor_ticks\":5},\"id\":\"0b64ed60-2ba9-4c74-9913-b1d4af4886d4\",\"type\":\"DatetimeTicker\"},{\"attributes\":{\"plot\":{\"id\":\"f070e745-545f-4493-9bcb-ee2ce2087d42\",\"subtype\":\"Figure\",\"type\":\"Plot\"}},\"id\":\"3d2fce89-e9a0-494f-b59e-ba687f3bee1c\",\"type\":\"WheelZoomTool\"},{\"attributes\":{\"line_color\":{\"value\":\"#e41a1c\"},\"line_dash\":[6],\"line_width\":{\"value\":3},\"x\":{\"field\":\"x\"},\"y\":{\"field\":\"y\"}},\"id\":\"1d03c86b-da57-4b0b-95f8-446aca087f4d\",\"type\":\"Line\"},{\"attributes\":{\"callback\":null},\"id\":\"0ec61c15-d48b-46ee-96ed-f0ca9887cd27\",\"type\":\"DataRange1d\"},{\"attributes\":{\"legends\":[[\"Unique Visitors\",[{\"id\":\"afc9be9e-1812-4163-a17c-baae5b6d3eaf\",\"type\":\"GlyphRenderer\"}]],[\"Average Count\",[{\"id\":\"a9730e81-05f4-4f1b-baed-a895d0316f12\",\"type\":\"GlyphRenderer\"}]]],\"location\":\"top_left\",\"plot\":{\"id\":\"f070e745-545f-4493-9bcb-ee2ce2087d42\",\"subtype\":\"Figure\",\"type\":\"Plot\"}},\"id\":\"3a951c8d-3f1f-4739-b4bc-9fd1f7d7b96d\",\"type\":\"Legend\"},{\"attributes\":{},\"id\":\"3cfdf052-cff4-4f16-9b6e-5fdca93f53de\",\"type\":\"YearsTicker\"},{\"attributes\":{\"days\":[1,15]},\"id\":\"387fb500-da0a-48d0-9eac-2ec9885522df\",\"type\":\"DaysTicker\"},{\"attributes\":{\"base\":24,\"mantissas\":[1,2,4,6,8,12],\"max_interval\":43200000.0,\"min_interval\":3600000.0,\"num_minor_ticks\":0},\"id\":\"81e2348c-2d09-4bc7-85f3-b025b53d6145\",\"type\":\"AdaptiveTicker\"},{\"attributes\":{\"plot\":{\"id\":\"f070e745-545f-4493-9bcb-ee2ce2087d42\",\"subtype\":\"Figure\",\"type\":\"Plot\"}},\"id\":\"dab7310a-9c9b-4b8a-9942-355626792ade\",\"type\":\"PanTool\"}],\"root_ids\":[\"f070e745-545f-4493-9bcb-ee2ce2087d42\"]},\"title\":\"Bokeh Application\",\"version\":\"0.12.1\"}};\n",
       "            var render_items = [{\"docid\":\"ead60a34-28bf-42de-951f-e18ea831b74a\",\"elementid\":\"b2270e7e-05a3-4f20-82b0-6b697a75c03e\",\"modelid\":\"f070e745-545f-4493-9bcb-ee2ce2087d42\",\"notebook_comms_target\":\"58847163-e7ae-4ba2-a555-f6ecc7ec6109\"}];\n",
       "            \n",
       "            Bokeh.embed.embed_items(docs_json, render_items);\n",
       "        });\n",
       "      },\n",
       "      function(Bokeh) {\n",
       "      }\n",
       "    ];\n",
       "  \n",
       "    function run_inline_js() {\n",
       "      for (var i = 0; i < inline_js.length; i++) {\n",
       "        inline_js[i](window.Bokeh);\n",
       "      }\n",
       "    }\n",
       "  \n",
       "    if (window._bokeh_is_loading === 0) {\n",
       "      console.log(\"Bokeh: BokehJS loaded, going straight to plotting\");\n",
       "      run_inline_js();\n",
       "    } else {\n",
       "      load_libs(js_urls, function() {\n",
       "        console.log(\"Bokeh: BokehJS plotting callback run at\", now());\n",
       "        run_inline_js();\n",
       "      });\n",
       "    }\n",
       "  }(this));\n",
       "</script>"
      ]
     },
     "metadata": {},
     "output_type": "display_data"
    },
    {
     "data": {
      "text/html": [
       "<p><code>&lt;Bokeh Notebook handle for <strong>In[15]</strong>&gt;</code></p>"
      ],
      "text/plain": [
       "<bokeh.io._CommsHandle at 0x7f13c5a5cfd0>"
      ]
     },
     "execution_count": 15,
     "metadata": {},
     "output_type": "execute_result"
    }
   ],
   "source": [
    "def datetime(x):\n",
    "    return np.array(x['date'], dtype=np.datetime64)\n",
    "\n",
    "line_type = ['solid', 'dashed', 'dotted']\n",
    "\n",
    "p2 = figure(x_axis_type=\"datetime\", title=\"Unique visitors\",width = 1000,height = 700)\n",
    "p2.xaxis.axis_label = 'Date'\n",
    "p2.yaxis.axis_label = 'Unique Visitors'\n",
    "\n",
    "p2.line(datetime(unique_date),unique_visitors_log['count'],color = Set1_5[1], line_width=3,legend='Unique Visitors')\n",
    "p2.line(datetime(unique_date),np.repeat(avg_count, len(unique_date)),color = Set1_5[0], line_width=3,line_dash = 'dashed',legend='Average Count')\n",
    "p2.legend.location = \"top_left\"\n",
    "show(p2)"
   ]
  },
  {
   "cell_type": "code",
   "execution_count": 21,
   "metadata": {
    "collapsed": false
   },
   "outputs": [
    {
     "data": {
      "text/plain": [
       "array([ 55.,  37.,  51.,  39.,  73.,  51.,  53.,  58.,  57.,  76.,  53.,\n",
       "        50.,  65.,  54.,  46.,  40.,  55.,  53.,  66.,  76.,  65.,  42.,\n",
       "        39.,  55.,  70.,  59.,  59.,  61.,  63.,  46.,  42.,  62.,  63.,\n",
       "        69.,  51.], dtype=float32)"
      ]
     },
     "execution_count": 21,
     "metadata": {},
     "output_type": "execute_result"
    }
   ],
   "source": [
    "np.asarray(unique_visitors_log['count'],dtype = np.float32)"
   ]
  },
  {
   "cell_type": "code",
   "execution_count": 7,
   "metadata": {
    "collapsed": false
   },
   "outputs": [],
   "source": [
    "mean_count = np.mean(url_by_date_count,axis=1)\n",
    "top_5_urls = np.argsort(mean_count) # Sort in ascending order\n",
    "top_5_urls = top_5_urls[-5:]"
   ]
  },
  {
   "cell_type": "code",
   "execution_count": 8,
   "metadata": {
    "collapsed": false
   },
   "outputs": [
    {
     "data": {
      "text/html": [
       "\n",
       "\n",
       "    <div class=\"bk-root\">\n",
       "        <div class=\"plotdiv\" id=\"8c56280e-b653-4623-a2ea-3d435804d283\"></div>\n",
       "    </div>\n",
       "<script type=\"text/javascript\">\n",
       "  \n",
       "  (function(global) {\n",
       "    function now() {\n",
       "      return new Date();\n",
       "    }\n",
       "  \n",
       "    var force = \"\";\n",
       "  \n",
       "    if (typeof (window._bokeh_onload_callbacks) === \"undefined\" || force !== \"\") {\n",
       "      window._bokeh_onload_callbacks = [];\n",
       "      window._bokeh_is_loading = undefined;\n",
       "    }\n",
       "  \n",
       "    function run_callbacks() {\n",
       "      window._bokeh_onload_callbacks.forEach(function(callback) { callback() });\n",
       "      delete window._bokeh_onload_callbacks\n",
       "      console.info(\"Bokeh: all callbacks have finished\");\n",
       "    }\n",
       "  \n",
       "    function load_libs(js_urls, callback) {\n",
       "      window._bokeh_onload_callbacks.push(callback);\n",
       "      if (window._bokeh_is_loading > 0) {\n",
       "        console.log(\"Bokeh: BokehJS is being loaded, scheduling callback at\", now());\n",
       "        return null;\n",
       "      }\n",
       "      if (js_urls == null || js_urls.length === 0) {\n",
       "        run_callbacks();\n",
       "        return null;\n",
       "      }\n",
       "      console.log(\"Bokeh: BokehJS not loaded, scheduling load and callback at\", now());\n",
       "      window._bokeh_is_loading = js_urls.length;\n",
       "      for (var i = 0; i < js_urls.length; i++) {\n",
       "        var url = js_urls[i];\n",
       "        var s = document.createElement('script');\n",
       "        s.src = url;\n",
       "        s.async = false;\n",
       "        s.onreadystatechange = s.onload = function() {\n",
       "          window._bokeh_is_loading--;\n",
       "          if (window._bokeh_is_loading === 0) {\n",
       "            console.log(\"Bokeh: all BokehJS libraries loaded\");\n",
       "            run_callbacks()\n",
       "          }\n",
       "        };\n",
       "        s.onerror = function() {\n",
       "          console.warn(\"failed to load library \" + url);\n",
       "        };\n",
       "        console.log(\"Bokeh: injecting script tag for BokehJS library: \", url);\n",
       "        document.getElementsByTagName(\"head\")[0].appendChild(s);\n",
       "      }\n",
       "    };var element = document.getElementById(\"8c56280e-b653-4623-a2ea-3d435804d283\");\n",
       "    if (element == null) {\n",
       "      console.log(\"Bokeh: ERROR: autoload.js configured with elementid '8c56280e-b653-4623-a2ea-3d435804d283' but no matching script tag was found. \")\n",
       "      return false;\n",
       "    }\n",
       "  \n",
       "    var js_urls = [];\n",
       "  \n",
       "    var inline_js = [\n",
       "      function(Bokeh) {\n",
       "        Bokeh.$(function() {\n",
       "            var docs_json = {\"589ec72f-587d-4591-adb2-4df1681bf76e\":{\"roots\":{\"references\":[{\"attributes\":{\"line_alpha\":{\"value\":0.1},\"line_color\":{\"value\":\"#1f77b4\"},\"line_width\":{\"value\":2},\"x\":{\"field\":\"x\"},\"y\":{\"field\":\"y\"}},\"id\":\"5031913b-f468-472e-84f9-a0d8a3cd4669\",\"type\":\"Line\"},{\"attributes\":{\"callback\":null,\"column_names\":[\"y\",\"x\"],\"data\":{\"x\":[1468627200000.0,1468713600000.0,1468800000000.0,1468886400000.0,1468972800000.0,1469059200000.0,1469145600000.0,1469232000000.0,1469318400000.0,1469404800000.0,1469491200000.0,1469577600000.0,1469664000000.0,1469750400000.0,1469836800000.0,1469923200000.0,1470009600000.0,1470096000000.0,1470182400000.0,1470268800000.0,1470355200000.0,1470441600000.0,1470528000000.0,1470614400000.0,1470700800000.0,1470787200000.0,1470873600000.0,1470960000000.0,1471046400000.0,1471132800000.0,1471219200000.0,1471305600000.0,1471392000000.0,1471478400000.0,1471564800000.0],\"y\":[49.0,29.0,33.0,20.0,17.0,29.0,25.0,30.0,25.0,15.0,46.0,31.0,27.0,23.0,37.0,19.0,31.0,41.0,29.0,24.0,30.0,64.0,26.0,24.0,28.0,35.0,23.0,31.0,15.0,30.0,65.0,38.0,46.0,30.0,27.0]}},\"id\":\"4584f846-cf5d-48f2-a569-30045fc3a2a9\",\"type\":\"ColumnDataSource\"},{\"attributes\":{},\"id\":\"61f0dc42-4eb1-4fdd-a767-d1dd138970ac\",\"type\":\"DatetimeTickFormatter\"},{\"attributes\":{\"line_alpha\":{\"value\":0.1},\"line_color\":{\"value\":\"#1f77b4\"},\"line_dash\":[2,4],\"line_width\":{\"value\":4},\"x\":{\"field\":\"x\"},\"y\":{\"field\":\"y\"}},\"id\":\"54f79538-f6e6-4cae-8df3-3c92b733a762\",\"type\":\"Line\"},{\"attributes\":{\"months\":[0,2,4,6,8,10]},\"id\":\"d741499e-893a-424f-b4f2-f662e09ec892\",\"type\":\"MonthsTicker\"},{\"attributes\":{\"plot\":{\"id\":\"221a9bc6-55b4-4940-ada8-43bade2c5fae\",\"subtype\":\"Figure\",\"type\":\"Plot\"}},\"id\":\"947e186b-aff1-4262-95be-a760fc984ca1\",\"type\":\"ResetTool\"},{\"attributes\":{\"line_color\":{\"value\":\"#377eb8\"},\"line_width\":{\"value\":2},\"x\":{\"field\":\"x\"},\"y\":{\"field\":\"y\"}},\"id\":\"079ea72b-45bc-49b4-b44f-2cf47c7f9592\",\"type\":\"Line\"},{\"attributes\":{\"legends\":[[\"networkrouting.net/index.html\",[{\"id\":\"8119ea1d-beb7-45f8-a6ec-fcb9acd7bf38\",\"type\":\"GlyphRenderer\"}]],[\"networkrouting.net/robots.txt\",[{\"id\":\"a8256005-ffdd-40f5-bb5f-43deba68305e\",\"type\":\"GlyphRenderer\"}]],[\"networkrouting.net/docs/mr-chapter_1.pdf\",[{\"id\":\"0ff5ae23-3ea3-4397-adba-08d4479ff633\",\"type\":\"GlyphRenderer\"}]]],\"location\":\"top_left\",\"plot\":{\"id\":\"221a9bc6-55b4-4940-ada8-43bade2c5fae\",\"subtype\":\"Figure\",\"type\":\"Plot\"}},\"id\":\"716aa062-8f3d-4604-bf7a-bf096bd9263a\",\"type\":\"Legend\"},{\"attributes\":{\"base\":60,\"mantissas\":[1,2,5,10,15,20,30],\"max_interval\":1800000.0,\"min_interval\":1000.0,\"num_minor_ticks\":0},\"id\":\"f3e17e61-d969-48d1-8589-a50304fa0ee4\",\"type\":\"AdaptiveTicker\"},{\"attributes\":{\"bottom_units\":\"screen\",\"fill_alpha\":{\"value\":0.5},\"fill_color\":{\"value\":\"lightgrey\"},\"left_units\":\"screen\",\"level\":\"overlay\",\"line_alpha\":{\"value\":1.0},\"line_color\":{\"value\":\"black\"},\"line_dash\":[4,4],\"line_width\":{\"value\":2},\"plot\":null,\"render_mode\":\"css\",\"right_units\":\"screen\",\"top_units\":\"screen\"},\"id\":\"72d56b26-f803-4c40-ab3b-ff750e1af4c6\",\"type\":\"BoxAnnotation\"},{\"attributes\":{\"below\":[{\"id\":\"c7dd234d-69d0-448f-b941-6a551ba7a742\",\"type\":\"DatetimeAxis\"}],\"left\":[{\"id\":\"0b15721c-08b7-4315-9721-1c61c71a5d51\",\"type\":\"LinearAxis\"}],\"plot_height\":700,\"plot_width\":1000,\"renderers\":[{\"id\":\"c7dd234d-69d0-448f-b941-6a551ba7a742\",\"type\":\"DatetimeAxis\"},{\"id\":\"e9251078-f45a-464f-8c68-43004a57ea7e\",\"type\":\"Grid\"},{\"id\":\"0b15721c-08b7-4315-9721-1c61c71a5d51\",\"type\":\"LinearAxis\"},{\"id\":\"e893cff1-26d2-4f9c-b101-5265fa641931\",\"type\":\"Grid\"},{\"id\":\"72d56b26-f803-4c40-ab3b-ff750e1af4c6\",\"type\":\"BoxAnnotation\"},{\"id\":\"716aa062-8f3d-4604-bf7a-bf096bd9263a\",\"type\":\"Legend\"},{\"id\":\"8119ea1d-beb7-45f8-a6ec-fcb9acd7bf38\",\"type\":\"GlyphRenderer\"},{\"id\":\"a8256005-ffdd-40f5-bb5f-43deba68305e\",\"type\":\"GlyphRenderer\"},{\"id\":\"0ff5ae23-3ea3-4397-adba-08d4479ff633\",\"type\":\"GlyphRenderer\"}],\"title\":{\"id\":\"d7f6a30f-ae95-405e-9c22-cb059523adb1\",\"type\":\"Title\"},\"tool_events\":{\"id\":\"2c4a5df5-3d46-49f0-9344-b31f31086bb1\",\"type\":\"ToolEvents\"},\"toolbar\":{\"id\":\"d8ff70b9-97d7-47f5-82a3-49de3398bf5c\",\"type\":\"Toolbar\"},\"x_range\":{\"id\":\"f18655a8-625d-4951-acb4-c9961ccad7a5\",\"type\":\"DataRange1d\"},\"y_range\":{\"id\":\"dff01f1e-ffbc-49a9-bb9c-d244140d6718\",\"type\":\"DataRange1d\"}},\"id\":\"221a9bc6-55b4-4940-ada8-43bade2c5fae\",\"subtype\":\"Figure\",\"type\":\"Plot\"},{\"attributes\":{\"plot\":{\"id\":\"221a9bc6-55b4-4940-ada8-43bade2c5fae\",\"subtype\":\"Figure\",\"type\":\"Plot\"}},\"id\":\"63b7b34c-810a-4f0a-85e8-a9fda4ac158c\",\"type\":\"SaveTool\"},{\"attributes\":{\"months\":[0,1,2,3,4,5,6,7,8,9,10,11]},\"id\":\"7df86388-ee39-4274-a725-296bfe1d04fe\",\"type\":\"MonthsTicker\"},{\"attributes\":{\"active_drag\":\"auto\",\"active_scroll\":\"auto\",\"active_tap\":\"auto\",\"tools\":[{\"id\":\"a0eb07a1-9003-488e-934a-951e98491276\",\"type\":\"PanTool\"},{\"id\":\"fc91acf4-0be2-42b7-8726-b00ecfc87ccc\",\"type\":\"WheelZoomTool\"},{\"id\":\"4a73bd01-37e9-4dd0-ac8d-e651442ddfc9\",\"type\":\"BoxZoomTool\"},{\"id\":\"63b7b34c-810a-4f0a-85e8-a9fda4ac158c\",\"type\":\"SaveTool\"},{\"id\":\"947e186b-aff1-4262-95be-a760fc984ca1\",\"type\":\"ResetTool\"},{\"id\":\"8f9d95fb-543a-45b9-9d12-47b35e7ac066\",\"type\":\"HelpTool\"}]},\"id\":\"d8ff70b9-97d7-47f5-82a3-49de3398bf5c\",\"type\":\"Toolbar\"},{\"attributes\":{\"months\":[0,4,8]},\"id\":\"c9c6a7d7-971e-4628-b0e9-079c392e91bd\",\"type\":\"MonthsTicker\"},{\"attributes\":{\"data_source\":{\"id\":\"48f70553-503f-4026-a653-984454002716\",\"type\":\"ColumnDataSource\"},\"glyph\":{\"id\":\"04d78d5d-1bb7-417a-b8b0-89f5a7977454\",\"type\":\"Line\"},\"hover_glyph\":null,\"nonselection_glyph\":{\"id\":\"54f79538-f6e6-4cae-8df3-3c92b733a762\",\"type\":\"Line\"},\"selection_glyph\":null},\"id\":\"0ff5ae23-3ea3-4397-adba-08d4479ff633\",\"type\":\"GlyphRenderer\"},{\"attributes\":{\"plot\":{\"id\":\"221a9bc6-55b4-4940-ada8-43bade2c5fae\",\"subtype\":\"Figure\",\"type\":\"Plot\"}},\"id\":\"fc91acf4-0be2-42b7-8726-b00ecfc87ccc\",\"type\":\"WheelZoomTool\"},{\"attributes\":{\"callback\":null,\"column_names\":[\"y\",\"x\"],\"data\":{\"x\":[1468627200000.0,1468713600000.0,1468800000000.0,1468886400000.0,1468972800000.0,1469059200000.0,1469145600000.0,1469232000000.0,1469318400000.0,1469404800000.0,1469491200000.0,1469577600000.0,1469664000000.0,1469750400000.0,1469836800000.0,1469923200000.0,1470009600000.0,1470096000000.0,1470182400000.0,1470268800000.0,1470355200000.0,1470441600000.0,1470528000000.0,1470614400000.0,1470700800000.0,1470787200000.0,1470873600000.0,1470960000000.0,1471046400000.0,1471132800000.0,1471219200000.0,1471305600000.0,1471392000000.0,1471478400000.0,1471564800000.0],\"y\":[7.0,4.0,5.0,9.0,8.0,4.0,9.0,12.0,12.0,2.0,9.0,65.0,6.0,20.0,22.0,4.0,10.0,10.0,9.0,6.0,11.0,20.0,6.0,12.0,48.0,12.0,7.0,96.0,29.0,6.0,5.0,37.0,2.0,5.0,16.0]}},\"id\":\"48f70553-503f-4026-a653-984454002716\",\"type\":\"ColumnDataSource\"},{\"attributes\":{},\"id\":\"31473612-0ec8-40c9-863f-fc7139ecf194\",\"type\":\"YearsTicker\"},{\"attributes\":{\"line_color\":{\"value\":\"#4daf4a\"},\"line_dash\":[6],\"line_width\":{\"value\":3},\"x\":{\"field\":\"x\"},\"y\":{\"field\":\"y\"}},\"id\":\"f1abfa91-c60f-4017-901d-9f7003672214\",\"type\":\"Line\"},{\"attributes\":{\"plot\":{\"id\":\"221a9bc6-55b4-4940-ada8-43bade2c5fae\",\"subtype\":\"Figure\",\"type\":\"Plot\"},\"ticker\":{\"id\":\"3210200d-2ab8-4ce1-ab54-57a4a9f30cec\",\"type\":\"DatetimeTicker\"}},\"id\":\"e9251078-f45a-464f-8c68-43004a57ea7e\",\"type\":\"Grid\"},{\"attributes\":{\"days\":[1,4,7,10,13,16,19,22,25,28]},\"id\":\"1a99c12e-b037-48cc-b679-367e32f888af\",\"type\":\"DaysTicker\"},{\"attributes\":{\"callback\":null},\"id\":\"dff01f1e-ffbc-49a9-bb9c-d244140d6718\",\"type\":\"DataRange1d\"},{\"attributes\":{\"days\":[1,8,15,22]},\"id\":\"e6698856-2db3-4c7d-832b-2f6e85941855\",\"type\":\"DaysTicker\"},{\"attributes\":{\"dimension\":1,\"plot\":{\"id\":\"221a9bc6-55b4-4940-ada8-43bade2c5fae\",\"subtype\":\"Figure\",\"type\":\"Plot\"},\"ticker\":{\"id\":\"9a221c99-d4eb-4c22-b595-51187e65c03a\",\"type\":\"BasicTicker\"}},\"id\":\"e893cff1-26d2-4f9c-b101-5265fa641931\",\"type\":\"Grid\"},{\"attributes\":{\"plot\":{\"id\":\"221a9bc6-55b4-4940-ada8-43bade2c5fae\",\"subtype\":\"Figure\",\"type\":\"Plot\"}},\"id\":\"8f9d95fb-543a-45b9-9d12-47b35e7ac066\",\"type\":\"HelpTool\"},{\"attributes\":{\"data_source\":{\"id\":\"85328a68-1fcc-41b8-8c8e-f0e2ad176772\",\"type\":\"ColumnDataSource\"},\"glyph\":{\"id\":\"f1abfa91-c60f-4017-901d-9f7003672214\",\"type\":\"Line\"},\"hover_glyph\":null,\"nonselection_glyph\":{\"id\":\"eee84984-feaf-42c9-844f-4bd79e32374f\",\"type\":\"Line\"},\"selection_glyph\":null},\"id\":\"a8256005-ffdd-40f5-bb5f-43deba68305e\",\"type\":\"GlyphRenderer\"},{\"attributes\":{\"plot\":{\"id\":\"221a9bc6-55b4-4940-ada8-43bade2c5fae\",\"subtype\":\"Figure\",\"type\":\"Plot\"}},\"id\":\"a0eb07a1-9003-488e-934a-951e98491276\",\"type\":\"PanTool\"},{\"attributes\":{},\"id\":\"4327b77c-6683-4d8b-8837-e31faa6911b4\",\"type\":\"BasicTickFormatter\"},{\"attributes\":{\"line_color\":{\"value\":\"#984ea3\"},\"line_dash\":[2,4],\"line_width\":{\"value\":4},\"x\":{\"field\":\"x\"},\"y\":{\"field\":\"y\"}},\"id\":\"04d78d5d-1bb7-417a-b8b0-89f5a7977454\",\"type\":\"Line\"},{\"attributes\":{\"days\":[1,2,3,4,5,6,7,8,9,10,11,12,13,14,15,16,17,18,19,20,21,22,23,24,25,26,27,28,29,30,31]},\"id\":\"fff2d6ac-b640-42fa-b5b1-86bf4585b7bf\",\"type\":\"DaysTicker\"},{\"attributes\":{\"data_source\":{\"id\":\"4584f846-cf5d-48f2-a569-30045fc3a2a9\",\"type\":\"ColumnDataSource\"},\"glyph\":{\"id\":\"079ea72b-45bc-49b4-b44f-2cf47c7f9592\",\"type\":\"Line\"},\"hover_glyph\":null,\"nonselection_glyph\":{\"id\":\"5031913b-f468-472e-84f9-a0d8a3cd4669\",\"type\":\"Line\"},\"selection_glyph\":null},\"id\":\"8119ea1d-beb7-45f8-a6ec-fcb9acd7bf38\",\"type\":\"GlyphRenderer\"},{\"attributes\":{\"num_minor_ticks\":5},\"id\":\"3210200d-2ab8-4ce1-ab54-57a4a9f30cec\",\"type\":\"DatetimeTicker\"},{\"attributes\":{\"plot\":null,\"text\":\"Top-3 URL'S\"},\"id\":\"d7f6a30f-ae95-405e-9c22-cb059523adb1\",\"type\":\"Title\"},{\"attributes\":{\"max_interval\":500.0,\"num_minor_ticks\":0},\"id\":\"708c4023-de16-4585-9c0b-96c1326994bb\",\"type\":\"AdaptiveTicker\"},{\"attributes\":{\"axis_label\":\"Count\",\"formatter\":{\"id\":\"4327b77c-6683-4d8b-8837-e31faa6911b4\",\"type\":\"BasicTickFormatter\"},\"plot\":{\"id\":\"221a9bc6-55b4-4940-ada8-43bade2c5fae\",\"subtype\":\"Figure\",\"type\":\"Plot\"},\"ticker\":{\"id\":\"9a221c99-d4eb-4c22-b595-51187e65c03a\",\"type\":\"BasicTicker\"}},\"id\":\"0b15721c-08b7-4315-9721-1c61c71a5d51\",\"type\":\"LinearAxis\"},{\"attributes\":{},\"id\":\"9a221c99-d4eb-4c22-b595-51187e65c03a\",\"type\":\"BasicTicker\"},{\"attributes\":{\"axis_label\":\"Date\",\"formatter\":{\"id\":\"61f0dc42-4eb1-4fdd-a767-d1dd138970ac\",\"type\":\"DatetimeTickFormatter\"},\"plot\":{\"id\":\"221a9bc6-55b4-4940-ada8-43bade2c5fae\",\"subtype\":\"Figure\",\"type\":\"Plot\"},\"ticker\":{\"id\":\"3210200d-2ab8-4ce1-ab54-57a4a9f30cec\",\"type\":\"DatetimeTicker\"}},\"id\":\"c7dd234d-69d0-448f-b941-6a551ba7a742\",\"type\":\"DatetimeAxis\"},{\"attributes\":{\"base\":24,\"mantissas\":[1,2,4,6,8,12],\"max_interval\":43200000.0,\"min_interval\":3600000.0,\"num_minor_ticks\":0},\"id\":\"d683ebd8-9eaa-4c6a-843c-051dc46bfbac\",\"type\":\"AdaptiveTicker\"},{\"attributes\":{\"line_alpha\":{\"value\":0.1},\"line_color\":{\"value\":\"#1f77b4\"},\"line_dash\":[6],\"line_width\":{\"value\":3},\"x\":{\"field\":\"x\"},\"y\":{\"field\":\"y\"}},\"id\":\"eee84984-feaf-42c9-844f-4bd79e32374f\",\"type\":\"Line\"},{\"attributes\":{\"days\":[1,15]},\"id\":\"c41b4f10-44b2-4202-9a72-64c330a997aa\",\"type\":\"DaysTicker\"},{\"attributes\":{\"overlay\":{\"id\":\"72d56b26-f803-4c40-ab3b-ff750e1af4c6\",\"type\":\"BoxAnnotation\"},\"plot\":{\"id\":\"221a9bc6-55b4-4940-ada8-43bade2c5fae\",\"subtype\":\"Figure\",\"type\":\"Plot\"}},\"id\":\"4a73bd01-37e9-4dd0-ac8d-e651442ddfc9\",\"type\":\"BoxZoomTool\"},{\"attributes\":{\"callback\":null,\"column_names\":[\"y\",\"x\"],\"data\":{\"x\":[1468627200000.0,1468713600000.0,1468800000000.0,1468886400000.0,1468972800000.0,1469059200000.0,1469145600000.0,1469232000000.0,1469318400000.0,1469404800000.0,1469491200000.0,1469577600000.0,1469664000000.0,1469750400000.0,1469836800000.0,1469923200000.0,1470009600000.0,1470096000000.0,1470182400000.0,1470268800000.0,1470355200000.0,1470441600000.0,1470528000000.0,1470614400000.0,1470700800000.0,1470787200000.0,1470873600000.0,1470960000000.0,1471046400000.0,1471132800000.0,1471219200000.0,1471305600000.0,1471392000000.0,1471478400000.0,1471564800000.0],\"y\":[30.0,28.0,24.0,17.0,21.0,22.0,16.0,19.0,9.0,15.0,30.0,19.0,27.0,12.0,12.0,13.0,17.0,18.0,43.0,26.0,17.0,28.0,44.0,21.0,25.0,26.0,29.0,21.0,11.0,29.0,26.0,17.0,19.0,17.0,20.0]}},\"id\":\"85328a68-1fcc-41b8-8c8e-f0e2ad176772\",\"type\":\"ColumnDataSource\"},{\"attributes\":{\"callback\":null},\"id\":\"f18655a8-625d-4951-acb4-c9961ccad7a5\",\"type\":\"DataRange1d\"},{\"attributes\":{},\"id\":\"2c4a5df5-3d46-49f0-9344-b31f31086bb1\",\"type\":\"ToolEvents\"},{\"attributes\":{\"months\":[0,6]},\"id\":\"5e678b58-7194-443d-a931-614cd0fc879b\",\"type\":\"MonthsTicker\"}],\"root_ids\":[\"221a9bc6-55b4-4940-ada8-43bade2c5fae\"]},\"title\":\"Bokeh Application\",\"version\":\"0.12.1\"}};\n",
       "            var render_items = [{\"docid\":\"589ec72f-587d-4591-adb2-4df1681bf76e\",\"elementid\":\"8c56280e-b653-4623-a2ea-3d435804d283\",\"modelid\":\"221a9bc6-55b4-4940-ada8-43bade2c5fae\",\"notebook_comms_target\":\"2b962cf1-6d11-4311-8a1c-19b6b701f953\"}];\n",
       "            \n",
       "            Bokeh.embed.embed_items(docs_json, render_items);\n",
       "        });\n",
       "      },\n",
       "      function(Bokeh) {\n",
       "      }\n",
       "    ];\n",
       "  \n",
       "    function run_inline_js() {\n",
       "      for (var i = 0; i < inline_js.length; i++) {\n",
       "        inline_js[i](window.Bokeh);\n",
       "      }\n",
       "    }\n",
       "  \n",
       "    if (window._bokeh_is_loading === 0) {\n",
       "      console.log(\"Bokeh: BokehJS loaded, going straight to plotting\");\n",
       "      run_inline_js();\n",
       "    } else {\n",
       "      load_libs(js_urls, function() {\n",
       "        console.log(\"Bokeh: BokehJS plotting callback run at\", now());\n",
       "        run_inline_js();\n",
       "      });\n",
       "    }\n",
       "  }(this));\n",
       "</script>"
      ]
     },
     "metadata": {},
     "output_type": "display_data"
    },
    {
     "data": {
      "text/html": [
       "<p><code>&lt;Bokeh Notebook handle for <strong>In[8]</strong>&gt;</code></p>"
      ],
      "text/plain": [
       "<bokeh.io._CommsHandle at 0x7f13c5bc8f50>"
      ]
     },
     "execution_count": 8,
     "metadata": {},
     "output_type": "execute_result"
    }
   ],
   "source": [
    "def datetime(x):\n",
    "    return np.array(x['date'], dtype=np.datetime64)\n",
    "\n",
    "line_type = ['solid', 'dashed', 'dotted']\n",
    "\n",
    "p1 = figure(x_axis_type=\"datetime\", title=\"Top-3 URL'S\",width = 1000,height = 700)\n",
    "p1.xaxis.axis_label = 'Date'\n",
    "p1.yaxis.axis_label = 'Count'\n",
    "\n",
    "for i in range(1,4):\n",
    "    p1.line(datetime(unique_date),url_by_date_count[top_5_urls[-1 * i]], legend=unique_urls[top_5_urls[-1 * i]],color = Set1_5[i], line_width=i+1,line_dash = line_type[i-1])\n",
    "p1.legend.location = \"top_left\"\n",
    "show(p1)"
   ]
  },
  {
   "cell_type": "code",
   "execution_count": 31,
   "metadata": {
    "collapsed": false
   },
   "outputs": [],
   "source": [
    "File_name_list = []\n",
    "date_list = []\n",
    "for F in file_path:\n",
    "    X =  F.split('/') # Spliting the src file path to get only the file name at the end\n",
    "    file_name = X[-1].split('.')\n",
    "    date_name = file_name[0].split('_')\n",
    "    date_time = datetime.strptime(date_name[1]+date_name[2], ' %b %d %Y').strftime('%Y-%m-%d')\n",
    "    File_name_list.append(X[-1])\n",
    "    date_list.append(date_time)"
   ]
  },
  {
   "cell_type": "code",
   "execution_count": 35,
   "metadata": {
    "collapsed": false
   },
   "outputs": [],
   "source": [
    "pd.DataFrame({'File Name':File_name_list,'Date':date_list}).sort_values(by='Date').to_csv('dates_order.csv', header=False, index=False)"
   ]
  },
  {
   "cell_type": "code",
   "execution_count": 19,
   "metadata": {
    "collapsed": false
   },
   "outputs": [
    {
     "data": {
      "text/plain": [
       "array([ 49.,  29.,  33.,  20.,  17.,  29.,  25.,  30.,  25.,  15.,  46.,\n",
       "        31.,  27.,  23.,  37.,  19.,  31.,  41.,  29.,  24.,  30.,  64.,\n",
       "        26.,  24.,  28.,  35.,  23.,  31.,  15.,  30.,  65.,  38.,  46.,\n",
       "        30.,  27.])"
      ]
     },
     "execution_count": 19,
     "metadata": {},
     "output_type": "execute_result"
    }
   ],
   "source": [
    "url_by_date_count[top_5_urls[4]]"
   ]
  }
 ],
 "metadata": {
  "kernelspec": {
   "display_name": "Python 2",
   "language": "python",
   "name": "python2"
  },
  "language_info": {
   "codemirror_mode": {
    "name": "ipython",
    "version": 2
   },
   "file_extension": ".py",
   "mimetype": "text/x-python",
   "name": "python",
   "nbconvert_exporter": "python",
   "pygments_lexer": "ipython2",
   "version": "2.7.12"
  }
 },
 "nbformat": 4,
 "nbformat_minor": 0
}
