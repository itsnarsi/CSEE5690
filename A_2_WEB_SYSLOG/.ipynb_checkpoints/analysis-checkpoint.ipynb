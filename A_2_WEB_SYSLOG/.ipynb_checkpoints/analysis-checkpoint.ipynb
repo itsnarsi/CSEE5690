{
 "cells": [
  {
   "cell_type": "code",
   "execution_count": 2,
   "metadata": {
    "collapsed": false
   },
   "outputs": [
    {
     "data": {
      "text/html": [
       "\n",
       "    <div class=\"bk-root\">\n",
       "        <a href=\"http://bokeh.pydata.org\" target=\"_blank\" class=\"bk-logo bk-logo-small bk-logo-notebook\"></a>\n",
       "        <span id=\"b9bc1b5c-d223-42cf-9d0a-4cf71384952a\">Loading BokehJS ...</span>\n",
       "    </div>"
      ]
     },
     "metadata": {},
     "output_type": "display_data"
    },
    {
     "data": {
      "application/javascript": [
       "\n",
       "(function(global) {\n",
       "  function now() {\n",
       "    return new Date();\n",
       "  }\n",
       "\n",
       "  var force = \"1\";\n",
       "\n",
       "  if (typeof (window._bokeh_onload_callbacks) === \"undefined\" || force !== \"\") {\n",
       "    window._bokeh_onload_callbacks = [];\n",
       "    window._bokeh_is_loading = undefined;\n",
       "  }\n",
       "\n",
       "\n",
       "  \n",
       "  if (typeof (window._bokeh_timeout) === \"undefined\" || force !== \"\") {\n",
       "    window._bokeh_timeout = Date.now() + 5000;\n",
       "    window._bokeh_failed_load = false;\n",
       "  }\n",
       "\n",
       "  var NB_LOAD_WARNING = {'data': {'text/html':\n",
       "     \"<div style='background-color: #fdd'>\\n\"+\n",
       "     \"<p>\\n\"+\n",
       "     \"BokehJS does not appear to have successfully loaded. If loading BokehJS from CDN, this \\n\"+\n",
       "     \"may be due to a slow or bad network connection. Possible fixes:\\n\"+\n",
       "     \"</p>\\n\"+\n",
       "     \"<ul>\\n\"+\n",
       "     \"<li>re-rerun `output_notebook()` to attempt to load from CDN again, or</li>\\n\"+\n",
       "     \"<li>use INLINE resources instead, as so:</li>\\n\"+\n",
       "     \"</ul>\\n\"+\n",
       "     \"<code>\\n\"+\n",
       "     \"from bokeh.resources import INLINE\\n\"+\n",
       "     \"output_notebook(resources=INLINE)\\n\"+\n",
       "     \"</code>\\n\"+\n",
       "     \"</div>\"}};\n",
       "\n",
       "  function display_loaded() {\n",
       "    if (window.Bokeh !== undefined) {\n",
       "      Bokeh.$(\"#b9bc1b5c-d223-42cf-9d0a-4cf71384952a\").text(\"BokehJS successfully loaded.\");\n",
       "    } else if (Date.now() < window._bokeh_timeout) {\n",
       "      setTimeout(display_loaded, 100)\n",
       "    }\n",
       "  }\n",
       "\n",
       "  function run_callbacks() {\n",
       "    window._bokeh_onload_callbacks.forEach(function(callback) { callback() });\n",
       "    delete window._bokeh_onload_callbacks\n",
       "    console.info(\"Bokeh: all callbacks have finished\");\n",
       "  }\n",
       "\n",
       "  function load_libs(js_urls, callback) {\n",
       "    window._bokeh_onload_callbacks.push(callback);\n",
       "    if (window._bokeh_is_loading > 0) {\n",
       "      console.log(\"Bokeh: BokehJS is being loaded, scheduling callback at\", now());\n",
       "      return null;\n",
       "    }\n",
       "    if (js_urls == null || js_urls.length === 0) {\n",
       "      run_callbacks();\n",
       "      return null;\n",
       "    }\n",
       "    console.log(\"Bokeh: BokehJS not loaded, scheduling load and callback at\", now());\n",
       "    window._bokeh_is_loading = js_urls.length;\n",
       "    for (var i = 0; i < js_urls.length; i++) {\n",
       "      var url = js_urls[i];\n",
       "      var s = document.createElement('script');\n",
       "      s.src = url;\n",
       "      s.async = false;\n",
       "      s.onreadystatechange = s.onload = function() {\n",
       "        window._bokeh_is_loading--;\n",
       "        if (window._bokeh_is_loading === 0) {\n",
       "          console.log(\"Bokeh: all BokehJS libraries loaded\");\n",
       "          run_callbacks()\n",
       "        }\n",
       "      };\n",
       "      s.onerror = function() {\n",
       "        console.warn(\"failed to load library \" + url);\n",
       "      };\n",
       "      console.log(\"Bokeh: injecting script tag for BokehJS library: \", url);\n",
       "      document.getElementsByTagName(\"head\")[0].appendChild(s);\n",
       "    }\n",
       "  };var element = document.getElementById(\"b9bc1b5c-d223-42cf-9d0a-4cf71384952a\");\n",
       "  if (element == null) {\n",
       "    console.log(\"Bokeh: ERROR: autoload.js configured with elementid 'b9bc1b5c-d223-42cf-9d0a-4cf71384952a' but no matching script tag was found. \")\n",
       "    return false;\n",
       "  }\n",
       "\n",
       "  var js_urls = ['https://cdn.pydata.org/bokeh/release/bokeh-0.12.2.min.js', 'https://cdn.pydata.org/bokeh/release/bokeh-widgets-0.12.2.min.js', 'https://cdn.pydata.org/bokeh/release/bokeh-compiler-0.12.2.min.js'];\n",
       "\n",
       "  var inline_js = [\n",
       "    function(Bokeh) {\n",
       "      Bokeh.set_log_level(\"info\");\n",
       "    },\n",
       "    \n",
       "    function(Bokeh) {\n",
       "      \n",
       "      Bokeh.$(\"#b9bc1b5c-d223-42cf-9d0a-4cf71384952a\").text(\"BokehJS is loading...\");\n",
       "    },\n",
       "    function(Bokeh) {\n",
       "      console.log(\"Bokeh: injecting CSS: https://cdn.pydata.org/bokeh/release/bokeh-0.12.2.min.css\");\n",
       "      Bokeh.embed.inject_css(\"https://cdn.pydata.org/bokeh/release/bokeh-0.12.2.min.css\");\n",
       "      console.log(\"Bokeh: injecting CSS: https://cdn.pydata.org/bokeh/release/bokeh-widgets-0.12.2.min.css\");\n",
       "      Bokeh.embed.inject_css(\"https://cdn.pydata.org/bokeh/release/bokeh-widgets-0.12.2.min.css\");\n",
       "    }\n",
       "  ];\n",
       "\n",
       "  function run_inline_js() {\n",
       "    \n",
       "    if ((window.Bokeh !== undefined) || (force === \"1\")) {\n",
       "      for (var i = 0; i < inline_js.length; i++) {\n",
       "        inline_js[i](window.Bokeh);\n",
       "      }if (force === \"1\") {\n",
       "        display_loaded();\n",
       "      }} else if (Date.now() < window._bokeh_timeout) {\n",
       "      setTimeout(run_inline_js, 100);\n",
       "    } else if (!window._bokeh_failed_load) {\n",
       "      console.log(\"Bokeh: BokehJS failed to load within specified timeout.\");\n",
       "      window._bokeh_failed_load = true;\n",
       "    } else if (!force) {\n",
       "      var cell = $(\"#b9bc1b5c-d223-42cf-9d0a-4cf71384952a\").parents('.cell').data().cell;\n",
       "      cell.output_area.append_execute_result(NB_LOAD_WARNING)\n",
       "    }\n",
       "\n",
       "  }\n",
       "\n",
       "  if (window._bokeh_is_loading === 0) {\n",
       "    console.log(\"Bokeh: BokehJS loaded, going straight to plotting\");\n",
       "    run_inline_js();\n",
       "  } else {\n",
       "    load_libs(js_urls, function() {\n",
       "      console.log(\"Bokeh: BokehJS plotting callback run at\", now());\n",
       "      run_inline_js();\n",
       "    });\n",
       "  }\n",
       "}(this));"
      ]
     },
     "metadata": {},
     "output_type": "display_data"
    }
   ],
   "source": [
    "import pandas as pd\n",
    "\n",
    "import time\n",
    "\n",
    "import os\n",
    "\n",
    "from datetime import datetime\n",
    "\n",
    "import numpy as np\n",
    "\n",
    "from bokeh.layouts import gridplot\n",
    "from bokeh.plotting import figure, show, output_file\n",
    "from bokeh.io import output_notebook\n",
    "from bokeh.palettes import Set1_5\n",
    "output_notebook()"
   ]
  },
  {
   "cell_type": "code",
   "execution_count": 2,
   "metadata": {
    "collapsed": true
   },
   "outputs": [],
   "source": [
    "src_folder = '/home/narsi/Documents/CSEE5690_data/A2_WEB_SYS_LOG/curated_logs'"
   ]
  },
  {
   "cell_type": "code",
   "execution_count": 1,
   "metadata": {
    "collapsed": true
   },
   "outputs": [],
   "source": [
    "src_folder = 'D:\\\\course_related_data\\\\CSEE5690\\\\A_2\\\\curated_logs'"
   ]
  },
  {
   "cell_type": "code",
   "execution_count": 3,
   "metadata": {
    "collapsed": true
   },
   "outputs": [],
   "source": [
    "def get_filepaths(directory):\n",
    "    \"\"\"\n",
    "    This function will generate the file names in a directory \n",
    "    tree by walking the tree either top-down or bottom-up. For each \n",
    "    directory in the tree rooted at directory top (including top itself), \n",
    "    it yields a 3-tuple (dirpath, dirnames, filenames).\n",
    "    \"\"\"\n",
    "    file_paths = []  # List which will store all of the full filepaths.\n",
    "\n",
    "    # Walk the tree.\n",
    "    for root, directories, files in os.walk(directory):\n",
    "        for filename in files:\n",
    "            # Join the two strings in order to form the full filepath.\n",
    "            filepath = os.path.join(root, filename)\n",
    "            file_paths.append(filepath)  # Add it to the list.\n",
    "\n",
    "    return file_paths  # Self-explanatory."
   ]
  },
  {
   "cell_type": "code",
   "execution_count": 4,
   "metadata": {
    "collapsed": true
   },
   "outputs": [],
   "source": [
    "file_path = get_filepaths(src_folder)"
   ]
  },
  {
   "cell_type": "code",
   "execution_count": 5,
   "metadata": {
    "collapsed": false
   },
   "outputs": [],
   "source": [
    "final_log = pd.DataFrame({'url' : [],'count' : [],'date' : []})\n",
    "unique_days = []\n",
    "for F in file_path:\n",
    "    log_data = pd.read_csv(F,',',header=None, error_bad_lines=False)\n",
    "    x = pd.Series.value_counts(log_data[4])\n",
    "    urls = []\n",
    "    count = np.asarray(x)\n",
    "    date = []\n",
    "    \n",
    "    unique_days.append(log_data[1][0])\n",
    "    \n",
    "    for i in range(len(x)):\n",
    "        date.append(log_data[1][0])\n",
    "        urls.append(x.axes[0][i])\n",
    "    dummy = pd.DataFrame({'url' : urls,'count' : count,'date' : date})\n",
    "    final_log = final_log.append(dummy)"
   ]
  },
  {
   "cell_type": "code",
   "execution_count": 6,
   "metadata": {
    "collapsed": false
   },
   "outputs": [],
   "source": [
    "unique_urls = np.asarray(pd.Series.value_counts(final_log['url']).axes[0])\n",
    "unique_date = pd.DataFrame({'date':pd.to_datetime(unique_days)}).sort_values(by='date',ascending=1)\n",
    "final_log['date'] = pd.to_datetime(final_log['date'])\n",
    "url_by_date_count = np.zeros((len(unique_urls),len(unique_date)))\n",
    "for i in range(len(unique_urls)):\n",
    "    for j in range(len(unique_date)):\n",
    "        x = np.asarray(final_log['count'][(final_log['date'] == unique_date['date'][j]) & (final_log['url'] == unique_urls[i])])\n",
    "        if len(x) == 0:\n",
    "            url_by_date_count[i][j] = 0\n",
    "        else:\n",
    "            url_by_date_count[i][j] = x\n"
   ]
  },
  {
   "cell_type": "code",
   "execution_count": 7,
   "metadata": {
    "collapsed": false
   },
   "outputs": [],
   "source": [
    "unique_count = []\n",
    "unique_data = []\n",
    "for F in file_path:\n",
    "    log_data = pd.read_csv(F,',',header=None, error_bad_lines=False)\n",
    "    unique_count.append(len(log_data[0].unique()))\n",
    "    unique_data.append(log_data[1][0])                    \n",
    "\n",
    "unique_visitors_log = pd.DataFrame({'count' : unique_count,'date' : unique_data})\n",
    "unique_visitors_log['date'] = pd.to_datetime(unique_visitors_log['date'])\n",
    "unique_visitors_log = unique_visitors_log.sort_values(by='date',ascending=1)\n",
    "avg_count = np.mean(unique_visitors_log['count'])"
   ]
  },
  {
   "cell_type": "code",
   "execution_count": null,
   "metadata": {
    "collapsed": true
   },
   "outputs": [],
   "source": [
    "unique_count = []\n",
    "unique_data = []\n",
    "for F in file_path:\n",
    "    log_data = pd.read_csv(F,',',header=None, error_bad_lines=False)\n",
    "    unique_count.append(len(log_data[0].unique()))\n",
    "    unique_data.append(log_data[1][0])                    \n",
    "\n",
    "unique_visitors_log = pd.DataFrame({'404' : unique_count,'date' : unique_data})\n",
    "unique_visitors_log['date'] = pd.to_datetime(unique_visitors_log['date'])\n",
    "unique_visitors_log = unique_visitors_log.sort_values(by='date',ascending=1)\n",
    "avg_count = np.mean(unique_visitors_log['count'])"
   ]
  },
  {
   "cell_type": "code",
   "execution_count": 8,
   "metadata": {
    "collapsed": false
   },
   "outputs": [
    {
     "data": {
      "text/html": [
       "\n",
       "\n",
       "    <div class=\"bk-root\">\n",
       "        <div class=\"plotdiv\" id=\"98cd6e0b-ec72-49d4-b12e-be31e2b050c3\"></div>\n",
       "    </div>\n",
       "<script type=\"text/javascript\">\n",
       "  \n",
       "  (function(global) {\n",
       "    function now() {\n",
       "      return new Date();\n",
       "    }\n",
       "  \n",
       "    var force = \"\";\n",
       "  \n",
       "    if (typeof (window._bokeh_onload_callbacks) === \"undefined\" || force !== \"\") {\n",
       "      window._bokeh_onload_callbacks = [];\n",
       "      window._bokeh_is_loading = undefined;\n",
       "    }\n",
       "  \n",
       "  \n",
       "    \n",
       "    if (typeof (window._bokeh_timeout) === \"undefined\" || force !== \"\") {\n",
       "      window._bokeh_timeout = Date.now() + 0;\n",
       "      window._bokeh_failed_load = false;\n",
       "    }\n",
       "  \n",
       "    var NB_LOAD_WARNING = {'data': {'text/html':\n",
       "       \"<div style='background-color: #fdd'>\\n\"+\n",
       "       \"<p>\\n\"+\n",
       "       \"BokehJS does not appear to have successfully loaded. If loading BokehJS from CDN, this \\n\"+\n",
       "       \"may be due to a slow or bad network connection. Possible fixes:\\n\"+\n",
       "       \"</p>\\n\"+\n",
       "       \"<ul>\\n\"+\n",
       "       \"<li>re-rerun `output_notebook()` to attempt to load from CDN again, or</li>\\n\"+\n",
       "       \"<li>use INLINE resources instead, as so:</li>\\n\"+\n",
       "       \"</ul>\\n\"+\n",
       "       \"<code>\\n\"+\n",
       "       \"from bokeh.resources import INLINE\\n\"+\n",
       "       \"output_notebook(resources=INLINE)\\n\"+\n",
       "       \"</code>\\n\"+\n",
       "       \"</div>\"}};\n",
       "  \n",
       "    function display_loaded() {\n",
       "      if (window.Bokeh !== undefined) {\n",
       "        Bokeh.$(\"#98cd6e0b-ec72-49d4-b12e-be31e2b050c3\").text(\"BokehJS successfully loaded.\");\n",
       "      } else if (Date.now() < window._bokeh_timeout) {\n",
       "        setTimeout(display_loaded, 100)\n",
       "      }\n",
       "    }\n",
       "  \n",
       "    function run_callbacks() {\n",
       "      window._bokeh_onload_callbacks.forEach(function(callback) { callback() });\n",
       "      delete window._bokeh_onload_callbacks\n",
       "      console.info(\"Bokeh: all callbacks have finished\");\n",
       "    }\n",
       "  \n",
       "    function load_libs(js_urls, callback) {\n",
       "      window._bokeh_onload_callbacks.push(callback);\n",
       "      if (window._bokeh_is_loading > 0) {\n",
       "        console.log(\"Bokeh: BokehJS is being loaded, scheduling callback at\", now());\n",
       "        return null;\n",
       "      }\n",
       "      if (js_urls == null || js_urls.length === 0) {\n",
       "        run_callbacks();\n",
       "        return null;\n",
       "      }\n",
       "      console.log(\"Bokeh: BokehJS not loaded, scheduling load and callback at\", now());\n",
       "      window._bokeh_is_loading = js_urls.length;\n",
       "      for (var i = 0; i < js_urls.length; i++) {\n",
       "        var url = js_urls[i];\n",
       "        var s = document.createElement('script');\n",
       "        s.src = url;\n",
       "        s.async = false;\n",
       "        s.onreadystatechange = s.onload = function() {\n",
       "          window._bokeh_is_loading--;\n",
       "          if (window._bokeh_is_loading === 0) {\n",
       "            console.log(\"Bokeh: all BokehJS libraries loaded\");\n",
       "            run_callbacks()\n",
       "          }\n",
       "        };\n",
       "        s.onerror = function() {\n",
       "          console.warn(\"failed to load library \" + url);\n",
       "        };\n",
       "        console.log(\"Bokeh: injecting script tag for BokehJS library: \", url);\n",
       "        document.getElementsByTagName(\"head\")[0].appendChild(s);\n",
       "      }\n",
       "    };var element = document.getElementById(\"98cd6e0b-ec72-49d4-b12e-be31e2b050c3\");\n",
       "    if (element == null) {\n",
       "      console.log(\"Bokeh: ERROR: autoload.js configured with elementid '98cd6e0b-ec72-49d4-b12e-be31e2b050c3' but no matching script tag was found. \")\n",
       "      return false;\n",
       "    }\n",
       "  \n",
       "    var js_urls = [];\n",
       "  \n",
       "    var inline_js = [\n",
       "      function(Bokeh) {\n",
       "        Bokeh.$(function() {\n",
       "            var docs_json = {\"0f3f76ec-07f1-4139-bd89-6cf94b136237\":{\"roots\":{\"references\":[{\"attributes\":{\"plot\":{\"id\":\"977029f9-5347-4452-b43f-17e12f5b8b83\",\"subtype\":\"Figure\",\"type\":\"Plot\"},\"ticker\":{\"id\":\"65548d1b-bf78-4f8b-90a7-30ae3c2ffb41\",\"type\":\"DatetimeTicker\"}},\"id\":\"dee7baaa-7f4f-4ccb-abee-a4af121ad045\",\"type\":\"Grid\"},{\"attributes\":{\"plot\":{\"id\":\"977029f9-5347-4452-b43f-17e12f5b8b83\",\"subtype\":\"Figure\",\"type\":\"Plot\"}},\"id\":\"ac52a4d5-c356-48f5-9f09-acc6348510cd\",\"type\":\"PanTool\"},{\"attributes\":{\"base\":60,\"mantissas\":[1,2,5,10,15,20,30],\"max_interval\":1800000.0,\"min_interval\":1000.0,\"num_minor_ticks\":0},\"id\":\"f308ea2a-b48e-49d2-9982-b72e74c044d2\",\"type\":\"AdaptiveTicker\"},{\"attributes\":{\"months\":[0,6]},\"id\":\"beb11d8b-3ead-414d-9b16-dddd87005fc7\",\"type\":\"MonthsTicker\"},{\"attributes\":{\"days\":[1,8,15,22]},\"id\":\"cdd36d6e-4b7c-41ff-b61e-40ff343c266a\",\"type\":\"DaysTicker\"},{\"attributes\":{\"callback\":null},\"id\":\"33f7d28c-9afe-4b72-bbd2-d688ec4f4a5b\",\"type\":\"DataRange1d\"},{\"attributes\":{\"days\":[1,4,7,10,13,16,19,22,25,28]},\"id\":\"921e5455-8086-45a9-bd91-c06780a6055d\",\"type\":\"DaysTicker\"},{\"attributes\":{},\"id\":\"535bc12c-d00a-497d-966b-d96f9afb5e7e\",\"type\":\"BasicTickFormatter\"},{\"attributes\":{\"callback\":null,\"column_names\":[\"y\",\"x\"],\"data\":{\"x\":[1468627200000.0,1468713600000.0,1468800000000.0,1468886400000.0,1468972800000.0,1469059200000.0,1469145600000.0,1469232000000.0,1469318400000.0,1469404800000.0,1469491200000.0,1469577600000.0,1469664000000.0,1469750400000.0,1469836800000.0,1469923200000.0,1470009600000.0,1470096000000.0,1470182400000.0,1470268800000.0,1470355200000.0,1470441600000.0,1470528000000.0,1470614400000.0,1470700800000.0,1470787200000.0,1470873600000.0,1470960000000.0,1471046400000.0,1471132800000.0,1471219200000.0,1471305600000.0,1471392000000.0,1471478400000.0,1471564800000.0],\"y\":[55,37,51,39,73,51,53,58,57,76,53,50,65,54,46,40,55,53,66,76,65,42,39,55,70,59,59,61,63,46,42,62,63,69,51]}},\"id\":\"f279c323-fe52-4664-bfeb-a02b5d45ab5c\",\"type\":\"ColumnDataSource\"},{\"attributes\":{\"base\":24,\"mantissas\":[1,2,4,6,8,12],\"max_interval\":43200000.0,\"min_interval\":3600000.0,\"num_minor_ticks\":0},\"id\":\"ca6953a7-c317-474f-8c65-970ae85f2b91\",\"type\":\"AdaptiveTicker\"},{\"attributes\":{\"plot\":null,\"text\":\"Unique visitors\"},\"id\":\"0308368f-c023-49f1-804c-34c9d25ea4b5\",\"type\":\"Title\"},{\"attributes\":{\"axis_label\":\"Date\",\"formatter\":{\"id\":\"80e7174a-3f83-4ff9-ad04-442fee564956\",\"type\":\"DatetimeTickFormatter\"},\"plot\":{\"id\":\"977029f9-5347-4452-b43f-17e12f5b8b83\",\"subtype\":\"Figure\",\"type\":\"Plot\"},\"ticker\":{\"id\":\"65548d1b-bf78-4f8b-90a7-30ae3c2ffb41\",\"type\":\"DatetimeTicker\"}},\"id\":\"97750bb3-a48a-4e48-a5a2-e34243d11488\",\"type\":\"DatetimeAxis\"},{\"attributes\":{\"max_interval\":500.0,\"num_minor_ticks\":0},\"id\":\"960b5ab7-c7df-4174-8730-4b48d1cb3c00\",\"type\":\"AdaptiveTicker\"},{\"attributes\":{\"months\":[0,1,2,3,4,5,6,7,8,9,10,11]},\"id\":\"15ff857f-c783-4ddb-9462-20254000fa31\",\"type\":\"MonthsTicker\"},{\"attributes\":{\"months\":[0,4,8]},\"id\":\"51d11533-9795-4b6d-9a1e-51514fba12a8\",\"type\":\"MonthsTicker\"},{\"attributes\":{\"plot\":{\"id\":\"977029f9-5347-4452-b43f-17e12f5b8b83\",\"subtype\":\"Figure\",\"type\":\"Plot\"}},\"id\":\"16e71a72-fbeb-494d-b5c4-dada1c0ff790\",\"type\":\"HelpTool\"},{\"attributes\":{\"callback\":null,\"column_names\":[\"y\",\"x\"],\"data\":{\"x\":[1468627200000.0,1468713600000.0,1468800000000.0,1468886400000.0,1468972800000.0,1469059200000.0,1469145600000.0,1469232000000.0,1469318400000.0,1469404800000.0,1469491200000.0,1469577600000.0,1469664000000.0,1469750400000.0,1469836800000.0,1469923200000.0,1470009600000.0,1470096000000.0,1470182400000.0,1470268800000.0,1470355200000.0,1470441600000.0,1470528000000.0,1470614400000.0,1470700800000.0,1470787200000.0,1470873600000.0,1470960000000.0,1471046400000.0,1471132800000.0,1471219200000.0,1471305600000.0,1471392000000.0,1471478400000.0,1471564800000.0],\"y\":[55.82857142857143,55.82857142857143,55.82857142857143,55.82857142857143,55.82857142857143,55.82857142857143,55.82857142857143,55.82857142857143,55.82857142857143,55.82857142857143,55.82857142857143,55.82857142857143,55.82857142857143,55.82857142857143,55.82857142857143,55.82857142857143,55.82857142857143,55.82857142857143,55.82857142857143,55.82857142857143,55.82857142857143,55.82857142857143,55.82857142857143,55.82857142857143,55.82857142857143,55.82857142857143,55.82857142857143,55.82857142857143,55.82857142857143,55.82857142857143,55.82857142857143,55.82857142857143,55.82857142857143,55.82857142857143,55.82857142857143]}},\"id\":\"79eb3e05-c264-4452-a124-645980164926\",\"type\":\"ColumnDataSource\"},{\"attributes\":{},\"id\":\"bb34f0fd-fbeb-469e-bce2-28ae09bcde54\",\"type\":\"ToolEvents\"},{\"attributes\":{\"months\":[0,2,4,6,8,10]},\"id\":\"5581e006-ff76-4297-ae22-8093ac5950fa\",\"type\":\"MonthsTicker\"},{\"attributes\":{},\"id\":\"80e7174a-3f83-4ff9-ad04-442fee564956\",\"type\":\"DatetimeTickFormatter\"},{\"attributes\":{\"callback\":null},\"id\":\"17d136ba-92f5-47b7-96d1-979c89a74f29\",\"type\":\"DataRange1d\"},{\"attributes\":{\"days\":[1,15]},\"id\":\"d676230c-44af-407a-abc2-e1a1d6eaf0cf\",\"type\":\"DaysTicker\"},{\"attributes\":{\"data_source\":{\"id\":\"79eb3e05-c264-4452-a124-645980164926\",\"type\":\"ColumnDataSource\"},\"glyph\":{\"id\":\"64f46939-73a0-4b89-bb90-4e09c447d40a\",\"type\":\"Line\"},\"hover_glyph\":null,\"nonselection_glyph\":{\"id\":\"3ccd0fe5-06d9-4826-a9e8-b4f2fdfe4f50\",\"type\":\"Line\"},\"selection_glyph\":null},\"id\":\"98b2dad1-abe1-40c5-8096-f6c8c9307840\",\"type\":\"GlyphRenderer\"},{\"attributes\":{\"active_drag\":\"auto\",\"active_scroll\":\"auto\",\"active_tap\":\"auto\",\"tools\":[{\"id\":\"ac52a4d5-c356-48f5-9f09-acc6348510cd\",\"type\":\"PanTool\"},{\"id\":\"5b83c5b0-c6cb-40d2-b1c5-0db9816b5d7f\",\"type\":\"WheelZoomTool\"},{\"id\":\"84e00ab8-4955-4d31-8a2c-38915b8145d6\",\"type\":\"BoxZoomTool\"},{\"id\":\"fad3da48-67b5-4e20-b23c-a0703f038011\",\"type\":\"SaveTool\"},{\"id\":\"c2a9b647-d3bd-479a-9e27-890241e04d86\",\"type\":\"ResetTool\"},{\"id\":\"16e71a72-fbeb-494d-b5c4-dada1c0ff790\",\"type\":\"HelpTool\"}]},\"id\":\"07cdc87f-5b52-4086-9936-62bbc1d26383\",\"type\":\"Toolbar\"},{\"attributes\":{\"dimension\":1,\"plot\":{\"id\":\"977029f9-5347-4452-b43f-17e12f5b8b83\",\"subtype\":\"Figure\",\"type\":\"Plot\"},\"ticker\":{\"id\":\"1f281611-fbf4-4eef-b959-b43af65d5ddb\",\"type\":\"BasicTicker\"}},\"id\":\"96d3c35f-44ad-4992-a071-e300ee93461a\",\"type\":\"Grid\"},{\"attributes\":{\"plot\":{\"id\":\"977029f9-5347-4452-b43f-17e12f5b8b83\",\"subtype\":\"Figure\",\"type\":\"Plot\"}},\"id\":\"fad3da48-67b5-4e20-b23c-a0703f038011\",\"type\":\"SaveTool\"},{\"attributes\":{\"axis_label\":\"Unique Visitors\",\"formatter\":{\"id\":\"535bc12c-d00a-497d-966b-d96f9afb5e7e\",\"type\":\"BasicTickFormatter\"},\"plot\":{\"id\":\"977029f9-5347-4452-b43f-17e12f5b8b83\",\"subtype\":\"Figure\",\"type\":\"Plot\"},\"ticker\":{\"id\":\"1f281611-fbf4-4eef-b959-b43af65d5ddb\",\"type\":\"BasicTicker\"}},\"id\":\"29ef4c15-948d-4d47-a6b6-41042c38fb2d\",\"type\":\"LinearAxis\"},{\"attributes\":{\"line_color\":{\"value\":\"#e41a1c\"},\"line_dash\":[6],\"line_width\":{\"value\":3},\"x\":{\"field\":\"x\"},\"y\":{\"field\":\"y\"}},\"id\":\"64f46939-73a0-4b89-bb90-4e09c447d40a\",\"type\":\"Line\"},{\"attributes\":{\"plot\":{\"id\":\"977029f9-5347-4452-b43f-17e12f5b8b83\",\"subtype\":\"Figure\",\"type\":\"Plot\"}},\"id\":\"c2a9b647-d3bd-479a-9e27-890241e04d86\",\"type\":\"ResetTool\"},{\"attributes\":{\"line_color\":{\"value\":\"#377eb8\"},\"line_width\":{\"value\":3},\"x\":{\"field\":\"x\"},\"y\":{\"field\":\"y\"}},\"id\":\"49a575cd-cb4c-4bb9-8381-f65145fb084f\",\"type\":\"Line\"},{\"attributes\":{\"legends\":[[\"Unique Visitors\",[{\"id\":\"23bf6afa-9ad2-4e24-a666-faed95936af0\",\"type\":\"GlyphRenderer\"}]],[\"Average Count\",[{\"id\":\"98b2dad1-abe1-40c5-8096-f6c8c9307840\",\"type\":\"GlyphRenderer\"}]]],\"location\":\"top_left\",\"plot\":{\"id\":\"977029f9-5347-4452-b43f-17e12f5b8b83\",\"subtype\":\"Figure\",\"type\":\"Plot\"}},\"id\":\"94a81644-1fc3-4a50-b142-cf152083ccca\",\"type\":\"Legend\"},{\"attributes\":{\"bottom_units\":\"screen\",\"fill_alpha\":{\"value\":0.5},\"fill_color\":{\"value\":\"lightgrey\"},\"left_units\":\"screen\",\"level\":\"overlay\",\"line_alpha\":{\"value\":1.0},\"line_color\":{\"value\":\"black\"},\"line_dash\":[4,4],\"line_width\":{\"value\":2},\"plot\":null,\"render_mode\":\"css\",\"right_units\":\"screen\",\"top_units\":\"screen\"},\"id\":\"e0577b3f-eed6-4afd-b670-f2db231cb7c4\",\"type\":\"BoxAnnotation\"},{\"attributes\":{\"overlay\":{\"id\":\"e0577b3f-eed6-4afd-b670-f2db231cb7c4\",\"type\":\"BoxAnnotation\"},\"plot\":{\"id\":\"977029f9-5347-4452-b43f-17e12f5b8b83\",\"subtype\":\"Figure\",\"type\":\"Plot\"}},\"id\":\"84e00ab8-4955-4d31-8a2c-38915b8145d6\",\"type\":\"BoxZoomTool\"},{\"attributes\":{\"line_alpha\":{\"value\":0.1},\"line_color\":{\"value\":\"#1f77b4\"},\"line_dash\":[6],\"line_width\":{\"value\":3},\"x\":{\"field\":\"x\"},\"y\":{\"field\":\"y\"}},\"id\":\"3ccd0fe5-06d9-4826-a9e8-b4f2fdfe4f50\",\"type\":\"Line\"},{\"attributes\":{},\"id\":\"d3300ba0-0068-4c53-a674-ab1522b78845\",\"type\":\"YearsTicker\"},{\"attributes\":{\"line_alpha\":{\"value\":0.1},\"line_color\":{\"value\":\"#1f77b4\"},\"line_width\":{\"value\":3},\"x\":{\"field\":\"x\"},\"y\":{\"field\":\"y\"}},\"id\":\"b1d2e2fc-2814-48ef-b198-86b31700ff28\",\"type\":\"Line\"},{\"attributes\":{\"below\":[{\"id\":\"97750bb3-a48a-4e48-a5a2-e34243d11488\",\"type\":\"DatetimeAxis\"}],\"left\":[{\"id\":\"29ef4c15-948d-4d47-a6b6-41042c38fb2d\",\"type\":\"LinearAxis\"}],\"plot_height\":700,\"plot_width\":1000,\"renderers\":[{\"id\":\"97750bb3-a48a-4e48-a5a2-e34243d11488\",\"type\":\"DatetimeAxis\"},{\"id\":\"dee7baaa-7f4f-4ccb-abee-a4af121ad045\",\"type\":\"Grid\"},{\"id\":\"29ef4c15-948d-4d47-a6b6-41042c38fb2d\",\"type\":\"LinearAxis\"},{\"id\":\"96d3c35f-44ad-4992-a071-e300ee93461a\",\"type\":\"Grid\"},{\"id\":\"e0577b3f-eed6-4afd-b670-f2db231cb7c4\",\"type\":\"BoxAnnotation\"},{\"id\":\"94a81644-1fc3-4a50-b142-cf152083ccca\",\"type\":\"Legend\"},{\"id\":\"23bf6afa-9ad2-4e24-a666-faed95936af0\",\"type\":\"GlyphRenderer\"},{\"id\":\"98b2dad1-abe1-40c5-8096-f6c8c9307840\",\"type\":\"GlyphRenderer\"}],\"title\":{\"id\":\"0308368f-c023-49f1-804c-34c9d25ea4b5\",\"type\":\"Title\"},\"tool_events\":{\"id\":\"bb34f0fd-fbeb-469e-bce2-28ae09bcde54\",\"type\":\"ToolEvents\"},\"toolbar\":{\"id\":\"07cdc87f-5b52-4086-9936-62bbc1d26383\",\"type\":\"Toolbar\"},\"x_range\":{\"id\":\"33f7d28c-9afe-4b72-bbd2-d688ec4f4a5b\",\"type\":\"DataRange1d\"},\"y_range\":{\"id\":\"17d136ba-92f5-47b7-96d1-979c89a74f29\",\"type\":\"DataRange1d\"}},\"id\":\"977029f9-5347-4452-b43f-17e12f5b8b83\",\"subtype\":\"Figure\",\"type\":\"Plot\"},{\"attributes\":{\"plot\":{\"id\":\"977029f9-5347-4452-b43f-17e12f5b8b83\",\"subtype\":\"Figure\",\"type\":\"Plot\"}},\"id\":\"5b83c5b0-c6cb-40d2-b1c5-0db9816b5d7f\",\"type\":\"WheelZoomTool\"},{\"attributes\":{\"data_source\":{\"id\":\"f279c323-fe52-4664-bfeb-a02b5d45ab5c\",\"type\":\"ColumnDataSource\"},\"glyph\":{\"id\":\"49a575cd-cb4c-4bb9-8381-f65145fb084f\",\"type\":\"Line\"},\"hover_glyph\":null,\"nonselection_glyph\":{\"id\":\"b1d2e2fc-2814-48ef-b198-86b31700ff28\",\"type\":\"Line\"},\"selection_glyph\":null},\"id\":\"23bf6afa-9ad2-4e24-a666-faed95936af0\",\"type\":\"GlyphRenderer\"},{\"attributes\":{\"days\":[1,2,3,4,5,6,7,8,9,10,11,12,13,14,15,16,17,18,19,20,21,22,23,24,25,26,27,28,29,30,31]},\"id\":\"db0255a9-52d7-4da3-b8fd-4a275eaee918\",\"type\":\"DaysTicker\"},{\"attributes\":{},\"id\":\"1f281611-fbf4-4eef-b959-b43af65d5ddb\",\"type\":\"BasicTicker\"},{\"attributes\":{\"num_minor_ticks\":5},\"id\":\"65548d1b-bf78-4f8b-90a7-30ae3c2ffb41\",\"type\":\"DatetimeTicker\"}],\"root_ids\":[\"977029f9-5347-4452-b43f-17e12f5b8b83\"]},\"title\":\"Bokeh Application\",\"version\":\"0.12.2\"}};\n",
       "            var render_items = [{\"docid\":\"0f3f76ec-07f1-4139-bd89-6cf94b136237\",\"elementid\":\"98cd6e0b-ec72-49d4-b12e-be31e2b050c3\",\"modelid\":\"977029f9-5347-4452-b43f-17e12f5b8b83\"}];\n",
       "            \n",
       "            Bokeh.embed.embed_items(docs_json, render_items);\n",
       "        });\n",
       "      },\n",
       "      function(Bokeh) {\n",
       "      }\n",
       "    ];\n",
       "  \n",
       "    function run_inline_js() {\n",
       "      \n",
       "      if ((window.Bokeh !== undefined) || (force === \"1\")) {\n",
       "        for (var i = 0; i < inline_js.length; i++) {\n",
       "          inline_js[i](window.Bokeh);\n",
       "        }if (force === \"1\") {\n",
       "          display_loaded();\n",
       "        }} else if (Date.now() < window._bokeh_timeout) {\n",
       "        setTimeout(run_inline_js, 100);\n",
       "      } else if (!window._bokeh_failed_load) {\n",
       "        console.log(\"Bokeh: BokehJS failed to load within specified timeout.\");\n",
       "        window._bokeh_failed_load = true;\n",
       "      } else if (!force) {\n",
       "        var cell = $(\"#98cd6e0b-ec72-49d4-b12e-be31e2b050c3\").parents('.cell').data().cell;\n",
       "        cell.output_area.append_execute_result(NB_LOAD_WARNING)\n",
       "      }\n",
       "  \n",
       "    }\n",
       "  \n",
       "    if (window._bokeh_is_loading === 0) {\n",
       "      console.log(\"Bokeh: BokehJS loaded, going straight to plotting\");\n",
       "      run_inline_js();\n",
       "    } else {\n",
       "      load_libs(js_urls, function() {\n",
       "        console.log(\"Bokeh: BokehJS plotting callback run at\", now());\n",
       "        run_inline_js();\n",
       "      });\n",
       "    }\n",
       "  }(this));\n",
       "</script>"
      ]
     },
     "metadata": {},
     "output_type": "display_data"
    }
   ],
   "source": [
    "def datetime(x):\n",
    "    return np.array(x['date'], dtype=np.datetime64)\n",
    "\n",
    "line_type = ['solid', 'dashed', 'dotted']\n",
    "\n",
    "p2 = figure(x_axis_type=\"datetime\", title=\"Unique visitors\",width = 1000,height = 700)\n",
    "p2.xaxis.axis_label = 'Date'\n",
    "p2.yaxis.axis_label = 'Unique Visitors'\n",
    "\n",
    "p2.line(datetime(unique_date),unique_visitors_log['count'],color = Set1_5[1], line_width=3,legend='Unique Visitors')\n",
    "p2.line(datetime(unique_date),np.repeat(avg_count, len(unique_date)),color = Set1_5[0], line_width=3,line_dash = 'dashed',legend='Average Count')\n",
    "p2.legend.location = \"top_left\"\n",
    "show(p2)"
   ]
  },
  {
   "cell_type": "code",
   "execution_count": 21,
   "metadata": {
    "collapsed": false
   },
   "outputs": [
    {
     "data": {
      "text/plain": [
       "array([ 55.,  37.,  51.,  39.,  73.,  51.,  53.,  58.,  57.,  76.,  53.,\n",
       "        50.,  65.,  54.,  46.,  40.,  55.,  53.,  66.,  76.,  65.,  42.,\n",
       "        39.,  55.,  70.,  59.,  59.,  61.,  63.,  46.,  42.,  62.,  63.,\n",
       "        69.,  51.], dtype=float32)"
      ]
     },
     "execution_count": 21,
     "metadata": {},
     "output_type": "execute_result"
    }
   ],
   "source": [
    "np.asarray(unique_visitors_log['count'],dtype = np.float32)"
   ]
  },
  {
   "cell_type": "code",
   "execution_count": 9,
   "metadata": {
    "collapsed": false
   },
   "outputs": [],
   "source": [
    "mean_count = np.mean(url_by_date_count,axis=1)\n",
    "top_5_urls = np.argsort(mean_count) # Sort in ascending order\n",
    "top_5_urls = top_5_urls[-5:]"
   ]
  },
  {
   "cell_type": "code",
   "execution_count": 10,
   "metadata": {
    "collapsed": false
   },
   "outputs": [
    {
     "data": {
      "text/html": [
       "\n",
       "\n",
       "    <div class=\"bk-root\">\n",
       "        <div class=\"plotdiv\" id=\"6dabc88b-3452-4d5f-ba64-59215447c31d\"></div>\n",
       "    </div>\n",
       "<script type=\"text/javascript\">\n",
       "  \n",
       "  (function(global) {\n",
       "    function now() {\n",
       "      return new Date();\n",
       "    }\n",
       "  \n",
       "    var force = \"\";\n",
       "  \n",
       "    if (typeof (window._bokeh_onload_callbacks) === \"undefined\" || force !== \"\") {\n",
       "      window._bokeh_onload_callbacks = [];\n",
       "      window._bokeh_is_loading = undefined;\n",
       "    }\n",
       "  \n",
       "  \n",
       "    \n",
       "    if (typeof (window._bokeh_timeout) === \"undefined\" || force !== \"\") {\n",
       "      window._bokeh_timeout = Date.now() + 0;\n",
       "      window._bokeh_failed_load = false;\n",
       "    }\n",
       "  \n",
       "    var NB_LOAD_WARNING = {'data': {'text/html':\n",
       "       \"<div style='background-color: #fdd'>\\n\"+\n",
       "       \"<p>\\n\"+\n",
       "       \"BokehJS does not appear to have successfully loaded. If loading BokehJS from CDN, this \\n\"+\n",
       "       \"may be due to a slow or bad network connection. Possible fixes:\\n\"+\n",
       "       \"</p>\\n\"+\n",
       "       \"<ul>\\n\"+\n",
       "       \"<li>re-rerun `output_notebook()` to attempt to load from CDN again, or</li>\\n\"+\n",
       "       \"<li>use INLINE resources instead, as so:</li>\\n\"+\n",
       "       \"</ul>\\n\"+\n",
       "       \"<code>\\n\"+\n",
       "       \"from bokeh.resources import INLINE\\n\"+\n",
       "       \"output_notebook(resources=INLINE)\\n\"+\n",
       "       \"</code>\\n\"+\n",
       "       \"</div>\"}};\n",
       "  \n",
       "    function display_loaded() {\n",
       "      if (window.Bokeh !== undefined) {\n",
       "        Bokeh.$(\"#6dabc88b-3452-4d5f-ba64-59215447c31d\").text(\"BokehJS successfully loaded.\");\n",
       "      } else if (Date.now() < window._bokeh_timeout) {\n",
       "        setTimeout(display_loaded, 100)\n",
       "      }\n",
       "    }\n",
       "  \n",
       "    function run_callbacks() {\n",
       "      window._bokeh_onload_callbacks.forEach(function(callback) { callback() });\n",
       "      delete window._bokeh_onload_callbacks\n",
       "      console.info(\"Bokeh: all callbacks have finished\");\n",
       "    }\n",
       "  \n",
       "    function load_libs(js_urls, callback) {\n",
       "      window._bokeh_onload_callbacks.push(callback);\n",
       "      if (window._bokeh_is_loading > 0) {\n",
       "        console.log(\"Bokeh: BokehJS is being loaded, scheduling callback at\", now());\n",
       "        return null;\n",
       "      }\n",
       "      if (js_urls == null || js_urls.length === 0) {\n",
       "        run_callbacks();\n",
       "        return null;\n",
       "      }\n",
       "      console.log(\"Bokeh: BokehJS not loaded, scheduling load and callback at\", now());\n",
       "      window._bokeh_is_loading = js_urls.length;\n",
       "      for (var i = 0; i < js_urls.length; i++) {\n",
       "        var url = js_urls[i];\n",
       "        var s = document.createElement('script');\n",
       "        s.src = url;\n",
       "        s.async = false;\n",
       "        s.onreadystatechange = s.onload = function() {\n",
       "          window._bokeh_is_loading--;\n",
       "          if (window._bokeh_is_loading === 0) {\n",
       "            console.log(\"Bokeh: all BokehJS libraries loaded\");\n",
       "            run_callbacks()\n",
       "          }\n",
       "        };\n",
       "        s.onerror = function() {\n",
       "          console.warn(\"failed to load library \" + url);\n",
       "        };\n",
       "        console.log(\"Bokeh: injecting script tag for BokehJS library: \", url);\n",
       "        document.getElementsByTagName(\"head\")[0].appendChild(s);\n",
       "      }\n",
       "    };var element = document.getElementById(\"6dabc88b-3452-4d5f-ba64-59215447c31d\");\n",
       "    if (element == null) {\n",
       "      console.log(\"Bokeh: ERROR: autoload.js configured with elementid '6dabc88b-3452-4d5f-ba64-59215447c31d' but no matching script tag was found. \")\n",
       "      return false;\n",
       "    }\n",
       "  \n",
       "    var js_urls = [];\n",
       "  \n",
       "    var inline_js = [\n",
       "      function(Bokeh) {\n",
       "        Bokeh.$(function() {\n",
       "            var docs_json = {\"34f6919f-d2cb-4dd8-87ef-853a228a009e\":{\"roots\":{\"references\":[{\"attributes\":{\"plot\":null,\"text\":\"Top-3 URL'S\"},\"id\":\"ef23036a-4c74-43b3-87c2-719a5e4cfa25\",\"type\":\"Title\"},{\"attributes\":{\"plot\":{\"id\":\"59989ddf-b425-4088-82d8-854db3aa964d\",\"subtype\":\"Figure\",\"type\":\"Plot\"},\"ticker\":{\"id\":\"73258240-cf16-46ad-8ce7-3034ea258252\",\"type\":\"DatetimeTicker\"}},\"id\":\"57a353e7-9b18-4039-afe4-567c1ccacb4a\",\"type\":\"Grid\"},{\"attributes\":{\"axis_label\":\"Date\",\"formatter\":{\"id\":\"664c4ea2-7895-4370-8453-c285b1cc515d\",\"type\":\"DatetimeTickFormatter\"},\"plot\":{\"id\":\"59989ddf-b425-4088-82d8-854db3aa964d\",\"subtype\":\"Figure\",\"type\":\"Plot\"},\"ticker\":{\"id\":\"73258240-cf16-46ad-8ce7-3034ea258252\",\"type\":\"DatetimeTicker\"}},\"id\":\"d4b6ed7f-acba-4f3c-980e-b112470b9e9c\",\"type\":\"DatetimeAxis\"},{\"attributes\":{\"base\":24,\"mantissas\":[1,2,4,6,8,12],\"max_interval\":43200000.0,\"min_interval\":3600000.0,\"num_minor_ticks\":0},\"id\":\"67d362c9-10e9-44df-b892-79199e829cfd\",\"type\":\"AdaptiveTicker\"},{\"attributes\":{\"axis_label\":\"Count\",\"formatter\":{\"id\":\"b2d418af-5d18-439d-9912-7006fdb55cb8\",\"type\":\"BasicTickFormatter\"},\"plot\":{\"id\":\"59989ddf-b425-4088-82d8-854db3aa964d\",\"subtype\":\"Figure\",\"type\":\"Plot\"},\"ticker\":{\"id\":\"65ef2d75-5511-4fac-9b28-391d909e3d85\",\"type\":\"BasicTicker\"}},\"id\":\"812461b3-f59d-45c3-b3a5-d6dda6829b03\",\"type\":\"LinearAxis\"},{\"attributes\":{\"data_source\":{\"id\":\"baf61628-714e-41d1-8c90-edd1182a94d3\",\"type\":\"ColumnDataSource\"},\"glyph\":{\"id\":\"7b93dd0f-08c9-4eed-b710-9ba4666e7462\",\"type\":\"Line\"},\"hover_glyph\":null,\"nonselection_glyph\":{\"id\":\"4a05dd08-b308-41df-bce3-dd6ab60038ad\",\"type\":\"Line\"},\"selection_glyph\":null},\"id\":\"caace2cd-f887-4ea9-b2d9-1d3211f39848\",\"type\":\"GlyphRenderer\"},{\"attributes\":{\"data_source\":{\"id\":\"b410a7ec-57a4-4e87-afff-da6c44f4303c\",\"type\":\"ColumnDataSource\"},\"glyph\":{\"id\":\"a1bd2f58-36cd-4fab-ad6c-d2041f93d347\",\"type\":\"Line\"},\"hover_glyph\":null,\"nonselection_glyph\":{\"id\":\"ad4ecde8-4dee-4a71-b8c3-45687330d243\",\"type\":\"Line\"},\"selection_glyph\":null},\"id\":\"55ee3522-762f-408a-b4f6-390d19f17c8d\",\"type\":\"GlyphRenderer\"},{\"attributes\":{\"callback\":null,\"column_names\":[\"y\",\"x\"],\"data\":{\"x\":[1468627200000.0,1468713600000.0,1468800000000.0,1468886400000.0,1468972800000.0,1469059200000.0,1469145600000.0,1469232000000.0,1469318400000.0,1469404800000.0,1469491200000.0,1469577600000.0,1469664000000.0,1469750400000.0,1469836800000.0,1469923200000.0,1470009600000.0,1470096000000.0,1470182400000.0,1470268800000.0,1470355200000.0,1470441600000.0,1470528000000.0,1470614400000.0,1470700800000.0,1470787200000.0,1470873600000.0,1470960000000.0,1471046400000.0,1471132800000.0,1471219200000.0,1471305600000.0,1471392000000.0,1471478400000.0,1471564800000.0],\"y\":[6.0,12.0,6.0,8.0,20.0,5.0,37.0,10.0,12.0,9.0,9.0,4.0,12.0,6.0,96.0,4.0,7.0,2.0,65.0,2.0,5.0,5.0,7.0,12.0,16.0,6.0,29.0,10.0,9.0,22.0,4.0,20.0,9.0,48.0,11.0]}},\"id\":\"baf61628-714e-41d1-8c90-edd1182a94d3\",\"type\":\"ColumnDataSource\"},{\"attributes\":{\"days\":[1,15]},\"id\":\"4d2e3c2a-2e73-41b6-859d-eba954e2f7ed\",\"type\":\"DaysTicker\"},{\"attributes\":{\"line_color\":{\"value\":\"#4daf4a\"},\"line_dash\":[6],\"line_width\":{\"value\":3},\"x\":{\"field\":\"x\"},\"y\":{\"field\":\"y\"}},\"id\":\"a1bd2f58-36cd-4fab-ad6c-d2041f93d347\",\"type\":\"Line\"},{\"attributes\":{\"line_alpha\":{\"value\":0.1},\"line_color\":{\"value\":\"#1f77b4\"},\"line_dash\":[2,4],\"line_width\":{\"value\":4},\"x\":{\"field\":\"x\"},\"y\":{\"field\":\"y\"}},\"id\":\"4a05dd08-b308-41df-bce3-dd6ab60038ad\",\"type\":\"Line\"},{\"attributes\":{\"num_minor_ticks\":5},\"id\":\"73258240-cf16-46ad-8ce7-3034ea258252\",\"type\":\"DatetimeTicker\"},{\"attributes\":{\"base\":60,\"mantissas\":[1,2,5,10,15,20,30],\"max_interval\":1800000.0,\"min_interval\":1000.0,\"num_minor_ticks\":0},\"id\":\"a3ec1b3e-7218-459e-8136-e3d6fbedaca0\",\"type\":\"AdaptiveTicker\"},{\"attributes\":{\"months\":[0,2,4,6,8,10]},\"id\":\"836b4e10-8940-4809-ab43-dd59a99177a1\",\"type\":\"MonthsTicker\"},{\"attributes\":{\"line_alpha\":{\"value\":0.1},\"line_color\":{\"value\":\"#1f77b4\"},\"line_dash\":[6],\"line_width\":{\"value\":3},\"x\":{\"field\":\"x\"},\"y\":{\"field\":\"y\"}},\"id\":\"ad4ecde8-4dee-4a71-b8c3-45687330d243\",\"type\":\"Line\"},{\"attributes\":{},\"id\":\"664c4ea2-7895-4370-8453-c285b1cc515d\",\"type\":\"DatetimeTickFormatter\"},{\"attributes\":{\"line_color\":{\"value\":\"#984ea3\"},\"line_dash\":[2,4],\"line_width\":{\"value\":4},\"x\":{\"field\":\"x\"},\"y\":{\"field\":\"y\"}},\"id\":\"7b93dd0f-08c9-4eed-b710-9ba4666e7462\",\"type\":\"Line\"},{\"attributes\":{\"months\":[0,6]},\"id\":\"ede28e7c-a0e0-4b31-a705-1aa6705dba11\",\"type\":\"MonthsTicker\"},{\"attributes\":{},\"id\":\"65ef2d75-5511-4fac-9b28-391d909e3d85\",\"type\":\"BasicTicker\"},{\"attributes\":{\"plot\":{\"id\":\"59989ddf-b425-4088-82d8-854db3aa964d\",\"subtype\":\"Figure\",\"type\":\"Plot\"}},\"id\":\"d4166df7-c0a4-42a2-ae1d-23419cbb270d\",\"type\":\"WheelZoomTool\"},{\"attributes\":{\"callback\":null,\"column_names\":[\"y\",\"x\"],\"data\":{\"x\":[1468627200000.0,1468713600000.0,1468800000000.0,1468886400000.0,1468972800000.0,1469059200000.0,1469145600000.0,1469232000000.0,1469318400000.0,1469404800000.0,1469491200000.0,1469577600000.0,1469664000000.0,1469750400000.0,1469836800000.0,1469923200000.0,1470009600000.0,1470096000000.0,1470182400000.0,1470268800000.0,1470355200000.0,1470441600000.0,1470528000000.0,1470614400000.0,1470700800000.0,1470787200000.0,1470873600000.0,1470960000000.0,1471046400000.0,1471132800000.0,1471219200000.0,1471305600000.0,1471392000000.0,1471478400000.0,1471564800000.0],\"y\":[29.0,19.0,44.0,21.0,12.0,17.0,17.0,17.0,26.0,30.0,43.0,13.0,21.0,26.0,21.0,28.0,29.0,15.0,19.0,19.0,24.0,26.0,30.0,9.0,20.0,27.0,11.0,18.0,17.0,12.0,22.0,28.0,16.0,25.0,17.0]}},\"id\":\"b410a7ec-57a4-4e87-afff-da6c44f4303c\",\"type\":\"ColumnDataSource\"},{\"attributes\":{},\"id\":\"dd47f2ed-0fe8-4e87-9e7a-1872f2c67a12\",\"type\":\"ToolEvents\"},{\"attributes\":{\"plot\":{\"id\":\"59989ddf-b425-4088-82d8-854db3aa964d\",\"subtype\":\"Figure\",\"type\":\"Plot\"}},\"id\":\"00d94ec9-c0e7-4b9b-b59e-89a06bc96f10\",\"type\":\"PanTool\"},{\"attributes\":{\"months\":[0,1,2,3,4,5,6,7,8,9,10,11]},\"id\":\"d36e8e94-7827-4bdc-bb5d-9424cd60d3e3\",\"type\":\"MonthsTicker\"},{\"attributes\":{\"callback\":null},\"id\":\"d961a036-4bf0-4f88-a7f3-9a71481f8afb\",\"type\":\"DataRange1d\"},{\"attributes\":{\"days\":[1,4,7,10,13,16,19,22,25,28]},\"id\":\"9baea5d9-587e-4847-81da-5e984f27ce3f\",\"type\":\"DaysTicker\"},{\"attributes\":{\"months\":[0,4,8]},\"id\":\"b629e73a-f05d-4542-aff9-6ab78278d82b\",\"type\":\"MonthsTicker\"},{\"attributes\":{\"callback\":null},\"id\":\"debf6aa7-2d61-4fc7-bc29-7fd73fbf43ad\",\"type\":\"DataRange1d\"},{\"attributes\":{},\"id\":\"02ace6b2-f814-4017-936c-1da04e94eb78\",\"type\":\"YearsTicker\"},{\"attributes\":{\"bottom_units\":\"screen\",\"fill_alpha\":{\"value\":0.5},\"fill_color\":{\"value\":\"lightgrey\"},\"left_units\":\"screen\",\"level\":\"overlay\",\"line_alpha\":{\"value\":1.0},\"line_color\":{\"value\":\"black\"},\"line_dash\":[4,4],\"line_width\":{\"value\":2},\"plot\":null,\"render_mode\":\"css\",\"right_units\":\"screen\",\"top_units\":\"screen\"},\"id\":\"13e1e52e-b965-412d-8bd1-02f39be6393a\",\"type\":\"BoxAnnotation\"},{\"attributes\":{\"data_source\":{\"id\":\"9dca436d-669d-4b4e-ab34-0d67b1244a53\",\"type\":\"ColumnDataSource\"},\"glyph\":{\"id\":\"d6f9a633-c63b-4590-9a8d-bf4b477f7357\",\"type\":\"Line\"},\"hover_glyph\":null,\"nonselection_glyph\":{\"id\":\"ecefd63f-1a45-4ff7-a808-788c2dd763c9\",\"type\":\"Line\"},\"selection_glyph\":null},\"id\":\"ee536ed5-2916-4b0e-9d26-e09af0fb327b\",\"type\":\"GlyphRenderer\"},{\"attributes\":{\"plot\":{\"id\":\"59989ddf-b425-4088-82d8-854db3aa964d\",\"subtype\":\"Figure\",\"type\":\"Plot\"}},\"id\":\"57417cb0-b26c-4703-83f9-3a336a909950\",\"type\":\"ResetTool\"},{\"attributes\":{\"legends\":[[\"networkrouting.net/index.html\",[{\"id\":\"ee536ed5-2916-4b0e-9d26-e09af0fb327b\",\"type\":\"GlyphRenderer\"}]],[\"networkrouting.net/robots.txt\",[{\"id\":\"55ee3522-762f-408a-b4f6-390d19f17c8d\",\"type\":\"GlyphRenderer\"}]],[\"networkrouting.net/docs/mr-chapter_1.pdf\",[{\"id\":\"caace2cd-f887-4ea9-b2d9-1d3211f39848\",\"type\":\"GlyphRenderer\"}]]],\"location\":\"top_left\",\"plot\":{\"id\":\"59989ddf-b425-4088-82d8-854db3aa964d\",\"subtype\":\"Figure\",\"type\":\"Plot\"}},\"id\":\"1bf0ba87-d98a-456c-aaae-51b8b7d66e02\",\"type\":\"Legend\"},{\"attributes\":{\"callback\":null,\"column_names\":[\"y\",\"x\"],\"data\":{\"x\":[1468627200000.0,1468713600000.0,1468800000000.0,1468886400000.0,1468972800000.0,1469059200000.0,1469145600000.0,1469232000000.0,1469318400000.0,1469404800000.0,1469491200000.0,1469577600000.0,1469664000000.0,1469750400000.0,1469836800000.0,1469923200000.0,1470009600000.0,1470096000000.0,1470182400000.0,1470268800000.0,1470355200000.0,1470441600000.0,1470528000000.0,1470614400000.0,1470700800000.0,1470787200000.0,1470873600000.0,1470960000000.0,1471046400000.0,1471132800000.0,1471219200000.0,1471305600000.0,1471392000000.0,1471478400000.0,1471564800000.0],\"y\":[30.0,30.0,26.0,17.0,23.0,30.0,38.0,31.0,35.0,46.0,29.0,19.0,24.0,24.0,31.0,29.0,23.0,15.0,31.0,46.0,33.0,65.0,49.0,25.0,27.0,27.0,15.0,41.0,20.0,37.0,29.0,64.0,25.0,28.0,30.0]}},\"id\":\"9dca436d-669d-4b4e-ab34-0d67b1244a53\",\"type\":\"ColumnDataSource\"},{\"attributes\":{\"plot\":{\"id\":\"59989ddf-b425-4088-82d8-854db3aa964d\",\"subtype\":\"Figure\",\"type\":\"Plot\"}},\"id\":\"c9b89b6a-6eb4-4902-9091-3189cb021ecc\",\"type\":\"HelpTool\"},{\"attributes\":{\"days\":[1,8,15,22]},\"id\":\"b11409db-6300-4234-ac9b-cde834bdc6cf\",\"type\":\"DaysTicker\"},{\"attributes\":{\"plot\":{\"id\":\"59989ddf-b425-4088-82d8-854db3aa964d\",\"subtype\":\"Figure\",\"type\":\"Plot\"}},\"id\":\"e06c8c1c-fe0f-4727-9059-1d32237a8b7c\",\"type\":\"SaveTool\"},{\"attributes\":{\"days\":[1,2,3,4,5,6,7,8,9,10,11,12,13,14,15,16,17,18,19,20,21,22,23,24,25,26,27,28,29,30,31]},\"id\":\"3aa831c3-4ac5-4b01-ad69-3355324c2f11\",\"type\":\"DaysTicker\"},{\"attributes\":{\"active_drag\":\"auto\",\"active_scroll\":\"auto\",\"active_tap\":\"auto\",\"tools\":[{\"id\":\"00d94ec9-c0e7-4b9b-b59e-89a06bc96f10\",\"type\":\"PanTool\"},{\"id\":\"d4166df7-c0a4-42a2-ae1d-23419cbb270d\",\"type\":\"WheelZoomTool\"},{\"id\":\"499bdba9-8b56-4192-86ce-e4eeddc4546e\",\"type\":\"BoxZoomTool\"},{\"id\":\"e06c8c1c-fe0f-4727-9059-1d32237a8b7c\",\"type\":\"SaveTool\"},{\"id\":\"57417cb0-b26c-4703-83f9-3a336a909950\",\"type\":\"ResetTool\"},{\"id\":\"c9b89b6a-6eb4-4902-9091-3189cb021ecc\",\"type\":\"HelpTool\"}]},\"id\":\"8889642d-8957-4730-95dc-7d757c090dd0\",\"type\":\"Toolbar\"},{\"attributes\":{\"line_color\":{\"value\":\"#377eb8\"},\"line_width\":{\"value\":2},\"x\":{\"field\":\"x\"},\"y\":{\"field\":\"y\"}},\"id\":\"d6f9a633-c63b-4590-9a8d-bf4b477f7357\",\"type\":\"Line\"},{\"attributes\":{\"overlay\":{\"id\":\"13e1e52e-b965-412d-8bd1-02f39be6393a\",\"type\":\"BoxAnnotation\"},\"plot\":{\"id\":\"59989ddf-b425-4088-82d8-854db3aa964d\",\"subtype\":\"Figure\",\"type\":\"Plot\"}},\"id\":\"499bdba9-8b56-4192-86ce-e4eeddc4546e\",\"type\":\"BoxZoomTool\"},{\"attributes\":{\"dimension\":1,\"plot\":{\"id\":\"59989ddf-b425-4088-82d8-854db3aa964d\",\"subtype\":\"Figure\",\"type\":\"Plot\"},\"ticker\":{\"id\":\"65ef2d75-5511-4fac-9b28-391d909e3d85\",\"type\":\"BasicTicker\"}},\"id\":\"a45470e7-3518-4d46-bd9d-5154bc543c9b\",\"type\":\"Grid\"},{\"attributes\":{\"max_interval\":500.0,\"num_minor_ticks\":0},\"id\":\"d2eb9b2c-2118-46be-8756-38e8a888d357\",\"type\":\"AdaptiveTicker\"},{\"attributes\":{},\"id\":\"b2d418af-5d18-439d-9912-7006fdb55cb8\",\"type\":\"BasicTickFormatter\"},{\"attributes\":{\"line_alpha\":{\"value\":0.1},\"line_color\":{\"value\":\"#1f77b4\"},\"line_width\":{\"value\":2},\"x\":{\"field\":\"x\"},\"y\":{\"field\":\"y\"}},\"id\":\"ecefd63f-1a45-4ff7-a808-788c2dd763c9\",\"type\":\"Line\"},{\"attributes\":{\"below\":[{\"id\":\"d4b6ed7f-acba-4f3c-980e-b112470b9e9c\",\"type\":\"DatetimeAxis\"}],\"left\":[{\"id\":\"812461b3-f59d-45c3-b3a5-d6dda6829b03\",\"type\":\"LinearAxis\"}],\"plot_height\":700,\"plot_width\":1000,\"renderers\":[{\"id\":\"d4b6ed7f-acba-4f3c-980e-b112470b9e9c\",\"type\":\"DatetimeAxis\"},{\"id\":\"57a353e7-9b18-4039-afe4-567c1ccacb4a\",\"type\":\"Grid\"},{\"id\":\"812461b3-f59d-45c3-b3a5-d6dda6829b03\",\"type\":\"LinearAxis\"},{\"id\":\"a45470e7-3518-4d46-bd9d-5154bc543c9b\",\"type\":\"Grid\"},{\"id\":\"13e1e52e-b965-412d-8bd1-02f39be6393a\",\"type\":\"BoxAnnotation\"},{\"id\":\"1bf0ba87-d98a-456c-aaae-51b8b7d66e02\",\"type\":\"Legend\"},{\"id\":\"ee536ed5-2916-4b0e-9d26-e09af0fb327b\",\"type\":\"GlyphRenderer\"},{\"id\":\"55ee3522-762f-408a-b4f6-390d19f17c8d\",\"type\":\"GlyphRenderer\"},{\"id\":\"caace2cd-f887-4ea9-b2d9-1d3211f39848\",\"type\":\"GlyphRenderer\"}],\"title\":{\"id\":\"ef23036a-4c74-43b3-87c2-719a5e4cfa25\",\"type\":\"Title\"},\"tool_events\":{\"id\":\"dd47f2ed-0fe8-4e87-9e7a-1872f2c67a12\",\"type\":\"ToolEvents\"},\"toolbar\":{\"id\":\"8889642d-8957-4730-95dc-7d757c090dd0\",\"type\":\"Toolbar\"},\"x_range\":{\"id\":\"d961a036-4bf0-4f88-a7f3-9a71481f8afb\",\"type\":\"DataRange1d\"},\"y_range\":{\"id\":\"debf6aa7-2d61-4fc7-bc29-7fd73fbf43ad\",\"type\":\"DataRange1d\"}},\"id\":\"59989ddf-b425-4088-82d8-854db3aa964d\",\"subtype\":\"Figure\",\"type\":\"Plot\"}],\"root_ids\":[\"59989ddf-b425-4088-82d8-854db3aa964d\"]},\"title\":\"Bokeh Application\",\"version\":\"0.12.2\"}};\n",
       "            var render_items = [{\"docid\":\"34f6919f-d2cb-4dd8-87ef-853a228a009e\",\"elementid\":\"6dabc88b-3452-4d5f-ba64-59215447c31d\",\"modelid\":\"59989ddf-b425-4088-82d8-854db3aa964d\"}];\n",
       "            \n",
       "            Bokeh.embed.embed_items(docs_json, render_items);\n",
       "        });\n",
       "      },\n",
       "      function(Bokeh) {\n",
       "      }\n",
       "    ];\n",
       "  \n",
       "    function run_inline_js() {\n",
       "      \n",
       "      if ((window.Bokeh !== undefined) || (force === \"1\")) {\n",
       "        for (var i = 0; i < inline_js.length; i++) {\n",
       "          inline_js[i](window.Bokeh);\n",
       "        }if (force === \"1\") {\n",
       "          display_loaded();\n",
       "        }} else if (Date.now() < window._bokeh_timeout) {\n",
       "        setTimeout(run_inline_js, 100);\n",
       "      } else if (!window._bokeh_failed_load) {\n",
       "        console.log(\"Bokeh: BokehJS failed to load within specified timeout.\");\n",
       "        window._bokeh_failed_load = true;\n",
       "      } else if (!force) {\n",
       "        var cell = $(\"#6dabc88b-3452-4d5f-ba64-59215447c31d\").parents('.cell').data().cell;\n",
       "        cell.output_area.append_execute_result(NB_LOAD_WARNING)\n",
       "      }\n",
       "  \n",
       "    }\n",
       "  \n",
       "    if (window._bokeh_is_loading === 0) {\n",
       "      console.log(\"Bokeh: BokehJS loaded, going straight to plotting\");\n",
       "      run_inline_js();\n",
       "    } else {\n",
       "      load_libs(js_urls, function() {\n",
       "        console.log(\"Bokeh: BokehJS plotting callback run at\", now());\n",
       "        run_inline_js();\n",
       "      });\n",
       "    }\n",
       "  }(this));\n",
       "</script>"
      ]
     },
     "metadata": {},
     "output_type": "display_data"
    }
   ],
   "source": [
    "def datetime(x):\n",
    "    return np.array(x['date'], dtype=np.datetime64)\n",
    "\n",
    "line_type = ['solid', 'dashed', 'dotted']\n",
    "\n",
    "p1 = figure(x_axis_type=\"datetime\", title=\"Top-3 URL'S\",width = 1000,height = 700)\n",
    "p1.xaxis.axis_label = 'Date'\n",
    "p1.yaxis.axis_label = 'Count'\n",
    "\n",
    "for i in range(1,4):\n",
    "    p1.line(datetime(unique_date),url_by_date_count[top_5_urls[-1 * i]], legend=unique_urls[top_5_urls[-1 * i]],color = Set1_5[i], line_width=i+1,line_dash = line_type[i-1])\n",
    "p1.legend.location = \"top_left\"\n",
    "show(p1)"
   ]
  },
  {
   "cell_type": "code",
   "execution_count": 31,
   "metadata": {
    "collapsed": false
   },
   "outputs": [],
   "source": [
    "File_name_list = []\n",
    "date_list = []\n",
    "for F in file_path:\n",
    "    X =  F.split('/') # Spliting the src file path to get only the file name at the end\n",
    "    file_name = X[-1].split('.')\n",
    "    date_name = file_name[0].split('_')\n",
    "    date_time = datetime.strptime(date_name[1]+date_name[2], ' %b %d %Y').strftime('%Y-%m-%d')\n",
    "    File_name_list.append(X[-1])\n",
    "    date_list.append(date_time)"
   ]
  },
  {
   "cell_type": "code",
   "execution_count": 35,
   "metadata": {
    "collapsed": false
   },
   "outputs": [],
   "source": [
    "pd.DataFrame({'File Name':File_name_list,'Date':date_list}).sort_values(by='Date').to_csv('dates_order.csv', header=False, index=False)"
   ]
  },
  {
   "cell_type": "code",
   "execution_count": 19,
   "metadata": {
    "collapsed": false
   },
   "outputs": [
    {
     "data": {
      "text/plain": [
       "array([ 49.,  29.,  33.,  20.,  17.,  29.,  25.,  30.,  25.,  15.,  46.,\n",
       "        31.,  27.,  23.,  37.,  19.,  31.,  41.,  29.,  24.,  30.,  64.,\n",
       "        26.,  24.,  28.,  35.,  23.,  31.,  15.,  30.,  65.,  38.,  46.,\n",
       "        30.,  27.])"
      ]
     },
     "execution_count": 19,
     "metadata": {},
     "output_type": "execute_result"
    }
   ],
   "source": [
    "url_by_date_count[top_5_urls[4]]"
   ]
  },
  {
   "cell_type": "code",
   "execution_count": 11,
   "metadata": {
    "collapsed": false
   },
   "outputs": [
    {
     "data": {
      "text/plain": [
       "array([ 30.,  30.,  26.,  17.,  23.,  30.,  38.,  31.,  35.,  46.,  29.,\n",
       "        19.,  24.,  24.,  31.,  29.,  23.,  15.,  31.,  46.,  33.,  65.,\n",
       "        49.,  25.,  27.,  27.,  15.,  41.,  20.,  37.,  29.,  64.,  25.,\n",
       "        28.,  30.])"
      ]
     },
     "execution_count": 11,
     "metadata": {},
     "output_type": "execute_result"
    }
   ],
   "source": [
    "url_by_date_count[top_5_urls[4]]"
   ]
  }
 ],
 "metadata": {
  "anaconda-cloud": {},
  "kernelspec": {
   "display_name": "Python [default]",
   "language": "python",
   "name": "python2"
  },
  "language_info": {
   "codemirror_mode": {
    "name": "ipython",
    "version": 2
   },
   "file_extension": ".py",
   "mimetype": "text/x-python",
   "name": "python",
   "nbconvert_exporter": "python",
   "pygments_lexer": "ipython2",
   "version": "2.7.12"
  }
 },
 "nbformat": 4,
 "nbformat_minor": 0
}
