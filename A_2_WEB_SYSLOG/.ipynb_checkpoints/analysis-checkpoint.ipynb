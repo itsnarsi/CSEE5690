{
 "cells": [
  {
   "cell_type": "code",
   "execution_count": 2,
   "metadata": {
    "collapsed": false
   },
   "outputs": [
    {
     "data": {
      "text/html": [
       "\n",
       "    <div class=\"bk-root\">\n",
       "        <a href=\"http://bokeh.pydata.org\" target=\"_blank\" class=\"bk-logo bk-logo-small bk-logo-notebook\"></a>\n",
       "        <span id=\"134222a2-2dfc-42a8-a340-87d59da92688\">Loading BokehJS ...</span>\n",
       "    </div>"
      ]
     },
     "metadata": {},
     "output_type": "display_data"
    },
    {
     "data": {
      "application/javascript": [
       "\n",
       "(function(global) {\n",
       "  function now() {\n",
       "    return new Date();\n",
       "  }\n",
       "\n",
       "  var force = \"1\";\n",
       "\n",
       "  if (typeof (window._bokeh_onload_callbacks) === \"undefined\" || force !== \"\") {\n",
       "    window._bokeh_onload_callbacks = [];\n",
       "    window._bokeh_is_loading = undefined;\n",
       "  }\n",
       "\n",
       "  function run_callbacks() {\n",
       "    window._bokeh_onload_callbacks.forEach(function(callback) { callback() });\n",
       "    delete window._bokeh_onload_callbacks\n",
       "    console.info(\"Bokeh: all callbacks have finished\");\n",
       "  }\n",
       "\n",
       "  function load_libs(js_urls, callback) {\n",
       "    window._bokeh_onload_callbacks.push(callback);\n",
       "    if (window._bokeh_is_loading > 0) {\n",
       "      console.log(\"Bokeh: BokehJS is being loaded, scheduling callback at\", now());\n",
       "      return null;\n",
       "    }\n",
       "    if (js_urls == null || js_urls.length === 0) {\n",
       "      run_callbacks();\n",
       "      return null;\n",
       "    }\n",
       "    console.log(\"Bokeh: BokehJS not loaded, scheduling load and callback at\", now());\n",
       "    window._bokeh_is_loading = js_urls.length;\n",
       "    for (var i = 0; i < js_urls.length; i++) {\n",
       "      var url = js_urls[i];\n",
       "      var s = document.createElement('script');\n",
       "      s.src = url;\n",
       "      s.async = false;\n",
       "      s.onreadystatechange = s.onload = function() {\n",
       "        window._bokeh_is_loading--;\n",
       "        if (window._bokeh_is_loading === 0) {\n",
       "          console.log(\"Bokeh: all BokehJS libraries loaded\");\n",
       "          run_callbacks()\n",
       "        }\n",
       "      };\n",
       "      s.onerror = function() {\n",
       "        console.warn(\"failed to load library \" + url);\n",
       "      };\n",
       "      console.log(\"Bokeh: injecting script tag for BokehJS library: \", url);\n",
       "      document.getElementsByTagName(\"head\")[0].appendChild(s);\n",
       "    }\n",
       "  };\n",
       "\n",
       "  var js_urls = ['https://cdn.pydata.org/bokeh/release/bokeh-0.12.1.min.js', 'https://cdn.pydata.org/bokeh/release/bokeh-widgets-0.12.1.min.js', 'https://cdn.pydata.org/bokeh/release/bokeh-compiler-0.12.1.min.js'];\n",
       "\n",
       "  var inline_js = [\n",
       "    function(Bokeh) {\n",
       "      Bokeh.set_log_level(\"info\");\n",
       "    },\n",
       "    \n",
       "    function(Bokeh) {\n",
       "      \n",
       "      Bokeh.$(\"#134222a2-2dfc-42a8-a340-87d59da92688\").text(\"BokehJS successfully loaded\");\n",
       "      var kernel = Jupyter.notebook.kernel\n",
       "      if (kernel.execute !== undefined) {\n",
       "          kernel.execute(\"import bokeh.io; bokeh.io._nb_loaded = True\");\n",
       "      }\n",
       "    },\n",
       "    function(Bokeh) {\n",
       "      console.log(\"Bokeh: injecting CSS: https://cdn.pydata.org/bokeh/release/bokeh-0.12.1.min.css\");\n",
       "      Bokeh.embed.inject_css(\"https://cdn.pydata.org/bokeh/release/bokeh-0.12.1.min.css\");\n",
       "      console.log(\"Bokeh: injecting CSS: https://cdn.pydata.org/bokeh/release/bokeh-widgets-0.12.1.min.css\");\n",
       "      Bokeh.embed.inject_css(\"https://cdn.pydata.org/bokeh/release/bokeh-widgets-0.12.1.min.css\");\n",
       "    }\n",
       "  ];\n",
       "\n",
       "  function run_inline_js() {\n",
       "    for (var i = 0; i < inline_js.length; i++) {\n",
       "      inline_js[i](window.Bokeh);\n",
       "    }\n",
       "  }\n",
       "\n",
       "  if (window._bokeh_is_loading === 0) {\n",
       "    console.log(\"Bokeh: BokehJS loaded, going straight to plotting\");\n",
       "    run_inline_js();\n",
       "  } else {\n",
       "    load_libs(js_urls, function() {\n",
       "      console.log(\"Bokeh: BokehJS plotting callback run at\", now());\n",
       "      run_inline_js();\n",
       "    });\n",
       "  }\n",
       "}(this));"
      ]
     },
     "metadata": {},
     "output_type": "display_data"
    }
   ],
   "source": [
    "import pandas as pd\n",
    "\n",
    "import time\n",
    "\n",
    "import os\n",
    "\n",
    "from datetime import datetime\n",
    "\n",
    "import numpy as np\n",
    "\n",
    "from bokeh.layouts import gridplot\n",
    "from bokeh.plotting import figure, show, output_file\n",
    "from bokeh.io import output_notebook\n",
    "from bokeh.palettes import Set1_5\n",
    "output_notebook()"
   ]
  },
  {
   "cell_type": "code",
   "execution_count": 3,
   "metadata": {
    "collapsed": true
   },
   "outputs": [],
   "source": [
    "src_folder = '/home/narsi/Documents/CSEE5690_data/A2_WEB_SYS_LOG/curated_logs'"
   ]
  },
  {
   "cell_type": "code",
   "execution_count": 4,
   "metadata": {
    "collapsed": true
   },
   "outputs": [],
   "source": [
    "def get_filepaths(directory):\n",
    "    \"\"\"\n",
    "    This function will generate the file names in a directory \n",
    "    tree by walking the tree either top-down or bottom-up. For each \n",
    "    directory in the tree rooted at directory top (including top itself), \n",
    "    it yields a 3-tuple (dirpath, dirnames, filenames).\n",
    "    \"\"\"\n",
    "    file_paths = []  # List which will store all of the full filepaths.\n",
    "\n",
    "    # Walk the tree.\n",
    "    for root, directories, files in os.walk(directory):\n",
    "        for filename in files:\n",
    "            # Join the two strings in order to form the full filepath.\n",
    "            filepath = os.path.join(root, filename)\n",
    "            file_paths.append(filepath)  # Add it to the list.\n",
    "\n",
    "    return file_paths  # Self-explanatory."
   ]
  },
  {
   "cell_type": "code",
   "execution_count": 5,
   "metadata": {
    "collapsed": true
   },
   "outputs": [],
   "source": [
    "file_path = get_filepaths(src_folder)"
   ]
  },
  {
   "cell_type": "code",
   "execution_count": 6,
   "metadata": {
    "collapsed": false
   },
   "outputs": [],
   "source": [
    "final_log = pd.DataFrame({'url' : [],'count' : [],'date' : []})\n",
    "unique_days = []\n",
    "for F in file_path:\n",
    "    log_data = pd.read_csv(F,',',header=None, error_bad_lines=False)\n",
    "    x = pd.Series.value_counts(log_data[4])\n",
    "    urls = []\n",
    "    count = np.asarray(x)\n",
    "    date = []\n",
    "    \n",
    "    unique_days.append(log_data[1][0])\n",
    "    \n",
    "    for i in range(len(x)):\n",
    "        date.append(log_data[1][0])\n",
    "        urls.append(x.axes[0][i])\n",
    "    dummy = pd.DataFrame({'url' : urls,'count' : count,'date' : date})\n",
    "    final_log = final_log.append(dummy)"
   ]
  },
  {
   "cell_type": "code",
   "execution_count": 7,
   "metadata": {
    "collapsed": false
   },
   "outputs": [],
   "source": [
    "unique_urls = np.asarray(pd.Series.value_counts(final_log['url']).axes[0])\n",
    "unique_date = pd.DataFrame({'date':pd.to_datetime(unique_days)}).sort_values(by='date')\n",
    "final_log['date'] = pd.to_datetime(final_log['date'])\n",
    "url_by_date_count = np.zeros((len(unique_urls),len(unique_date)))\n",
    "for i in range(len(unique_urls)):\n",
    "    for j in range(len(unique_date)):\n",
    "        x = np.asarray(final_log['count'][(final_log['date'] == unique_date['date'][j]) & (final_log['url'] == unique_urls[i])])\n",
    "        if len(x) == 0:\n",
    "            url_by_date_count[i][j] = 0\n",
    "        else:\n",
    "            url_by_date_count[i][j] = x\n"
   ]
  },
  {
   "cell_type": "code",
   "execution_count": 8,
   "metadata": {
    "collapsed": false
   },
   "outputs": [],
   "source": [
    "mean_count = np.mean(url_by_date_count,axis=1)\n",
    "top_5_urls = np.argsort(mean_count) # Sort in ascending order\n",
    "top_5_urls = top_5_urls[-5:]"
   ]
  },
  {
   "cell_type": "code",
   "execution_count": 31,
   "metadata": {
    "collapsed": false
   },
   "outputs": [
    {
     "data": {
      "text/html": [
       "\n",
       "\n",
       "    <div class=\"bk-root\">\n",
       "        <div class=\"plotdiv\" id=\"fbe75772-2ffe-4179-b351-fd45941d84fd\"></div>\n",
       "    </div>\n",
       "<script type=\"text/javascript\">\n",
       "  \n",
       "  (function(global) {\n",
       "    function now() {\n",
       "      return new Date();\n",
       "    }\n",
       "  \n",
       "    var force = \"\";\n",
       "  \n",
       "    if (typeof (window._bokeh_onload_callbacks) === \"undefined\" || force !== \"\") {\n",
       "      window._bokeh_onload_callbacks = [];\n",
       "      window._bokeh_is_loading = undefined;\n",
       "    }\n",
       "  \n",
       "    function run_callbacks() {\n",
       "      window._bokeh_onload_callbacks.forEach(function(callback) { callback() });\n",
       "      delete window._bokeh_onload_callbacks\n",
       "      console.info(\"Bokeh: all callbacks have finished\");\n",
       "    }\n",
       "  \n",
       "    function load_libs(js_urls, callback) {\n",
       "      window._bokeh_onload_callbacks.push(callback);\n",
       "      if (window._bokeh_is_loading > 0) {\n",
       "        console.log(\"Bokeh: BokehJS is being loaded, scheduling callback at\", now());\n",
       "        return null;\n",
       "      }\n",
       "      if (js_urls == null || js_urls.length === 0) {\n",
       "        run_callbacks();\n",
       "        return null;\n",
       "      }\n",
       "      console.log(\"Bokeh: BokehJS not loaded, scheduling load and callback at\", now());\n",
       "      window._bokeh_is_loading = js_urls.length;\n",
       "      for (var i = 0; i < js_urls.length; i++) {\n",
       "        var url = js_urls[i];\n",
       "        var s = document.createElement('script');\n",
       "        s.src = url;\n",
       "        s.async = false;\n",
       "        s.onreadystatechange = s.onload = function() {\n",
       "          window._bokeh_is_loading--;\n",
       "          if (window._bokeh_is_loading === 0) {\n",
       "            console.log(\"Bokeh: all BokehJS libraries loaded\");\n",
       "            run_callbacks()\n",
       "          }\n",
       "        };\n",
       "        s.onerror = function() {\n",
       "          console.warn(\"failed to load library \" + url);\n",
       "        };\n",
       "        console.log(\"Bokeh: injecting script tag for BokehJS library: \", url);\n",
       "        document.getElementsByTagName(\"head\")[0].appendChild(s);\n",
       "      }\n",
       "    };var element = document.getElementById(\"fbe75772-2ffe-4179-b351-fd45941d84fd\");\n",
       "    if (element == null) {\n",
       "      console.log(\"Bokeh: ERROR: autoload.js configured with elementid 'fbe75772-2ffe-4179-b351-fd45941d84fd' but no matching script tag was found. \")\n",
       "      return false;\n",
       "    }\n",
       "  \n",
       "    var js_urls = [];\n",
       "  \n",
       "    var inline_js = [\n",
       "      function(Bokeh) {\n",
       "        Bokeh.$(function() {\n",
       "            var docs_json = {\"052c8d73-0bda-45be-9293-3e9c2f305c12\":{\"roots\":{\"references\":[{\"attributes\":{},\"id\":\"4b446c97-f518-4578-a4ac-80385cbcc9fe\",\"type\":\"DatetimeTickFormatter\"},{\"attributes\":{\"data_source\":{\"id\":\"f36d2856-5760-473b-ab71-5d58d938777d\",\"type\":\"ColumnDataSource\"},\"glyph\":{\"id\":\"59f33e5f-c756-4635-8618-8ce4611983e3\",\"type\":\"Line\"},\"hover_glyph\":null,\"nonselection_glyph\":{\"id\":\"08ec0710-755b-4835-866c-b28d14496ae6\",\"type\":\"Line\"},\"selection_glyph\":null},\"id\":\"3daf3ca4-22ee-446b-8293-9ac9987769e4\",\"type\":\"GlyphRenderer\"},{\"attributes\":{\"plot\":{\"id\":\"b99ddcdd-b534-4327-8127-fde8429031df\",\"subtype\":\"Figure\",\"type\":\"Plot\"}},\"id\":\"76e94d5e-bfc5-4325-abca-d93493270e06\",\"type\":\"ResetTool\"},{\"attributes\":{\"months\":[0,1,2,3,4,5,6,7,8,9,10,11]},\"id\":\"37fa2b2b-030b-4d94-9171-d0393e455584\",\"type\":\"MonthsTicker\"},{\"attributes\":{\"below\":[{\"id\":\"743cab92-74c6-4104-80a3-4c01971d0e5f\",\"type\":\"DatetimeAxis\"}],\"left\":[{\"id\":\"77252086-d0f5-409d-853d-bd42dc562379\",\"type\":\"LinearAxis\"}],\"renderers\":[{\"id\":\"743cab92-74c6-4104-80a3-4c01971d0e5f\",\"type\":\"DatetimeAxis\"},{\"id\":\"5d610004-983f-4f66-bf5c-b8918d5b5d4b\",\"type\":\"Grid\"},{\"id\":\"77252086-d0f5-409d-853d-bd42dc562379\",\"type\":\"LinearAxis\"},{\"id\":\"7d70ce3f-d3ba-40df-8014-a5073a7531a8\",\"type\":\"Grid\"},{\"id\":\"e8868f53-9f25-4b0e-8fe0-1a7045c42080\",\"type\":\"BoxAnnotation\"},{\"id\":\"a7002aad-047d-4bf7-899c-a0002f0d74f5\",\"type\":\"Legend\"},{\"id\":\"bdcadd78-1db3-4e3e-99ed-285cb0daac22\",\"type\":\"GlyphRenderer\"},{\"id\":\"05ca854b-054e-4a0d-ba3d-8d437477df41\",\"type\":\"GlyphRenderer\"},{\"id\":\"3daf3ca4-22ee-446b-8293-9ac9987769e4\",\"type\":\"GlyphRenderer\"}],\"title\":{\"id\":\"cdcee62c-8a2e-402a-8070-5f04637262eb\",\"type\":\"Title\"},\"tool_events\":{\"id\":\"1341cc5d-3792-4225-9362-54bce3c3e558\",\"type\":\"ToolEvents\"},\"toolbar\":{\"id\":\"d78e1f1a-d765-47ca-a59f-5d2844047ff6\",\"type\":\"Toolbar\"},\"x_range\":{\"id\":\"0a2855d5-f5cb-4812-aa3b-ce4bf02cd288\",\"type\":\"DataRange1d\"},\"y_range\":{\"id\":\"e7dac28f-7d24-4328-925c-511c422338fa\",\"type\":\"DataRange1d\"}},\"id\":\"b99ddcdd-b534-4327-8127-fde8429031df\",\"subtype\":\"Figure\",\"type\":\"Plot\"},{\"attributes\":{\"line_alpha\":{\"value\":0.1},\"line_color\":{\"value\":\"#1f77b4\"},\"line_width\":{\"value\":2},\"x\":{\"field\":\"x\"},\"y\":{\"field\":\"y\"}},\"id\":\"df5b6def-0531-4a62-8733-195466da2edd\",\"type\":\"Line\"},{\"attributes\":{\"callback\":null},\"id\":\"0a2855d5-f5cb-4812-aa3b-ce4bf02cd288\",\"type\":\"DataRange1d\"},{\"attributes\":{\"line_alpha\":{\"value\":0.1},\"line_color\":{\"value\":\"#1f77b4\"},\"line_dash\":[6],\"line_width\":{\"value\":3},\"x\":{\"field\":\"x\"},\"y\":{\"field\":\"y\"}},\"id\":\"6d1df4b0-e9bb-4d46-9971-1e07b9d9f485\",\"type\":\"Line\"},{\"attributes\":{\"axis_label\":\"Count\",\"formatter\":{\"id\":\"3534164c-c36d-4dbd-bd54-a3eadcfc5b34\",\"type\":\"BasicTickFormatter\"},\"plot\":{\"id\":\"b99ddcdd-b534-4327-8127-fde8429031df\",\"subtype\":\"Figure\",\"type\":\"Plot\"},\"ticker\":{\"id\":\"7a6589de-ab16-46f1-a3a3-22e3ebbcccd0\",\"type\":\"BasicTicker\"}},\"id\":\"77252086-d0f5-409d-853d-bd42dc562379\",\"type\":\"LinearAxis\"},{\"attributes\":{\"callback\":null,\"column_names\":[\"y\",\"x\"],\"data\":{\"x\":[1468627200000.0,1468713600000.0,1468800000000.0,1468886400000.0,1468972800000.0,1469059200000.0,1469145600000.0,1469232000000.0,1469318400000.0,1469404800000.0,1469491200000.0,1469577600000.0,1469664000000.0,1469750400000.0,1469836800000.0,1469923200000.0,1470009600000.0,1470096000000.0,1470182400000.0,1470268800000.0,1470355200000.0,1470441600000.0,1470528000000.0,1470614400000.0,1470700800000.0,1470787200000.0,1470873600000.0,1470960000000.0,1471046400000.0,1471132800000.0,1471219200000.0,1471305600000.0,1471392000000.0,1471478400000.0,1471564800000.0],\"y\":[49.0,29.0,33.0,20.0,17.0,29.0,25.0,30.0,25.0,15.0,46.0,31.0,27.0,23.0,37.0,19.0,31.0,41.0,29.0,24.0,30.0,64.0,26.0,24.0,28.0,35.0,23.0,31.0,15.0,30.0,65.0,38.0,46.0,30.0,27.0]}},\"id\":\"6613d290-fa00-469c-af7f-969af7e3d32b\",\"type\":\"ColumnDataSource\"},{\"attributes\":{\"base\":24,\"mantissas\":[1,2,4,6,8,12],\"max_interval\":43200000.0,\"min_interval\":3600000.0,\"num_minor_ticks\":0},\"id\":\"5f9bb886-8a1e-450e-8f2f-36385b4a816e\",\"type\":\"AdaptiveTicker\"},{\"attributes\":{\"months\":[0,2,4,6,8,10]},\"id\":\"86ad19d0-2887-4e99-83b3-75a9b5df758d\",\"type\":\"MonthsTicker\"},{\"attributes\":{\"data_source\":{\"id\":\"57b59ab9-26ce-4e59-a464-4cefed031d66\",\"type\":\"ColumnDataSource\"},\"glyph\":{\"id\":\"36d93da2-6091-491f-99d6-6e5c4f9c8190\",\"type\":\"Line\"},\"hover_glyph\":null,\"nonselection_glyph\":{\"id\":\"6d1df4b0-e9bb-4d46-9971-1e07b9d9f485\",\"type\":\"Line\"},\"selection_glyph\":null},\"id\":\"05ca854b-054e-4a0d-ba3d-8d437477df41\",\"type\":\"GlyphRenderer\"},{\"attributes\":{\"days\":[1,4,7,10,13,16,19,22,25,28]},\"id\":\"c26fbe1d-7b25-48ad-9e93-685beac66669\",\"type\":\"DaysTicker\"},{\"attributes\":{\"days\":[1,2,3,4,5,6,7,8,9,10,11,12,13,14,15,16,17,18,19,20,21,22,23,24,25,26,27,28,29,30,31]},\"id\":\"206bc587-11fd-45a5-8255-1adc1d56cbc5\",\"type\":\"DaysTicker\"},{\"attributes\":{\"base\":60,\"mantissas\":[1,2,5,10,15,20,30],\"max_interval\":1800000.0,\"min_interval\":1000.0,\"num_minor_ticks\":0},\"id\":\"d81b4781-dfad-4819-a5ea-0443b58adbf5\",\"type\":\"AdaptiveTicker\"},{\"attributes\":{\"line_alpha\":{\"value\":0.1},\"line_color\":{\"value\":\"#1f77b4\"},\"line_dash\":[2,4],\"line_width\":{\"value\":4},\"x\":{\"field\":\"x\"},\"y\":{\"field\":\"y\"}},\"id\":\"08ec0710-755b-4835-866c-b28d14496ae6\",\"type\":\"Line\"},{\"attributes\":{\"callback\":null,\"column_names\":[\"y\",\"x\"],\"data\":{\"x\":[1468627200000.0,1468713600000.0,1468800000000.0,1468886400000.0,1468972800000.0,1469059200000.0,1469145600000.0,1469232000000.0,1469318400000.0,1469404800000.0,1469491200000.0,1469577600000.0,1469664000000.0,1469750400000.0,1469836800000.0,1469923200000.0,1470009600000.0,1470096000000.0,1470182400000.0,1470268800000.0,1470355200000.0,1470441600000.0,1470528000000.0,1470614400000.0,1470700800000.0,1470787200000.0,1470873600000.0,1470960000000.0,1471046400000.0,1471132800000.0,1471219200000.0,1471305600000.0,1471392000000.0,1471478400000.0,1471564800000.0],\"y\":[30.0,28.0,24.0,17.0,21.0,22.0,16.0,19.0,9.0,15.0,30.0,19.0,27.0,12.0,12.0,13.0,17.0,18.0,43.0,26.0,17.0,28.0,44.0,21.0,25.0,26.0,29.0,21.0,11.0,29.0,26.0,17.0,19.0,17.0,20.0]}},\"id\":\"57b59ab9-26ce-4e59-a464-4cefed031d66\",\"type\":\"ColumnDataSource\"},{\"attributes\":{\"overlay\":{\"id\":\"e8868f53-9f25-4b0e-8fe0-1a7045c42080\",\"type\":\"BoxAnnotation\"},\"plot\":{\"id\":\"b99ddcdd-b534-4327-8127-fde8429031df\",\"subtype\":\"Figure\",\"type\":\"Plot\"}},\"id\":\"03c711d4-e67f-4df2-bf26-af2587f33aab\",\"type\":\"BoxZoomTool\"},{\"attributes\":{\"days\":[1,15]},\"id\":\"1af5d8ed-f485-4559-9b44-361ba4bfceb1\",\"type\":\"DaysTicker\"},{\"attributes\":{\"data_source\":{\"id\":\"6613d290-fa00-469c-af7f-969af7e3d32b\",\"type\":\"ColumnDataSource\"},\"glyph\":{\"id\":\"dd35c453-6aed-4e03-906e-2629afb30112\",\"type\":\"Line\"},\"hover_glyph\":null,\"nonselection_glyph\":{\"id\":\"df5b6def-0531-4a62-8733-195466da2edd\",\"type\":\"Line\"},\"selection_glyph\":null},\"id\":\"bdcadd78-1db3-4e3e-99ed-285cb0daac22\",\"type\":\"GlyphRenderer\"},{\"attributes\":{\"max_interval\":500.0,\"num_minor_ticks\":0},\"id\":\"f07846e5-7a52-4408-b24b-9f1a69435fc6\",\"type\":\"AdaptiveTicker\"},{\"attributes\":{\"num_minor_ticks\":5},\"id\":\"b2977d4e-f99f-4fc6-b4a2-20166b6686c7\",\"type\":\"DatetimeTicker\"},{\"attributes\":{\"callback\":null,\"column_names\":[\"y\",\"x\"],\"data\":{\"x\":[1468627200000.0,1468713600000.0,1468800000000.0,1468886400000.0,1468972800000.0,1469059200000.0,1469145600000.0,1469232000000.0,1469318400000.0,1469404800000.0,1469491200000.0,1469577600000.0,1469664000000.0,1469750400000.0,1469836800000.0,1469923200000.0,1470009600000.0,1470096000000.0,1470182400000.0,1470268800000.0,1470355200000.0,1470441600000.0,1470528000000.0,1470614400000.0,1470700800000.0,1470787200000.0,1470873600000.0,1470960000000.0,1471046400000.0,1471132800000.0,1471219200000.0,1471305600000.0,1471392000000.0,1471478400000.0,1471564800000.0],\"y\":[7.0,4.0,5.0,9.0,8.0,4.0,9.0,12.0,12.0,2.0,9.0,65.0,6.0,20.0,22.0,4.0,10.0,10.0,9.0,6.0,11.0,20.0,6.0,12.0,48.0,12.0,7.0,96.0,29.0,6.0,5.0,37.0,2.0,5.0,16.0]}},\"id\":\"f36d2856-5760-473b-ab71-5d58d938777d\",\"type\":\"ColumnDataSource\"},{\"attributes\":{\"days\":[1,8,15,22]},\"id\":\"c767cb37-3b94-442b-a0a7-ec3eabb7e8f5\",\"type\":\"DaysTicker\"},{\"attributes\":{},\"id\":\"7a6589de-ab16-46f1-a3a3-22e3ebbcccd0\",\"type\":\"BasicTicker\"},{\"attributes\":{\"axis_label\":\"Date\",\"formatter\":{\"id\":\"4b446c97-f518-4578-a4ac-80385cbcc9fe\",\"type\":\"DatetimeTickFormatter\"},\"plot\":{\"id\":\"b99ddcdd-b534-4327-8127-fde8429031df\",\"subtype\":\"Figure\",\"type\":\"Plot\"},\"ticker\":{\"id\":\"b2977d4e-f99f-4fc6-b4a2-20166b6686c7\",\"type\":\"DatetimeTicker\"}},\"id\":\"743cab92-74c6-4104-80a3-4c01971d0e5f\",\"type\":\"DatetimeAxis\"},{\"attributes\":{\"active_drag\":\"auto\",\"active_scroll\":\"auto\",\"active_tap\":\"auto\",\"tools\":[{\"id\":\"01c90460-2bcc-461a-8c78-3b53880b47d5\",\"type\":\"PanTool\"},{\"id\":\"7059632c-9403-4caf-a47e-c484d015dc7d\",\"type\":\"WheelZoomTool\"},{\"id\":\"03c711d4-e67f-4df2-bf26-af2587f33aab\",\"type\":\"BoxZoomTool\"},{\"id\":\"d0661045-784f-42e2-8425-263dd3073679\",\"type\":\"SaveTool\"},{\"id\":\"76e94d5e-bfc5-4325-abca-d93493270e06\",\"type\":\"ResetTool\"},{\"id\":\"9d2bbad8-1dfc-48c8-b9ab-25a5f081ad76\",\"type\":\"HelpTool\"}]},\"id\":\"d78e1f1a-d765-47ca-a59f-5d2844047ff6\",\"type\":\"Toolbar\"},{\"attributes\":{\"plot\":{\"id\":\"b99ddcdd-b534-4327-8127-fde8429031df\",\"subtype\":\"Figure\",\"type\":\"Plot\"}},\"id\":\"9d2bbad8-1dfc-48c8-b9ab-25a5f081ad76\",\"type\":\"HelpTool\"},{\"attributes\":{\"plot\":{\"id\":\"b99ddcdd-b534-4327-8127-fde8429031df\",\"subtype\":\"Figure\",\"type\":\"Plot\"}},\"id\":\"01c90460-2bcc-461a-8c78-3b53880b47d5\",\"type\":\"PanTool\"},{\"attributes\":{\"legends\":[[\"networkrouting.net/index.html\",[{\"id\":\"bdcadd78-1db3-4e3e-99ed-285cb0daac22\",\"type\":\"GlyphRenderer\"}]],[\"networkrouting.net/robots.txt\",[{\"id\":\"05ca854b-054e-4a0d-ba3d-8d437477df41\",\"type\":\"GlyphRenderer\"}]],[\"networkrouting.net/docs/mr-chapter_1.pdf\",[{\"id\":\"3daf3ca4-22ee-446b-8293-9ac9987769e4\",\"type\":\"GlyphRenderer\"}]]],\"location\":\"top_left\",\"plot\":{\"id\":\"b99ddcdd-b534-4327-8127-fde8429031df\",\"subtype\":\"Figure\",\"type\":\"Plot\"}},\"id\":\"a7002aad-047d-4bf7-899c-a0002f0d74f5\",\"type\":\"Legend\"},{\"attributes\":{\"line_color\":{\"value\":\"#4daf4a\"},\"line_dash\":[6],\"line_width\":{\"value\":3},\"x\":{\"field\":\"x\"},\"y\":{\"field\":\"y\"}},\"id\":\"36d93da2-6091-491f-99d6-6e5c4f9c8190\",\"type\":\"Line\"},{\"attributes\":{\"line_color\":{\"value\":\"#984ea3\"},\"line_dash\":[2,4],\"line_width\":{\"value\":4},\"x\":{\"field\":\"x\"},\"y\":{\"field\":\"y\"}},\"id\":\"59f33e5f-c756-4635-8618-8ce4611983e3\",\"type\":\"Line\"},{\"attributes\":{},\"id\":\"1341cc5d-3792-4225-9362-54bce3c3e558\",\"type\":\"ToolEvents\"},{\"attributes\":{\"plot\":{\"id\":\"b99ddcdd-b534-4327-8127-fde8429031df\",\"subtype\":\"Figure\",\"type\":\"Plot\"}},\"id\":\"7059632c-9403-4caf-a47e-c484d015dc7d\",\"type\":\"WheelZoomTool\"},{\"attributes\":{},\"id\":\"ea96cdb2-f481-4ade-b542-c633e400e017\",\"type\":\"YearsTicker\"},{\"attributes\":{\"bottom_units\":\"screen\",\"fill_alpha\":{\"value\":0.5},\"fill_color\":{\"value\":\"lightgrey\"},\"left_units\":\"screen\",\"level\":\"overlay\",\"line_alpha\":{\"value\":1.0},\"line_color\":{\"value\":\"black\"},\"line_dash\":[4,4],\"line_width\":{\"value\":2},\"plot\":null,\"render_mode\":\"css\",\"right_units\":\"screen\",\"top_units\":\"screen\"},\"id\":\"e8868f53-9f25-4b0e-8fe0-1a7045c42080\",\"type\":\"BoxAnnotation\"},{\"attributes\":{\"months\":[0,4,8]},\"id\":\"efa2cdf7-413b-4d0f-93aa-ef845f306197\",\"type\":\"MonthsTicker\"},{\"attributes\":{\"plot\":{\"id\":\"b99ddcdd-b534-4327-8127-fde8429031df\",\"subtype\":\"Figure\",\"type\":\"Plot\"}},\"id\":\"d0661045-784f-42e2-8425-263dd3073679\",\"type\":\"SaveTool\"},{\"attributes\":{\"plot\":null,\"text\":\"Top-5 URL'S\"},\"id\":\"cdcee62c-8a2e-402a-8070-5f04637262eb\",\"type\":\"Title\"},{\"attributes\":{\"plot\":{\"id\":\"b99ddcdd-b534-4327-8127-fde8429031df\",\"subtype\":\"Figure\",\"type\":\"Plot\"},\"ticker\":{\"id\":\"b2977d4e-f99f-4fc6-b4a2-20166b6686c7\",\"type\":\"DatetimeTicker\"}},\"id\":\"5d610004-983f-4f66-bf5c-b8918d5b5d4b\",\"type\":\"Grid\"},{\"attributes\":{\"dimension\":1,\"plot\":{\"id\":\"b99ddcdd-b534-4327-8127-fde8429031df\",\"subtype\":\"Figure\",\"type\":\"Plot\"},\"ticker\":{\"id\":\"7a6589de-ab16-46f1-a3a3-22e3ebbcccd0\",\"type\":\"BasicTicker\"}},\"id\":\"7d70ce3f-d3ba-40df-8014-a5073a7531a8\",\"type\":\"Grid\"},{\"attributes\":{\"line_color\":{\"value\":\"#377eb8\"},\"line_width\":{\"value\":2},\"x\":{\"field\":\"x\"},\"y\":{\"field\":\"y\"}},\"id\":\"dd35c453-6aed-4e03-906e-2629afb30112\",\"type\":\"Line\"},{\"attributes\":{\"months\":[0,6]},\"id\":\"1bcb7687-4cc8-459d-acea-7eba96da02ff\",\"type\":\"MonthsTicker\"},{\"attributes\":{},\"id\":\"3534164c-c36d-4dbd-bd54-a3eadcfc5b34\",\"type\":\"BasicTickFormatter\"},{\"attributes\":{\"callback\":null},\"id\":\"e7dac28f-7d24-4328-925c-511c422338fa\",\"type\":\"DataRange1d\"}],\"root_ids\":[\"b99ddcdd-b534-4327-8127-fde8429031df\"]},\"title\":\"Bokeh Application\",\"version\":\"0.12.1\"}};\n",
       "            var render_items = [{\"docid\":\"052c8d73-0bda-45be-9293-3e9c2f305c12\",\"elementid\":\"fbe75772-2ffe-4179-b351-fd45941d84fd\",\"modelid\":\"b99ddcdd-b534-4327-8127-fde8429031df\",\"notebook_comms_target\":\"459fdea5-da91-4050-8265-5f0adb1d394b\"}];\n",
       "            \n",
       "            Bokeh.embed.embed_items(docs_json, render_items);\n",
       "        });\n",
       "      },\n",
       "      function(Bokeh) {\n",
       "      }\n",
       "    ];\n",
       "  \n",
       "    function run_inline_js() {\n",
       "      for (var i = 0; i < inline_js.length; i++) {\n",
       "        inline_js[i](window.Bokeh);\n",
       "      }\n",
       "    }\n",
       "  \n",
       "    if (window._bokeh_is_loading === 0) {\n",
       "      console.log(\"Bokeh: BokehJS loaded, going straight to plotting\");\n",
       "      run_inline_js();\n",
       "    } else {\n",
       "      load_libs(js_urls, function() {\n",
       "        console.log(\"Bokeh: BokehJS plotting callback run at\", now());\n",
       "        run_inline_js();\n",
       "      });\n",
       "    }\n",
       "  }(this));\n",
       "</script>"
      ]
     },
     "metadata": {},
     "output_type": "display_data"
    },
    {
     "data": {
      "text/html": [
       "<p><code>&lt;Bokeh Notebook handle for <strong>In[31]</strong>&gt;</code></p>"
      ],
      "text/plain": [
       "<bokeh.io._CommsHandle at 0x7fb23872e050>"
      ]
     },
     "execution_count": 31,
     "metadata": {},
     "output_type": "execute_result"
    }
   ],
   "source": [
    "def datetime(x):\n",
    "    return np.array(x['date'], dtype=np.datetime64)\n",
    "\n",
    "line_type = ['solid', 'dashed', 'dotted']\n",
    "\n",
    "p1 = figure(x_axis_type=\"datetime\", title=\"Top-5 URL'S\")\n",
    "p1.xaxis.axis_label = 'Date'\n",
    "p1.yaxis.axis_label = 'Count'\n",
    "\n",
    "for i in range(1,4):\n",
    "    p1.line(datetime(unique_date),url_by_date_count[top_5_urls[-1 * i]], legend=unique_urls[top_5_urls[-1 * i]],color = Set1_5[i], line_width=i+1,line_dash = line_type[i-1])\n",
    "p1.legend.location = \"top_left\"\n",
    "show(p1)"
   ]
  }
 ],
 "metadata": {
  "kernelspec": {
   "display_name": "Python 2",
   "language": "python",
   "name": "python2"
  },
  "language_info": {
   "codemirror_mode": {
    "name": "ipython",
    "version": 2
   },
   "file_extension": ".py",
   "mimetype": "text/x-python",
   "name": "python",
   "nbconvert_exporter": "python",
   "pygments_lexer": "ipython2",
   "version": "2.7.12"
  }
 },
 "nbformat": 4,
 "nbformat_minor": 0
}
