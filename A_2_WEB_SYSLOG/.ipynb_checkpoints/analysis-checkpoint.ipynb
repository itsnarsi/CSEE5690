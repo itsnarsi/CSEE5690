{
 "cells": [
  {
   "cell_type": "code",
   "execution_count": 1,
   "metadata": {
    "collapsed": true
   },
   "outputs": [],
   "source": [
    "import pandas as pd\n",
    "\n",
    "import time\n",
    "\n",
    "import os"
   ]
  },
  {
   "cell_type": "markdown",
   "metadata": {},
   "source": [
    "Linux src and dst folder"
   ]
  },
  {
   "cell_type": "code",
   "execution_count": 2,
   "metadata": {
    "collapsed": true
   },
   "outputs": [],
   "source": [
    "src_folder = '/home/narsi/Documents/CSEE5690_data/A2_WEB_SYS_LOG/NetworkRouting-website/NetworkRouting-website'\n",
    "dst_folder = '/home/narsi/Documents/CSEE5690_data/A2_WEB_SYS_LOG/curated_logs'"
   ]
  },
  {
   "cell_type": "code",
   "execution_count": 3,
   "metadata": {
    "collapsed": true
   },
   "outputs": [],
   "source": [
    "def get_filepaths(directory):\n",
    "    \"\"\"\n",
    "    This function will generate the file names in a directory \n",
    "    tree by walking the tree either top-down or bottom-up. For each \n",
    "    directory in the tree rooted at directory top (including top itself), \n",
    "    it yields a 3-tuple (dirpath, dirnames, filenames).\n",
    "    \"\"\"\n",
    "    file_paths = []  # List which will store all of the full filepaths.\n",
    "\n",
    "    # Walk the tree.\n",
    "    for root, directories, files in os.walk(directory):\n",
    "        for filename in files:\n",
    "            # Join the two strings in order to form the full filepath.\n",
    "            filepath = os.path.join(root, filename)\n",
    "            file_paths.append(filepath)  # Add it to the list.\n",
    "\n",
    "    return file_paths  # Self-explanatory."
   ]
  },
  {
   "cell_type": "code",
   "execution_count": 4,
   "metadata": {
    "collapsed": false
   },
   "outputs": [],
   "source": [
    "file_path = get_filepaths(src_folder)"
   ]
  },
  {
   "cell_type": "code",
   "execution_count": 6,
   "metadata": {
    "collapsed": false,
    "scrolled": true
   },
   "outputs": [
    {
     "data": {
      "text/plain": [
       "['/home/narsi/Documents/CSEE5690_data/A2_WEB_SYS_LOG/NetworkRouting-website/NetworkRouting-website/Tue, Aug 16, 2016.log',\n",
       " '/home/narsi/Documents/CSEE5690_data/A2_WEB_SYS_LOG/NetworkRouting-website/NetworkRouting-website/Tue, Aug 9, 2016.log',\n",
       " '/home/narsi/Documents/CSEE5690_data/A2_WEB_SYS_LOG/NetworkRouting-website/NetworkRouting-website/Sun, Jul 17, 2016.log',\n",
       " '/home/narsi/Documents/CSEE5690_data/A2_WEB_SYS_LOG/NetworkRouting-website/NetworkRouting-website/Wed, Jul 20, 2016.log',\n",
       " '/home/narsi/Documents/CSEE5690_data/A2_WEB_SYS_LOG/NetworkRouting-website/NetworkRouting-website/Mon, Jul 25, 2016.log',\n",
       " '/home/narsi/Documents/CSEE5690_data/A2_WEB_SYS_LOG/NetworkRouting-website/NetworkRouting-website/Fri, Aug 19, 2016.log',\n",
       " '/home/narsi/Documents/CSEE5690_data/A2_WEB_SYS_LOG/NetworkRouting-website/NetworkRouting-website/Mon, Aug 1, 2016.log',\n",
       " '/home/narsi/Documents/CSEE5690_data/A2_WEB_SYS_LOG/NetworkRouting-website/NetworkRouting-website/Thu, Jul 21, 2016.log',\n",
       " '/home/narsi/Documents/CSEE5690_data/A2_WEB_SYS_LOG/NetworkRouting-website/NetworkRouting-website/Fri, Aug 5, 2016.log',\n",
       " '/home/narsi/Documents/CSEE5690_data/A2_WEB_SYS_LOG/NetworkRouting-website/NetworkRouting-website/Sun, Jul 24, 2016.log',\n",
       " '/home/narsi/Documents/CSEE5690_data/A2_WEB_SYS_LOG/NetworkRouting-website/NetworkRouting-website/Tue, Jul 26, 2016.log',\n",
       " '/home/narsi/Documents/CSEE5690_data/A2_WEB_SYS_LOG/NetworkRouting-website/NetworkRouting-website/Thu, Aug 18, 2016.log',\n",
       " '/home/narsi/Documents/CSEE5690_data/A2_WEB_SYS_LOG/NetworkRouting-website/NetworkRouting-website/Fri, Jul 29, 2016.log',\n",
       " '/home/narsi/Documents/CSEE5690_data/A2_WEB_SYS_LOG/NetworkRouting-website/NetworkRouting-website/Thu, Jul 28, 2016.log',\n",
       " '/home/narsi/Documents/CSEE5690_data/A2_WEB_SYS_LOG/NetworkRouting-website/NetworkRouting-website/Sat, Aug 6, 2016.log',\n",
       " '/home/narsi/Documents/CSEE5690_data/A2_WEB_SYS_LOG/NetworkRouting-website/NetworkRouting-website/Sat, Jul 16, 2016.log',\n",
       " '/home/narsi/Documents/CSEE5690_data/A2_WEB_SYS_LOG/NetworkRouting-website/NetworkRouting-website/Wed, Aug 17, 2016.log',\n",
       " '/home/narsi/Documents/CSEE5690_data/A2_WEB_SYS_LOG/NetworkRouting-website/NetworkRouting-website/Mon, Aug 15, 2016.log',\n",
       " '/home/narsi/Documents/CSEE5690_data/A2_WEB_SYS_LOG/NetworkRouting-website/NetworkRouting-website/Sun, Aug 7, 2016.log',\n",
       " '/home/narsi/Documents/CSEE5690_data/A2_WEB_SYS_LOG/NetworkRouting-website/NetworkRouting-website/Thu, Aug 4, 2016.log',\n",
       " '/home/narsi/Documents/CSEE5690_data/A2_WEB_SYS_LOG/NetworkRouting-website/NetworkRouting-website/Wed, Aug 3, 2016.log',\n",
       " '/home/narsi/Documents/CSEE5690_data/A2_WEB_SYS_LOG/NetworkRouting-website/NetworkRouting-website/Wed, Aug 10, 2016.log',\n",
       " '/home/narsi/Documents/CSEE5690_data/A2_WEB_SYS_LOG/NetworkRouting-website/NetworkRouting-website/Fri, Jul 22, 2016.log',\n",
       " '/home/narsi/Documents/CSEE5690_data/A2_WEB_SYS_LOG/NetworkRouting-website/NetworkRouting-website/Tue, Jul 19, 2016.log',\n",
       " '/home/narsi/Documents/CSEE5690_data/A2_WEB_SYS_LOG/NetworkRouting-website/NetworkRouting-website/Sun, Jul 31, 2016.log',\n",
       " '/home/narsi/Documents/CSEE5690_data/A2_WEB_SYS_LOG/NetworkRouting-website/NetworkRouting-website/Mon, Jul 18, 2016.log',\n",
       " '/home/narsi/Documents/CSEE5690_data/A2_WEB_SYS_LOG/NetworkRouting-website/NetworkRouting-website/Fri, Aug 12, 2016.log',\n",
       " '/home/narsi/Documents/CSEE5690_data/A2_WEB_SYS_LOG/NetworkRouting-website/NetworkRouting-website/Sun, Aug 14, 2016.log',\n",
       " '/home/narsi/Documents/CSEE5690_data/A2_WEB_SYS_LOG/NetworkRouting-website/NetworkRouting-website/Sat, Aug 13, 2016.log',\n",
       " '/home/narsi/Documents/CSEE5690_data/A2_WEB_SYS_LOG/NetworkRouting-website/NetworkRouting-website/Sat, Jul 23, 2016.log',\n",
       " '/home/narsi/Documents/CSEE5690_data/A2_WEB_SYS_LOG/NetworkRouting-website/NetworkRouting-website/Thu, Aug 11, 2016.log',\n",
       " '/home/narsi/Documents/CSEE5690_data/A2_WEB_SYS_LOG/NetworkRouting-website/NetworkRouting-website/Mon, Aug 8, 2016.log',\n",
       " '/home/narsi/Documents/CSEE5690_data/A2_WEB_SYS_LOG/NetworkRouting-website/NetworkRouting-website/Sat, Jul 30, 2016.log',\n",
       " '/home/narsi/Documents/CSEE5690_data/A2_WEB_SYS_LOG/NetworkRouting-website/NetworkRouting-website/Wed, Jul 27, 2016.log',\n",
       " '/home/narsi/Documents/CSEE5690_data/A2_WEB_SYS_LOG/NetworkRouting-website/NetworkRouting-website/Tue, Aug 2, 2016.log']"
      ]
     },
     "execution_count": 6,
     "metadata": {},
     "output_type": "execute_result"
    }
   ],
   "source": [
    "file_path"
   ]
  },
  {
   "cell_type": "code",
   "execution_count": 8,
   "metadata": {
    "collapsed": false,
    "scrolled": true
   },
   "outputs": [
    {
     "name": "stdout",
     "output_type": "stream",
     "text": [
      "Tue_ Aug 16_ 2016.log\n",
      "Tue_ Aug 9_ 2016.log\n",
      "Sun_ Jul 17_ 2016.log\n",
      "Wed_ Jul 20_ 2016.log\n",
      "Mon_ Jul 25_ 2016.log\n",
      "Fri_ Aug 19_ 2016.log\n",
      "Mon_ Aug 1_ 2016.log\n",
      "Thu_ Jul 21_ 2016.log\n",
      "Fri_ Aug 5_ 2016.log\n",
      "Sun_ Jul 24_ 2016.log\n",
      "Tue_ Jul 26_ 2016.log\n",
      "Thu_ Aug 18_ 2016.log\n",
      "Fri_ Jul 29_ 2016.log\n",
      "Thu_ Jul 28_ 2016.log\n",
      "Sat_ Aug 6_ 2016.log\n",
      "Sat_ Jul 16_ 2016.log\n",
      "Wed_ Aug 17_ 2016.log\n",
      "Mon_ Aug 15_ 2016.log\n",
      "Sun_ Aug 7_ 2016.log\n",
      "Thu_ Aug 4_ 2016.log\n",
      "Wed_ Aug 3_ 2016.log\n",
      "Wed_ Aug 10_ 2016.log\n",
      "Fri_ Jul 22_ 2016.log\n",
      "Tue_ Jul 19_ 2016.log\n",
      "Sun_ Jul 31_ 2016.log\n",
      "Mon_ Jul 18_ 2016.log\n",
      "Fri_ Aug 12_ 2016.log\n",
      "Sun_ Aug 14_ 2016.log\n",
      "Sat_ Aug 13_ 2016.log\n",
      "Sat_ Jul 23_ 2016.log\n",
      "Thu_ Aug 11_ 2016.log\n",
      "Mon_ Aug 8_ 2016.log\n",
      "Sat_ Jul 30_ 2016.log\n",
      "Wed_ Jul 27_ 2016.log\n",
      "Tue_ Aug 2_ 2016.log\n"
     ]
    },
    {
     "name": "stderr",
     "output_type": "stream",
     "text": [
      "Skipping line 56: expected 11 fields, saw 12\n",
      "Skipping line 57: expected 11 fields, saw 12\n",
      "\n"
     ]
    }
   ],
   "source": [
    "for F in file_path:\n",
    "    log_data = pd.read_csv(F,' ',header=None, error_bad_lines=False)\n",
    "    X =  F.split('/') # Spliting the src file path to get only the file name at the end\n",
    "    file_name = '_'.join(X[-1].split(','))\n",
    "    day_time = log_data[4].str.split('[')\n",
    "    Web_Page = log_data[6].str.split(' ')\n",
    "    print(file_name)\n",
    "    final_log = pd.DataFrame({'IP' : log_data[1]})\n",
    "    \n",
    "    date = []\n",
    "    time = []\n",
    "    get_ = []\n",
    "    url = []\n",
    "    http = []\n",
    "    \n",
    "    len_fl = final_log.shape\n",
    "    for i in range(len_fl[0]):\n",
    "        #final_log['date'][i] = day_time[i][1][:11]\n",
    "        #final_log['time'][i] = day_time[i][1][12:]\n",
    "        #final_log['get'][i] = Web_Page[i][0]\n",
    "        #final_log['url'][i] = Web_Page[i][1]\n",
    "        #final_log['http'][i] = Web_Page[i][2]\n",
    "        date.append(day_time[i][1][:11])\n",
    "        time.append(day_time[i][1][12:])\n",
    "        get_.append(Web_Page[i][0])\n",
    "        url.append(Web_Page[i][1])\n",
    "        http.append(Web_Page[i][2])\n",
    "    \n",
    "    \n",
    "    final_log['date'] = date\n",
    "    final_log['time'] = time\n",
    "    final_log['get'] = get_\n",
    "    final_log['url'] = url\n",
    "    final_log['http'] = http\n",
    "    final_log['status'] = log_data[7]\n",
    "    final_log['size'] = log_data[8]\n",
    "    final_log['browzer'] = log_data[10]\n",
    "    final_log.to_csv(dst_folder+'/'+file_name, sep=',')"
   ]
  }
 ],
 "metadata": {
  "kernelspec": {
   "display_name": "Python 2",
   "language": "python",
   "name": "python2"
  },
  "language_info": {
   "codemirror_mode": {
    "name": "ipython",
    "version": 2
   },
   "file_extension": ".py",
   "mimetype": "text/x-python",
   "name": "python",
   "nbconvert_exporter": "python",
   "pygments_lexer": "ipython2",
   "version": "2.7.12"
  }
 },
 "nbformat": 4,
 "nbformat_minor": 0
}
